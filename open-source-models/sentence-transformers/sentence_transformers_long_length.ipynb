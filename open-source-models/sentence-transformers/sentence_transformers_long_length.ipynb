{
 "cells": [
  {
   "cell_type": "markdown",
   "metadata": {},
   "source": [
    "SentenceTransformers is a Python framework for state-of-the-art sentence, text, and image embeddings. Its API is super simple to use:"
   ]
  },
  {
   "cell_type": "code",
   "execution_count": null,
   "metadata": {},
   "outputs": [],
   "source": [
    "from sentence_transformers import SentenceTransformer\n",
    "model = SentenceTransformer('paraphrase-multilingual-MiniLM-L12-v2') # use multilingual models for texts with non-english characters\n",
    "\n",
    "sentences = ['用SentenceTransformers計embeddings好簡單']\n",
    "\n",
    "embeddings = model.encode(sentences)\n",
    "\n",
    "for sentence, embedding in zip(sentences, embeddings):\n",
    "    print(embedding) # numpy.ndarray\n",
    "    print(embeddings.shape)"
   ]
  },
  {
   "cell_type": "code",
   "execution_count": null,
   "metadata": {},
   "outputs": [],
   "source": [
    "def get_embeddings(text):\n",
    "    \"\"\"\n",
    "    Split texts into sentences and get embeddings for each sentence.\n",
    "    The final embeddings is the mean of all sentence embeddings.\n",
    "    :param text: str. Input text.\n",
    "    :return: np.array. Embeddings.\n",
    "    \"\"\"\n",
    "    return np.mean(\n",
    "        model.encode(\n",
    "            list(set(re.findall('[^!?。.？！]+[!?。.？！]?', text)))\n",
    "        ), axis=0)"
   ]
  }
 ],
 "metadata": {
  "kernelspec": {
   "display_name": "Python 3.9.0 ('nlp')",
   "language": "python",
   "name": "python3"
  },
  "language_info": {
   "name": "python",
   "version": "3.9.0"
  },
  "orig_nbformat": 4,
  "vscode": {
   "interpreter": {
    "hash": "67d509d7eba20331265163425a81888951fd8dd61b2206587b199305e358c686"
   }
  }
 },
 "nbformat": 4,
 "nbformat_minor": 2
}
