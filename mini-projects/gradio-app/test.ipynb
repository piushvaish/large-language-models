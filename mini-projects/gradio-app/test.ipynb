{
 "cells": [
  {
   "cell_type": "code",
   "execution_count": 12,
   "metadata": {},
   "outputs": [
    {
     "name": "stdout",
     "output_type": "stream",
     "text": [
      "Running on local URL:  http://127.0.0.1:7865\n",
      "\n",
      "To create a public link, set `share=True` in `launch()`.\n"
     ]
    },
    {
     "data": {
      "text/html": [
       "<div><iframe src=\"http://127.0.0.1:7865/\" width=\"100%\" height=\"500\" allow=\"autoplay; camera; microphone; clipboard-read; clipboard-write;\" frameborder=\"0\" allowfullscreen></iframe></div>"
      ],
      "text/plain": [
       "<IPython.core.display.HTML object>"
      ]
     },
     "metadata": {},
     "output_type": "display_data"
    }
   ],
   "source": [
    "import gradio as gr\n",
    "from gradio_folium import Folium\n",
    "from folium import Map\n",
    "import pandas as pd\n",
    "import pathlib\n",
    "\n",
    "df = pd.read_csv(\"bloomsday.csv\")\n",
    "\n",
    "def select(df, data: gr.SelectData):\n",
    "    row = df.iloc[data.index[0], :]\n",
    "    return Map(location=[row['Latitude'], row['Longitude']])\n",
    "\n",
    "with gr.Blocks() as demo:\n",
    "    gr.Markdown(\n",
    "    \"\"\"\n",
    "    # Hello World!\n",
    "    Start typing below to see the output.\n",
    "    \"\"\")\n",
    "    \n",
    "    m = Folium(value=Map(location=[53.34993305460489, -6.260295419299344]), height=250)\n",
    "    folium.Marker(\n",
    "    location=[53.35434669732415, -6.26473393068721],\n",
    "    tooltip=\"Click me!\",\n",
    "    popup=\"Mt. Hood Meadows\",\n",
    "    icon=folium.Icon(icon=\"cloud\"),\n",
    "    ).add_to(m)\n",
    "\n",
    "    folium.Marker(\n",
    "        location=[53.35778927095275, -6.263848271164099],\n",
    "        tooltip=\"Click me!\",\n",
    "        popup=\"Timberline Lodge\",\n",
    "        icon=folium.Icon(color=\"green\"),\n",
    "    ).add_to(m)\n",
    "    # data = gr.DataFrame(value=df, height=100)\n",
    "    # data.select(select, data, map)\n",
    "\n",
    "if __name__ == \"__main__\":\n",
    "    demo.launch()\n"
   ]
  },
  {
   "cell_type": "code",
   "execution_count": null,
   "metadata": {},
   "outputs": [],
   "source": []
  }
 ],
 "metadata": {
  "kernelspec": {
   "display_name": "llm",
   "language": "python",
   "name": "python3"
  },
  "language_info": {
   "codemirror_mode": {
    "name": "ipython",
    "version": 3
   },
   "file_extension": ".py",
   "mimetype": "text/x-python",
   "name": "python",
   "nbconvert_exporter": "python",
   "pygments_lexer": "ipython3",
   "version": "3.11.3"
  }
 },
 "nbformat": 4,
 "nbformat_minor": 2
}
