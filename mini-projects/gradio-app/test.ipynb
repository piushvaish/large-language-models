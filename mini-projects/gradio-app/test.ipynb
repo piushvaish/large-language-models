{
 "cells": [
  {
   "cell_type": "code",
   "execution_count": 10,
   "metadata": {},
   "outputs": [
    {
     "name": "stdout",
     "output_type": "stream",
     "text": [
      "Running on local URL:  http://127.0.0.1:7867\n",
      "\n",
      "To create a public link, set `share=True` in `launch()`.\n"
     ]
    },
    {
     "data": {
      "text/html": [
       "<div><iframe src=\"http://127.0.0.1:7867/\" width=\"100%\" height=\"500\" allow=\"autoplay; camera; microphone; clipboard-read; clipboard-write;\" frameborder=\"0\" allowfullscreen></iframe></div>"
      ],
      "text/plain": [
       "<IPython.core.display.HTML object>"
      ]
     },
     "metadata": {},
     "output_type": "display_data"
    },
    {
     "data": {
      "text/plain": []
     },
     "execution_count": 10,
     "metadata": {},
     "output_type": "execute_result"
    }
   ],
   "source": [
    "import os\n",
    "from openai import OpenAI\n",
    "import gradio as gr\n",
    "from dotenv import load_dotenv\n",
    "load_dotenv()\n",
    "\n",
    "SECRET_KEY = os.getenv(\"OPENAI_API_KEY\")\n",
    "\n",
    "client = OpenAI(api_key=SECRET_KEY)\n",
    "\n",
    "system_prompt = \"\"\"As a movie lover, I watch a lot of films. \n",
    "If you have any queries, feel free to ask, and I can also translate the information into a language other than English if needed.\n",
    "You will ensure to talk only about movies/ films.\"\"\"\n",
    "# non-streaming\n",
    "def generate_response(message, history):\n",
    "    formatted_history = []\n",
    "    for user, assistant in history:\n",
    "        formatted_history.append({\"role\": \"system\", \"content\": system_prompt })\n",
    "        formatted_history.append({\"role\": \"user\", \"content\": user })\n",
    "        formatted_history.append({\"role\": \"assistant\", \"content\":assistant})\n",
    "\n",
    "    formatted_history.append({\"role\": \"user\", \"content\": message})\n",
    "  \n",
    "    response = client.chat.completions.create(\n",
    "    model='gpt-4o',\n",
    "    messages= formatted_history,\n",
    "    temperature=0.2, \n",
    "    max_tokens = 100\n",
    "    )\n",
    "\n",
    "    return response.choices[0].message.content\n",
    "\n",
    "\n",
    "# streaming example - it does not work\n",
    "def generate_streaming_response(message, history):\n",
    "    history_openai_format = []\n",
    "    for human, assistant in history:\n",
    "        history_openai_format.append({\"role\": \"system\", \"content\": system_prompt})\n",
    "        history_openai_format.append({\"role\": \"user\", \"content\": user })\n",
    "        history_openai_format.append({\"role\": \"assistant\", \"content\":assistant})\n",
    "    history_openai_format.append({\"role\": \"user\", \"content\": message})\n",
    "  \n",
    "    response = client.chat.completions.create(model='gpt-3.5-turbo',\n",
    "    messages= history_openai_format,\n",
    "    temperature=1.0,\n",
    "    stream=True)\n",
    "\n",
    "    partial_message = \"\"\n",
    "    for chunk in response:\n",
    "        if chunk.choices[0].delta.content is not None:\n",
    "              partial_message = partial_message + chunk.choices[0].delta.content\n",
    "              yield partial_message\n",
    "\n",
    "gr.ChatInterface(fn = generate_response,\n",
    "    chatbot=gr.Chatbot(height=300, placeholder=\"<strong>Name a film.</strong><br>Language of your choice.</br>\"),\n",
    "    textbox=gr.Textbox(placeholder=\"Which movie do you learn about?\", container=False, scale=7),\n",
    "    title=\"Movie Lovers Pub Crawl\",\n",
    "    retry_btn=None,\n",
    "    undo_btn=\"Delete Previous\",\n",
    "    clear_btn=\"Clear\",\n",
    "    theme=\"monochrome\",\n",
    "    analytics_enabled = False\n",
    "    ).launch()\n"
   ]
  },
  {
   "cell_type": "code",
   "execution_count": null,
   "metadata": {},
   "outputs": [],
   "source": []
  }
 ],
 "metadata": {
  "kernelspec": {
   "display_name": "llm",
   "language": "python",
   "name": "python3"
  },
  "language_info": {
   "codemirror_mode": {
    "name": "ipython",
    "version": 3
   },
   "file_extension": ".py",
   "mimetype": "text/x-python",
   "name": "python",
   "nbconvert_exporter": "python",
   "pygments_lexer": "ipython3",
   "version": "3.11.3"
  }
 },
 "nbformat": 4,
 "nbformat_minor": 2
}
