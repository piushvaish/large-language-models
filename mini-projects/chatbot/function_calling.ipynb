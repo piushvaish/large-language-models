{
 "cells": [
  {
   "cell_type": "markdown",
   "metadata": {},
   "source": [
    "OpenAI provides many awesome APIs that help developers around the world to build their AI apps. One of the struggles many developers face is inconsistent output, which is not suitable for programmatic use.\n",
    "\n",
    "* https://medium.com/@ismalinggazein/openai-function-calling-integrating-external-weather-api-6935e5d701d3\n",
    "* https://medium.com/@igorcosta/beyond-basics-transforming-your-approach-with-advanced-openai-function-calls-and-tools-7e569f2427f0"
   ]
  },
  {
   "cell_type": "code",
   "execution_count": 1,
   "metadata": {},
   "outputs": [],
   "source": [
    "import os\n",
    "from openai import OpenAI\n",
    "from dotenv import load_dotenv\n",
    "load_dotenv()\n",
    "\n",
    "\n",
    "import requests\n",
    "import json\n",
    "\n"
   ]
  },
  {
   "cell_type": "code",
   "execution_count": 2,
   "metadata": {},
   "outputs": [],
   "source": [
    "\n",
    "from typing import Optional, Dict, Any\n",
    "\n",
    "TMDB_API_KEY = os.getenv(\"TMDB_API_KEY\")\n",
    "\n",
    "if not TMDB_API_KEY:\n",
    "    raise ValueError(\"TMDB_API_KEY environment variable is not set\")\n",
    "\n",
    "BASE_URL = \"https://api.themoviedb.org/3\"\n",
    "\n",
    "def make_request(endpoint: str, params: Optional[Dict[str, Any]] = None) -> Dict[str, Any]:\n",
    "    url = f\"{BASE_URL}{endpoint}\"\n",
    "    params = params or {}\n",
    "    params['api_key'] = TMDB_API_KEY\n",
    "    \n",
    "    response = requests.get(url, params=params)\n",
    "    response.raise_for_status()\n",
    "    return response.json()\n",
    "\n",
    "def get_movie_id(movie_name: str) -> Optional[int]:\n",
    "    data = make_request(\"/search/movie\", {\"query\": movie_name})\n",
    "    \n",
    "    if data['results']:\n",
    "        return data['results'][0]['id']\n",
    "    return None\n",
    "\n",
    "def get_movie_details(movie_id: int) -> Optional[str]:\n",
    "    data = make_request(f\"/movie/{movie_id}\")\n",
    "    overview = data.get('overview')\n",
    "    tagline = data.get('tagline')\n",
    "    return {'overview': overview, 'tagline': tagline}"
   ]
  },
  {
   "cell_type": "code",
   "execution_count": 3,
   "metadata": {},
   "outputs": [],
   "source": [
    "tools = [\n",
    "    {\n",
    "        \"type\": \"function\",\n",
    "        \"function\": {\n",
    "            \"name\": \"get_movie_detail\",\n",
    "            \"description\": \"Get information about a movie\",\n",
    "            \"parameters\": {\n",
    "                \"type\": \"object\",\n",
    "                \"properties\": {\n",
    "                    \"overview\": {\n",
    "                        \"type\": \"string\",\n",
    "                        \"description\": \"Details about a movie e.g., Garfield\"\n",
    "                    },\n",
    "                },\n",
    "                \"required\": [\"movie_name\"],\n",
    "            }\n",
    "        }\n",
    "    }\n",
    "]\n",
    "\n",
    "messages = [\n",
    "    {\"role\": \"user\", \"content\": \"Tell me something about ps i love you?\"}]"
   ]
  },
  {
   "cell_type": "code",
   "execution_count": 4,
   "metadata": {},
   "outputs": [],
   "source": [
    "\n",
    "OPENAI_API_KEY = os.getenv(\"OPENAI_API_KEY\")\n",
    "client = OpenAI(api_key= OPENAI_API_KEY)\n",
    "\n",
    "\n",
    "response = client.chat.completions.create(\n",
    "    model=\"gpt-4o-mini\",\n",
    "    messages=messages,\n",
    "    tools=tools,\n",
    "    tool_choice=\"auto\",  # auto is default, but we'll be explicit\n",
    ")"
   ]
  },
  {
   "cell_type": "code",
   "execution_count": 5,
   "metadata": {},
   "outputs": [
    {
     "name": "stdout",
     "output_type": "stream",
     "text": [
      "ChatCompletionMessage(content=None, role='assistant', function_call=None, tool_calls=[ChatCompletionMessageToolCall(id='call_DY8og1I9c997XzSfBQrr2Gaq', function=Function(arguments='{\"overview\":\"PS I Love You is a romantic drama film based on the novel of the same name by Cecelia Ahern. The story follows Holly Kennedy, a young widow whose husband, Gerry, has left her a series of letters to help her cope with his death and navigate her new life without him.\"}', name='get_movie_detail'), type='function')])\n"
     ]
    }
   ],
   "source": [
    "print(response.choices[0].message)"
   ]
  }
 ],
 "metadata": {
  "kernelspec": {
   "display_name": "openai",
   "language": "python",
   "name": "python3"
  },
  "language_info": {
   "codemirror_mode": {
    "name": "ipython",
    "version": 3
   },
   "file_extension": ".py",
   "mimetype": "text/x-python",
   "name": "python",
   "nbconvert_exporter": "python",
   "pygments_lexer": "ipython3",
   "version": "3.12.4"
  }
 },
 "nbformat": 4,
 "nbformat_minor": 2
}
