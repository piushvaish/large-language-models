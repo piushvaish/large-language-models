{
  "cells": [
    {
      "cell_type": "markdown",
      "metadata": {
        "id": "v1eT-Ym6jQFO"
      },
      "source": [
        "**Load Libraries**"
      ]
    },
    {
      "cell_type": "code",
      "execution_count": 1,
      "metadata": {
        "id": "Oqja9Cb_GPEG"
      },
      "outputs": [],
      "source": [
        "import pandas as pd\n",
        "import numpy as np\n",
        "import warnings\n",
        "import matplotlib.pyplot as plt\n",
        "import seaborn as sns\n",
        "from collections import Counter\n",
        "import plotly.express as px\n",
        "from umap import UMAP\n",
        "from difflib import SequenceMatcher\n",
        "from sentence_transformers import SentenceTransformer\n",
        "from hdbscan import HDBSCAN\n",
        "from sklearn.preprocessing import StandardScaler\n",
        "\n",
        "pd.set_option('display.max_columns', None)\n",
        "pd.set_option('display.max_rows', None)\n",
        "warnings.filterwarnings('ignore')"
      ]
    },
    {
      "cell_type": "markdown",
      "metadata": {
        "id": "G1gfY98jjaeB"
      },
      "source": [
        "**Data Loading and Initial Exploration**"
      ]
    },
    {
      "cell_type": "code",
      "execution_count": 2,
      "metadata": {
        "id": "2Cj5i65JHLhX"
      },
      "outputs": [],
      "source": [
        "df = pd.read_csv('pseudoProcess.csv')"
      ]
    },
    {
      "cell_type": "code",
      "execution_count": 3,
      "metadata": {},
      "outputs": [
        {
          "name": "stdout",
          "output_type": "stream",
          "text": [
            "<class 'pandas.core.frame.DataFrame'>\n",
            "RangeIndex: 3662194 entries, 0 to 3662193\n",
            "Data columns (total 9 columns):\n",
            " #   Column             Dtype  \n",
            "---  ------             -----  \n",
            " 0   iOSVersion         object \n",
            " 1   iOSModel           object \n",
            " 2   pid                float64\n",
            " 3   readableTimestamp  object \n",
            " 4   timestamp          int64  \n",
            " 5   id                 int64  \n",
            " 6   device             object \n",
            " 7   scan               object \n",
            " 8   procName           object \n",
            "dtypes: float64(1), int64(2), object(6)\n",
            "memory usage: 251.5+ MB\n"
          ]
        }
      ],
      "source": [
        "df.info()"
      ]
    },
    {
      "cell_type": "code",
      "execution_count": 4,
      "metadata": {},
      "outputs": [
        {
          "data": {
            "text/html": [
              "<div>\n",
              "<style scoped>\n",
              "    .dataframe tbody tr th:only-of-type {\n",
              "        vertical-align: middle;\n",
              "    }\n",
              "\n",
              "    .dataframe tbody tr th {\n",
              "        vertical-align: top;\n",
              "    }\n",
              "\n",
              "    .dataframe thead th {\n",
              "        text-align: right;\n",
              "    }\n",
              "</style>\n",
              "<table border=\"1\" class=\"dataframe\">\n",
              "  <thead>\n",
              "    <tr style=\"text-align: right;\">\n",
              "      <th></th>\n",
              "      <th>iOSVersion</th>\n",
              "      <th>iOSModel</th>\n",
              "      <th>pid</th>\n",
              "      <th>readableTimestamp</th>\n",
              "      <th>timestamp</th>\n",
              "      <th>id</th>\n",
              "      <th>device</th>\n",
              "      <th>scan</th>\n",
              "      <th>procName</th>\n",
              "    </tr>\n",
              "  </thead>\n",
              "  <tbody>\n",
              "    <tr>\n",
              "      <th>0</th>\n",
              "      <td>17.4.1</td>\n",
              "      <td>iPhone13,2</td>\n",
              "      <td>610.0</td>\n",
              "      <td>2024-04-17 11:34:21+00</td>\n",
              "      <td>1713353661</td>\n",
              "      <td>4105458</td>\n",
              "      <td>Device55</td>\n",
              "      <td>Scan1</td>\n",
              "      <td>ckdiscretionaryd</td>\n",
              "    </tr>\n",
              "    <tr>\n",
              "      <th>1</th>\n",
              "      <td>17.4.1</td>\n",
              "      <td>iPhone13,2</td>\n",
              "      <td>605.0</td>\n",
              "      <td>2024-04-17 11:34:21+00</td>\n",
              "      <td>1713353661</td>\n",
              "      <td>4105459</td>\n",
              "      <td>Device55</td>\n",
              "      <td>Scan1</td>\n",
              "      <td>SiriSuggestionsLightHousePlugin</td>\n",
              "    </tr>\n",
              "    <tr>\n",
              "      <th>2</th>\n",
              "      <td>17.4.1</td>\n",
              "      <td>iPhone13,2</td>\n",
              "      <td>598.0</td>\n",
              "      <td>2024-04-17 11:34:21+00</td>\n",
              "      <td>1713353661</td>\n",
              "      <td>4105460</td>\n",
              "      <td>Device55</td>\n",
              "      <td>Scan1</td>\n",
              "      <td>dprivacyd</td>\n",
              "    </tr>\n",
              "    <tr>\n",
              "      <th>3</th>\n",
              "      <td>17.4.1</td>\n",
              "      <td>iPhone13,2</td>\n",
              "      <td>595.0</td>\n",
              "      <td>2024-04-17 11:34:21+00</td>\n",
              "      <td>1713353661</td>\n",
              "      <td>4105461</td>\n",
              "      <td>Device55</td>\n",
              "      <td>Scan1</td>\n",
              "      <td>activityawardsd</td>\n",
              "    </tr>\n",
              "    <tr>\n",
              "      <th>4</th>\n",
              "      <td>17.4.1</td>\n",
              "      <td>iPhone13,2</td>\n",
              "      <td>713.0</td>\n",
              "      <td>2024-04-17 13:51:13+00</td>\n",
              "      <td>1713361873</td>\n",
              "      <td>4105462</td>\n",
              "      <td>Device55</td>\n",
              "      <td>Scan1</td>\n",
              "      <td>DASDelegateService</td>\n",
              "    </tr>\n",
              "  </tbody>\n",
              "</table>\n",
              "</div>"
            ],
            "text/plain": [
              "  iOSVersion    iOSModel    pid       readableTimestamp   timestamp       id  \\\n",
              "0     17.4.1  iPhone13,2  610.0  2024-04-17 11:34:21+00  1713353661  4105458   \n",
              "1     17.4.1  iPhone13,2  605.0  2024-04-17 11:34:21+00  1713353661  4105459   \n",
              "2     17.4.1  iPhone13,2  598.0  2024-04-17 11:34:21+00  1713353661  4105460   \n",
              "3     17.4.1  iPhone13,2  595.0  2024-04-17 11:34:21+00  1713353661  4105461   \n",
              "4     17.4.1  iPhone13,2  713.0  2024-04-17 13:51:13+00  1713361873  4105462   \n",
              "\n",
              "     device   scan                         procName  \n",
              "0  Device55  Scan1                 ckdiscretionaryd  \n",
              "1  Device55  Scan1  SiriSuggestionsLightHousePlugin  \n",
              "2  Device55  Scan1                        dprivacyd  \n",
              "3  Device55  Scan1                  activityawardsd  \n",
              "4  Device55  Scan1               DASDelegateService  "
            ]
          },
          "execution_count": 4,
          "metadata": {},
          "output_type": "execute_result"
        }
      ],
      "source": [
        "df.head()"
      ]
    },
    {
      "cell_type": "code",
      "execution_count": 5,
      "metadata": {},
      "outputs": [
        {
          "name": "stdout",
          "output_type": "stream",
          "text": [
            "iOSVersion               0\n",
            "iOSModel                 0\n",
            "pid                  13074\n",
            "readableTimestamp        0\n",
            "timestamp                0\n",
            "id                       0\n",
            "device                   0\n",
            "scan                     0\n",
            "procName                 0\n",
            "dtype: int64\n"
          ]
        }
      ],
      "source": [
        "# Check for missing values\n",
        "print(df.isnull().sum())"
      ]
    },
    {
      "cell_type": "code",
      "execution_count": 6,
      "metadata": {},
      "outputs": [
        {
          "data": {
            "text/html": [
              "<div>\n",
              "<style scoped>\n",
              "    .dataframe tbody tr th:only-of-type {\n",
              "        vertical-align: middle;\n",
              "    }\n",
              "\n",
              "    .dataframe tbody tr th {\n",
              "        vertical-align: top;\n",
              "    }\n",
              "\n",
              "    .dataframe thead th {\n",
              "        text-align: right;\n",
              "    }\n",
              "</style>\n",
              "<table border=\"1\" class=\"dataframe\">\n",
              "  <thead>\n",
              "    <tr style=\"text-align: right;\">\n",
              "      <th></th>\n",
              "      <th>iOSVersion</th>\n",
              "      <th>iOSModel</th>\n",
              "      <th>pid</th>\n",
              "      <th>readableTimestamp</th>\n",
              "      <th>timestamp</th>\n",
              "      <th>id</th>\n",
              "      <th>device</th>\n",
              "      <th>scan</th>\n",
              "      <th>procName</th>\n",
              "    </tr>\n",
              "  </thead>\n",
              "  <tbody>\n",
              "    <tr>\n",
              "      <th>1409959</th>\n",
              "      <td>17.3.1</td>\n",
              "      <td>iPhone16,1</td>\n",
              "      <td>NaN</td>\n",
              "      <td>2024-02-16 20:32:32+00</td>\n",
              "      <td>1708119152</td>\n",
              "      <td>15644018</td>\n",
              "      <td>Device36</td>\n",
              "      <td>Scan154</td>\n",
              "      <td>GraphicsServices</td>\n",
              "    </tr>\n",
              "    <tr>\n",
              "      <th>1410208</th>\n",
              "      <td>17.3.1</td>\n",
              "      <td>iPhone16,1</td>\n",
              "      <td>NaN</td>\n",
              "      <td>2024-02-15 10:25:39+00</td>\n",
              "      <td>1707996339</td>\n",
              "      <td>15644279</td>\n",
              "      <td>Device36</td>\n",
              "      <td>Scan154</td>\n",
              "      <td>dyld</td>\n",
              "    </tr>\n",
              "    <tr>\n",
              "      <th>3176954</th>\n",
              "      <td>17.3.1</td>\n",
              "      <td>iPhone13,2</td>\n",
              "      <td>NaN</td>\n",
              "      <td>2024-03-18 09:53:22+00</td>\n",
              "      <td>1710755602</td>\n",
              "      <td>1559653</td>\n",
              "      <td>Device47</td>\n",
              "      <td>Scan888</td>\n",
              "      <td>libsystem_pthread.dylib</td>\n",
              "    </tr>\n",
              "    <tr>\n",
              "      <th>520617</th>\n",
              "      <td>17.3.1</td>\n",
              "      <td>iPad13,10</td>\n",
              "      <td>NaN</td>\n",
              "      <td>2024-01-30 14:21:52+00</td>\n",
              "      <td>1706628112</td>\n",
              "      <td>13486836</td>\n",
              "      <td>Device20</td>\n",
              "      <td>Scan64</td>\n",
              "      <td>Organizations</td>\n",
              "    </tr>\n",
              "    <tr>\n",
              "      <th>2386967</th>\n",
              "      <td>17.4.1</td>\n",
              "      <td>iPhone16,1</td>\n",
              "      <td>NaN</td>\n",
              "      <td>2024-03-27 20:46:34+00</td>\n",
              "      <td>1711557994</td>\n",
              "      <td>17449458</td>\n",
              "      <td>Device37</td>\n",
              "      <td>Scan721</td>\n",
              "      <td>ExtensionFoundation</td>\n",
              "    </tr>\n",
              "    <tr>\n",
              "      <th>1393047</th>\n",
              "      <td>17.3.1</td>\n",
              "      <td>iPhone16,1</td>\n",
              "      <td>NaN</td>\n",
              "      <td>2024-02-18 18:57:13+00</td>\n",
              "      <td>1708286233</td>\n",
              "      <td>15627162</td>\n",
              "      <td>Device36</td>\n",
              "      <td>Scan154</td>\n",
              "      <td>libxpc.dylib</td>\n",
              "    </tr>\n",
              "    <tr>\n",
              "      <th>519495</th>\n",
              "      <td>17.3.1</td>\n",
              "      <td>iPad13,10</td>\n",
              "      <td>NaN</td>\n",
              "      <td>2024-02-25 08:12:22+00</td>\n",
              "      <td>1708852342</td>\n",
              "      <td>13483038</td>\n",
              "      <td>Device20</td>\n",
              "      <td>Scan64</td>\n",
              "      <td>libc++abi.dylib</td>\n",
              "    </tr>\n",
              "    <tr>\n",
              "      <th>2697752</th>\n",
              "      <td>17.3.1</td>\n",
              "      <td>iPhone13,2</td>\n",
              "      <td>NaN</td>\n",
              "      <td>2024-03-30 16:46:52+00</td>\n",
              "      <td>1711817212</td>\n",
              "      <td>306212</td>\n",
              "      <td>Device47</td>\n",
              "      <td>Scan900</td>\n",
              "      <td>Outlook-iOS</td>\n",
              "    </tr>\n",
              "    <tr>\n",
              "      <th>1503974</th>\n",
              "      <td>17.4.1</td>\n",
              "      <td>iPhone16,1</td>\n",
              "      <td>NaN</td>\n",
              "      <td>2024-04-04 11:53:55+00</td>\n",
              "      <td>1712238835</td>\n",
              "      <td>15778724</td>\n",
              "      <td>Device38</td>\n",
              "      <td>Scan172</td>\n",
              "      <td>BoardServices</td>\n",
              "    </tr>\n",
              "    <tr>\n",
              "      <th>3169108</th>\n",
              "      <td>17.3.1</td>\n",
              "      <td>iPhone13,2</td>\n",
              "      <td>NaN</td>\n",
              "      <td>2024-03-19 10:18:58+00</td>\n",
              "      <td>1710843538</td>\n",
              "      <td>1551838</td>\n",
              "      <td>Device47</td>\n",
              "      <td>Scan888</td>\n",
              "      <td>IvyCommon</td>\n",
              "    </tr>\n",
              "  </tbody>\n",
              "</table>\n",
              "</div>"
            ],
            "text/plain": [
              "        iOSVersion    iOSModel  pid       readableTimestamp   timestamp  \\\n",
              "1409959     17.3.1  iPhone16,1  NaN  2024-02-16 20:32:32+00  1708119152   \n",
              "1410208     17.3.1  iPhone16,1  NaN  2024-02-15 10:25:39+00  1707996339   \n",
              "3176954     17.3.1  iPhone13,2  NaN  2024-03-18 09:53:22+00  1710755602   \n",
              "520617      17.3.1   iPad13,10  NaN  2024-01-30 14:21:52+00  1706628112   \n",
              "2386967     17.4.1  iPhone16,1  NaN  2024-03-27 20:46:34+00  1711557994   \n",
              "1393047     17.3.1  iPhone16,1  NaN  2024-02-18 18:57:13+00  1708286233   \n",
              "519495      17.3.1   iPad13,10  NaN  2024-02-25 08:12:22+00  1708852342   \n",
              "2697752     17.3.1  iPhone13,2  NaN  2024-03-30 16:46:52+00  1711817212   \n",
              "1503974     17.4.1  iPhone16,1  NaN  2024-04-04 11:53:55+00  1712238835   \n",
              "3169108     17.3.1  iPhone13,2  NaN  2024-03-19 10:18:58+00  1710843538   \n",
              "\n",
              "               id    device     scan                 procName  \n",
              "1409959  15644018  Device36  Scan154         GraphicsServices  \n",
              "1410208  15644279  Device36  Scan154                     dyld  \n",
              "3176954   1559653  Device47  Scan888  libsystem_pthread.dylib  \n",
              "520617   13486836  Device20   Scan64            Organizations  \n",
              "2386967  17449458  Device37  Scan721      ExtensionFoundation  \n",
              "1393047  15627162  Device36  Scan154             libxpc.dylib  \n",
              "519495   13483038  Device20   Scan64          libc++abi.dylib  \n",
              "2697752    306212  Device47  Scan900              Outlook-iOS  \n",
              "1503974  15778724  Device38  Scan172            BoardServices  \n",
              "3169108   1551838  Device47  Scan888                IvyCommon  "
            ]
          },
          "execution_count": 6,
          "metadata": {},
          "output_type": "execute_result"
        }
      ],
      "source": [
        "## pid null?\n",
        "df[df['pid'].isna()].sample(10)"
      ]
    },
    {
      "cell_type": "code",
      "execution_count": 7,
      "metadata": {
        "colab": {
          "base_uri": "https://localhost:8080/"
        },
        "id": "tYbjdCg-kbsk",
        "outputId": "c8bb097f-3aca-4f6a-b95e-bc649809feaa"
      },
      "outputs": [],
      "source": [
        "# Convert timestamp to datetime\n",
        "df['readableTimestamp'] = pd.to_datetime(df['readableTimestamp'])\n",
        "df['timestamp'] = pd.to_datetime(df['timestamp'], unit='s')\n"
      ]
    },
    {
      "cell_type": "code",
      "execution_count": 8,
      "metadata": {},
      "outputs": [
        {
          "name": "stdout",
          "output_type": "stream",
          "text": [
            "1970-01-25 10:59:24+00:00\n",
            "1970-01-25 10:59:24\n"
          ]
        }
      ],
      "source": [
        "print(df['readableTimestamp'].min())\n",
        "print(df['timestamp'].min())"
      ]
    },
    {
      "cell_type": "markdown",
      "metadata": {},
      "source": [
        "Check for these timestamps"
      ]
    },
    {
      "cell_type": "code",
      "execution_count": 9,
      "metadata": {},
      "outputs": [
        {
          "data": {
            "text/plain": [
              "2024    2578827\n",
              "2023     653614\n",
              "2022     411049\n",
              "2021      11136\n",
              "1970       7568\n",
              "Name: readableTimestamp, dtype: int64"
            ]
          },
          "execution_count": 9,
          "metadata": {},
          "output_type": "execute_result"
        }
      ],
      "source": [
        "df['readableTimestamp'].dt.year.value_counts()"
      ]
    },
    {
      "cell_type": "markdown",
      "metadata": {},
      "source": [
        "Remove dates before 2024 to create smaller dataset for quick exploration and showing code"
      ]
    },
    {
      "cell_type": "code",
      "execution_count": 10,
      "metadata": {},
      "outputs": [],
      "source": [
        "# Remove date before 2024\n",
        "df = df[df['readableTimestamp'].dt.year >= 2024]"
      ]
    },
    {
      "cell_type": "code",
      "execution_count": 11,
      "metadata": {},
      "outputs": [
        {
          "name": "stdout",
          "output_type": "stream",
          "text": [
            "<class 'pandas.core.frame.DataFrame'>\n",
            "Int64Index: 2565753 entries, 0 to 3662193\n",
            "Data columns (total 9 columns):\n",
            " #   Column             Dtype              \n",
            "---  ------             -----              \n",
            " 0   iOSVersion         object             \n",
            " 1   iOSModel           object             \n",
            " 2   pid                float64            \n",
            " 3   readableTimestamp  datetime64[ns, UTC]\n",
            " 4   timestamp          datetime64[ns]     \n",
            " 5   id                 int64              \n",
            " 6   device             object             \n",
            " 7   scan               object             \n",
            " 8   procName           object             \n",
            "dtypes: datetime64[ns, UTC](1), datetime64[ns](1), float64(1), int64(1), object(5)\n",
            "memory usage: 195.8+ MB\n",
            "None\n"
          ]
        }
      ],
      "source": [
        "# Ensure PID is an integer\n",
        "df['pid'] = pd.to_numeric(df['pid'], errors='coerce')\n",
        "\n",
        "# Handle missing or incorrect data (here we drop missing)\n",
        "df= df.dropna()\n",
        "\n",
        "print(df.info())"
      ]
    },
    {
      "cell_type": "code",
      "execution_count": 12,
      "metadata": {},
      "outputs": [
        {
          "name": "stdout",
          "output_type": "stream",
          "text": [
            "Total rows: 2565753\n",
            "Number of unique devices: 25\n",
            "Number of unique scans: 910\n",
            "Number of unique iOS versions: 14\n",
            "Number of unique pid: 23071\n",
            "Number of unique process names: 1519\n"
          ]
        }
      ],
      "source": [
        "# Basic info about the dataset\n",
        "print(f\"Total rows: {len(df)}\")\n",
        "print(f\"Number of unique devices: {df['device'].nunique()}\")\n",
        "print(f\"Number of unique scans: {df['scan'].nunique()}\")\n",
        "print(f\"Number of unique iOS versions: {df['iOSVersion'].nunique()}\")\n",
        "print(f\"Number of unique pid: {df['pid'].nunique()}\")\n",
        "print(f\"Number of unique process names: {df['procName'].nunique()}\")\n"
      ]
    },
    {
      "cell_type": "code",
      "execution_count": 13,
      "metadata": {},
      "outputs": [
        {
          "name": "stdout",
          "output_type": "stream",
          "text": [
            "\n",
            "Average scans per device: 36.40\n",
            "Max scans for a device: 256\n",
            "Min scans for a device: 1\n"
          ]
        }
      ],
      "source": [
        "\n",
        "# Devices and scans\n",
        "device_scan_counts = df.groupby('device')['scan'].nunique()\n",
        "print(f\"\\nAverage scans per device: {device_scan_counts.mean():.2f}\")\n",
        "print(f\"Max scans for a device: {device_scan_counts.max()}\")\n",
        "print(f\"Min scans for a device: {device_scan_counts.min()}\")\n"
      ]
    },
    {
      "cell_type": "code",
      "execution_count": 14,
      "metadata": {},
      "outputs": [
        {
          "name": "stdout",
          "output_type": "stream",
          "text": [
            "\n",
            "Top 5 iOS versions:\n",
            "17.4.1    1222395\n",
            "17.3.1     428493\n",
            "15.5       259380\n",
            "15.5       196403\n",
            "16.7.7     164414\n",
            "Name: iOSVersion, dtype: int64\n"
          ]
        }
      ],
      "source": [
        "\n",
        "# iOS versions\n",
        "ios_versions = df['iOSVersion'].value_counts()\n",
        "print(\"\\nTop 5 iOS versions:\")\n",
        "print(ios_versions.head())\n"
      ]
    },
    {
      "cell_type": "markdown",
      "metadata": {},
      "source": [
        "procName"
      ]
    },
    {
      "cell_type": "code",
      "execution_count": 15,
      "metadata": {},
      "outputs": [
        {
          "name": "stdout",
          "output_type": "stream",
          "text": [
            "\n",
            "Total unique process names: 1519\n",
            "\n",
            "Top 10 most common processes:\n",
            "MTLCompilerService             65263\n",
            "com.apple.WebKit.WebContent    22421\n",
            "extensionkitservice            20020\n",
            "CommCenter                     16281\n",
            "com.apple.datamigrator         15747\n",
            "backupd                        15718\n",
            "kernel                         15479\n",
            "CategoriesService              15049\n",
            "duetexpertd                    12586\n",
            "filecoordinationd              12065\n",
            "Name: procName, dtype: int64\n"
          ]
        }
      ],
      "source": [
        "\n",
        "# Analyze process names\n",
        "process_counts = df['procName'].value_counts()\n",
        "print(f\"\\nTotal unique process names: {len(process_counts)}\")\n",
        "print(\"\\nTop 10 most common processes:\")\n",
        "print(process_counts.head(10))"
      ]
    },
    {
      "cell_type": "code",
      "execution_count": 16,
      "metadata": {
        "colab": {
          "base_uri": "https://localhost:8080/"
        },
        "id": "qtVAi6OE4PPE",
        "outputId": "7e1251a3-be63-4db2-a467-f5cf986d4590"
      },
      "outputs": [
        {
          "name": "stdout",
          "output_type": "stream",
          "text": [
            "\n",
            "Summary of processes per scan:\n",
            "count       910.000000\n",
            "mean       2819.508791\n",
            "std       16792.266809\n",
            "min         193.000000\n",
            "25%         385.000000\n",
            "50%         508.000000\n",
            "75%         983.500000\n",
            "max      422302.000000\n",
            "Name: procName, dtype: float64\n"
          ]
        }
      ],
      "source": [
        "# Analyze processes per scan\n",
        "processes_per_scan = df.groupby(['device', 'scan'])['procName'].count()\n",
        "print(\"\\nSummary of processes per scan:\")\n",
        "print(processes_per_scan.describe())\n",
        "\n"
      ]
    },
    {
      "cell_type": "code",
      "execution_count": 17,
      "metadata": {},
      "outputs": [
        {
          "name": "stdout",
          "output_type": "stream",
          "text": [
            "\n",
            "Number of scans with only one process: 0\n"
          ]
        }
      ],
      "source": [
        "\n",
        "# Check for scans with only one process\n",
        "single_process_scans = processes_per_scan[processes_per_scan == 1]\n",
        "print(f\"\\nNumber of scans with only one process: {len(single_process_scans)}\")\n",
        "if len(single_process_scans) > 0:\n",
        "    print(\"Scans with only one process:\")\n",
        "    print(single_process_scans)\n"
      ]
    },
    {
      "cell_type": "code",
      "execution_count": 18,
      "metadata": {},
      "outputs": [
        {
          "name": "stdout",
          "output_type": "stream",
          "text": [
            "\n",
            "Number of scans with multiple process lists: 203\n",
            "Scans with multiple process lists:\n",
            "device   scan   \n",
            "Device1  Scan423    True\n",
            "         Scan432    True\n",
            "         Scan435    True\n",
            "         Scan442    True\n",
            "         Scan447    True\n",
            "dtype: bool\n"
          ]
        }
      ],
      "source": [
        "# Check for multiple process lists within a scan\n",
        "def check_multiple_lists(group):\n",
        "    timestamps = group['readableTimestamp'].nunique()\n",
        "    return timestamps > 1\n",
        "\n",
        "multiple_lists = df.groupby(['device', 'scan']).apply(check_multiple_lists)\n",
        "print(f\"\\nNumber of scans with multiple process lists: {multiple_lists.sum()}\")\n",
        "if multiple_lists.sum() > 0:\n",
        "    print(\"Scans with multiple process lists:\")\n",
        "    print(multiple_lists[multiple_lists].head())"
      ]
    },
    {
      "cell_type": "code",
      "execution_count": 19,
      "metadata": {
        "colab": {
          "base_uri": "https://localhost:8080/"
        },
        "id": "InFKCQ8OxRIy",
        "outputId": "74930c06-7bdb-4155-9e3b-8c95a5555368"
      },
      "outputs": [
        {
          "name": "stdout",
          "output_type": "stream",
          "text": [
            "\n",
            "Number of rare processes (appearing only once): 67\n",
            "Sample of rare processes: ['NumbersSpotlightExtension', 'RTLplusPushNotification', 'TooGoodToGo', 'com.apple.BarcodeSupport.ParsingService', 'Core', 'de-lieferando-notification-serv', 'zooplus', 'com.apple.DataDetectorsUI.Actio', 'WaterSort', 'Minesweeper']\n"
          ]
        }
      ],
      "source": [
        "# Identify rare processes\n",
        "rare_processes = process_counts[process_counts == 1].index.tolist()\n",
        "print(f\"\\nNumber of rare processes (appearing only once): {len(rare_processes)}\")\n",
        "print(\"Sample of rare processes:\", rare_processes[:10])"
      ]
    },
    {
      "cell_type": "markdown",
      "metadata": {
        "id": "rCSWb3pTpNv2"
      },
      "source": [
        "**Time-based analysis**"
      ]
    },
    {
      "cell_type": "code",
      "execution_count": 20,
      "metadata": {},
      "outputs": [
        {
          "data": {
            "application/vnd.plotly.v1+json": {
              "config": {
                "plotlyServerURL": "https://plot.ly"
              },
              "data": [
                {
                  "hovertemplate": "date=%{x}<br>count=%{y}<extra></extra>",
                  "legendgroup": "",
                  "line": {
                    "color": "#636efa",
                    "dash": "solid"
                  },
                  "marker": {
                    "symbol": "circle"
                  },
                  "mode": "lines",
                  "name": "",
                  "orientation": "v",
                  "showlegend": false,
                  "type": "scatter",
                  "x": [
                    "2024-01-01",
                    "2024-01-02",
                    "2024-01-03",
                    "2024-01-17",
                    "2024-01-19",
                    "2024-01-20",
                    "2024-01-21",
                    "2024-01-22",
                    "2024-01-23",
                    "2024-01-24",
                    "2024-01-25",
                    "2024-01-27",
                    "2024-01-28",
                    "2024-01-29",
                    "2024-01-30",
                    "2024-01-31",
                    "2024-02-01",
                    "2024-02-02",
                    "2024-02-04",
                    "2024-02-05",
                    "2024-02-06",
                    "2024-02-08",
                    "2024-02-09",
                    "2024-02-10",
                    "2024-02-11",
                    "2024-02-12",
                    "2024-02-13",
                    "2024-02-14",
                    "2024-02-15",
                    "2024-02-16",
                    "2024-02-17",
                    "2024-02-18",
                    "2024-02-19",
                    "2024-02-20",
                    "2024-02-21",
                    "2024-02-22",
                    "2024-02-23",
                    "2024-02-24",
                    "2024-02-25",
                    "2024-02-26",
                    "2024-02-27",
                    "2024-02-28",
                    "2024-02-29",
                    "2024-03-01",
                    "2024-03-02",
                    "2024-03-03",
                    "2024-03-04",
                    "2024-03-05",
                    "2024-03-06",
                    "2024-03-07",
                    "2024-03-08",
                    "2024-03-11",
                    "2024-03-12",
                    "2024-03-13",
                    "2024-03-14",
                    "2024-03-15",
                    "2024-03-16",
                    "2024-03-17",
                    "2024-03-18",
                    "2024-03-19",
                    "2024-03-20",
                    "2024-03-21",
                    "2024-03-22",
                    "2024-03-23",
                    "2024-03-24",
                    "2024-03-25",
                    "2024-03-26",
                    "2024-03-27",
                    "2024-03-28",
                    "2024-03-29",
                    "2024-03-30",
                    "2024-03-31",
                    "2024-04-01",
                    "2024-04-02",
                    "2024-04-03",
                    "2024-04-04",
                    "2024-04-05",
                    "2024-04-06",
                    "2024-04-07",
                    "2024-04-08",
                    "2024-04-09",
                    "2024-04-10",
                    "2024-04-11",
                    "2024-04-12",
                    "2024-04-13",
                    "2024-04-14",
                    "2024-04-15",
                    "2024-04-16",
                    "2024-04-17",
                    "2024-04-18",
                    "2024-04-19",
                    "2024-04-20",
                    "2024-04-21",
                    "2024-04-22",
                    "2024-04-23",
                    "2024-04-24",
                    "2024-04-25",
                    "2024-04-26",
                    "2024-04-27",
                    "2024-04-28",
                    "2024-04-29",
                    "2024-04-30"
                  ],
                  "xaxis": "x",
                  "y": [
                    394,
                    865,
                    18,
                    680,
                    192,
                    14720,
                    1096,
                    576,
                    1344,
                    1721,
                    1390,
                    2280,
                    4110,
                    3540,
                    21,
                    1257,
                    2932,
                    594,
                    952,
                    289,
                    342,
                    5281,
                    674,
                    466,
                    2,
                    602,
                    2383,
                    14830,
                    13741,
                    964,
                    752,
                    3315,
                    2290,
                    19283,
                    11116,
                    2538,
                    21310,
                    508,
                    1908,
                    12057,
                    13813,
                    48286,
                    22712,
                    16852,
                    3272,
                    8324,
                    12160,
                    26306,
                    14647,
                    23203,
                    407,
                    30356,
                    17042,
                    11780,
                    14046,
                    10477,
                    1110,
                    25866,
                    59692,
                    173680,
                    17542,
                    5697,
                    50920,
                    3573,
                    1046,
                    53381,
                    28975,
                    77938,
                    29791,
                    1104,
                    1519,
                    7862,
                    779,
                    69808,
                    89893,
                    38371,
                    84051,
                    1117,
                    2056,
                    87674,
                    25944,
                    86205,
                    93712,
                    73425,
                    1986,
                    6350,
                    156370,
                    60024,
                    68908,
                    130966,
                    95112,
                    665,
                    3037,
                    41714,
                    57848,
                    72078,
                    32893,
                    18532,
                    45062,
                    7968,
                    47548,
                    98945
                  ],
                  "yaxis": "y"
                }
              ],
              "layout": {
                "height": 600,
                "legend": {
                  "tracegroupgap": 0
                },
                "margin": {
                  "b": 50,
                  "l": 50,
                  "r": 50,
                  "t": 50
                },
                "template": {
                  "data": {
                    "bar": [
                      {
                        "error_x": {
                          "color": "#2a3f5f"
                        },
                        "error_y": {
                          "color": "#2a3f5f"
                        },
                        "marker": {
                          "line": {
                            "color": "white",
                            "width": 0.5
                          },
                          "pattern": {
                            "fillmode": "overlay",
                            "size": 10,
                            "solidity": 0.2
                          }
                        },
                        "type": "bar"
                      }
                    ],
                    "barpolar": [
                      {
                        "marker": {
                          "line": {
                            "color": "white",
                            "width": 0.5
                          },
                          "pattern": {
                            "fillmode": "overlay",
                            "size": 10,
                            "solidity": 0.2
                          }
                        },
                        "type": "barpolar"
                      }
                    ],
                    "carpet": [
                      {
                        "aaxis": {
                          "endlinecolor": "#2a3f5f",
                          "gridcolor": "#C8D4E3",
                          "linecolor": "#C8D4E3",
                          "minorgridcolor": "#C8D4E3",
                          "startlinecolor": "#2a3f5f"
                        },
                        "baxis": {
                          "endlinecolor": "#2a3f5f",
                          "gridcolor": "#C8D4E3",
                          "linecolor": "#C8D4E3",
                          "minorgridcolor": "#C8D4E3",
                          "startlinecolor": "#2a3f5f"
                        },
                        "type": "carpet"
                      }
                    ],
                    "choropleth": [
                      {
                        "colorbar": {
                          "outlinewidth": 0,
                          "ticks": ""
                        },
                        "type": "choropleth"
                      }
                    ],
                    "contour": [
                      {
                        "colorbar": {
                          "outlinewidth": 0,
                          "ticks": ""
                        },
                        "colorscale": [
                          [
                            0,
                            "#0d0887"
                          ],
                          [
                            0.1111111111111111,
                            "#46039f"
                          ],
                          [
                            0.2222222222222222,
                            "#7201a8"
                          ],
                          [
                            0.3333333333333333,
                            "#9c179e"
                          ],
                          [
                            0.4444444444444444,
                            "#bd3786"
                          ],
                          [
                            0.5555555555555556,
                            "#d8576b"
                          ],
                          [
                            0.6666666666666666,
                            "#ed7953"
                          ],
                          [
                            0.7777777777777778,
                            "#fb9f3a"
                          ],
                          [
                            0.8888888888888888,
                            "#fdca26"
                          ],
                          [
                            1,
                            "#f0f921"
                          ]
                        ],
                        "type": "contour"
                      }
                    ],
                    "contourcarpet": [
                      {
                        "colorbar": {
                          "outlinewidth": 0,
                          "ticks": ""
                        },
                        "type": "contourcarpet"
                      }
                    ],
                    "heatmap": [
                      {
                        "colorbar": {
                          "outlinewidth": 0,
                          "ticks": ""
                        },
                        "colorscale": [
                          [
                            0,
                            "#0d0887"
                          ],
                          [
                            0.1111111111111111,
                            "#46039f"
                          ],
                          [
                            0.2222222222222222,
                            "#7201a8"
                          ],
                          [
                            0.3333333333333333,
                            "#9c179e"
                          ],
                          [
                            0.4444444444444444,
                            "#bd3786"
                          ],
                          [
                            0.5555555555555556,
                            "#d8576b"
                          ],
                          [
                            0.6666666666666666,
                            "#ed7953"
                          ],
                          [
                            0.7777777777777778,
                            "#fb9f3a"
                          ],
                          [
                            0.8888888888888888,
                            "#fdca26"
                          ],
                          [
                            1,
                            "#f0f921"
                          ]
                        ],
                        "type": "heatmap"
                      }
                    ],
                    "heatmapgl": [
                      {
                        "colorbar": {
                          "outlinewidth": 0,
                          "ticks": ""
                        },
                        "colorscale": [
                          [
                            0,
                            "#0d0887"
                          ],
                          [
                            0.1111111111111111,
                            "#46039f"
                          ],
                          [
                            0.2222222222222222,
                            "#7201a8"
                          ],
                          [
                            0.3333333333333333,
                            "#9c179e"
                          ],
                          [
                            0.4444444444444444,
                            "#bd3786"
                          ],
                          [
                            0.5555555555555556,
                            "#d8576b"
                          ],
                          [
                            0.6666666666666666,
                            "#ed7953"
                          ],
                          [
                            0.7777777777777778,
                            "#fb9f3a"
                          ],
                          [
                            0.8888888888888888,
                            "#fdca26"
                          ],
                          [
                            1,
                            "#f0f921"
                          ]
                        ],
                        "type": "heatmapgl"
                      }
                    ],
                    "histogram": [
                      {
                        "marker": {
                          "pattern": {
                            "fillmode": "overlay",
                            "size": 10,
                            "solidity": 0.2
                          }
                        },
                        "type": "histogram"
                      }
                    ],
                    "histogram2d": [
                      {
                        "colorbar": {
                          "outlinewidth": 0,
                          "ticks": ""
                        },
                        "colorscale": [
                          [
                            0,
                            "#0d0887"
                          ],
                          [
                            0.1111111111111111,
                            "#46039f"
                          ],
                          [
                            0.2222222222222222,
                            "#7201a8"
                          ],
                          [
                            0.3333333333333333,
                            "#9c179e"
                          ],
                          [
                            0.4444444444444444,
                            "#bd3786"
                          ],
                          [
                            0.5555555555555556,
                            "#d8576b"
                          ],
                          [
                            0.6666666666666666,
                            "#ed7953"
                          ],
                          [
                            0.7777777777777778,
                            "#fb9f3a"
                          ],
                          [
                            0.8888888888888888,
                            "#fdca26"
                          ],
                          [
                            1,
                            "#f0f921"
                          ]
                        ],
                        "type": "histogram2d"
                      }
                    ],
                    "histogram2dcontour": [
                      {
                        "colorbar": {
                          "outlinewidth": 0,
                          "ticks": ""
                        },
                        "colorscale": [
                          [
                            0,
                            "#0d0887"
                          ],
                          [
                            0.1111111111111111,
                            "#46039f"
                          ],
                          [
                            0.2222222222222222,
                            "#7201a8"
                          ],
                          [
                            0.3333333333333333,
                            "#9c179e"
                          ],
                          [
                            0.4444444444444444,
                            "#bd3786"
                          ],
                          [
                            0.5555555555555556,
                            "#d8576b"
                          ],
                          [
                            0.6666666666666666,
                            "#ed7953"
                          ],
                          [
                            0.7777777777777778,
                            "#fb9f3a"
                          ],
                          [
                            0.8888888888888888,
                            "#fdca26"
                          ],
                          [
                            1,
                            "#f0f921"
                          ]
                        ],
                        "type": "histogram2dcontour"
                      }
                    ],
                    "mesh3d": [
                      {
                        "colorbar": {
                          "outlinewidth": 0,
                          "ticks": ""
                        },
                        "type": "mesh3d"
                      }
                    ],
                    "parcoords": [
                      {
                        "line": {
                          "colorbar": {
                            "outlinewidth": 0,
                            "ticks": ""
                          }
                        },
                        "type": "parcoords"
                      }
                    ],
                    "pie": [
                      {
                        "automargin": true,
                        "type": "pie"
                      }
                    ],
                    "scatter": [
                      {
                        "fillpattern": {
                          "fillmode": "overlay",
                          "size": 10,
                          "solidity": 0.2
                        },
                        "type": "scatter"
                      }
                    ],
                    "scatter3d": [
                      {
                        "line": {
                          "colorbar": {
                            "outlinewidth": 0,
                            "ticks": ""
                          }
                        },
                        "marker": {
                          "colorbar": {
                            "outlinewidth": 0,
                            "ticks": ""
                          }
                        },
                        "type": "scatter3d"
                      }
                    ],
                    "scattercarpet": [
                      {
                        "marker": {
                          "colorbar": {
                            "outlinewidth": 0,
                            "ticks": ""
                          }
                        },
                        "type": "scattercarpet"
                      }
                    ],
                    "scattergeo": [
                      {
                        "marker": {
                          "colorbar": {
                            "outlinewidth": 0,
                            "ticks": ""
                          }
                        },
                        "type": "scattergeo"
                      }
                    ],
                    "scattergl": [
                      {
                        "marker": {
                          "colorbar": {
                            "outlinewidth": 0,
                            "ticks": ""
                          }
                        },
                        "type": "scattergl"
                      }
                    ],
                    "scattermapbox": [
                      {
                        "marker": {
                          "colorbar": {
                            "outlinewidth": 0,
                            "ticks": ""
                          }
                        },
                        "type": "scattermapbox"
                      }
                    ],
                    "scatterpolar": [
                      {
                        "marker": {
                          "colorbar": {
                            "outlinewidth": 0,
                            "ticks": ""
                          }
                        },
                        "type": "scatterpolar"
                      }
                    ],
                    "scatterpolargl": [
                      {
                        "marker": {
                          "colorbar": {
                            "outlinewidth": 0,
                            "ticks": ""
                          }
                        },
                        "type": "scatterpolargl"
                      }
                    ],
                    "scatterternary": [
                      {
                        "marker": {
                          "colorbar": {
                            "outlinewidth": 0,
                            "ticks": ""
                          }
                        },
                        "type": "scatterternary"
                      }
                    ],
                    "surface": [
                      {
                        "colorbar": {
                          "outlinewidth": 0,
                          "ticks": ""
                        },
                        "colorscale": [
                          [
                            0,
                            "#0d0887"
                          ],
                          [
                            0.1111111111111111,
                            "#46039f"
                          ],
                          [
                            0.2222222222222222,
                            "#7201a8"
                          ],
                          [
                            0.3333333333333333,
                            "#9c179e"
                          ],
                          [
                            0.4444444444444444,
                            "#bd3786"
                          ],
                          [
                            0.5555555555555556,
                            "#d8576b"
                          ],
                          [
                            0.6666666666666666,
                            "#ed7953"
                          ],
                          [
                            0.7777777777777778,
                            "#fb9f3a"
                          ],
                          [
                            0.8888888888888888,
                            "#fdca26"
                          ],
                          [
                            1,
                            "#f0f921"
                          ]
                        ],
                        "type": "surface"
                      }
                    ],
                    "table": [
                      {
                        "cells": {
                          "fill": {
                            "color": "#EBF0F8"
                          },
                          "line": {
                            "color": "white"
                          }
                        },
                        "header": {
                          "fill": {
                            "color": "#C8D4E3"
                          },
                          "line": {
                            "color": "white"
                          }
                        },
                        "type": "table"
                      }
                    ]
                  },
                  "layout": {
                    "annotationdefaults": {
                      "arrowcolor": "#2a3f5f",
                      "arrowhead": 0,
                      "arrowwidth": 1
                    },
                    "autotypenumbers": "strict",
                    "coloraxis": {
                      "colorbar": {
                        "outlinewidth": 0,
                        "ticks": ""
                      }
                    },
                    "colorscale": {
                      "diverging": [
                        [
                          0,
                          "#8e0152"
                        ],
                        [
                          0.1,
                          "#c51b7d"
                        ],
                        [
                          0.2,
                          "#de77ae"
                        ],
                        [
                          0.3,
                          "#f1b6da"
                        ],
                        [
                          0.4,
                          "#fde0ef"
                        ],
                        [
                          0.5,
                          "#f7f7f7"
                        ],
                        [
                          0.6,
                          "#e6f5d0"
                        ],
                        [
                          0.7,
                          "#b8e186"
                        ],
                        [
                          0.8,
                          "#7fbc41"
                        ],
                        [
                          0.9,
                          "#4d9221"
                        ],
                        [
                          1,
                          "#276419"
                        ]
                      ],
                      "sequential": [
                        [
                          0,
                          "#0d0887"
                        ],
                        [
                          0.1111111111111111,
                          "#46039f"
                        ],
                        [
                          0.2222222222222222,
                          "#7201a8"
                        ],
                        [
                          0.3333333333333333,
                          "#9c179e"
                        ],
                        [
                          0.4444444444444444,
                          "#bd3786"
                        ],
                        [
                          0.5555555555555556,
                          "#d8576b"
                        ],
                        [
                          0.6666666666666666,
                          "#ed7953"
                        ],
                        [
                          0.7777777777777778,
                          "#fb9f3a"
                        ],
                        [
                          0.8888888888888888,
                          "#fdca26"
                        ],
                        [
                          1,
                          "#f0f921"
                        ]
                      ],
                      "sequentialminus": [
                        [
                          0,
                          "#0d0887"
                        ],
                        [
                          0.1111111111111111,
                          "#46039f"
                        ],
                        [
                          0.2222222222222222,
                          "#7201a8"
                        ],
                        [
                          0.3333333333333333,
                          "#9c179e"
                        ],
                        [
                          0.4444444444444444,
                          "#bd3786"
                        ],
                        [
                          0.5555555555555556,
                          "#d8576b"
                        ],
                        [
                          0.6666666666666666,
                          "#ed7953"
                        ],
                        [
                          0.7777777777777778,
                          "#fb9f3a"
                        ],
                        [
                          0.8888888888888888,
                          "#fdca26"
                        ],
                        [
                          1,
                          "#f0f921"
                        ]
                      ]
                    },
                    "colorway": [
                      "#636efa",
                      "#EF553B",
                      "#00cc96",
                      "#ab63fa",
                      "#FFA15A",
                      "#19d3f3",
                      "#FF6692",
                      "#B6E880",
                      "#FF97FF",
                      "#FECB52"
                    ],
                    "font": {
                      "color": "#2a3f5f"
                    },
                    "geo": {
                      "bgcolor": "white",
                      "lakecolor": "white",
                      "landcolor": "white",
                      "showlakes": true,
                      "showland": true,
                      "subunitcolor": "#C8D4E3"
                    },
                    "hoverlabel": {
                      "align": "left"
                    },
                    "hovermode": "closest",
                    "mapbox": {
                      "style": "light"
                    },
                    "paper_bgcolor": "white",
                    "plot_bgcolor": "white",
                    "polar": {
                      "angularaxis": {
                        "gridcolor": "#EBF0F8",
                        "linecolor": "#EBF0F8",
                        "ticks": ""
                      },
                      "bgcolor": "white",
                      "radialaxis": {
                        "gridcolor": "#EBF0F8",
                        "linecolor": "#EBF0F8",
                        "ticks": ""
                      }
                    },
                    "scene": {
                      "xaxis": {
                        "backgroundcolor": "white",
                        "gridcolor": "#DFE8F3",
                        "gridwidth": 2,
                        "linecolor": "#EBF0F8",
                        "showbackground": true,
                        "ticks": "",
                        "zerolinecolor": "#EBF0F8"
                      },
                      "yaxis": {
                        "backgroundcolor": "white",
                        "gridcolor": "#DFE8F3",
                        "gridwidth": 2,
                        "linecolor": "#EBF0F8",
                        "showbackground": true,
                        "ticks": "",
                        "zerolinecolor": "#EBF0F8"
                      },
                      "zaxis": {
                        "backgroundcolor": "white",
                        "gridcolor": "#DFE8F3",
                        "gridwidth": 2,
                        "linecolor": "#EBF0F8",
                        "showbackground": true,
                        "ticks": "",
                        "zerolinecolor": "#EBF0F8"
                      }
                    },
                    "shapedefaults": {
                      "line": {
                        "color": "#2a3f5f"
                      }
                    },
                    "ternary": {
                      "aaxis": {
                        "gridcolor": "#DFE8F3",
                        "linecolor": "#A2B1C6",
                        "ticks": ""
                      },
                      "baxis": {
                        "gridcolor": "#DFE8F3",
                        "linecolor": "#A2B1C6",
                        "ticks": ""
                      },
                      "bgcolor": "white",
                      "caxis": {
                        "gridcolor": "#DFE8F3",
                        "linecolor": "#A2B1C6",
                        "ticks": ""
                      }
                    },
                    "title": {
                      "x": 0.05
                    },
                    "xaxis": {
                      "automargin": true,
                      "gridcolor": "#EBF0F8",
                      "linecolor": "#EBF0F8",
                      "ticks": "",
                      "title": {
                        "standoff": 15
                      },
                      "zerolinecolor": "#EBF0F8",
                      "zerolinewidth": 2
                    },
                    "yaxis": {
                      "automargin": true,
                      "gridcolor": "#EBF0F8",
                      "linecolor": "#EBF0F8",
                      "ticks": "",
                      "title": {
                        "standoff": 15
                      },
                      "zerolinecolor": "#EBF0F8",
                      "zerolinewidth": 2
                    }
                  }
                },
                "title": {
                  "text": "Number of Processes per Day",
                  "x": 0.5,
                  "xanchor": "center"
                },
                "width": 1000,
                "xaxis": {
                  "anchor": "y",
                  "domain": [
                    0,
                    1
                  ],
                  "rangeselector": {
                    "buttons": [
                      {
                        "count": 1,
                        "label": "1m",
                        "step": "month",
                        "stepmode": "backward"
                      },
                      {
                        "count": 6,
                        "label": "6m",
                        "step": "month",
                        "stepmode": "backward"
                      },
                      {
                        "step": "all"
                      }
                    ]
                  },
                  "rangeslider": {
                    "visible": true
                  },
                  "title": {
                    "text": "Date"
                  },
                  "type": "date"
                },
                "yaxis": {
                  "anchor": "x",
                  "domain": [
                    0,
                    1
                  ],
                  "tickformat": ",",
                  "title": {
                    "text": "Number of Processes"
                  }
                }
              }
            }
          },
          "metadata": {},
          "output_type": "display_data"
        },
        {
          "data": {
            "text/plain": [
              "<Figure size 1400x700 with 0 Axes>"
            ]
          },
          "metadata": {},
          "output_type": "display_data"
        }
      ],
      "source": [
        "df['date'] = df['timestamp'].dt.date\n",
        "# Number of processes over time\n",
        "plt.figure(figsize=(14,7))\n",
        "temp_df = df.groupby('date').size().reset_index(name='count')\n",
        "\n",
        "fig = px.line(temp_df, x='date', y='count', \n",
        "              title='Number of Processes per Day',\n",
        "              labels={'Date': 'Date', 'Number of Processes': 'Number of Processes'},\n",
        "              template='plotly_white')\n",
        "\n",
        "# Update layout to follow good data visualization practices\n",
        "fig.update_layout(\n",
        "    title={'text': 'Number of Processes per Day', 'x': 0.5, 'xanchor': 'center'},\n",
        "    xaxis_title='Date',\n",
        "    yaxis_title='Number of Processes',\n",
        "    xaxis=dict(\n",
        "        rangeselector=dict(\n",
        "            buttons=list([\n",
        "                dict(count=1, label=\"1m\", step=\"month\", stepmode=\"backward\"),\n",
        "                dict(count=6, label=\"6m\", step=\"month\", stepmode=\"backward\"),\n",
        "                dict(step=\"all\")\n",
        "            ])\n",
        "        ),\n",
        "        rangeslider=dict(visible=True),\n",
        "        type=\"date\"\n",
        "    ),\n",
        "    yaxis=dict(tickformat=\",\"),\n",
        "    margin=dict(l=50, r=50, t=50, b=50),\n",
        "    width=1000,\n",
        "    height=600\n",
        ")\n",
        "\n",
        "# Show the plot\n",
        "fig.show()\n",
        "\n",
        "# Save the plot\n",
        "fig.write_html(\"number_processes.html\")\n"
      ]
    },
    {
      "cell_type": "code",
      "execution_count": 21,
      "metadata": {},
      "outputs": [
        {
          "data": {
            "application/vnd.plotly.v1+json": {
              "config": {
                "plotlyServerURL": "https://plot.ly"
              },
              "data": [
                {
                  "alignmentgroup": "True",
                  "hovertemplate": "Date=%{x}<br>Number of Unique Processes=%{marker.color}<extra></extra>",
                  "legendgroup": "",
                  "marker": {
                    "color": [
                      175,
                      560,
                      17,
                      233,
                      57,
                      720,
                      284,
                      491,
                      294,
                      422,
                      567,
                      263,
                      469,
                      596,
                      4,
                      383,
                      639,
                      499,
                      426,
                      266,
                      333,
                      580,
                      568,
                      238,
                      2,
                      518,
                      654,
                      808,
                      787,
                      570,
                      557,
                      636,
                      618,
                      813,
                      642,
                      594,
                      843,
                      63,
                      526,
                      608,
                      848,
                      1015,
                      772,
                      607,
                      371,
                      405,
                      683,
                      764,
                      640,
                      421,
                      329,
                      692,
                      620,
                      333,
                      631,
                      417,
                      364,
                      543,
                      738,
                      745,
                      614,
                      406,
                      369,
                      442,
                      402,
                      619,
                      784,
                      900,
                      687,
                      451,
                      535,
                      471,
                      383,
                      936,
                      942,
                      880,
                      896,
                      237,
                      340,
                      804,
                      580,
                      764,
                      746,
                      508,
                      536,
                      400,
                      733,
                      824,
                      771,
                      761,
                      712,
                      506,
                      416,
                      841,
                      888,
                      904,
                      787,
                      699,
                      701,
                      547,
                      806,
                      641
                    ],
                    "coloraxis": "coloraxis",
                    "pattern": {
                      "shape": ""
                    }
                  },
                  "name": "",
                  "offsetgroup": "",
                  "orientation": "v",
                  "showlegend": false,
                  "text": [
                    175,
                    560,
                    17,
                    233,
                    57,
                    720,
                    284,
                    491,
                    294,
                    422,
                    567,
                    263,
                    469,
                    596,
                    4,
                    383,
                    639,
                    499,
                    426,
                    266,
                    333,
                    580,
                    568,
                    238,
                    2,
                    518,
                    654,
                    808,
                    787,
                    570,
                    557,
                    636,
                    618,
                    813,
                    642,
                    594,
                    843,
                    63,
                    526,
                    608,
                    848,
                    1015,
                    772,
                    607,
                    371,
                    405,
                    683,
                    764,
                    640,
                    421,
                    329,
                    692,
                    620,
                    333,
                    631,
                    417,
                    364,
                    543,
                    738,
                    745,
                    614,
                    406,
                    369,
                    442,
                    402,
                    619,
                    784,
                    900,
                    687,
                    451,
                    535,
                    471,
                    383,
                    936,
                    942,
                    880,
                    896,
                    237,
                    340,
                    804,
                    580,
                    764,
                    746,
                    508,
                    536,
                    400,
                    733,
                    824,
                    771,
                    761,
                    712,
                    506,
                    416,
                    841,
                    888,
                    904,
                    787,
                    699,
                    701,
                    547,
                    806,
                    641
                  ],
                  "textposition": "auto",
                  "type": "bar",
                  "x": [
                    "2024-01-01",
                    "2024-01-02",
                    "2024-01-03",
                    "2024-01-17",
                    "2024-01-19",
                    "2024-01-20",
                    "2024-01-21",
                    "2024-01-22",
                    "2024-01-23",
                    "2024-01-24",
                    "2024-01-25",
                    "2024-01-27",
                    "2024-01-28",
                    "2024-01-29",
                    "2024-01-30",
                    "2024-01-31",
                    "2024-02-01",
                    "2024-02-02",
                    "2024-02-04",
                    "2024-02-05",
                    "2024-02-06",
                    "2024-02-08",
                    "2024-02-09",
                    "2024-02-10",
                    "2024-02-11",
                    "2024-02-12",
                    "2024-02-13",
                    "2024-02-14",
                    "2024-02-15",
                    "2024-02-16",
                    "2024-02-17",
                    "2024-02-18",
                    "2024-02-19",
                    "2024-02-20",
                    "2024-02-21",
                    "2024-02-22",
                    "2024-02-23",
                    "2024-02-24",
                    "2024-02-25",
                    "2024-02-26",
                    "2024-02-27",
                    "2024-02-28",
                    "2024-02-29",
                    "2024-03-01",
                    "2024-03-02",
                    "2024-03-03",
                    "2024-03-04",
                    "2024-03-05",
                    "2024-03-06",
                    "2024-03-07",
                    "2024-03-08",
                    "2024-03-11",
                    "2024-03-12",
                    "2024-03-13",
                    "2024-03-14",
                    "2024-03-15",
                    "2024-03-16",
                    "2024-03-17",
                    "2024-03-18",
                    "2024-03-19",
                    "2024-03-20",
                    "2024-03-21",
                    "2024-03-22",
                    "2024-03-23",
                    "2024-03-24",
                    "2024-03-25",
                    "2024-03-26",
                    "2024-03-27",
                    "2024-03-28",
                    "2024-03-29",
                    "2024-03-30",
                    "2024-03-31",
                    "2024-04-01",
                    "2024-04-02",
                    "2024-04-03",
                    "2024-04-04",
                    "2024-04-05",
                    "2024-04-06",
                    "2024-04-07",
                    "2024-04-08",
                    "2024-04-09",
                    "2024-04-10",
                    "2024-04-11",
                    "2024-04-12",
                    "2024-04-13",
                    "2024-04-14",
                    "2024-04-15",
                    "2024-04-16",
                    "2024-04-17",
                    "2024-04-18",
                    "2024-04-19",
                    "2024-04-20",
                    "2024-04-21",
                    "2024-04-22",
                    "2024-04-23",
                    "2024-04-24",
                    "2024-04-25",
                    "2024-04-26",
                    "2024-04-27",
                    "2024-04-28",
                    "2024-04-29",
                    "2024-04-30"
                  ],
                  "xaxis": "x",
                  "y": [
                    175,
                    560,
                    17,
                    233,
                    57,
                    720,
                    284,
                    491,
                    294,
                    422,
                    567,
                    263,
                    469,
                    596,
                    4,
                    383,
                    639,
                    499,
                    426,
                    266,
                    333,
                    580,
                    568,
                    238,
                    2,
                    518,
                    654,
                    808,
                    787,
                    570,
                    557,
                    636,
                    618,
                    813,
                    642,
                    594,
                    843,
                    63,
                    526,
                    608,
                    848,
                    1015,
                    772,
                    607,
                    371,
                    405,
                    683,
                    764,
                    640,
                    421,
                    329,
                    692,
                    620,
                    333,
                    631,
                    417,
                    364,
                    543,
                    738,
                    745,
                    614,
                    406,
                    369,
                    442,
                    402,
                    619,
                    784,
                    900,
                    687,
                    451,
                    535,
                    471,
                    383,
                    936,
                    942,
                    880,
                    896,
                    237,
                    340,
                    804,
                    580,
                    764,
                    746,
                    508,
                    536,
                    400,
                    733,
                    824,
                    771,
                    761,
                    712,
                    506,
                    416,
                    841,
                    888,
                    904,
                    787,
                    699,
                    701,
                    547,
                    806,
                    641
                  ],
                  "yaxis": "y"
                }
              ],
              "layout": {
                "barmode": "relative",
                "coloraxis": {
                  "colorbar": {
                    "title": {
                      "text": "Number of Unique Processes"
                    }
                  },
                  "colorscale": [
                    [
                      0,
                      "#440154"
                    ],
                    [
                      0.1111111111111111,
                      "#482878"
                    ],
                    [
                      0.2222222222222222,
                      "#3e4989"
                    ],
                    [
                      0.3333333333333333,
                      "#31688e"
                    ],
                    [
                      0.4444444444444444,
                      "#26828e"
                    ],
                    [
                      0.5555555555555556,
                      "#1f9e89"
                    ],
                    [
                      0.6666666666666666,
                      "#35b779"
                    ],
                    [
                      0.7777777777777778,
                      "#6ece58"
                    ],
                    [
                      0.8888888888888888,
                      "#b5de2b"
                    ],
                    [
                      1,
                      "#fde725"
                    ]
                  ]
                },
                "legend": {
                  "tracegroupgap": 0
                },
                "paper_bgcolor": "white",
                "plot_bgcolor": "white",
                "showlegend": false,
                "template": {
                  "data": {
                    "bar": [
                      {
                        "error_x": {
                          "color": "#2a3f5f"
                        },
                        "error_y": {
                          "color": "#2a3f5f"
                        },
                        "marker": {
                          "line": {
                            "color": "#E5ECF6",
                            "width": 0.5
                          },
                          "pattern": {
                            "fillmode": "overlay",
                            "size": 10,
                            "solidity": 0.2
                          }
                        },
                        "type": "bar"
                      }
                    ],
                    "barpolar": [
                      {
                        "marker": {
                          "line": {
                            "color": "#E5ECF6",
                            "width": 0.5
                          },
                          "pattern": {
                            "fillmode": "overlay",
                            "size": 10,
                            "solidity": 0.2
                          }
                        },
                        "type": "barpolar"
                      }
                    ],
                    "carpet": [
                      {
                        "aaxis": {
                          "endlinecolor": "#2a3f5f",
                          "gridcolor": "white",
                          "linecolor": "white",
                          "minorgridcolor": "white",
                          "startlinecolor": "#2a3f5f"
                        },
                        "baxis": {
                          "endlinecolor": "#2a3f5f",
                          "gridcolor": "white",
                          "linecolor": "white",
                          "minorgridcolor": "white",
                          "startlinecolor": "#2a3f5f"
                        },
                        "type": "carpet"
                      }
                    ],
                    "choropleth": [
                      {
                        "colorbar": {
                          "outlinewidth": 0,
                          "ticks": ""
                        },
                        "type": "choropleth"
                      }
                    ],
                    "contour": [
                      {
                        "colorbar": {
                          "outlinewidth": 0,
                          "ticks": ""
                        },
                        "colorscale": [
                          [
                            0,
                            "#0d0887"
                          ],
                          [
                            0.1111111111111111,
                            "#46039f"
                          ],
                          [
                            0.2222222222222222,
                            "#7201a8"
                          ],
                          [
                            0.3333333333333333,
                            "#9c179e"
                          ],
                          [
                            0.4444444444444444,
                            "#bd3786"
                          ],
                          [
                            0.5555555555555556,
                            "#d8576b"
                          ],
                          [
                            0.6666666666666666,
                            "#ed7953"
                          ],
                          [
                            0.7777777777777778,
                            "#fb9f3a"
                          ],
                          [
                            0.8888888888888888,
                            "#fdca26"
                          ],
                          [
                            1,
                            "#f0f921"
                          ]
                        ],
                        "type": "contour"
                      }
                    ],
                    "contourcarpet": [
                      {
                        "colorbar": {
                          "outlinewidth": 0,
                          "ticks": ""
                        },
                        "type": "contourcarpet"
                      }
                    ],
                    "heatmap": [
                      {
                        "colorbar": {
                          "outlinewidth": 0,
                          "ticks": ""
                        },
                        "colorscale": [
                          [
                            0,
                            "#0d0887"
                          ],
                          [
                            0.1111111111111111,
                            "#46039f"
                          ],
                          [
                            0.2222222222222222,
                            "#7201a8"
                          ],
                          [
                            0.3333333333333333,
                            "#9c179e"
                          ],
                          [
                            0.4444444444444444,
                            "#bd3786"
                          ],
                          [
                            0.5555555555555556,
                            "#d8576b"
                          ],
                          [
                            0.6666666666666666,
                            "#ed7953"
                          ],
                          [
                            0.7777777777777778,
                            "#fb9f3a"
                          ],
                          [
                            0.8888888888888888,
                            "#fdca26"
                          ],
                          [
                            1,
                            "#f0f921"
                          ]
                        ],
                        "type": "heatmap"
                      }
                    ],
                    "heatmapgl": [
                      {
                        "colorbar": {
                          "outlinewidth": 0,
                          "ticks": ""
                        },
                        "colorscale": [
                          [
                            0,
                            "#0d0887"
                          ],
                          [
                            0.1111111111111111,
                            "#46039f"
                          ],
                          [
                            0.2222222222222222,
                            "#7201a8"
                          ],
                          [
                            0.3333333333333333,
                            "#9c179e"
                          ],
                          [
                            0.4444444444444444,
                            "#bd3786"
                          ],
                          [
                            0.5555555555555556,
                            "#d8576b"
                          ],
                          [
                            0.6666666666666666,
                            "#ed7953"
                          ],
                          [
                            0.7777777777777778,
                            "#fb9f3a"
                          ],
                          [
                            0.8888888888888888,
                            "#fdca26"
                          ],
                          [
                            1,
                            "#f0f921"
                          ]
                        ],
                        "type": "heatmapgl"
                      }
                    ],
                    "histogram": [
                      {
                        "marker": {
                          "pattern": {
                            "fillmode": "overlay",
                            "size": 10,
                            "solidity": 0.2
                          }
                        },
                        "type": "histogram"
                      }
                    ],
                    "histogram2d": [
                      {
                        "colorbar": {
                          "outlinewidth": 0,
                          "ticks": ""
                        },
                        "colorscale": [
                          [
                            0,
                            "#0d0887"
                          ],
                          [
                            0.1111111111111111,
                            "#46039f"
                          ],
                          [
                            0.2222222222222222,
                            "#7201a8"
                          ],
                          [
                            0.3333333333333333,
                            "#9c179e"
                          ],
                          [
                            0.4444444444444444,
                            "#bd3786"
                          ],
                          [
                            0.5555555555555556,
                            "#d8576b"
                          ],
                          [
                            0.6666666666666666,
                            "#ed7953"
                          ],
                          [
                            0.7777777777777778,
                            "#fb9f3a"
                          ],
                          [
                            0.8888888888888888,
                            "#fdca26"
                          ],
                          [
                            1,
                            "#f0f921"
                          ]
                        ],
                        "type": "histogram2d"
                      }
                    ],
                    "histogram2dcontour": [
                      {
                        "colorbar": {
                          "outlinewidth": 0,
                          "ticks": ""
                        },
                        "colorscale": [
                          [
                            0,
                            "#0d0887"
                          ],
                          [
                            0.1111111111111111,
                            "#46039f"
                          ],
                          [
                            0.2222222222222222,
                            "#7201a8"
                          ],
                          [
                            0.3333333333333333,
                            "#9c179e"
                          ],
                          [
                            0.4444444444444444,
                            "#bd3786"
                          ],
                          [
                            0.5555555555555556,
                            "#d8576b"
                          ],
                          [
                            0.6666666666666666,
                            "#ed7953"
                          ],
                          [
                            0.7777777777777778,
                            "#fb9f3a"
                          ],
                          [
                            0.8888888888888888,
                            "#fdca26"
                          ],
                          [
                            1,
                            "#f0f921"
                          ]
                        ],
                        "type": "histogram2dcontour"
                      }
                    ],
                    "mesh3d": [
                      {
                        "colorbar": {
                          "outlinewidth": 0,
                          "ticks": ""
                        },
                        "type": "mesh3d"
                      }
                    ],
                    "parcoords": [
                      {
                        "line": {
                          "colorbar": {
                            "outlinewidth": 0,
                            "ticks": ""
                          }
                        },
                        "type": "parcoords"
                      }
                    ],
                    "pie": [
                      {
                        "automargin": true,
                        "type": "pie"
                      }
                    ],
                    "scatter": [
                      {
                        "fillpattern": {
                          "fillmode": "overlay",
                          "size": 10,
                          "solidity": 0.2
                        },
                        "type": "scatter"
                      }
                    ],
                    "scatter3d": [
                      {
                        "line": {
                          "colorbar": {
                            "outlinewidth": 0,
                            "ticks": ""
                          }
                        },
                        "marker": {
                          "colorbar": {
                            "outlinewidth": 0,
                            "ticks": ""
                          }
                        },
                        "type": "scatter3d"
                      }
                    ],
                    "scattercarpet": [
                      {
                        "marker": {
                          "colorbar": {
                            "outlinewidth": 0,
                            "ticks": ""
                          }
                        },
                        "type": "scattercarpet"
                      }
                    ],
                    "scattergeo": [
                      {
                        "marker": {
                          "colorbar": {
                            "outlinewidth": 0,
                            "ticks": ""
                          }
                        },
                        "type": "scattergeo"
                      }
                    ],
                    "scattergl": [
                      {
                        "marker": {
                          "colorbar": {
                            "outlinewidth": 0,
                            "ticks": ""
                          }
                        },
                        "type": "scattergl"
                      }
                    ],
                    "scattermapbox": [
                      {
                        "marker": {
                          "colorbar": {
                            "outlinewidth": 0,
                            "ticks": ""
                          }
                        },
                        "type": "scattermapbox"
                      }
                    ],
                    "scatterpolar": [
                      {
                        "marker": {
                          "colorbar": {
                            "outlinewidth": 0,
                            "ticks": ""
                          }
                        },
                        "type": "scatterpolar"
                      }
                    ],
                    "scatterpolargl": [
                      {
                        "marker": {
                          "colorbar": {
                            "outlinewidth": 0,
                            "ticks": ""
                          }
                        },
                        "type": "scatterpolargl"
                      }
                    ],
                    "scatterternary": [
                      {
                        "marker": {
                          "colorbar": {
                            "outlinewidth": 0,
                            "ticks": ""
                          }
                        },
                        "type": "scatterternary"
                      }
                    ],
                    "surface": [
                      {
                        "colorbar": {
                          "outlinewidth": 0,
                          "ticks": ""
                        },
                        "colorscale": [
                          [
                            0,
                            "#0d0887"
                          ],
                          [
                            0.1111111111111111,
                            "#46039f"
                          ],
                          [
                            0.2222222222222222,
                            "#7201a8"
                          ],
                          [
                            0.3333333333333333,
                            "#9c179e"
                          ],
                          [
                            0.4444444444444444,
                            "#bd3786"
                          ],
                          [
                            0.5555555555555556,
                            "#d8576b"
                          ],
                          [
                            0.6666666666666666,
                            "#ed7953"
                          ],
                          [
                            0.7777777777777778,
                            "#fb9f3a"
                          ],
                          [
                            0.8888888888888888,
                            "#fdca26"
                          ],
                          [
                            1,
                            "#f0f921"
                          ]
                        ],
                        "type": "surface"
                      }
                    ],
                    "table": [
                      {
                        "cells": {
                          "fill": {
                            "color": "#EBF0F8"
                          },
                          "line": {
                            "color": "white"
                          }
                        },
                        "header": {
                          "fill": {
                            "color": "#C8D4E3"
                          },
                          "line": {
                            "color": "white"
                          }
                        },
                        "type": "table"
                      }
                    ]
                  },
                  "layout": {
                    "annotationdefaults": {
                      "arrowcolor": "#2a3f5f",
                      "arrowhead": 0,
                      "arrowwidth": 1
                    },
                    "autotypenumbers": "strict",
                    "coloraxis": {
                      "colorbar": {
                        "outlinewidth": 0,
                        "ticks": ""
                      }
                    },
                    "colorscale": {
                      "diverging": [
                        [
                          0,
                          "#8e0152"
                        ],
                        [
                          0.1,
                          "#c51b7d"
                        ],
                        [
                          0.2,
                          "#de77ae"
                        ],
                        [
                          0.3,
                          "#f1b6da"
                        ],
                        [
                          0.4,
                          "#fde0ef"
                        ],
                        [
                          0.5,
                          "#f7f7f7"
                        ],
                        [
                          0.6,
                          "#e6f5d0"
                        ],
                        [
                          0.7,
                          "#b8e186"
                        ],
                        [
                          0.8,
                          "#7fbc41"
                        ],
                        [
                          0.9,
                          "#4d9221"
                        ],
                        [
                          1,
                          "#276419"
                        ]
                      ],
                      "sequential": [
                        [
                          0,
                          "#0d0887"
                        ],
                        [
                          0.1111111111111111,
                          "#46039f"
                        ],
                        [
                          0.2222222222222222,
                          "#7201a8"
                        ],
                        [
                          0.3333333333333333,
                          "#9c179e"
                        ],
                        [
                          0.4444444444444444,
                          "#bd3786"
                        ],
                        [
                          0.5555555555555556,
                          "#d8576b"
                        ],
                        [
                          0.6666666666666666,
                          "#ed7953"
                        ],
                        [
                          0.7777777777777778,
                          "#fb9f3a"
                        ],
                        [
                          0.8888888888888888,
                          "#fdca26"
                        ],
                        [
                          1,
                          "#f0f921"
                        ]
                      ],
                      "sequentialminus": [
                        [
                          0,
                          "#0d0887"
                        ],
                        [
                          0.1111111111111111,
                          "#46039f"
                        ],
                        [
                          0.2222222222222222,
                          "#7201a8"
                        ],
                        [
                          0.3333333333333333,
                          "#9c179e"
                        ],
                        [
                          0.4444444444444444,
                          "#bd3786"
                        ],
                        [
                          0.5555555555555556,
                          "#d8576b"
                        ],
                        [
                          0.6666666666666666,
                          "#ed7953"
                        ],
                        [
                          0.7777777777777778,
                          "#fb9f3a"
                        ],
                        [
                          0.8888888888888888,
                          "#fdca26"
                        ],
                        [
                          1,
                          "#f0f921"
                        ]
                      ]
                    },
                    "colorway": [
                      "#636efa",
                      "#EF553B",
                      "#00cc96",
                      "#ab63fa",
                      "#FFA15A",
                      "#19d3f3",
                      "#FF6692",
                      "#B6E880",
                      "#FF97FF",
                      "#FECB52"
                    ],
                    "font": {
                      "color": "#2a3f5f"
                    },
                    "geo": {
                      "bgcolor": "white",
                      "lakecolor": "white",
                      "landcolor": "#E5ECF6",
                      "showlakes": true,
                      "showland": true,
                      "subunitcolor": "white"
                    },
                    "hoverlabel": {
                      "align": "left"
                    },
                    "hovermode": "closest",
                    "mapbox": {
                      "style": "light"
                    },
                    "paper_bgcolor": "white",
                    "plot_bgcolor": "#E5ECF6",
                    "polar": {
                      "angularaxis": {
                        "gridcolor": "white",
                        "linecolor": "white",
                        "ticks": ""
                      },
                      "bgcolor": "#E5ECF6",
                      "radialaxis": {
                        "gridcolor": "white",
                        "linecolor": "white",
                        "ticks": ""
                      }
                    },
                    "scene": {
                      "xaxis": {
                        "backgroundcolor": "#E5ECF6",
                        "gridcolor": "white",
                        "gridwidth": 2,
                        "linecolor": "white",
                        "showbackground": true,
                        "ticks": "",
                        "zerolinecolor": "white"
                      },
                      "yaxis": {
                        "backgroundcolor": "#E5ECF6",
                        "gridcolor": "white",
                        "gridwidth": 2,
                        "linecolor": "white",
                        "showbackground": true,
                        "ticks": "",
                        "zerolinecolor": "white"
                      },
                      "zaxis": {
                        "backgroundcolor": "#E5ECF6",
                        "gridcolor": "white",
                        "gridwidth": 2,
                        "linecolor": "white",
                        "showbackground": true,
                        "ticks": "",
                        "zerolinecolor": "white"
                      }
                    },
                    "shapedefaults": {
                      "line": {
                        "color": "#2a3f5f"
                      }
                    },
                    "ternary": {
                      "aaxis": {
                        "gridcolor": "white",
                        "linecolor": "white",
                        "ticks": ""
                      },
                      "baxis": {
                        "gridcolor": "white",
                        "linecolor": "white",
                        "ticks": ""
                      },
                      "bgcolor": "#E5ECF6",
                      "caxis": {
                        "gridcolor": "white",
                        "linecolor": "white",
                        "ticks": ""
                      }
                    },
                    "title": {
                      "x": 0.05
                    },
                    "xaxis": {
                      "automargin": true,
                      "gridcolor": "white",
                      "linecolor": "white",
                      "ticks": "",
                      "title": {
                        "standoff": 15
                      },
                      "zerolinecolor": "white",
                      "zerolinewidth": 2
                    },
                    "yaxis": {
                      "automargin": true,
                      "gridcolor": "white",
                      "linecolor": "white",
                      "ticks": "",
                      "title": {
                        "standoff": 15
                      },
                      "zerolinecolor": "white",
                      "zerolinewidth": 2
                    }
                  }
                },
                "title": {
                  "font": {
                    "color": "darkblue",
                    "size": 20
                  },
                  "text": "Unique Processes per Day"
                },
                "xaxis": {
                  "anchor": "y",
                  "domain": [
                    0,
                    1
                  ],
                  "tickangle": -90,
                  "tickfont": {
                    "size": 14
                  },
                  "title": {
                    "font": {
                      "size": 16
                    },
                    "text": "Date"
                  }
                },
                "yaxis": {
                  "anchor": "x",
                  "domain": [
                    0,
                    1
                  ],
                  "tickfont": {
                    "size": 14
                  },
                  "title": {
                    "font": {
                      "size": 16
                    },
                    "text": "Number of Unique Processes"
                  }
                }
              }
            }
          },
          "metadata": {},
          "output_type": "display_data"
        }
      ],
      "source": [
        "# Calculate the number of unique processes per day\n",
        "daily_process_counts = df.groupby('date')['procName'].nunique().reset_index()\n",
        "daily_process_counts.columns = ['Date', 'UniqueProcesses']\n",
        "\n",
        "# Create the bar chart using Plotly Express with color and style options\n",
        "fig = px.bar(daily_process_counts, x='Date', y='UniqueProcesses', \n",
        "             title='Unique Processes per Day',\n",
        "             labels={'Date': 'Date', 'UniqueProcesses': 'Number of Unique Processes'},\n",
        "             text='UniqueProcesses',\n",
        "             color='UniqueProcesses',  # Color bars by the count of unique processes\n",
        "             color_continuous_scale='Viridis')  # Choose a color scale\n",
        "\n",
        "# Customize layout for a more colorful appearance\n",
        "fig.update_layout(\n",
        "    xaxis_title='Date',\n",
        "    yaxis_title='Number of Unique Processes',\n",
        "    plot_bgcolor='white',  # Background color of the plotting area\n",
        "    paper_bgcolor='white',     # Background color of the entire figure\n",
        "    title_font=dict(size=20, color='darkblue'),\n",
        "    xaxis=dict(\n",
        "        tickangle=-90,            # Angle of x-axis tick labels for better readability\n",
        "        title_font=dict(size=16),\n",
        "        tickfont=dict(size=14)\n",
        "    ),\n",
        "    yaxis=dict(\n",
        "        title_font=dict(size=16),\n",
        "        tickfont=dict(size=14)\n",
        "    ),\n",
        "    showlegend=False            # Hide legend if not necessary\n",
        ")\n",
        "\n",
        "# Display the bar chart\n",
        "fig.show()\n",
        "\n",
        "# \n",
        "fig.write_html(\"unique_processes.html\")"
      ]
    },
    {
      "cell_type": "code",
      "execution_count": 22,
      "metadata": {},
      "outputs": [],
      "source": [
        "# Analyze PID distribution\n",
        "plt.figure(figsize=(12, 6))\n",
        "plt.hist(df['pid'], bins=50)\n",
        "plt.title('Distribution of Process IDs')\n",
        "plt.xlabel('PID')\n",
        "plt.ylabel('Frequency')\n",
        "#plt.show()\n",
        "plt.savefig('pid_distribution.png')\n",
        "plt.close()\n"
      ]
    },
    {
      "cell_type": "code",
      "execution_count": 23,
      "metadata": {},
      "outputs": [
        {
          "name": "stdout",
          "output_type": "stream",
          "text": [
            "\n",
            "Most common PIDs:\n",
            "0.0      17639\n",
            "94.0      7642\n",
            "100.0     6513\n",
            "98.0      6385\n",
            "99.0      6369\n",
            "Name: pid, dtype: int64\n",
            "\n",
            "Percentage of scans with all unique PIDs: 63.41%\n"
          ]
        }
      ],
      "source": [
        "# Treat PIDs as categorical\n",
        "pid_frequency = df['pid'].value_counts()\n",
        "print(\"\\nMost common PIDs:\")\n",
        "print(pid_frequency.head())\n",
        "\n",
        "# Visualize PID frequency\n",
        "plt.figure(figsize=(12, 6))\n",
        "pid_frequency.head(20).plot(kind='bar')\n",
        "plt.title('Frequency of Top 20 PIDs')\n",
        "plt.xlabel('PID')\n",
        "plt.ylabel('Frequency')\n",
        "plt.tight_layout()\n",
        "#plt.show()\n",
        "plt.savefig('pid_frequency.png')\n",
        "plt.close()\n",
        "\n",
        "# Analyze PID uniqueness within scans\n",
        "def check_pid_uniqueness(group):\n",
        "    return group['pid'].nunique() == len(group)\n",
        "\n",
        "pid_uniqueness = df.groupby(['device', 'scan']).apply(check_pid_uniqueness)\n",
        "print(f\"\\nPercentage of scans with all unique PIDs: {pid_uniqueness.mean()*100:.2f}%\")"
      ]
    },
    {
      "cell_type": "code",
      "execution_count": 24,
      "metadata": {},
      "outputs": [
        {
          "data": {
            "application/vnd.plotly.v1+json": {
              "config": {
                "plotlyServerURL": "https://plot.ly"
              },
              "data": [
                {
                  "customdata": [
                    [
                      "Device1"
                    ],
                    [
                      "Device1"
                    ],
                    [
                      "Device1"
                    ],
                    [
                      "Device1"
                    ],
                    [
                      "Device1"
                    ],
                    [
                      "Device1"
                    ],
                    [
                      "Device1"
                    ],
                    [
                      "Device1"
                    ],
                    [
                      "Device1"
                    ],
                    [
                      "Device1"
                    ],
                    [
                      "Device1"
                    ],
                    [
                      "Device1"
                    ],
                    [
                      "Device1"
                    ],
                    [
                      "Device1"
                    ],
                    [
                      "Device1"
                    ],
                    [
                      "Device1"
                    ],
                    [
                      "Device1"
                    ],
                    [
                      "Device1"
                    ],
                    [
                      "Device1"
                    ],
                    [
                      "Device1"
                    ],
                    [
                      "Device1"
                    ],
                    [
                      "Device1"
                    ],
                    [
                      "Device1"
                    ],
                    [
                      "Device1"
                    ],
                    [
                      "Device1"
                    ],
                    [
                      "Device1"
                    ],
                    [
                      "Device1"
                    ],
                    [
                      "Device1"
                    ],
                    [
                      "Device1"
                    ],
                    [
                      "Device1"
                    ],
                    [
                      "Device1"
                    ],
                    [
                      "Device1"
                    ],
                    [
                      "Device1"
                    ],
                    [
                      "Device1"
                    ],
                    [
                      "Device1"
                    ],
                    [
                      "Device1"
                    ],
                    [
                      "Device1"
                    ],
                    [
                      "Device1"
                    ],
                    [
                      "Device1"
                    ],
                    [
                      "Device1"
                    ],
                    [
                      "Device1"
                    ],
                    [
                      "Device1"
                    ],
                    [
                      "Device1"
                    ],
                    [
                      "Device1"
                    ],
                    [
                      "Device1"
                    ],
                    [
                      "Device1"
                    ],
                    [
                      "Device1"
                    ],
                    [
                      "Device1"
                    ],
                    [
                      "Device1"
                    ],
                    [
                      "Device1"
                    ],
                    [
                      "Device1"
                    ],
                    [
                      "Device1"
                    ],
                    [
                      "Device1"
                    ],
                    [
                      "Device1"
                    ],
                    [
                      "Device1"
                    ],
                    [
                      "Device1"
                    ],
                    [
                      "Device1"
                    ],
                    [
                      "Device1"
                    ],
                    [
                      "Device1"
                    ],
                    [
                      "Device1"
                    ],
                    [
                      "Device1"
                    ],
                    [
                      "Device1"
                    ],
                    [
                      "Device1"
                    ],
                    [
                      "Device1"
                    ],
                    [
                      "Device1"
                    ],
                    [
                      "Device1"
                    ],
                    [
                      "Device1"
                    ],
                    [
                      "Device1"
                    ],
                    [
                      "Device1"
                    ],
                    [
                      "Device1"
                    ],
                    [
                      "Device1"
                    ],
                    [
                      "Device1"
                    ],
                    [
                      "Device1"
                    ],
                    [
                      "Device1"
                    ],
                    [
                      "Device1"
                    ],
                    [
                      "Device1"
                    ],
                    [
                      "Device1"
                    ],
                    [
                      "Device1"
                    ],
                    [
                      "Device1"
                    ],
                    [
                      "Device1"
                    ],
                    [
                      "Device1"
                    ],
                    [
                      "Device1"
                    ],
                    [
                      "Device1"
                    ],
                    [
                      "Device1"
                    ],
                    [
                      "Device1"
                    ],
                    [
                      "Device1"
                    ],
                    [
                      "Device1"
                    ],
                    [
                      "Device1"
                    ],
                    [
                      "Device1"
                    ],
                    [
                      "Device1"
                    ],
                    [
                      "Device1"
                    ],
                    [
                      "Device1"
                    ],
                    [
                      "Device1"
                    ],
                    [
                      "Device1"
                    ],
                    [
                      "Device1"
                    ],
                    [
                      "Device1"
                    ],
                    [
                      "Device1"
                    ],
                    [
                      "Device1"
                    ],
                    [
                      "Device1"
                    ],
                    [
                      "Device1"
                    ],
                    [
                      "Device1"
                    ],
                    [
                      "Device1"
                    ],
                    [
                      "Device1"
                    ],
                    [
                      "Device1"
                    ],
                    [
                      "Device1"
                    ],
                    [
                      "Device1"
                    ],
                    [
                      "Device1"
                    ],
                    [
                      "Device1"
                    ],
                    [
                      "Device1"
                    ],
                    [
                      "Device1"
                    ],
                    [
                      "Device1"
                    ],
                    [
                      "Device1"
                    ],
                    [
                      "Device1"
                    ],
                    [
                      "Device1"
                    ],
                    [
                      "Device1"
                    ],
                    [
                      "Device1"
                    ],
                    [
                      "Device1"
                    ],
                    [
                      "Device1"
                    ],
                    [
                      "Device1"
                    ],
                    [
                      "Device1"
                    ],
                    [
                      "Device1"
                    ],
                    [
                      "Device1"
                    ],
                    [
                      "Device1"
                    ],
                    [
                      "Device1"
                    ],
                    [
                      "Device1"
                    ],
                    [
                      "Device1"
                    ],
                    [
                      "Device1"
                    ],
                    [
                      "Device1"
                    ],
                    [
                      "Device1"
                    ],
                    [
                      "Device1"
                    ],
                    [
                      "Device1"
                    ],
                    [
                      "Device1"
                    ],
                    [
                      "Device1"
                    ],
                    [
                      "Device1"
                    ],
                    [
                      "Device1"
                    ],
                    [
                      "Device1"
                    ],
                    [
                      "Device1"
                    ],
                    [
                      "Device1"
                    ],
                    [
                      "Device1"
                    ],
                    [
                      "Device1"
                    ],
                    [
                      "Device1"
                    ],
                    [
                      "Device1"
                    ],
                    [
                      "Device1"
                    ],
                    [
                      "Device1"
                    ],
                    [
                      "Device1"
                    ],
                    [
                      "Device1"
                    ],
                    [
                      "Device1"
                    ],
                    [
                      "Device1"
                    ],
                    [
                      "Device1"
                    ],
                    [
                      "Device1"
                    ],
                    [
                      "Device1"
                    ],
                    [
                      "Device1"
                    ],
                    [
                      "Device1"
                    ],
                    [
                      "Device1"
                    ],
                    [
                      "Device1"
                    ],
                    [
                      "Device1"
                    ],
                    [
                      "Device1"
                    ],
                    [
                      "Device1"
                    ],
                    [
                      "Device1"
                    ],
                    [
                      "Device1"
                    ],
                    [
                      "Device1"
                    ],
                    [
                      "Device1"
                    ],
                    [
                      "Device1"
                    ],
                    [
                      "Device1"
                    ],
                    [
                      "Device1"
                    ],
                    [
                      "Device1"
                    ],
                    [
                      "Device1"
                    ],
                    [
                      "Device1"
                    ],
                    [
                      "Device1"
                    ],
                    [
                      "Device1"
                    ],
                    [
                      "Device1"
                    ],
                    [
                      "Device1"
                    ],
                    [
                      "Device1"
                    ],
                    [
                      "Device1"
                    ],
                    [
                      "Device1"
                    ],
                    [
                      "Device1"
                    ],
                    [
                      "Device1"
                    ],
                    [
                      "Device1"
                    ],
                    [
                      "Device1"
                    ],
                    [
                      "Device1"
                    ],
                    [
                      "Device1"
                    ],
                    [
                      "Device1"
                    ],
                    [
                      "Device1"
                    ],
                    [
                      "Device1"
                    ],
                    [
                      "Device1"
                    ],
                    [
                      "Device1"
                    ],
                    [
                      "Device1"
                    ],
                    [
                      "Device1"
                    ],
                    [
                      "Device1"
                    ],
                    [
                      "Device1"
                    ],
                    [
                      "Device1"
                    ],
                    [
                      "Device1"
                    ],
                    [
                      "Device1"
                    ],
                    [
                      "Device1"
                    ],
                    [
                      "Device1"
                    ],
                    [
                      "Device1"
                    ],
                    [
                      "Device1"
                    ],
                    [
                      "Device1"
                    ],
                    [
                      "Device1"
                    ],
                    [
                      "Device1"
                    ],
                    [
                      "Device1"
                    ],
                    [
                      "Device1"
                    ],
                    [
                      "Device1"
                    ],
                    [
                      "Device1"
                    ],
                    [
                      "Device1"
                    ],
                    [
                      "Device1"
                    ],
                    [
                      "Device1"
                    ],
                    [
                      "Device1"
                    ],
                    [
                      "Device1"
                    ],
                    [
                      "Device1"
                    ],
                    [
                      "Device1"
                    ],
                    [
                      "Device1"
                    ],
                    [
                      "Device1"
                    ],
                    [
                      "Device1"
                    ],
                    [
                      "Device1"
                    ],
                    [
                      "Device1"
                    ],
                    [
                      "Device1"
                    ],
                    [
                      "Device1"
                    ],
                    [
                      "Device1"
                    ],
                    [
                      "Device1"
                    ],
                    [
                      "Device1"
                    ],
                    [
                      "Device1"
                    ],
                    [
                      "Device1"
                    ],
                    [
                      "Device1"
                    ],
                    [
                      "Device1"
                    ],
                    [
                      "Device1"
                    ],
                    [
                      "Device1"
                    ],
                    [
                      "Device1"
                    ],
                    [
                      "Device1"
                    ],
                    [
                      "Device1"
                    ],
                    [
                      "Device1"
                    ],
                    [
                      "Device1"
                    ],
                    [
                      "Device1"
                    ],
                    [
                      "Device1"
                    ],
                    [
                      "Device1"
                    ],
                    [
                      "Device1"
                    ],
                    [
                      "Device1"
                    ],
                    [
                      "Device1"
                    ],
                    [
                      "Device1"
                    ],
                    [
                      "Device1"
                    ],
                    [
                      "Device1"
                    ],
                    [
                      "Device1"
                    ],
                    [
                      "Device1"
                    ],
                    [
                      "Device1"
                    ],
                    [
                      "Device1"
                    ],
                    [
                      "Device1"
                    ],
                    [
                      "Device1"
                    ],
                    [
                      "Device1"
                    ],
                    [
                      "Device1"
                    ],
                    [
                      "Device1"
                    ],
                    [
                      "Device1"
                    ],
                    [
                      "Device1"
                    ],
                    [
                      "Device1"
                    ],
                    [
                      "Device1"
                    ],
                    [
                      "Device1"
                    ],
                    [
                      "Device1"
                    ]
                  ],
                  "hovertemplate": "Device=%{customdata[0]}<br>Scan=%{x}<br>Non-linearity Score=%{y}<extra></extra>",
                  "legendgroup": "Device1",
                  "marker": {
                    "color": "#636efa",
                    "size": 8,
                    "symbol": "circle"
                  },
                  "mode": "markers",
                  "name": "Device1",
                  "orientation": "v",
                  "showlegend": true,
                  "type": "scatter",
                  "x": [
                    "Scan420",
                    "Scan421",
                    "Scan422",
                    "Scan423",
                    "Scan424",
                    "Scan425",
                    "Scan426",
                    "Scan427",
                    "Scan428",
                    "Scan429",
                    "Scan430",
                    "Scan431",
                    "Scan432",
                    "Scan433",
                    "Scan434",
                    "Scan435",
                    "Scan436",
                    "Scan437",
                    "Scan438",
                    "Scan439",
                    "Scan440",
                    "Scan441",
                    "Scan442",
                    "Scan443",
                    "Scan444",
                    "Scan445",
                    "Scan446",
                    "Scan447",
                    "Scan448",
                    "Scan449",
                    "Scan450",
                    "Scan451",
                    "Scan452",
                    "Scan453",
                    "Scan454",
                    "Scan455",
                    "Scan456",
                    "Scan457",
                    "Scan458",
                    "Scan459",
                    "Scan460",
                    "Scan461",
                    "Scan462",
                    "Scan463",
                    "Scan464",
                    "Scan465",
                    "Scan466",
                    "Scan467",
                    "Scan468",
                    "Scan469",
                    "Scan470",
                    "Scan471",
                    "Scan472",
                    "Scan473",
                    "Scan474",
                    "Scan475",
                    "Scan476",
                    "Scan477",
                    "Scan478",
                    "Scan479",
                    "Scan480",
                    "Scan481",
                    "Scan482",
                    "Scan483",
                    "Scan484",
                    "Scan485",
                    "Scan486",
                    "Scan487",
                    "Scan488",
                    "Scan489",
                    "Scan490",
                    "Scan491",
                    "Scan492",
                    "Scan493",
                    "Scan494",
                    "Scan495",
                    "Scan496",
                    "Scan497",
                    "Scan498",
                    "Scan499",
                    "Scan500",
                    "Scan501",
                    "Scan502",
                    "Scan503",
                    "Scan504",
                    "Scan505",
                    "Scan506",
                    "Scan507",
                    "Scan508",
                    "Scan509",
                    "Scan510",
                    "Scan511",
                    "Scan512",
                    "Scan513",
                    "Scan514",
                    "Scan515",
                    "Scan516",
                    "Scan517",
                    "Scan518",
                    "Scan519",
                    "Scan520",
                    "Scan521",
                    "Scan522",
                    "Scan523",
                    "Scan524",
                    "Scan525",
                    "Scan526",
                    "Scan527",
                    "Scan528",
                    "Scan529",
                    "Scan530",
                    "Scan531",
                    "Scan532",
                    "Scan533",
                    "Scan534",
                    "Scan535",
                    "Scan536",
                    "Scan537",
                    "Scan538",
                    "Scan539",
                    "Scan540",
                    "Scan541",
                    "Scan542",
                    "Scan543",
                    "Scan544",
                    "Scan545",
                    "Scan546",
                    "Scan547",
                    "Scan548",
                    "Scan549",
                    "Scan550",
                    "Scan551",
                    "Scan552",
                    "Scan553",
                    "Scan554",
                    "Scan555",
                    "Scan556",
                    "Scan557",
                    "Scan558",
                    "Scan559",
                    "Scan560",
                    "Scan561",
                    "Scan562",
                    "Scan563",
                    "Scan564",
                    "Scan565",
                    "Scan566",
                    "Scan567",
                    "Scan568",
                    "Scan569",
                    "Scan570",
                    "Scan571",
                    "Scan572",
                    "Scan573",
                    "Scan574",
                    "Scan575",
                    "Scan576",
                    "Scan577",
                    "Scan578",
                    "Scan579",
                    "Scan580",
                    "Scan581",
                    "Scan582",
                    "Scan583",
                    "Scan584",
                    "Scan585",
                    "Scan586",
                    "Scan587",
                    "Scan588",
                    "Scan589",
                    "Scan590",
                    "Scan591",
                    "Scan592",
                    "Scan593",
                    "Scan594",
                    "Scan595",
                    "Scan596",
                    "Scan597",
                    "Scan598",
                    "Scan599",
                    "Scan600",
                    "Scan601",
                    "Scan602",
                    "Scan603",
                    "Scan604",
                    "Scan605",
                    "Scan606",
                    "Scan607",
                    "Scan608",
                    "Scan609",
                    "Scan610",
                    "Scan611",
                    "Scan612",
                    "Scan613",
                    "Scan614",
                    "Scan616",
                    "Scan617",
                    "Scan618",
                    "Scan619",
                    "Scan620",
                    "Scan621",
                    "Scan622",
                    "Scan623",
                    "Scan624",
                    "Scan625",
                    "Scan626",
                    "Scan627",
                    "Scan628",
                    "Scan629",
                    "Scan630",
                    "Scan631",
                    "Scan632",
                    "Scan633",
                    "Scan634",
                    "Scan635",
                    "Scan636",
                    "Scan637",
                    "Scan638",
                    "Scan639",
                    "Scan640",
                    "Scan641",
                    "Scan642",
                    "Scan643",
                    "Scan645",
                    "Scan646",
                    "Scan647",
                    "Scan648",
                    "Scan649",
                    "Scan650",
                    "Scan651",
                    "Scan652",
                    "Scan653",
                    "Scan654",
                    "Scan655",
                    "Scan656",
                    "Scan657",
                    "Scan658",
                    "Scan659",
                    "Scan660",
                    "Scan661",
                    "Scan662",
                    "Scan663",
                    "Scan664",
                    "Scan665",
                    "Scan666",
                    "Scan667",
                    "Scan668",
                    "Scan669",
                    "Scan670",
                    "Scan671",
                    "Scan672",
                    "Scan673",
                    "Scan674",
                    "Scan675",
                    "Scan676",
                    "Scan677"
                  ],
                  "xaxis": "x",
                  "y": [
                    0.35233160621761656,
                    0.2014388489208633,
                    0.3756476683937824,
                    0.908753709198813,
                    0.3695090439276486,
                    0.3711340206185567,
                    0.3342245989304813,
                    0.3723958333333333,
                    0.3734015345268542,
                    0.30057803468208094,
                    0.36528497409326427,
                    0.30057803468208094,
                    0.6409691629955947,
                    0.36363636363636365,
                    0.36787564766839376,
                    0.9497774418409339,
                    0.37823834196891193,
                    0.36528497409326427,
                    0.3756476683937824,
                    0.2968299711815562,
                    0.37402597402597404,
                    0.3756476683937824,
                    0.9744276290259992,
                    0.3450134770889488,
                    0.37402597402597404,
                    0.3791348600508906,
                    0.37467700258397935,
                    0.9488432113558853,
                    0.36787564766839376,
                    0.3723958333333333,
                    0.6653225806451613,
                    0.34048257372654156,
                    0.3612565445026178,
                    0.37402597402597404,
                    0.22039473684210525,
                    0.36787564766839376,
                    0.2247557003257329,
                    0.3756476683937824,
                    0.35340314136125656,
                    0.2521489971346705,
                    0.6814044213263979,
                    0.37402597402597404,
                    0.3723958333333333,
                    0.34656084656084657,
                    0.3756476683937824,
                    0.3025936599423631,
                    0.38046272493573263,
                    0.3695090439276486,
                    0.3412698412698413,
                    0.3450134770889488,
                    0.38046272493573263,
                    0.9546630667116661,
                    0.36787564766839376,
                    0.34048257372654156,
                    0.3711340206185567,
                    0.3387096774193548,
                    0.3695090439276486,
                    0.36855670103092786,
                    0.3711340206185567,
                    0.37402597402597404,
                    0.9533276931754089,
                    0.12167300380228137,
                    0.37142857142857144,
                    0.3723958333333333,
                    0.36787564766839376,
                    0.3695090439276486,
                    0.37084398976982097,
                    0.36787564766839376,
                    0.35038363171355497,
                    0.36578947368421055,
                    0.36787564766839376,
                    0.36578947368421055,
                    0.34048257372654156,
                    0.18272425249169436,
                    0.3450134770889488,
                    0.37402597402597404,
                    0.3723958333333333,
                    0.3681462140992167,
                    0.37532133676092544,
                    0.36855670103092786,
                    0.9533013544018059,
                    0.8424124513618677,
                    0.37404580152671757,
                    0.37402597402597404,
                    0.36787564766839376,
                    0.2251655629139073,
                    0.21453287197231835,
                    0.3676092544987147,
                    0.9494263018534863,
                    0.34048257372654156,
                    0.34048257372654156,
                    0.3695090439276486,
                    0.3711340206185567,
                    0.3695090439276486,
                    0.6805736636245111,
                    0.21710526315789475,
                    0.37402597402597404,
                    0.37305699481865284,
                    0.37402597402597404,
                    0.37402597402597404,
                    0.37402597402597404,
                    0.37402597402597404,
                    0.3723958333333333,
                    0.3711340206185567,
                    0.37662337662337664,
                    0.37595907928388744,
                    0.22006472491909385,
                    0.9634335524857797,
                    0.3695090439276486,
                    0.22727272727272727,
                    0.3695090439276486,
                    0.3695090439276486,
                    0.34210526315789475,
                    0.34048257372654156,
                    0.3711340206185567,
                    0.37402597402597404,
                    0.3723958333333333,
                    0.3756476683937824,
                    0.3711340206185567,
                    0.36883116883116884,
                    0.336,
                    0.7840909090909091,
                    0.3450134770889488,
                    0.1282051282051282,
                    0.37402597402597404,
                    0.37402597402597404,
                    0.9497774418409339,
                    0.3612565445026178,
                    0.36787564766839376,
                    0.7716105550500455,
                    0.3756476683937824,
                    0.8386675375571522,
                    0.37402597402597404,
                    0.35509138381201044,
                    0.3756476683937824,
                    0.3723958333333333,
                    0.22875816993464052,
                    0.37402597402597404,
                    0.3723958333333333,
                    0.8307794803464357,
                    0.21052631578947367,
                    0.344,
                    0.36787564766839376,
                    0.22295081967213115,
                    0.3387096774193548,
                    0.3641025641025641,
                    0.36363636363636365,
                    0.22402597402597402,
                    0.3695090439276486,
                    0.3695090439276486,
                    0.3695090439276486,
                    0.30057803468208094,
                    0.3711340206185567,
                    0.3695090439276486,
                    0.30057803468208094,
                    0.3723958333333333,
                    0.3629242819843342,
                    0.3695090439276486,
                    0.645021645021645,
                    0.9546799649276633,
                    0.9512928931533583,
                    0.24324324324324326,
                    0.3695090439276486,
                    0.22772277227722773,
                    0.20921985815602837,
                    0.2985507246376812,
                    0.37628865979381443,
                    0.3695090439276486,
                    0.37275064267352187,
                    0.36528497409326427,
                    0.3412698412698413,
                    0.3695090439276486,
                    0.3723958333333333,
                    0.36578947368421055,
                    0.3723958333333333,
                    0.23202614379084968,
                    0.37402597402597404,
                    0.3697916666666667,
                    0.7787456445993032,
                    0.34324324324324323,
                    0.9566557624559637,
                    0.9492242595204513,
                    0.36623376623376624,
                    0.9599664991624791,
                    0.35509138381201044,
                    0.36528497409326427,
                    0.36623376623376624,
                    0.3772609819121447,
                    0.3612565445026178,
                    0.3695090439276486,
                    0.3629242819843342,
                    0.34324324324324323,
                    0.36787564766839376,
                    0.23100303951367782,
                    0.3695090439276486,
                    0.3695090439276486,
                    0.370757180156658,
                    0.37402597402597404,
                    0.37823834196891193,
                    0.37305699481865284,
                    0.3723958333333333,
                    0.37402597402597404,
                    0.344,
                    0.30057803468208094,
                    0.37402597402597404,
                    0.37402597402597404,
                    0.7894736842105263,
                    0.3695090439276486,
                    0.9542376359532115,
                    0.3612565445026178,
                    0.3695090439276486,
                    0.36855670103092786,
                    0.36787564766839376,
                    0.36787564766839376,
                    0.3631713554987212,
                    0.3489583333333333,
                    0.344,
                    0.37371134020618557,
                    0.336,
                    0.33692722371967654,
                    0.3723958333333333,
                    0.2251655629139073,
                    0.37402597402597404,
                    0.24096385542168675,
                    0.3723958333333333,
                    0.3697916666666667,
                    0.37402597402597404,
                    0.36578947368421055,
                    0.3697916666666667,
                    0.2985507246376812,
                    0.3450134770889488,
                    0.2125,
                    0.36528497409326427,
                    0.9529420708529724,
                    0.36787564766839376,
                    0.3669250645994832,
                    0.37532133676092544,
                    0.3395225464190981,
                    0.37275064267352187,
                    0.3669250645994832,
                    0.3695090439276486,
                    0.36787564766839376,
                    0.36787564766839376,
                    0.37305699481865284,
                    0.3695090439276486,
                    0.3450134770889488,
                    0.20921985815602837,
                    0.3697916666666667,
                    0.3723958333333333,
                    0.37371134020618557,
                    0.30057803468208094,
                    0.3717948717948718,
                    0.958976157082749,
                    0.9781490205802132,
                    0.34048257372654156,
                    0.3489583333333333
                  ],
                  "yaxis": "y"
                },
                {
                  "customdata": [
                    [
                      "Device10"
                    ]
                  ],
                  "hovertemplate": "Device=%{customdata[0]}<br>Scan=%{x}<br>Non-linearity Score=%{y}<extra></extra>",
                  "legendgroup": "Device10",
                  "marker": {
                    "color": "#EF553B",
                    "size": 8,
                    "symbol": "circle"
                  },
                  "mode": "markers",
                  "name": "Device10",
                  "orientation": "v",
                  "showlegend": true,
                  "type": "scatter",
                  "x": [
                    "Scan12"
                  ],
                  "xaxis": "x",
                  "y": [
                    0.6845753899480069
                  ],
                  "yaxis": "y"
                },
                {
                  "customdata": [
                    [
                      "Device17"
                    ]
                  ],
                  "hovertemplate": "Device=%{customdata[0]}<br>Scan=%{x}<br>Non-linearity Score=%{y}<extra></extra>",
                  "legendgroup": "Device17",
                  "marker": {
                    "color": "#00cc96",
                    "size": 8,
                    "symbol": "circle"
                  },
                  "mode": "markers",
                  "name": "Device17",
                  "orientation": "v",
                  "showlegend": true,
                  "type": "scatter",
                  "x": [
                    "Scan844"
                  ],
                  "xaxis": "x",
                  "y": [
                    0.6798561151079137
                  ],
                  "yaxis": "y"
                },
                {
                  "customdata": [
                    [
                      "Device20"
                    ],
                    [
                      "Device20"
                    ],
                    [
                      "Device20"
                    ],
                    [
                      "Device20"
                    ],
                    [
                      "Device20"
                    ],
                    [
                      "Device20"
                    ],
                    [
                      "Device20"
                    ],
                    [
                      "Device20"
                    ],
                    [
                      "Device20"
                    ],
                    [
                      "Device20"
                    ],
                    [
                      "Device20"
                    ]
                  ],
                  "hovertemplate": "Device=%{customdata[0]}<br>Scan=%{x}<br>Non-linearity Score=%{y}<extra></extra>",
                  "legendgroup": "Device20",
                  "marker": {
                    "color": "#ab63fa",
                    "size": 8,
                    "symbol": "circle"
                  },
                  "mode": "markers",
                  "name": "Device20",
                  "orientation": "v",
                  "showlegend": true,
                  "type": "scatter",
                  "x": [
                    "Scan54",
                    "Scan55",
                    "Scan56",
                    "Scan60",
                    "Scan61",
                    "Scan62",
                    "Scan63",
                    "Scan64",
                    "Scan69",
                    "Scan70",
                    "Scan71"
                  ],
                  "xaxis": "x",
                  "y": [
                    0.1037037037037037,
                    0.5773294908741594,
                    0.07407407407407407,
                    0.10152284263959391,
                    0.2744807121661721,
                    0.10106382978723404,
                    0.09921671018276762,
                    0.9065876974231089,
                    0.07267441860465117,
                    0.5773294908741594,
                    0.14741035856573706
                  ],
                  "yaxis": "y"
                },
                {
                  "customdata": [
                    [
                      "Device33"
                    ]
                  ],
                  "hovertemplate": "Device=%{customdata[0]}<br>Scan=%{x}<br>Non-linearity Score=%{y}<extra></extra>",
                  "legendgroup": "Device33",
                  "marker": {
                    "color": "#FFA15A",
                    "size": 8,
                    "symbol": "circle"
                  },
                  "mode": "markers",
                  "name": "Device33",
                  "orientation": "v",
                  "showlegend": true,
                  "type": "scatter",
                  "x": [
                    "Scan120"
                  ],
                  "xaxis": "x",
                  "y": [
                    0.8648194794290512
                  ],
                  "yaxis": "y"
                },
                {
                  "customdata": [
                    [
                      "Device34"
                    ],
                    [
                      "Device34"
                    ],
                    [
                      "Device34"
                    ],
                    [
                      "Device34"
                    ],
                    [
                      "Device34"
                    ],
                    [
                      "Device34"
                    ],
                    [
                      "Device34"
                    ],
                    [
                      "Device34"
                    ],
                    [
                      "Device34"
                    ],
                    [
                      "Device34"
                    ],
                    [
                      "Device34"
                    ],
                    [
                      "Device34"
                    ],
                    [
                      "Device34"
                    ],
                    [
                      "Device34"
                    ],
                    [
                      "Device34"
                    ]
                  ],
                  "hovertemplate": "Device=%{customdata[0]}<br>Scan=%{x}<br>Non-linearity Score=%{y}<extra></extra>",
                  "legendgroup": "Device34",
                  "marker": {
                    "color": "#19d3f3",
                    "size": 8,
                    "symbol": "circle"
                  },
                  "mode": "markers",
                  "name": "Device34",
                  "orientation": "v",
                  "showlegend": true,
                  "type": "scatter",
                  "x": [
                    "Scan131",
                    "Scan132",
                    "Scan134",
                    "Scan135",
                    "Scan136",
                    "Scan138",
                    "Scan139",
                    "Scan140",
                    "Scan142",
                    "Scan143",
                    "Scan144",
                    "Scan146",
                    "Scan46",
                    "Scan48",
                    "Scan50"
                  ],
                  "xaxis": "x",
                  "y": [
                    0.25787965616045844,
                    0.936475127463139,
                    0.8818076477404403,
                    0.2727272727272727,
                    0.1992110453648915,
                    0.20039292730844793,
                    0.8551483420593369,
                    0.24126455906821964,
                    0.2672413793103448,
                    0.7148936170212766,
                    0.06060606060606061,
                    0.24647887323943662,
                    0.34065934065934067,
                    0.9288389513108615,
                    0.34186471663619744
                  ],
                  "yaxis": "y"
                },
                {
                  "customdata": [
                    [
                      "Device35"
                    ],
                    [
                      "Device35"
                    ],
                    [
                      "Device35"
                    ],
                    [
                      "Device35"
                    ]
                  ],
                  "hovertemplate": "Device=%{customdata[0]}<br>Scan=%{x}<br>Non-linearity Score=%{y}<extra></extra>",
                  "legendgroup": "Device35",
                  "marker": {
                    "color": "#FF6692",
                    "size": 8,
                    "symbol": "circle"
                  },
                  "mode": "markers",
                  "name": "Device35",
                  "orientation": "v",
                  "showlegend": true,
                  "type": "scatter",
                  "x": [
                    "Scan147",
                    "Scan148",
                    "Scan150",
                    "Scan678"
                  ],
                  "xaxis": "x",
                  "y": [
                    0.866524923222301,
                    0.9388909291222916,
                    0.09183673469387756,
                    0.936634188374097
                  ],
                  "yaxis": "y"
                },
                {
                  "customdata": [
                    [
                      "Device36"
                    ],
                    [
                      "Device36"
                    ],
                    [
                      "Device36"
                    ],
                    [
                      "Device36"
                    ],
                    [
                      "Device36"
                    ],
                    [
                      "Device36"
                    ],
                    [
                      "Device36"
                    ],
                    [
                      "Device36"
                    ],
                    [
                      "Device36"
                    ],
                    [
                      "Device36"
                    ],
                    [
                      "Device36"
                    ],
                    [
                      "Device36"
                    ],
                    [
                      "Device36"
                    ],
                    [
                      "Device36"
                    ]
                  ],
                  "hovertemplate": "Device=%{customdata[0]}<br>Scan=%{x}<br>Non-linearity Score=%{y}<extra></extra>",
                  "legendgroup": "Device36",
                  "marker": {
                    "color": "#B6E880",
                    "size": 8,
                    "symbol": "circle"
                  },
                  "mode": "markers",
                  "name": "Device36",
                  "orientation": "v",
                  "showlegend": true,
                  "type": "scatter",
                  "x": [
                    "Scan149",
                    "Scan151",
                    "Scan152",
                    "Scan153",
                    "Scan154",
                    "Scan155",
                    "Scan156",
                    "Scan157",
                    "Scan158",
                    "Scan159",
                    "Scan160",
                    "Scan161",
                    "Scan162",
                    "Scan163"
                  ],
                  "xaxis": "x",
                  "y": [
                    0.9330791861766047,
                    0.8245810055865922,
                    0.9336778639104221,
                    0.8046153846153846,
                    0.9672835026608612,
                    0.8911872441284207,
                    0.8928706148623161,
                    0.6354088522130532,
                    0.8192005976839746,
                    0.8094178717093067,
                    0.6397003745318353,
                    0.931681848478116,
                    0.9555324555324556,
                    0.8112509252405625
                  ],
                  "yaxis": "y"
                },
                {
                  "customdata": [
                    [
                      "Device37"
                    ],
                    [
                      "Device37"
                    ],
                    [
                      "Device37"
                    ],
                    [
                      "Device37"
                    ],
                    [
                      "Device37"
                    ],
                    [
                      "Device37"
                    ],
                    [
                      "Device37"
                    ],
                    [
                      "Device37"
                    ],
                    [
                      "Device37"
                    ],
                    [
                      "Device37"
                    ],
                    [
                      "Device37"
                    ],
                    [
                      "Device37"
                    ],
                    [
                      "Device37"
                    ],
                    [
                      "Device37"
                    ],
                    [
                      "Device37"
                    ],
                    [
                      "Device37"
                    ],
                    [
                      "Device37"
                    ],
                    [
                      "Device37"
                    ],
                    [
                      "Device37"
                    ],
                    [
                      "Device37"
                    ],
                    [
                      "Device37"
                    ],
                    [
                      "Device37"
                    ],
                    [
                      "Device37"
                    ],
                    [
                      "Device37"
                    ],
                    [
                      "Device37"
                    ],
                    [
                      "Device37"
                    ],
                    [
                      "Device37"
                    ],
                    [
                      "Device37"
                    ],
                    [
                      "Device37"
                    ],
                    [
                      "Device37"
                    ],
                    [
                      "Device37"
                    ],
                    [
                      "Device37"
                    ],
                    [
                      "Device37"
                    ],
                    [
                      "Device37"
                    ],
                    [
                      "Device37"
                    ],
                    [
                      "Device37"
                    ],
                    [
                      "Device37"
                    ],
                    [
                      "Device37"
                    ],
                    [
                      "Device37"
                    ],
                    [
                      "Device37"
                    ],
                    [
                      "Device37"
                    ],
                    [
                      "Device37"
                    ],
                    [
                      "Device37"
                    ],
                    [
                      "Device37"
                    ],
                    [
                      "Device37"
                    ],
                    [
                      "Device37"
                    ],
                    [
                      "Device37"
                    ],
                    [
                      "Device37"
                    ],
                    [
                      "Device37"
                    ],
                    [
                      "Device37"
                    ],
                    [
                      "Device37"
                    ],
                    [
                      "Device37"
                    ],
                    [
                      "Device37"
                    ],
                    [
                      "Device37"
                    ],
                    [
                      "Device37"
                    ],
                    [
                      "Device37"
                    ],
                    [
                      "Device37"
                    ],
                    [
                      "Device37"
                    ],
                    [
                      "Device37"
                    ],
                    [
                      "Device37"
                    ],
                    [
                      "Device37"
                    ],
                    [
                      "Device37"
                    ],
                    [
                      "Device37"
                    ],
                    [
                      "Device37"
                    ],
                    [
                      "Device37"
                    ],
                    [
                      "Device37"
                    ],
                    [
                      "Device37"
                    ],
                    [
                      "Device37"
                    ],
                    [
                      "Device37"
                    ],
                    [
                      "Device37"
                    ],
                    [
                      "Device37"
                    ],
                    [
                      "Device37"
                    ],
                    [
                      "Device37"
                    ],
                    [
                      "Device37"
                    ],
                    [
                      "Device37"
                    ],
                    [
                      "Device37"
                    ],
                    [
                      "Device37"
                    ],
                    [
                      "Device37"
                    ],
                    [
                      "Device37"
                    ],
                    [
                      "Device37"
                    ],
                    [
                      "Device37"
                    ],
                    [
                      "Device37"
                    ],
                    [
                      "Device37"
                    ],
                    [
                      "Device37"
                    ],
                    [
                      "Device37"
                    ],
                    [
                      "Device37"
                    ],
                    [
                      "Device37"
                    ],
                    [
                      "Device37"
                    ],
                    [
                      "Device37"
                    ],
                    [
                      "Device37"
                    ],
                    [
                      "Device37"
                    ],
                    [
                      "Device37"
                    ],
                    [
                      "Device37"
                    ],
                    [
                      "Device37"
                    ],
                    [
                      "Device37"
                    ],
                    [
                      "Device37"
                    ],
                    [
                      "Device37"
                    ],
                    [
                      "Device37"
                    ],
                    [
                      "Device37"
                    ],
                    [
                      "Device37"
                    ],
                    [
                      "Device37"
                    ],
                    [
                      "Device37"
                    ],
                    [
                      "Device37"
                    ],
                    [
                      "Device37"
                    ],
                    [
                      "Device37"
                    ],
                    [
                      "Device37"
                    ],
                    [
                      "Device37"
                    ],
                    [
                      "Device37"
                    ],
                    [
                      "Device37"
                    ],
                    [
                      "Device37"
                    ],
                    [
                      "Device37"
                    ],
                    [
                      "Device37"
                    ],
                    [
                      "Device37"
                    ],
                    [
                      "Device37"
                    ],
                    [
                      "Device37"
                    ],
                    [
                      "Device37"
                    ],
                    [
                      "Device37"
                    ],
                    [
                      "Device37"
                    ],
                    [
                      "Device37"
                    ],
                    [
                      "Device37"
                    ],
                    [
                      "Device37"
                    ],
                    [
                      "Device37"
                    ],
                    [
                      "Device37"
                    ],
                    [
                      "Device37"
                    ]
                  ],
                  "hovertemplate": "Device=%{customdata[0]}<br>Scan=%{x}<br>Non-linearity Score=%{y}<extra></extra>",
                  "legendgroup": "Device37",
                  "marker": {
                    "color": "#FF97FF",
                    "size": 8,
                    "symbol": "circle"
                  },
                  "mode": "markers",
                  "name": "Device37",
                  "orientation": "v",
                  "showlegend": true,
                  "type": "scatter",
                  "x": [
                    "Scan679",
                    "Scan680",
                    "Scan681",
                    "Scan682",
                    "Scan683",
                    "Scan684",
                    "Scan685",
                    "Scan686",
                    "Scan687",
                    "Scan688",
                    "Scan689",
                    "Scan690",
                    "Scan691",
                    "Scan692",
                    "Scan693",
                    "Scan694",
                    "Scan695",
                    "Scan696",
                    "Scan697",
                    "Scan698",
                    "Scan699",
                    "Scan700",
                    "Scan701",
                    "Scan702",
                    "Scan703",
                    "Scan704",
                    "Scan705",
                    "Scan706",
                    "Scan707",
                    "Scan708",
                    "Scan709",
                    "Scan710",
                    "Scan711",
                    "Scan712",
                    "Scan713",
                    "Scan714",
                    "Scan715",
                    "Scan716",
                    "Scan717",
                    "Scan718",
                    "Scan719",
                    "Scan720",
                    "Scan721",
                    "Scan725",
                    "Scan726",
                    "Scan727",
                    "Scan728",
                    "Scan729",
                    "Scan730",
                    "Scan731",
                    "Scan732",
                    "Scan733",
                    "Scan734",
                    "Scan735",
                    "Scan736",
                    "Scan737",
                    "Scan738",
                    "Scan739",
                    "Scan740",
                    "Scan741",
                    "Scan742",
                    "Scan743",
                    "Scan744",
                    "Scan745",
                    "Scan746",
                    "Scan747",
                    "Scan748",
                    "Scan749",
                    "Scan750",
                    "Scan751",
                    "Scan752",
                    "Scan753",
                    "Scan754",
                    "Scan755",
                    "Scan756",
                    "Scan757",
                    "Scan758",
                    "Scan759",
                    "Scan760",
                    "Scan761",
                    "Scan762",
                    "Scan763",
                    "Scan764",
                    "Scan765",
                    "Scan766",
                    "Scan767",
                    "Scan768",
                    "Scan769",
                    "Scan770",
                    "Scan771",
                    "Scan772",
                    "Scan773",
                    "Scan774",
                    "Scan775",
                    "Scan776",
                    "Scan777",
                    "Scan778",
                    "Scan779",
                    "Scan780",
                    "Scan781",
                    "Scan782",
                    "Scan783",
                    "Scan784",
                    "Scan785",
                    "Scan786",
                    "Scan787",
                    "Scan788",
                    "Scan789",
                    "Scan790",
                    "Scan791",
                    "Scan792",
                    "Scan793",
                    "Scan794",
                    "Scan795",
                    "Scan796",
                    "Scan797",
                    "Scan798",
                    "Scan799",
                    "Scan800",
                    "Scan801",
                    "Scan802",
                    "Scan803",
                    "Scan804",
                    "Scan805"
                  ],
                  "xaxis": "x",
                  "y": [
                    0.6804511278195489,
                    0.9503407984420643,
                    0.6793168880455408,
                    0.6696914700544465,
                    0.6496062992125984,
                    0.9499912876807807,
                    0.6193078324225865,
                    0.6799242424242424,
                    0.6684782608695652,
                    0.6294227188081937,
                    0.649706457925636,
                    0.6804511278195489,
                    0.6479690522243714,
                    0.6804511278195489,
                    0.8869441816461684,
                    0.6760299625468165,
                    0.6804511278195489,
                    0.6498054474708171,
                    0.569620253164557,
                    0.6696428571428571,
                    0.8058645096056622,
                    0.6195652173913043,
                    0.781799379524302,
                    0.6696914700544465,
                    0.569620253164557,
                    0.6835205992509363,
                    0.9109869646182496,
                    0.6274509803921569,
                    0.6208333333333333,
                    0.6097560975609756,
                    0.6121212121212121,
                    0.6123260437375746,
                    0.945811025900738,
                    0.6204379562043796,
                    0.8400752587017873,
                    0.6835205992509363,
                    0.6228813559322034,
                    0.6247379454926625,
                    0.6224066390041494,
                    0.6485436893203883,
                    0.8201304753028891,
                    0.6829268292682927,
                    0.9272315312467068,
                    0.6804511278195489,
                    0.6829268292682927,
                    0.6265822784810127,
                    0.6805293005671077,
                    0.8089990817263545,
                    0.6766917293233082,
                    0.6167664670658682,
                    0.625,
                    0.6211293260473588,
                    0.6760299625468165,
                    0.6289424860853432,
                    0.6195652173913043,
                    0.6819047619047619,
                    0.6799242424242424,
                    0.6200417536534447,
                    0.6715063520871143,
                    0.6052631578947368,
                    0.6772983114446529,
                    0.6123260437375746,
                    0.603515625,
                    0.6135458167330677,
                    0.6760299625468165,
                    0.6167664670658682,
                    0.6696914700544465,
                    0.6799242424242424,
                    0.6835205992509363,
                    0.6107660455486542,
                    0.62,
                    0.6200417536534447,
                    0.670863309352518,
                    0.6209016393442623,
                    0.8104712041884817,
                    0.9584415584415584,
                    0.605009633911368,
                    0.6790352504638218,
                    0.6255230125523012,
                    0.6123260437375746,
                    0.6696914700544465,
                    0.6193078324225865,
                    0.6696428571428571,
                    0.6244813278008299,
                    0.6167664670658682,
                    0.6211293260473588,
                    0.8081818181818182,
                    0.6804511278195489,
                    0.6198347107438017,
                    0.6696914700544465,
                    0.6207627118644068,
                    0.6802973977695167,
                    0.569620253164557,
                    0.6012269938650306,
                    0.6201716738197425,
                    0.615819209039548,
                    0.6200417536534447,
                    0.6167664670658682,
                    0.5956607495069034,
                    0.6231617647058824,
                    0.6684782608695652,
                    0.8026315789473685,
                    0.6188747731397459,
                    0.6804511278195489,
                    0.6825095057034221,
                    0.6184448462929476,
                    0.6252631578947369,
                    0.8305557594890243,
                    0.8263157894736842,
                    0.6696914700544465,
                    0.6078431372549019,
                    0.6709090909090909,
                    0.6116322701688556,
                    0.649706457925636,
                    0.6184448462929476,
                    0.6247422680412371,
                    0.8224043715846995,
                    0.628731343283582,
                    0.6204379562043796,
                    0.6804511278195489,
                    0.6123260437375746,
                    0.6119402985074627,
                    0.6213389121338913,
                    0.6243093922651933
                  ],
                  "yaxis": "y"
                },
                {
                  "customdata": [
                    [
                      "Device38"
                    ],
                    [
                      "Device38"
                    ],
                    [
                      "Device38"
                    ],
                    [
                      "Device38"
                    ],
                    [
                      "Device38"
                    ],
                    [
                      "Device38"
                    ],
                    [
                      "Device38"
                    ],
                    [
                      "Device38"
                    ],
                    [
                      "Device38"
                    ],
                    [
                      "Device38"
                    ],
                    [
                      "Device38"
                    ],
                    [
                      "Device38"
                    ],
                    [
                      "Device38"
                    ],
                    [
                      "Device38"
                    ],
                    [
                      "Device38"
                    ],
                    [
                      "Device38"
                    ],
                    [
                      "Device38"
                    ],
                    [
                      "Device38"
                    ],
                    [
                      "Device38"
                    ],
                    [
                      "Device38"
                    ],
                    [
                      "Device38"
                    ],
                    [
                      "Device38"
                    ],
                    [
                      "Device38"
                    ],
                    [
                      "Device38"
                    ],
                    [
                      "Device38"
                    ],
                    [
                      "Device38"
                    ],
                    [
                      "Device38"
                    ],
                    [
                      "Device38"
                    ],
                    [
                      "Device38"
                    ],
                    [
                      "Device38"
                    ],
                    [
                      "Device38"
                    ],
                    [
                      "Device38"
                    ],
                    [
                      "Device38"
                    ],
                    [
                      "Device38"
                    ]
                  ],
                  "hovertemplate": "Device=%{customdata[0]}<br>Scan=%{x}<br>Non-linearity Score=%{y}<extra></extra>",
                  "legendgroup": "Device38",
                  "marker": {
                    "color": "#FECB52",
                    "size": 8,
                    "symbol": "circle"
                  },
                  "mode": "markers",
                  "name": "Device38",
                  "orientation": "v",
                  "showlegend": true,
                  "type": "scatter",
                  "x": [
                    "Scan164",
                    "Scan165",
                    "Scan166",
                    "Scan167",
                    "Scan168",
                    "Scan169",
                    "Scan170",
                    "Scan171",
                    "Scan172",
                    "Scan173",
                    "Scan174",
                    "Scan175",
                    "Scan176",
                    "Scan177",
                    "Scan178",
                    "Scan179",
                    "Scan180",
                    "Scan181",
                    "Scan182",
                    "Scan183",
                    "Scan184",
                    "Scan185",
                    "Scan186",
                    "Scan187",
                    "Scan188",
                    "Scan189",
                    "Scan190",
                    "Scan191",
                    "Scan192",
                    "Scan193",
                    "Scan196",
                    "Scan197",
                    "Scan198",
                    "Scan199"
                  ],
                  "xaxis": "x",
                  "y": [
                    0.816017316017316,
                    0.9469055588370414,
                    0.2471264367816092,
                    0.9652897303499713,
                    0.6332288401253918,
                    0.490787269681742,
                    0.490787269681742,
                    0.4857142857142857,
                    0.9488147365242338,
                    0.614329268292683,
                    0.6311239193083573,
                    0.947029497299543,
                    0.6429725363489499,
                    0.9136774086653964,
                    0.9713114754098361,
                    0.4873524451939292,
                    0.4882154882154882,
                    0.6766169154228856,
                    0.8473118279569892,
                    0.6777408637873754,
                    0.917643429981493,
                    0.6226415094339622,
                    0.6311239193083573,
                    0.9422222222222222,
                    0.48653198653198654,
                    0.4361111111111111,
                    0.48743718592964824,
                    0.9839779820120902,
                    0.6329479768786127,
                    0.9599227187159417,
                    0.6238532110091743,
                    0.6311239193083573,
                    0.9041984732824427,
                    0.6423948220064725
                  ],
                  "yaxis": "y"
                },
                {
                  "customdata": [
                    [
                      "Device39"
                    ],
                    [
                      "Device39"
                    ],
                    [
                      "Device39"
                    ],
                    [
                      "Device39"
                    ],
                    [
                      "Device39"
                    ],
                    [
                      "Device39"
                    ],
                    [
                      "Device39"
                    ],
                    [
                      "Device39"
                    ],
                    [
                      "Device39"
                    ],
                    [
                      "Device39"
                    ],
                    [
                      "Device39"
                    ],
                    [
                      "Device39"
                    ],
                    [
                      "Device39"
                    ],
                    [
                      "Device39"
                    ],
                    [
                      "Device39"
                    ],
                    [
                      "Device39"
                    ],
                    [
                      "Device39"
                    ],
                    [
                      "Device39"
                    ],
                    [
                      "Device39"
                    ],
                    [
                      "Device39"
                    ],
                    [
                      "Device39"
                    ],
                    [
                      "Device39"
                    ],
                    [
                      "Device39"
                    ],
                    [
                      "Device39"
                    ],
                    [
                      "Device39"
                    ],
                    [
                      "Device39"
                    ],
                    [
                      "Device39"
                    ],
                    [
                      "Device39"
                    ],
                    [
                      "Device39"
                    ],
                    [
                      "Device39"
                    ],
                    [
                      "Device39"
                    ],
                    [
                      "Device39"
                    ]
                  ],
                  "hovertemplate": "Device=%{customdata[0]}<br>Scan=%{x}<br>Non-linearity Score=%{y}<extra></extra>",
                  "legendgroup": "Device39",
                  "marker": {
                    "color": "#636efa",
                    "size": 8,
                    "symbol": "circle"
                  },
                  "mode": "markers",
                  "name": "Device39",
                  "orientation": "v",
                  "showlegend": true,
                  "type": "scatter",
                  "x": [
                    "Scan194",
                    "Scan195",
                    "Scan200",
                    "Scan201",
                    "Scan202",
                    "Scan203",
                    "Scan204",
                    "Scan205",
                    "Scan206",
                    "Scan207",
                    "Scan208",
                    "Scan209",
                    "Scan210",
                    "Scan211",
                    "Scan212",
                    "Scan213",
                    "Scan214",
                    "Scan215",
                    "Scan216",
                    "Scan217",
                    "Scan218",
                    "Scan219",
                    "Scan220",
                    "Scan221",
                    "Scan222",
                    "Scan223",
                    "Scan225",
                    "Scan226",
                    "Scan227",
                    "Scan228",
                    "Scan229",
                    "Scan230"
                  ],
                  "xaxis": "x",
                  "y": [
                    0.3062330623306233,
                    0.814687714481812,
                    0.09931506849315068,
                    0.24725274725274726,
                    0.8959968602825745,
                    0.1510791366906475,
                    0.27956989247311825,
                    0.7620071684587814,
                    0.9591215019482819,
                    0.7410323709536308,
                    0.811772758384668,
                    0.9476576055523424,
                    0.18181818181818182,
                    0.16161616161616163,
                    0.2684931506849315,
                    0.9724067775058016,
                    0.2684931506849315,
                    0.9432093076834466,
                    0.818924438393465,
                    0.24861878453038674,
                    0.15261044176706828,
                    0.9735461801596351,
                    0.27837837837837837,
                    0.20760233918128654,
                    0.8760726905603231,
                    0.28232189973614774,
                    0.9585068411659726,
                    0.18037974683544303,
                    0.25895316804407714,
                    0.266304347826087,
                    0.9352413498504912,
                    0.3018867924528302
                  ],
                  "yaxis": "y"
                },
                {
                  "customdata": [
                    [
                      "Device40"
                    ],
                    [
                      "Device40"
                    ],
                    [
                      "Device40"
                    ],
                    [
                      "Device40"
                    ],
                    [
                      "Device40"
                    ],
                    [
                      "Device40"
                    ],
                    [
                      "Device40"
                    ],
                    [
                      "Device40"
                    ],
                    [
                      "Device40"
                    ],
                    [
                      "Device40"
                    ],
                    [
                      "Device40"
                    ],
                    [
                      "Device40"
                    ],
                    [
                      "Device40"
                    ],
                    [
                      "Device40"
                    ],
                    [
                      "Device40"
                    ],
                    [
                      "Device40"
                    ],
                    [
                      "Device40"
                    ],
                    [
                      "Device40"
                    ],
                    [
                      "Device40"
                    ],
                    [
                      "Device40"
                    ],
                    [
                      "Device40"
                    ],
                    [
                      "Device40"
                    ],
                    [
                      "Device40"
                    ],
                    [
                      "Device40"
                    ],
                    [
                      "Device40"
                    ],
                    [
                      "Device40"
                    ],
                    [
                      "Device40"
                    ],
                    [
                      "Device40"
                    ],
                    [
                      "Device40"
                    ],
                    [
                      "Device40"
                    ],
                    [
                      "Device40"
                    ],
                    [
                      "Device40"
                    ],
                    [
                      "Device40"
                    ],
                    [
                      "Device40"
                    ],
                    [
                      "Device40"
                    ],
                    [
                      "Device40"
                    ],
                    [
                      "Device40"
                    ]
                  ],
                  "hovertemplate": "Device=%{customdata[0]}<br>Scan=%{x}<br>Non-linearity Score=%{y}<extra></extra>",
                  "legendgroup": "Device40",
                  "marker": {
                    "color": "#EF553B",
                    "size": 8,
                    "symbol": "circle"
                  },
                  "mode": "markers",
                  "name": "Device40",
                  "orientation": "v",
                  "showlegend": true,
                  "type": "scatter",
                  "x": [
                    "Scan806",
                    "Scan807",
                    "Scan808",
                    "Scan809",
                    "Scan810",
                    "Scan811",
                    "Scan812",
                    "Scan813",
                    "Scan814",
                    "Scan815",
                    "Scan816",
                    "Scan817",
                    "Scan818",
                    "Scan819",
                    "Scan820",
                    "Scan821",
                    "Scan822",
                    "Scan823",
                    "Scan824",
                    "Scan825",
                    "Scan826",
                    "Scan827",
                    "Scan828",
                    "Scan829",
                    "Scan830",
                    "Scan831",
                    "Scan832",
                    "Scan833",
                    "Scan834",
                    "Scan835",
                    "Scan836",
                    "Scan837",
                    "Scan838",
                    "Scan839",
                    "Scan840",
                    "Scan841",
                    "Scan842"
                  ],
                  "xaxis": "x",
                  "y": [
                    0.2708333333333333,
                    0.8518195050946142,
                    0.24422442244224424,
                    0.2062937062937063,
                    0.9342906875543951,
                    0.24183006535947713,
                    0.6349924585218703,
                    0.24172185430463577,
                    0.8982125124131083,
                    0.8780743066457353,
                    0.2145214521452145,
                    0.9075646468544963,
                    0.3076923076923077,
                    0.23026315789473684,
                    0.2869822485207101,
                    0.2890855457227139,
                    0.2927536231884058,
                    0.2305194805194805,
                    0.9327142857142857,
                    0.8988184747583244,
                    0.9308185705558949,
                    0.8536859876195836,
                    0.2890855457227139,
                    0.2455621301775148,
                    0.24776119402985075,
                    0.6282245827010622,
                    0.8670795616960457,
                    0.24172185430463577,
                    0.8119335347432024,
                    0.25903614457831325,
                    0.9309029896278218,
                    0.2877906976744186,
                    0.24183006535947713,
                    0.26548672566371684,
                    0.2621951219512195,
                    0.2886297376093295,
                    0.6423357664233577
                  ],
                  "yaxis": "y"
                },
                {
                  "customdata": [
                    [
                      "Device43"
                    ],
                    [
                      "Device43"
                    ],
                    [
                      "Device43"
                    ],
                    [
                      "Device43"
                    ],
                    [
                      "Device43"
                    ],
                    [
                      "Device43"
                    ],
                    [
                      "Device43"
                    ],
                    [
                      "Device43"
                    ],
                    [
                      "Device43"
                    ],
                    [
                      "Device43"
                    ],
                    [
                      "Device43"
                    ],
                    [
                      "Device43"
                    ],
                    [
                      "Device43"
                    ],
                    [
                      "Device43"
                    ],
                    [
                      "Device43"
                    ],
                    [
                      "Device43"
                    ],
                    [
                      "Device43"
                    ],
                    [
                      "Device43"
                    ],
                    [
                      "Device43"
                    ],
                    [
                      "Device43"
                    ],
                    [
                      "Device43"
                    ],
                    [
                      "Device43"
                    ],
                    [
                      "Device43"
                    ],
                    [
                      "Device43"
                    ],
                    [
                      "Device43"
                    ],
                    [
                      "Device43"
                    ],
                    [
                      "Device43"
                    ],
                    [
                      "Device43"
                    ]
                  ],
                  "hovertemplate": "Device=%{customdata[0]}<br>Scan=%{x}<br>Non-linearity Score=%{y}<extra></extra>",
                  "legendgroup": "Device43",
                  "marker": {
                    "color": "#00cc96",
                    "size": 8,
                    "symbol": "circle"
                  },
                  "mode": "markers",
                  "name": "Device43",
                  "orientation": "v",
                  "showlegend": true,
                  "type": "scatter",
                  "x": [
                    "Scan224",
                    "Scan231",
                    "Scan232",
                    "Scan233",
                    "Scan234",
                    "Scan235",
                    "Scan236",
                    "Scan237",
                    "Scan238",
                    "Scan239",
                    "Scan240",
                    "Scan241",
                    "Scan242",
                    "Scan243",
                    "Scan244",
                    "Scan245",
                    "Scan246",
                    "Scan247",
                    "Scan248",
                    "Scan249",
                    "Scan250",
                    "Scan251",
                    "Scan252",
                    "Scan253",
                    "Scan254",
                    "Scan255",
                    "Scan256",
                    "Scan257"
                  ],
                  "xaxis": "x",
                  "y": [
                    0.15034168564920272,
                    0.14479638009049775,
                    0.13679245283018868,
                    0.14578587699316628,
                    0.14772727272727273,
                    0.1473922902494331,
                    0.14772727272727273,
                    0.15034168564920272,
                    0.14578587699316628,
                    0.14479638009049775,
                    0.15034168564920272,
                    0.8521485797523671,
                    0.14772727272727273,
                    0.1564625850340136,
                    0.14578587699316628,
                    0.15034168564920272,
                    0.14578587699316628,
                    0.14772727272727273,
                    0.1358313817330211,
                    0.15090090090090091,
                    0.14479638009049775,
                    0.14285714285714285,
                    0.1473922902494331,
                    0.14578587699316628,
                    0.14285714285714285,
                    0.14772727272727273,
                    0.14578587699316628,
                    0.14285714285714285
                  ],
                  "yaxis": "y"
                },
                {
                  "customdata": [
                    [
                      "Device44"
                    ]
                  ],
                  "hovertemplate": "Device=%{customdata[0]}<br>Scan=%{x}<br>Non-linearity Score=%{y}<extra></extra>",
                  "legendgroup": "Device44",
                  "marker": {
                    "color": "#ab63fa",
                    "size": 8,
                    "symbol": "circle"
                  },
                  "mode": "markers",
                  "name": "Device44",
                  "orientation": "v",
                  "showlegend": true,
                  "type": "scatter",
                  "x": [
                    "Scan843"
                  ],
                  "xaxis": "x",
                  "y": [
                    0.8052064631956912
                  ],
                  "yaxis": "y"
                },
                {
                  "customdata": [
                    [
                      "Device45"
                    ],
                    [
                      "Device45"
                    ],
                    [
                      "Device45"
                    ],
                    [
                      "Device45"
                    ],
                    [
                      "Device45"
                    ],
                    [
                      "Device45"
                    ],
                    [
                      "Device45"
                    ],
                    [
                      "Device45"
                    ],
                    [
                      "Device45"
                    ],
                    [
                      "Device45"
                    ],
                    [
                      "Device45"
                    ],
                    [
                      "Device45"
                    ],
                    [
                      "Device45"
                    ],
                    [
                      "Device45"
                    ],
                    [
                      "Device45"
                    ],
                    [
                      "Device45"
                    ],
                    [
                      "Device45"
                    ],
                    [
                      "Device45"
                    ],
                    [
                      "Device45"
                    ],
                    [
                      "Device45"
                    ],
                    [
                      "Device45"
                    ],
                    [
                      "Device45"
                    ],
                    [
                      "Device45"
                    ],
                    [
                      "Device45"
                    ],
                    [
                      "Device45"
                    ],
                    [
                      "Device45"
                    ],
                    [
                      "Device45"
                    ],
                    [
                      "Device45"
                    ],
                    [
                      "Device45"
                    ],
                    [
                      "Device45"
                    ],
                    [
                      "Device45"
                    ],
                    [
                      "Device45"
                    ]
                  ],
                  "hovertemplate": "Device=%{customdata[0]}<br>Scan=%{x}<br>Non-linearity Score=%{y}<extra></extra>",
                  "legendgroup": "Device45",
                  "marker": {
                    "color": "#FFA15A",
                    "size": 8,
                    "symbol": "circle"
                  },
                  "mode": "markers",
                  "name": "Device45",
                  "orientation": "v",
                  "showlegend": true,
                  "type": "scatter",
                  "x": [
                    "Scan258",
                    "Scan259",
                    "Scan260",
                    "Scan261",
                    "Scan262",
                    "Scan263",
                    "Scan264",
                    "Scan265",
                    "Scan266",
                    "Scan267",
                    "Scan268",
                    "Scan269",
                    "Scan270",
                    "Scan271",
                    "Scan272",
                    "Scan273",
                    "Scan274",
                    "Scan275",
                    "Scan276",
                    "Scan277",
                    "Scan278",
                    "Scan281",
                    "Scan283",
                    "Scan284",
                    "Scan285",
                    "Scan286",
                    "Scan287",
                    "Scan288",
                    "Scan289",
                    "Scan290",
                    "Scan291",
                    "Scan292"
                  ],
                  "xaxis": "x",
                  "y": [
                    0.909437156157427,
                    0.59375,
                    0.5987903225806451,
                    0.5784313725490197,
                    0.9336043360433605,
                    0.5203539823008849,
                    0.9072733540158566,
                    0.5212014134275619,
                    0.5813492063492064,
                    0.5193661971830986,
                    0.5711111111111111,
                    0.576171875,
                    0.5825049701789264,
                    0.5559502664298401,
                    0.76010101010101,
                    0.5195035460992907,
                    0.9623647604327666,
                    0.5203539823008849,
                    0.7785310734463277,
                    0.8855610192221726,
                    0.5203539823008849,
                    0.8878787878787879,
                    0.5805168986083499,
                    0.5226130653266332,
                    0.5185185185185185,
                    0.6773455377574371,
                    0.5176678445229682,
                    0.5193661971830986,
                    0.5177935943060499,
                    0.9666851749028318,
                    0.5784313725490197,
                    0.5675057208237986
                  ],
                  "yaxis": "y"
                },
                {
                  "customdata": [
                    [
                      "Device46"
                    ],
                    [
                      "Device46"
                    ],
                    [
                      "Device46"
                    ],
                    [
                      "Device46"
                    ],
                    [
                      "Device46"
                    ],
                    [
                      "Device46"
                    ],
                    [
                      "Device46"
                    ],
                    [
                      "Device46"
                    ],
                    [
                      "Device46"
                    ],
                    [
                      "Device46"
                    ],
                    [
                      "Device46"
                    ],
                    [
                      "Device46"
                    ],
                    [
                      "Device46"
                    ],
                    [
                      "Device46"
                    ],
                    [
                      "Device46"
                    ],
                    [
                      "Device46"
                    ],
                    [
                      "Device46"
                    ],
                    [
                      "Device46"
                    ],
                    [
                      "Device46"
                    ],
                    [
                      "Device46"
                    ],
                    [
                      "Device46"
                    ],
                    [
                      "Device46"
                    ],
                    [
                      "Device46"
                    ],
                    [
                      "Device46"
                    ],
                    [
                      "Device46"
                    ],
                    [
                      "Device46"
                    ],
                    [
                      "Device46"
                    ],
                    [
                      "Device46"
                    ],
                    [
                      "Device46"
                    ],
                    [
                      "Device46"
                    ],
                    [
                      "Device46"
                    ],
                    [
                      "Device46"
                    ],
                    [
                      "Device46"
                    ]
                  ],
                  "hovertemplate": "Device=%{customdata[0]}<br>Scan=%{x}<br>Non-linearity Score=%{y}<extra></extra>",
                  "legendgroup": "Device46",
                  "marker": {
                    "color": "#19d3f3",
                    "size": 8,
                    "symbol": "circle"
                  },
                  "mode": "markers",
                  "name": "Device46",
                  "orientation": "v",
                  "showlegend": true,
                  "type": "scatter",
                  "x": [
                    "Scan279",
                    "Scan280",
                    "Scan282",
                    "Scan293",
                    "Scan295",
                    "Scan296",
                    "Scan297",
                    "Scan298",
                    "Scan299",
                    "Scan300",
                    "Scan301",
                    "Scan302",
                    "Scan303",
                    "Scan304",
                    "Scan305",
                    "Scan306",
                    "Scan307",
                    "Scan308",
                    "Scan309",
                    "Scan310",
                    "Scan311",
                    "Scan312",
                    "Scan313",
                    "Scan314",
                    "Scan316",
                    "Scan317",
                    "Scan318",
                    "Scan319",
                    "Scan320",
                    "Scan321",
                    "Scan322",
                    "Scan323",
                    "Scan324"
                  ],
                  "xaxis": "x",
                  "y": [
                    0.16666666666666666,
                    0.19471153846153846,
                    0.1873479318734793,
                    0.9590435876901956,
                    0.05466237942122187,
                    0.21445221445221446,
                    0.2033096926713948,
                    0.1927710843373494,
                    0.11976047904191617,
                    0.48109965635738833,
                    0.21052631578947367,
                    0.16834170854271358,
                    0.85294895530283,
                    0.19471153846153846,
                    0.874945343244425,
                    0.12903225806451613,
                    0.7985654512851166,
                    0.19759036144578312,
                    0.1902439024390244,
                    0.19471153846153846,
                    0.048507462686567165,
                    0.19424460431654678,
                    0.19809069212410502,
                    0.8842580969118755,
                    0.7805358550039401,
                    0.7297297297297297,
                    0.19617224880382775,
                    0.19471153846153846,
                    0.19230769230769232,
                    0.21377672209026127,
                    0.19471153846153846,
                    0.6075205640423031,
                    0.19471153846153846
                  ],
                  "yaxis": "y"
                },
                {
                  "customdata": [
                    [
                      "Device47"
                    ],
                    [
                      "Device47"
                    ],
                    [
                      "Device47"
                    ],
                    [
                      "Device47"
                    ],
                    [
                      "Device47"
                    ],
                    [
                      "Device47"
                    ],
                    [
                      "Device47"
                    ],
                    [
                      "Device47"
                    ],
                    [
                      "Device47"
                    ],
                    [
                      "Device47"
                    ],
                    [
                      "Device47"
                    ],
                    [
                      "Device47"
                    ],
                    [
                      "Device47"
                    ],
                    [
                      "Device47"
                    ],
                    [
                      "Device47"
                    ],
                    [
                      "Device47"
                    ],
                    [
                      "Device47"
                    ],
                    [
                      "Device47"
                    ],
                    [
                      "Device47"
                    ],
                    [
                      "Device47"
                    ],
                    [
                      "Device47"
                    ],
                    [
                      "Device47"
                    ],
                    [
                      "Device47"
                    ],
                    [
                      "Device47"
                    ],
                    [
                      "Device47"
                    ],
                    [
                      "Device47"
                    ],
                    [
                      "Device47"
                    ],
                    [
                      "Device47"
                    ],
                    [
                      "Device47"
                    ],
                    [
                      "Device47"
                    ],
                    [
                      "Device47"
                    ],
                    [
                      "Device47"
                    ],
                    [
                      "Device47"
                    ],
                    [
                      "Device47"
                    ],
                    [
                      "Device47"
                    ],
                    [
                      "Device47"
                    ],
                    [
                      "Device47"
                    ],
                    [
                      "Device47"
                    ],
                    [
                      "Device47"
                    ],
                    [
                      "Device47"
                    ],
                    [
                      "Device47"
                    ],
                    [
                      "Device47"
                    ],
                    [
                      "Device47"
                    ],
                    [
                      "Device47"
                    ],
                    [
                      "Device47"
                    ],
                    [
                      "Device47"
                    ],
                    [
                      "Device47"
                    ],
                    [
                      "Device47"
                    ],
                    [
                      "Device47"
                    ],
                    [
                      "Device47"
                    ],
                    [
                      "Device47"
                    ],
                    [
                      "Device47"
                    ],
                    [
                      "Device47"
                    ],
                    [
                      "Device47"
                    ],
                    [
                      "Device47"
                    ]
                  ],
                  "hovertemplate": "Device=%{customdata[0]}<br>Scan=%{x}<br>Non-linearity Score=%{y}<extra></extra>",
                  "legendgroup": "Device47",
                  "marker": {
                    "color": "#FF6692",
                    "size": 8,
                    "symbol": "circle"
                  },
                  "mode": "markers",
                  "name": "Device47",
                  "orientation": "v",
                  "showlegend": true,
                  "type": "scatter",
                  "x": [
                    "Scan845",
                    "Scan846",
                    "Scan847",
                    "Scan848",
                    "Scan849",
                    "Scan850",
                    "Scan851",
                    "Scan852",
                    "Scan853",
                    "Scan854",
                    "Scan855",
                    "Scan856",
                    "Scan857",
                    "Scan858",
                    "Scan859",
                    "Scan860",
                    "Scan861",
                    "Scan862",
                    "Scan863",
                    "Scan864",
                    "Scan865",
                    "Scan866",
                    "Scan867",
                    "Scan868",
                    "Scan869",
                    "Scan870",
                    "Scan871",
                    "Scan872",
                    "Scan873",
                    "Scan874",
                    "Scan875",
                    "Scan876",
                    "Scan877",
                    "Scan878",
                    "Scan879",
                    "Scan880",
                    "Scan881",
                    "Scan882",
                    "Scan883",
                    "Scan884",
                    "Scan885",
                    "Scan886",
                    "Scan887",
                    "Scan888",
                    "Scan889",
                    "Scan890",
                    "Scan891",
                    "Scan893",
                    "Scan894",
                    "Scan895",
                    "Scan897",
                    "Scan898",
                    "Scan899",
                    "Scan900",
                    "Scan901"
                  ],
                  "xaxis": "x",
                  "y": [
                    0.7887168141592921,
                    0.782312925170068,
                    0.7970297029702971,
                    0.6008928571428571,
                    0.7874186550976139,
                    0.8521850899742931,
                    0.9218877135882831,
                    0.9287598944591029,
                    0.8436724565756824,
                    0.8029100529100529,
                    0.8540051679586563,
                    0.8525641025641025,
                    0.8938848920863309,
                    0.7821670428893905,
                    0.8907168037602821,
                    0.8049095607235142,
                    0.7835990888382688,
                    0.7828507795100222,
                    0.8117359413202934,
                    0.7994652406417112,
                    0.9847101623365481,
                    0.8540051679586563,
                    0.8530927835051546,
                    0.8453865336658354,
                    0.8479899497487438,
                    0.8035230352303523,
                    0.7887168141592921,
                    0.8525641025641025,
                    0.8540051679586563,
                    0.8530927835051546,
                    0.8791722296395194,
                    0.8540051679586563,
                    0.819060773480663,
                    0.8521850899742931,
                    0.7829099307159353,
                    0.8534704370179949,
                    0.896957123098202,
                    0.8540051679586563,
                    0.8025641025641026,
                    0.8470149253731343,
                    0.8888888888888888,
                    0.8525641025641025,
                    0.8540051679586563,
                    0.9673485618344895,
                    0.7898230088495575,
                    0.7911111111111111,
                    0.8041237113402062,
                    0.8094660194174758,
                    0.8024096385542169,
                    0.7874449339207048,
                    0.7815964523281597,
                    0.8507653061224489,
                    0.850383631713555,
                    0.9368273689736635,
                    0.8452970297029703
                  ],
                  "yaxis": "y"
                },
                {
                  "customdata": [
                    [
                      "Device48"
                    ],
                    [
                      "Device48"
                    ],
                    [
                      "Device48"
                    ],
                    [
                      "Device48"
                    ],
                    [
                      "Device48"
                    ],
                    [
                      "Device48"
                    ],
                    [
                      "Device48"
                    ],
                    [
                      "Device48"
                    ],
                    [
                      "Device48"
                    ],
                    [
                      "Device48"
                    ],
                    [
                      "Device48"
                    ],
                    [
                      "Device48"
                    ],
                    [
                      "Device48"
                    ],
                    [
                      "Device48"
                    ],
                    [
                      "Device48"
                    ],
                    [
                      "Device48"
                    ],
                    [
                      "Device48"
                    ],
                    [
                      "Device48"
                    ],
                    [
                      "Device48"
                    ],
                    [
                      "Device48"
                    ],
                    [
                      "Device48"
                    ],
                    [
                      "Device48"
                    ],
                    [
                      "Device48"
                    ],
                    [
                      "Device48"
                    ],
                    [
                      "Device48"
                    ],
                    [
                      "Device48"
                    ],
                    [
                      "Device48"
                    ],
                    [
                      "Device48"
                    ],
                    [
                      "Device48"
                    ],
                    [
                      "Device48"
                    ],
                    [
                      "Device48"
                    ],
                    [
                      "Device48"
                    ],
                    [
                      "Device48"
                    ],
                    [
                      "Device48"
                    ],
                    [
                      "Device48"
                    ],
                    [
                      "Device48"
                    ],
                    [
                      "Device48"
                    ],
                    [
                      "Device48"
                    ],
                    [
                      "Device48"
                    ],
                    [
                      "Device48"
                    ],
                    [
                      "Device48"
                    ],
                    [
                      "Device48"
                    ],
                    [
                      "Device48"
                    ],
                    [
                      "Device48"
                    ],
                    [
                      "Device48"
                    ],
                    [
                      "Device48"
                    ],
                    [
                      "Device48"
                    ],
                    [
                      "Device48"
                    ],
                    [
                      "Device48"
                    ],
                    [
                      "Device48"
                    ],
                    [
                      "Device48"
                    ],
                    [
                      "Device48"
                    ],
                    [
                      "Device48"
                    ],
                    [
                      "Device48"
                    ]
                  ],
                  "hovertemplate": "Device=%{customdata[0]}<br>Scan=%{x}<br>Non-linearity Score=%{y}<extra></extra>",
                  "legendgroup": "Device48",
                  "marker": {
                    "color": "#B6E880",
                    "size": 8,
                    "symbol": "circle"
                  },
                  "mode": "markers",
                  "name": "Device48",
                  "orientation": "v",
                  "showlegend": true,
                  "type": "scatter",
                  "x": [
                    "Scan126",
                    "Scan127",
                    "Scan128",
                    "Scan129",
                    "Scan294",
                    "Scan315",
                    "Scan333",
                    "Scan362",
                    "Scan364",
                    "Scan373",
                    "Scan376",
                    "Scan394",
                    "Scan397",
                    "Scan407",
                    "Scan42",
                    "Scan43",
                    "Scan44",
                    "Scan45",
                    "Scan47",
                    "Scan49",
                    "Scan51",
                    "Scan52",
                    "Scan53",
                    "Scan68",
                    "Scan896",
                    "Scan902",
                    "Scan903",
                    "Scan904",
                    "Scan905",
                    "Scan906",
                    "Scan907",
                    "Scan908",
                    "Scan909",
                    "Scan910",
                    "Scan911",
                    "Scan912",
                    "Scan913",
                    "Scan914",
                    "Scan915",
                    "Scan916",
                    "Scan917",
                    "Scan918",
                    "Scan919",
                    "Scan920",
                    "Scan922",
                    "Scan923",
                    "Scan924",
                    "Scan925",
                    "Scan926",
                    "Scan927",
                    "Scan931",
                    "Scan932",
                    "Scan933",
                    "Scan934"
                  ],
                  "xaxis": "x",
                  "y": [
                    0.19953051643192488,
                    0.8005847953216374,
                    0.7192622950819673,
                    0.6002344665885111,
                    0.8500727802037845,
                    0.2013888888888889,
                    0.8501086169442433,
                    0.850632911392405,
                    0.20185614849187936,
                    0.2073732718894009,
                    0.8002329644729179,
                    0.7194293478260869,
                    0.1985981308411215,
                    0.20046620046620048,
                    0.8258527827648114,
                    0.1943127962085308,
                    0.1943127962085308,
                    0.1943127962085308,
                    0.799410029498525,
                    0.1943127962085308,
                    0.8149841716496659,
                    0.19953051643192488,
                    0.19953051643192488,
                    0.19953051643192488,
                    0.597323600973236,
                    0.6126436781609196,
                    0.5882352941176471,
                    0.937932169904511,
                    0.6142533936651584,
                    0.615909090909091,
                    0.5641025641025641,
                    0.9857526678271399,
                    0.6129032258064516,
                    0.6133786848072562,
                    0.6136363636363636,
                    0.5963414634146341,
                    0.6142533936651584,
                    0.5904645476772616,
                    0.5657492354740061,
                    0.615909090909091,
                    0.5978260869565217,
                    0.5773333333333334,
                    0.5533980582524272,
                    0.5745257452574526,
                    0.5909090909090909,
                    0.585,
                    0.9911974938228026,
                    0.5968523002421308,
                    0.9092751013057181,
                    0.6090487238979119,
                    0.6150341685649203,
                    0.9276139410187667,
                    0.8878127522195319,
                    0.6142533936651584
                  ],
                  "yaxis": "y"
                },
                {
                  "customdata": [
                    [
                      "Device49"
                    ],
                    [
                      "Device49"
                    ],
                    [
                      "Device49"
                    ],
                    [
                      "Device49"
                    ],
                    [
                      "Device49"
                    ],
                    [
                      "Device49"
                    ],
                    [
                      "Device49"
                    ],
                    [
                      "Device49"
                    ],
                    [
                      "Device49"
                    ],
                    [
                      "Device49"
                    ],
                    [
                      "Device49"
                    ],
                    [
                      "Device49"
                    ],
                    [
                      "Device49"
                    ],
                    [
                      "Device49"
                    ],
                    [
                      "Device49"
                    ],
                    [
                      "Device49"
                    ],
                    [
                      "Device49"
                    ],
                    [
                      "Device49"
                    ],
                    [
                      "Device49"
                    ],
                    [
                      "Device49"
                    ],
                    [
                      "Device49"
                    ],
                    [
                      "Device49"
                    ],
                    [
                      "Device49"
                    ],
                    [
                      "Device49"
                    ],
                    [
                      "Device49"
                    ],
                    [
                      "Device49"
                    ],
                    [
                      "Device49"
                    ],
                    [
                      "Device49"
                    ],
                    [
                      "Device49"
                    ],
                    [
                      "Device49"
                    ]
                  ],
                  "hovertemplate": "Device=%{customdata[0]}<br>Scan=%{x}<br>Non-linearity Score=%{y}<extra></extra>",
                  "legendgroup": "Device49",
                  "marker": {
                    "color": "#FF97FF",
                    "size": 8,
                    "symbol": "circle"
                  },
                  "mode": "markers",
                  "name": "Device49",
                  "orientation": "v",
                  "showlegend": true,
                  "type": "scatter",
                  "x": [
                    "Scan325",
                    "Scan326",
                    "Scan327",
                    "Scan328",
                    "Scan329",
                    "Scan330",
                    "Scan331",
                    "Scan332",
                    "Scan334",
                    "Scan335",
                    "Scan336",
                    "Scan337",
                    "Scan338",
                    "Scan339",
                    "Scan340",
                    "Scan341",
                    "Scan342",
                    "Scan343",
                    "Scan344",
                    "Scan345",
                    "Scan346",
                    "Scan347",
                    "Scan348",
                    "Scan349",
                    "Scan350",
                    "Scan351",
                    "Scan352",
                    "Scan353",
                    "Scan354",
                    "Scan355"
                  ],
                  "xaxis": "x",
                  "y": [
                    0.2204724409448819,
                    0.2180746561886051,
                    0.21739130434782608,
                    0.21696252465483234,
                    0.21739130434782608,
                    0.20669291338582677,
                    0.21653543307086615,
                    0.7136929460580913,
                    0.21893491124260356,
                    0.2180746561886051,
                    0.21893491124260356,
                    0.21850393700787402,
                    0.21936758893280633,
                    0.21936758893280633,
                    0.21850393700787402,
                    0.2204724409448819,
                    0.21696252465483234,
                    0.21739130434782608,
                    0.20669291338582677,
                    0.20669291338582677,
                    0.2124756335282651,
                    0.21850393700787402,
                    0.21936758893280633,
                    0.21653543307086615,
                    0.2047244094488189,
                    0.21626984126984128,
                    0.21739130434782608,
                    0.21936758893280633,
                    0.21936758893280633,
                    0.21782178217821782
                  ],
                  "yaxis": "y"
                },
                {
                  "customdata": [
                    [
                      "Device50"
                    ],
                    [
                      "Device50"
                    ]
                  ],
                  "hovertemplate": "Device=%{customdata[0]}<br>Scan=%{x}<br>Non-linearity Score=%{y}<extra></extra>",
                  "legendgroup": "Device50",
                  "marker": {
                    "color": "#FECB52",
                    "size": 8,
                    "symbol": "circle"
                  },
                  "mode": "markers",
                  "name": "Device50",
                  "orientation": "v",
                  "showlegend": true,
                  "type": "scatter",
                  "x": [
                    "Scan356",
                    "Scan357"
                  ],
                  "xaxis": "x",
                  "y": [
                    0.35177865612648224,
                    0.3433962264150943
                  ],
                  "yaxis": "y"
                },
                {
                  "customdata": [
                    [
                      "Device52"
                    ],
                    [
                      "Device52"
                    ],
                    [
                      "Device52"
                    ],
                    [
                      "Device52"
                    ],
                    [
                      "Device52"
                    ]
                  ],
                  "hovertemplate": "Device=%{customdata[0]}<br>Scan=%{x}<br>Non-linearity Score=%{y}<extra></extra>",
                  "legendgroup": "Device52",
                  "marker": {
                    "color": "#636efa",
                    "size": 8,
                    "symbol": "circle"
                  },
                  "mode": "markers",
                  "name": "Device52",
                  "orientation": "v",
                  "showlegend": true,
                  "type": "scatter",
                  "x": [
                    "Scan358",
                    "Scan359",
                    "Scan360",
                    "Scan361",
                    "Scan363"
                  ],
                  "xaxis": "x",
                  "y": [
                    0.8452422446845591,
                    0.6072684642438453,
                    0.19273743016759776,
                    0.13725490196078433,
                    0.22065727699530516
                  ],
                  "yaxis": "y"
                },
                {
                  "customdata": [
                    [
                      "Device53"
                    ],
                    [
                      "Device53"
                    ],
                    [
                      "Device53"
                    ],
                    [
                      "Device53"
                    ],
                    [
                      "Device53"
                    ],
                    [
                      "Device53"
                    ],
                    [
                      "Device53"
                    ],
                    [
                      "Device53"
                    ],
                    [
                      "Device53"
                    ],
                    [
                      "Device53"
                    ],
                    [
                      "Device53"
                    ],
                    [
                      "Device53"
                    ],
                    [
                      "Device53"
                    ],
                    [
                      "Device53"
                    ],
                    [
                      "Device53"
                    ],
                    [
                      "Device53"
                    ],
                    [
                      "Device53"
                    ],
                    [
                      "Device53"
                    ],
                    [
                      "Device53"
                    ],
                    [
                      "Device53"
                    ],
                    [
                      "Device53"
                    ],
                    [
                      "Device53"
                    ],
                    [
                      "Device53"
                    ],
                    [
                      "Device53"
                    ],
                    [
                      "Device53"
                    ],
                    [
                      "Device53"
                    ],
                    [
                      "Device53"
                    ],
                    [
                      "Device53"
                    ]
                  ],
                  "hovertemplate": "Device=%{customdata[0]}<br>Scan=%{x}<br>Non-linearity Score=%{y}<extra></extra>",
                  "legendgroup": "Device53",
                  "marker": {
                    "color": "#EF553B",
                    "size": 8,
                    "symbol": "circle"
                  },
                  "mode": "markers",
                  "name": "Device53",
                  "orientation": "v",
                  "showlegend": true,
                  "type": "scatter",
                  "x": [
                    "Scan365",
                    "Scan366",
                    "Scan367",
                    "Scan368",
                    "Scan369",
                    "Scan370",
                    "Scan371",
                    "Scan372",
                    "Scan374",
                    "Scan375",
                    "Scan377",
                    "Scan378",
                    "Scan379",
                    "Scan380",
                    "Scan381",
                    "Scan382",
                    "Scan383",
                    "Scan384",
                    "Scan385",
                    "Scan386",
                    "Scan387",
                    "Scan388",
                    "Scan389",
                    "Scan390",
                    "Scan391",
                    "Scan392",
                    "Scan393",
                    "Scan395"
                  ],
                  "xaxis": "x",
                  "y": [
                    0.7469077069457659,
                    0.26136363636363635,
                    0.27548209366391185,
                    0.16151202749140894,
                    0.2774725274725275,
                    0.2774725274725275,
                    0.15488215488215487,
                    0.2535612535612536,
                    0.25925925925925924,
                    0.25,
                    0.6260744985673352,
                    0.19402985074626866,
                    0.24860335195530725,
                    0.2413793103448276,
                    0.27977839335180055,
                    0.8858218318695107,
                    0.2413793103448276,
                    0.281767955801105,
                    0.27548209366391185,
                    0.292817679558011,
                    0.853185595567867,
                    0.28291316526610644,
                    0.6347222222222222,
                    0.9422347563940484,
                    0.26571428571428574,
                    0.23714285714285716,
                    0.2785515320334262,
                    0.281767955801105
                  ],
                  "yaxis": "y"
                },
                {
                  "customdata": [
                    [
                      "Device54"
                    ],
                    [
                      "Device54"
                    ],
                    [
                      "Device54"
                    ],
                    [
                      "Device54"
                    ],
                    [
                      "Device54"
                    ],
                    [
                      "Device54"
                    ],
                    [
                      "Device54"
                    ],
                    [
                      "Device54"
                    ],
                    [
                      "Device54"
                    ],
                    [
                      "Device54"
                    ],
                    [
                      "Device54"
                    ],
                    [
                      "Device54"
                    ],
                    [
                      "Device54"
                    ],
                    [
                      "Device54"
                    ],
                    [
                      "Device54"
                    ],
                    [
                      "Device54"
                    ],
                    [
                      "Device54"
                    ]
                  ],
                  "hovertemplate": "Device=%{customdata[0]}<br>Scan=%{x}<br>Non-linearity Score=%{y}<extra></extra>",
                  "legendgroup": "Device54",
                  "marker": {
                    "color": "#00cc96",
                    "size": 8,
                    "symbol": "circle"
                  },
                  "mode": "markers",
                  "name": "Device54",
                  "orientation": "v",
                  "showlegend": true,
                  "type": "scatter",
                  "x": [
                    "Scan396",
                    "Scan398",
                    "Scan399",
                    "Scan400",
                    "Scan401",
                    "Scan402",
                    "Scan403",
                    "Scan404",
                    "Scan405",
                    "Scan406",
                    "Scan408",
                    "Scan409",
                    "Scan410",
                    "Scan411",
                    "Scan412",
                    "Scan413",
                    "Scan416"
                  ],
                  "xaxis": "x",
                  "y": [
                    0.7036328871892925,
                    0.20833333333333334,
                    0.07253886010362694,
                    0.22794117647058823,
                    0.23722627737226276,
                    0.196,
                    0.24175824175824176,
                    0.22761194029850745,
                    0.17928286852589642,
                    0.22794117647058823,
                    0.22794117647058823,
                    0.20784313725490197,
                    0.1935483870967742,
                    0.22794117647058823,
                    0.2037735849056604,
                    0.9258952597805837,
                    0.20912547528517111
                  ],
                  "yaxis": "y"
                },
                {
                  "customdata": [
                    [
                      "Device55"
                    ],
                    [
                      "Device55"
                    ],
                    [
                      "Device55"
                    ],
                    [
                      "Device55"
                    ],
                    [
                      "Device55"
                    ],
                    [
                      "Device55"
                    ],
                    [
                      "Device55"
                    ],
                    [
                      "Device55"
                    ],
                    [
                      "Device55"
                    ],
                    [
                      "Device55"
                    ],
                    [
                      "Device55"
                    ],
                    [
                      "Device55"
                    ],
                    [
                      "Device55"
                    ],
                    [
                      "Device55"
                    ],
                    [
                      "Device55"
                    ],
                    [
                      "Device55"
                    ],
                    [
                      "Device55"
                    ],
                    [
                      "Device55"
                    ],
                    [
                      "Device55"
                    ],
                    [
                      "Device55"
                    ],
                    [
                      "Device55"
                    ],
                    [
                      "Device55"
                    ],
                    [
                      "Device55"
                    ],
                    [
                      "Device55"
                    ],
                    [
                      "Device55"
                    ],
                    [
                      "Device55"
                    ],
                    [
                      "Device55"
                    ],
                    [
                      "Device55"
                    ],
                    [
                      "Device55"
                    ],
                    [
                      "Device55"
                    ],
                    [
                      "Device55"
                    ],
                    [
                      "Device55"
                    ],
                    [
                      "Device55"
                    ],
                    [
                      "Device55"
                    ],
                    [
                      "Device55"
                    ],
                    [
                      "Device55"
                    ],
                    [
                      "Device55"
                    ],
                    [
                      "Device55"
                    ],
                    [
                      "Device55"
                    ],
                    [
                      "Device55"
                    ],
                    [
                      "Device55"
                    ],
                    [
                      "Device55"
                    ],
                    [
                      "Device55"
                    ],
                    [
                      "Device55"
                    ],
                    [
                      "Device55"
                    ],
                    [
                      "Device55"
                    ],
                    [
                      "Device55"
                    ],
                    [
                      "Device55"
                    ],
                    [
                      "Device55"
                    ],
                    [
                      "Device55"
                    ],
                    [
                      "Device55"
                    ],
                    [
                      "Device55"
                    ],
                    [
                      "Device55"
                    ],
                    [
                      "Device55"
                    ],
                    [
                      "Device55"
                    ],
                    [
                      "Device55"
                    ],
                    [
                      "Device55"
                    ],
                    [
                      "Device55"
                    ],
                    [
                      "Device55"
                    ],
                    [
                      "Device55"
                    ],
                    [
                      "Device55"
                    ],
                    [
                      "Device55"
                    ],
                    [
                      "Device55"
                    ],
                    [
                      "Device55"
                    ],
                    [
                      "Device55"
                    ],
                    [
                      "Device55"
                    ],
                    [
                      "Device55"
                    ],
                    [
                      "Device55"
                    ],
                    [
                      "Device55"
                    ],
                    [
                      "Device55"
                    ],
                    [
                      "Device55"
                    ],
                    [
                      "Device55"
                    ],
                    [
                      "Device55"
                    ],
                    [
                      "Device55"
                    ],
                    [
                      "Device55"
                    ],
                    [
                      "Device55"
                    ],
                    [
                      "Device55"
                    ],
                    [
                      "Device55"
                    ],
                    [
                      "Device55"
                    ],
                    [
                      "Device55"
                    ],
                    [
                      "Device55"
                    ],
                    [
                      "Device55"
                    ],
                    [
                      "Device55"
                    ],
                    [
                      "Device55"
                    ],
                    [
                      "Device55"
                    ],
                    [
                      "Device55"
                    ],
                    [
                      "Device55"
                    ],
                    [
                      "Device55"
                    ],
                    [
                      "Device55"
                    ],
                    [
                      "Device55"
                    ]
                  ],
                  "hovertemplate": "Device=%{customdata[0]}<br>Scan=%{x}<br>Non-linearity Score=%{y}<extra></extra>",
                  "legendgroup": "Device55",
                  "marker": {
                    "color": "#ab63fa",
                    "size": 8,
                    "symbol": "circle"
                  },
                  "mode": "markers",
                  "name": "Device55",
                  "orientation": "v",
                  "showlegend": true,
                  "type": "scatter",
                  "x": [
                    "Scan1",
                    "Scan1000",
                    "Scan1001",
                    "Scan1002",
                    "Scan1003",
                    "Scan31",
                    "Scan33",
                    "Scan34",
                    "Scan35",
                    "Scan36",
                    "Scan37",
                    "Scan38",
                    "Scan39",
                    "Scan40",
                    "Scan41",
                    "Scan615",
                    "Scan644",
                    "Scan722",
                    "Scan723",
                    "Scan724",
                    "Scan892",
                    "Scan921",
                    "Scan928",
                    "Scan929",
                    "Scan930",
                    "Scan935",
                    "Scan936",
                    "Scan937",
                    "Scan938",
                    "Scan939",
                    "Scan940",
                    "Scan941",
                    "Scan942",
                    "Scan943",
                    "Scan944",
                    "Scan945",
                    "Scan946",
                    "Scan947",
                    "Scan948",
                    "Scan949",
                    "Scan950",
                    "Scan951",
                    "Scan952",
                    "Scan953",
                    "Scan954",
                    "Scan955",
                    "Scan956",
                    "Scan957",
                    "Scan958",
                    "Scan959",
                    "Scan960",
                    "Scan961",
                    "Scan962",
                    "Scan963",
                    "Scan964",
                    "Scan965",
                    "Scan966",
                    "Scan967",
                    "Scan968",
                    "Scan969",
                    "Scan970",
                    "Scan971",
                    "Scan972",
                    "Scan973",
                    "Scan974",
                    "Scan975",
                    "Scan976",
                    "Scan977",
                    "Scan978",
                    "Scan979",
                    "Scan980",
                    "Scan981",
                    "Scan982",
                    "Scan983",
                    "Scan984",
                    "Scan985",
                    "Scan986",
                    "Scan987",
                    "Scan988",
                    "Scan989",
                    "Scan990",
                    "Scan991",
                    "Scan992",
                    "Scan993",
                    "Scan994",
                    "Scan995",
                    "Scan996",
                    "Scan997",
                    "Scan998",
                    "Scan999"
                  ],
                  "xaxis": "x",
                  "y": [
                    0.9952853645021809,
                    0.7305045871559633,
                    0.9821147201105735,
                    0.15074309978768577,
                    0.14439655172413793,
                    0.6571936056838366,
                    0.9311260623229461,
                    0.8741653826399589,
                    0.6580817051509769,
                    0.6575221238938053,
                    0.65625,
                    0.7708333333333334,
                    0.8851928171916397,
                    0.4085106382978723,
                    0.7226318774815655,
                    0.8514225500526871,
                    0.41226215644820297,
                    0.7939110070257611,
                    0.0782122905027933,
                    0.8407729994556342,
                    0.8282918149466192,
                    0.9139161462979483,
                    0.6302281368821293,
                    0.6247600767754319,
                    0.6318785578747628,
                    0.7298850574712644,
                    0.6337760910815939,
                    0.9875943700443871,
                    0.9942934880753164,
                    0.651060070671378,
                    0.5981132075471698,
                    0.7298850574712644,
                    0.8764222503160556,
                    0.6347248576850095,
                    0.625,
                    0.8241563055062167,
                    0.8279714030384272,
                    0.6323809523809524,
                    0.9245834551300789,
                    0.6571936056838366,
                    0.6333333333333333,
                    0.7288329519450801,
                    0.9799528301886793,
                    0.9053211888782359,
                    0.5766806722689075,
                    0.9094703511801957,
                    0.7298850574712644,
                    0.6532976827094474,
                    0.633147113594041,
                    0.5753715498938429,
                    0.8107588856868396,
                    0.8258928571428571,
                    0.6351851851851852,
                    0.7288329519450801,
                    0.5753715498938429,
                    0.9330492163871322,
                    0.6247600767754319,
                    0.6351851851851852,
                    0.7294520547945206,
                    0.6565295169946332,
                    0.6328871892925431,
                    0.5714285714285714,
                    0.6309297912713473,
                    0.6318785578747628,
                    0.7298850574712644,
                    0.6254789272030651,
                    0.6325757575757576,
                    0.925886470856795,
                    0.7300683371298405,
                    0.7288329519450801,
                    0.8107210626185958,
                    0.6346863468634686,
                    0.634011090573013,
                    0.9247445029420873,
                    0.6254789272030651,
                    0.6571428571428571,
                    0.7288329519450801,
                    0.621414913957935,
                    0.9692831057081395,
                    0.6337760910815939,
                    0.6245247148288974,
                    0.9247095274980636,
                    0.5738758029978587,
                    0.6302281368821293,
                    0.6577540106951871,
                    0.9389925373134328,
                    0.7294520547945206,
                    0.6351851851851852,
                    0.7298850574712644,
                    0.8964964964964965
                  ],
                  "yaxis": "y"
                },
                {
                  "customdata": [
                    [
                      "Device56"
                    ],
                    [
                      "Device56"
                    ],
                    [
                      "Device56"
                    ],
                    [
                      "Device56"
                    ],
                    [
                      "Device56"
                    ]
                  ],
                  "hovertemplate": "Device=%{customdata[0]}<br>Scan=%{x}<br>Non-linearity Score=%{y}<extra></extra>",
                  "legendgroup": "Device56",
                  "marker": {
                    "color": "#FFA15A",
                    "size": 8,
                    "symbol": "circle"
                  },
                  "mode": "markers",
                  "name": "Device56",
                  "orientation": "v",
                  "showlegend": true,
                  "type": "scatter",
                  "x": [
                    "Scan414",
                    "Scan415",
                    "Scan417",
                    "Scan418",
                    "Scan419"
                  ],
                  "xaxis": "x",
                  "y": [
                    0.26936026936026936,
                    0.4806451612903226,
                    0.45384615384615384,
                    0.7968481375358166,
                    0.46153846153846156
                  ],
                  "yaxis": "y"
                },
                {
                  "customdata": [
                    [
                      "Device1"
                    ],
                    [
                      "Device1"
                    ],
                    [
                      "Device1"
                    ],
                    [
                      "Device1"
                    ],
                    [
                      "Device1"
                    ],
                    [
                      "Device1"
                    ],
                    [
                      "Device1"
                    ],
                    [
                      "Device1"
                    ],
                    [
                      "Device1"
                    ],
                    [
                      "Device1"
                    ],
                    [
                      "Device1"
                    ],
                    [
                      "Device1"
                    ],
                    [
                      "Device1"
                    ],
                    [
                      "Device1"
                    ],
                    [
                      "Device1"
                    ],
                    [
                      "Device1"
                    ],
                    [
                      "Device1"
                    ],
                    [
                      "Device1"
                    ],
                    [
                      "Device1"
                    ],
                    [
                      "Device20"
                    ],
                    [
                      "Device34"
                    ],
                    [
                      "Device34"
                    ],
                    [
                      "Device35"
                    ],
                    [
                      "Device35"
                    ],
                    [
                      "Device36"
                    ],
                    [
                      "Device36"
                    ],
                    [
                      "Device36"
                    ],
                    [
                      "Device36"
                    ],
                    [
                      "Device36"
                    ],
                    [
                      "Device37"
                    ],
                    [
                      "Device37"
                    ],
                    [
                      "Device37"
                    ],
                    [
                      "Device37"
                    ],
                    [
                      "Device37"
                    ],
                    [
                      "Device37"
                    ],
                    [
                      "Device38"
                    ],
                    [
                      "Device38"
                    ],
                    [
                      "Device38"
                    ],
                    [
                      "Device38"
                    ],
                    [
                      "Device38"
                    ],
                    [
                      "Device38"
                    ],
                    [
                      "Device38"
                    ],
                    [
                      "Device38"
                    ],
                    [
                      "Device38"
                    ],
                    [
                      "Device38"
                    ],
                    [
                      "Device38"
                    ],
                    [
                      "Device39"
                    ],
                    [
                      "Device39"
                    ],
                    [
                      "Device39"
                    ],
                    [
                      "Device39"
                    ],
                    [
                      "Device39"
                    ],
                    [
                      "Device39"
                    ],
                    [
                      "Device39"
                    ],
                    [
                      "Device40"
                    ],
                    [
                      "Device40"
                    ],
                    [
                      "Device40"
                    ],
                    [
                      "Device40"
                    ],
                    [
                      "Device40"
                    ],
                    [
                      "Device45"
                    ],
                    [
                      "Device45"
                    ],
                    [
                      "Device45"
                    ],
                    [
                      "Device45"
                    ],
                    [
                      "Device45"
                    ],
                    [
                      "Device46"
                    ],
                    [
                      "Device47"
                    ],
                    [
                      "Device47"
                    ],
                    [
                      "Device47"
                    ],
                    [
                      "Device47"
                    ],
                    [
                      "Device47"
                    ],
                    [
                      "Device48"
                    ],
                    [
                      "Device48"
                    ],
                    [
                      "Device48"
                    ],
                    [
                      "Device48"
                    ],
                    [
                      "Device48"
                    ],
                    [
                      "Device53"
                    ],
                    [
                      "Device54"
                    ],
                    [
                      "Device55"
                    ],
                    [
                      "Device55"
                    ],
                    [
                      "Device55"
                    ],
                    [
                      "Device55"
                    ],
                    [
                      "Device55"
                    ],
                    [
                      "Device55"
                    ],
                    [
                      "Device55"
                    ],
                    [
                      "Device55"
                    ],
                    [
                      "Device55"
                    ],
                    [
                      "Device55"
                    ],
                    [
                      "Device55"
                    ],
                    [
                      "Device55"
                    ],
                    [
                      "Device55"
                    ],
                    [
                      "Device55"
                    ],
                    [
                      "Device55"
                    ],
                    [
                      "Device55"
                    ]
                  ],
                  "hovertemplate": "scan=%{x}<br>non_linearity_score=%{y}<br>device=%{customdata[0]}<extra></extra>",
                  "legendgroup": "",
                  "marker": {
                    "color": "red",
                    "size": 8,
                    "symbol": "circle"
                  },
                  "mode": "markers",
                  "name": "",
                  "orientation": "v",
                  "showlegend": false,
                  "type": "scatter",
                  "x": [
                    "Scan423",
                    "Scan435",
                    "Scan442",
                    "Scan447",
                    "Scan471",
                    "Scan480",
                    "Scan500",
                    "Scan508",
                    "Scan527",
                    "Scan546",
                    "Scan579",
                    "Scan580",
                    "Scan600",
                    "Scan601",
                    "Scan603",
                    "Scan629",
                    "Scan655",
                    "Scan674",
                    "Scan675",
                    "Scan64",
                    "Scan132",
                    "Scan48",
                    "Scan148",
                    "Scan678",
                    "Scan149",
                    "Scan152",
                    "Scan154",
                    "Scan161",
                    "Scan162",
                    "Scan680",
                    "Scan684",
                    "Scan705",
                    "Scan711",
                    "Scan721",
                    "Scan757",
                    "Scan165",
                    "Scan167",
                    "Scan172",
                    "Scan175",
                    "Scan177",
                    "Scan178",
                    "Scan184",
                    "Scan187",
                    "Scan191",
                    "Scan193",
                    "Scan198",
                    "Scan206",
                    "Scan209",
                    "Scan213",
                    "Scan215",
                    "Scan219",
                    "Scan225",
                    "Scan229",
                    "Scan810",
                    "Scan817",
                    "Scan824",
                    "Scan826",
                    "Scan836",
                    "Scan258",
                    "Scan262",
                    "Scan264",
                    "Scan274",
                    "Scan290",
                    "Scan293",
                    "Scan851",
                    "Scan852",
                    "Scan865",
                    "Scan888",
                    "Scan900",
                    "Scan904",
                    "Scan908",
                    "Scan924",
                    "Scan926",
                    "Scan932",
                    "Scan390",
                    "Scan413",
                    "Scan1",
                    "Scan1001",
                    "Scan33",
                    "Scan921",
                    "Scan937",
                    "Scan938",
                    "Scan948",
                    "Scan952",
                    "Scan953",
                    "Scan955",
                    "Scan965",
                    "Scan977",
                    "Scan983",
                    "Scan988",
                    "Scan991",
                    "Scan995"
                  ],
                  "xaxis": "x",
                  "y": [
                    0.908753709198813,
                    0.9497774418409339,
                    0.9744276290259992,
                    0.9488432113558853,
                    0.9546630667116661,
                    0.9533276931754089,
                    0.9533013544018059,
                    0.9494263018534863,
                    0.9634335524857797,
                    0.9497774418409339,
                    0.9546799649276633,
                    0.9512928931533583,
                    0.9566557624559637,
                    0.9492242595204513,
                    0.9599664991624791,
                    0.9542376359532115,
                    0.9529420708529724,
                    0.958976157082749,
                    0.9781490205802132,
                    0.9065876974231089,
                    0.936475127463139,
                    0.9288389513108615,
                    0.9388909291222916,
                    0.936634188374097,
                    0.9330791861766047,
                    0.9336778639104221,
                    0.9672835026608612,
                    0.931681848478116,
                    0.9555324555324556,
                    0.9503407984420643,
                    0.9499912876807807,
                    0.9109869646182496,
                    0.945811025900738,
                    0.9272315312467068,
                    0.9584415584415584,
                    0.9469055588370414,
                    0.9652897303499713,
                    0.9488147365242338,
                    0.947029497299543,
                    0.9136774086653964,
                    0.9713114754098361,
                    0.917643429981493,
                    0.9422222222222222,
                    0.9839779820120902,
                    0.9599227187159417,
                    0.9041984732824427,
                    0.9591215019482819,
                    0.9476576055523424,
                    0.9724067775058016,
                    0.9432093076834466,
                    0.9735461801596351,
                    0.9585068411659726,
                    0.9352413498504912,
                    0.9342906875543951,
                    0.9075646468544963,
                    0.9327142857142857,
                    0.9308185705558949,
                    0.9309029896278218,
                    0.909437156157427,
                    0.9336043360433605,
                    0.9072733540158566,
                    0.9623647604327666,
                    0.9666851749028318,
                    0.9590435876901956,
                    0.9218877135882831,
                    0.9287598944591029,
                    0.9847101623365481,
                    0.9673485618344895,
                    0.9368273689736635,
                    0.937932169904511,
                    0.9857526678271399,
                    0.9911974938228026,
                    0.9092751013057181,
                    0.9276139410187667,
                    0.9422347563940484,
                    0.9258952597805837,
                    0.9952853645021809,
                    0.9821147201105735,
                    0.9311260623229461,
                    0.9139161462979483,
                    0.9875943700443871,
                    0.9942934880753164,
                    0.9245834551300789,
                    0.9799528301886793,
                    0.9053211888782359,
                    0.9094703511801957,
                    0.9330492163871322,
                    0.925886470856795,
                    0.9247445029420873,
                    0.9692831057081395,
                    0.9247095274980636,
                    0.9389925373134328
                  ],
                  "yaxis": "y"
                }
              ],
              "layout": {
                "legend": {
                  "title": {
                    "text": "Device"
                  },
                  "tracegroupgap": 0
                },
                "template": {
                  "data": {
                    "bar": [
                      {
                        "error_x": {
                          "color": "#2a3f5f"
                        },
                        "error_y": {
                          "color": "#2a3f5f"
                        },
                        "marker": {
                          "line": {
                            "color": "#E5ECF6",
                            "width": 0.5
                          },
                          "pattern": {
                            "fillmode": "overlay",
                            "size": 10,
                            "solidity": 0.2
                          }
                        },
                        "type": "bar"
                      }
                    ],
                    "barpolar": [
                      {
                        "marker": {
                          "line": {
                            "color": "#E5ECF6",
                            "width": 0.5
                          },
                          "pattern": {
                            "fillmode": "overlay",
                            "size": 10,
                            "solidity": 0.2
                          }
                        },
                        "type": "barpolar"
                      }
                    ],
                    "carpet": [
                      {
                        "aaxis": {
                          "endlinecolor": "#2a3f5f",
                          "gridcolor": "white",
                          "linecolor": "white",
                          "minorgridcolor": "white",
                          "startlinecolor": "#2a3f5f"
                        },
                        "baxis": {
                          "endlinecolor": "#2a3f5f",
                          "gridcolor": "white",
                          "linecolor": "white",
                          "minorgridcolor": "white",
                          "startlinecolor": "#2a3f5f"
                        },
                        "type": "carpet"
                      }
                    ],
                    "choropleth": [
                      {
                        "colorbar": {
                          "outlinewidth": 0,
                          "ticks": ""
                        },
                        "type": "choropleth"
                      }
                    ],
                    "contour": [
                      {
                        "colorbar": {
                          "outlinewidth": 0,
                          "ticks": ""
                        },
                        "colorscale": [
                          [
                            0,
                            "#0d0887"
                          ],
                          [
                            0.1111111111111111,
                            "#46039f"
                          ],
                          [
                            0.2222222222222222,
                            "#7201a8"
                          ],
                          [
                            0.3333333333333333,
                            "#9c179e"
                          ],
                          [
                            0.4444444444444444,
                            "#bd3786"
                          ],
                          [
                            0.5555555555555556,
                            "#d8576b"
                          ],
                          [
                            0.6666666666666666,
                            "#ed7953"
                          ],
                          [
                            0.7777777777777778,
                            "#fb9f3a"
                          ],
                          [
                            0.8888888888888888,
                            "#fdca26"
                          ],
                          [
                            1,
                            "#f0f921"
                          ]
                        ],
                        "type": "contour"
                      }
                    ],
                    "contourcarpet": [
                      {
                        "colorbar": {
                          "outlinewidth": 0,
                          "ticks": ""
                        },
                        "type": "contourcarpet"
                      }
                    ],
                    "heatmap": [
                      {
                        "colorbar": {
                          "outlinewidth": 0,
                          "ticks": ""
                        },
                        "colorscale": [
                          [
                            0,
                            "#0d0887"
                          ],
                          [
                            0.1111111111111111,
                            "#46039f"
                          ],
                          [
                            0.2222222222222222,
                            "#7201a8"
                          ],
                          [
                            0.3333333333333333,
                            "#9c179e"
                          ],
                          [
                            0.4444444444444444,
                            "#bd3786"
                          ],
                          [
                            0.5555555555555556,
                            "#d8576b"
                          ],
                          [
                            0.6666666666666666,
                            "#ed7953"
                          ],
                          [
                            0.7777777777777778,
                            "#fb9f3a"
                          ],
                          [
                            0.8888888888888888,
                            "#fdca26"
                          ],
                          [
                            1,
                            "#f0f921"
                          ]
                        ],
                        "type": "heatmap"
                      }
                    ],
                    "heatmapgl": [
                      {
                        "colorbar": {
                          "outlinewidth": 0,
                          "ticks": ""
                        },
                        "colorscale": [
                          [
                            0,
                            "#0d0887"
                          ],
                          [
                            0.1111111111111111,
                            "#46039f"
                          ],
                          [
                            0.2222222222222222,
                            "#7201a8"
                          ],
                          [
                            0.3333333333333333,
                            "#9c179e"
                          ],
                          [
                            0.4444444444444444,
                            "#bd3786"
                          ],
                          [
                            0.5555555555555556,
                            "#d8576b"
                          ],
                          [
                            0.6666666666666666,
                            "#ed7953"
                          ],
                          [
                            0.7777777777777778,
                            "#fb9f3a"
                          ],
                          [
                            0.8888888888888888,
                            "#fdca26"
                          ],
                          [
                            1,
                            "#f0f921"
                          ]
                        ],
                        "type": "heatmapgl"
                      }
                    ],
                    "histogram": [
                      {
                        "marker": {
                          "pattern": {
                            "fillmode": "overlay",
                            "size": 10,
                            "solidity": 0.2
                          }
                        },
                        "type": "histogram"
                      }
                    ],
                    "histogram2d": [
                      {
                        "colorbar": {
                          "outlinewidth": 0,
                          "ticks": ""
                        },
                        "colorscale": [
                          [
                            0,
                            "#0d0887"
                          ],
                          [
                            0.1111111111111111,
                            "#46039f"
                          ],
                          [
                            0.2222222222222222,
                            "#7201a8"
                          ],
                          [
                            0.3333333333333333,
                            "#9c179e"
                          ],
                          [
                            0.4444444444444444,
                            "#bd3786"
                          ],
                          [
                            0.5555555555555556,
                            "#d8576b"
                          ],
                          [
                            0.6666666666666666,
                            "#ed7953"
                          ],
                          [
                            0.7777777777777778,
                            "#fb9f3a"
                          ],
                          [
                            0.8888888888888888,
                            "#fdca26"
                          ],
                          [
                            1,
                            "#f0f921"
                          ]
                        ],
                        "type": "histogram2d"
                      }
                    ],
                    "histogram2dcontour": [
                      {
                        "colorbar": {
                          "outlinewidth": 0,
                          "ticks": ""
                        },
                        "colorscale": [
                          [
                            0,
                            "#0d0887"
                          ],
                          [
                            0.1111111111111111,
                            "#46039f"
                          ],
                          [
                            0.2222222222222222,
                            "#7201a8"
                          ],
                          [
                            0.3333333333333333,
                            "#9c179e"
                          ],
                          [
                            0.4444444444444444,
                            "#bd3786"
                          ],
                          [
                            0.5555555555555556,
                            "#d8576b"
                          ],
                          [
                            0.6666666666666666,
                            "#ed7953"
                          ],
                          [
                            0.7777777777777778,
                            "#fb9f3a"
                          ],
                          [
                            0.8888888888888888,
                            "#fdca26"
                          ],
                          [
                            1,
                            "#f0f921"
                          ]
                        ],
                        "type": "histogram2dcontour"
                      }
                    ],
                    "mesh3d": [
                      {
                        "colorbar": {
                          "outlinewidth": 0,
                          "ticks": ""
                        },
                        "type": "mesh3d"
                      }
                    ],
                    "parcoords": [
                      {
                        "line": {
                          "colorbar": {
                            "outlinewidth": 0,
                            "ticks": ""
                          }
                        },
                        "type": "parcoords"
                      }
                    ],
                    "pie": [
                      {
                        "automargin": true,
                        "type": "pie"
                      }
                    ],
                    "scatter": [
                      {
                        "fillpattern": {
                          "fillmode": "overlay",
                          "size": 10,
                          "solidity": 0.2
                        },
                        "type": "scatter"
                      }
                    ],
                    "scatter3d": [
                      {
                        "line": {
                          "colorbar": {
                            "outlinewidth": 0,
                            "ticks": ""
                          }
                        },
                        "marker": {
                          "colorbar": {
                            "outlinewidth": 0,
                            "ticks": ""
                          }
                        },
                        "type": "scatter3d"
                      }
                    ],
                    "scattercarpet": [
                      {
                        "marker": {
                          "colorbar": {
                            "outlinewidth": 0,
                            "ticks": ""
                          }
                        },
                        "type": "scattercarpet"
                      }
                    ],
                    "scattergeo": [
                      {
                        "marker": {
                          "colorbar": {
                            "outlinewidth": 0,
                            "ticks": ""
                          }
                        },
                        "type": "scattergeo"
                      }
                    ],
                    "scattergl": [
                      {
                        "marker": {
                          "colorbar": {
                            "outlinewidth": 0,
                            "ticks": ""
                          }
                        },
                        "type": "scattergl"
                      }
                    ],
                    "scattermapbox": [
                      {
                        "marker": {
                          "colorbar": {
                            "outlinewidth": 0,
                            "ticks": ""
                          }
                        },
                        "type": "scattermapbox"
                      }
                    ],
                    "scatterpolar": [
                      {
                        "marker": {
                          "colorbar": {
                            "outlinewidth": 0,
                            "ticks": ""
                          }
                        },
                        "type": "scatterpolar"
                      }
                    ],
                    "scatterpolargl": [
                      {
                        "marker": {
                          "colorbar": {
                            "outlinewidth": 0,
                            "ticks": ""
                          }
                        },
                        "type": "scatterpolargl"
                      }
                    ],
                    "scatterternary": [
                      {
                        "marker": {
                          "colorbar": {
                            "outlinewidth": 0,
                            "ticks": ""
                          }
                        },
                        "type": "scatterternary"
                      }
                    ],
                    "surface": [
                      {
                        "colorbar": {
                          "outlinewidth": 0,
                          "ticks": ""
                        },
                        "colorscale": [
                          [
                            0,
                            "#0d0887"
                          ],
                          [
                            0.1111111111111111,
                            "#46039f"
                          ],
                          [
                            0.2222222222222222,
                            "#7201a8"
                          ],
                          [
                            0.3333333333333333,
                            "#9c179e"
                          ],
                          [
                            0.4444444444444444,
                            "#bd3786"
                          ],
                          [
                            0.5555555555555556,
                            "#d8576b"
                          ],
                          [
                            0.6666666666666666,
                            "#ed7953"
                          ],
                          [
                            0.7777777777777778,
                            "#fb9f3a"
                          ],
                          [
                            0.8888888888888888,
                            "#fdca26"
                          ],
                          [
                            1,
                            "#f0f921"
                          ]
                        ],
                        "type": "surface"
                      }
                    ],
                    "table": [
                      {
                        "cells": {
                          "fill": {
                            "color": "#EBF0F8"
                          },
                          "line": {
                            "color": "white"
                          }
                        },
                        "header": {
                          "fill": {
                            "color": "#C8D4E3"
                          },
                          "line": {
                            "color": "white"
                          }
                        },
                        "type": "table"
                      }
                    ]
                  },
                  "layout": {
                    "annotationdefaults": {
                      "arrowcolor": "#2a3f5f",
                      "arrowhead": 0,
                      "arrowwidth": 1
                    },
                    "autotypenumbers": "strict",
                    "coloraxis": {
                      "colorbar": {
                        "outlinewidth": 0,
                        "ticks": ""
                      }
                    },
                    "colorscale": {
                      "diverging": [
                        [
                          0,
                          "#8e0152"
                        ],
                        [
                          0.1,
                          "#c51b7d"
                        ],
                        [
                          0.2,
                          "#de77ae"
                        ],
                        [
                          0.3,
                          "#f1b6da"
                        ],
                        [
                          0.4,
                          "#fde0ef"
                        ],
                        [
                          0.5,
                          "#f7f7f7"
                        ],
                        [
                          0.6,
                          "#e6f5d0"
                        ],
                        [
                          0.7,
                          "#b8e186"
                        ],
                        [
                          0.8,
                          "#7fbc41"
                        ],
                        [
                          0.9,
                          "#4d9221"
                        ],
                        [
                          1,
                          "#276419"
                        ]
                      ],
                      "sequential": [
                        [
                          0,
                          "#0d0887"
                        ],
                        [
                          0.1111111111111111,
                          "#46039f"
                        ],
                        [
                          0.2222222222222222,
                          "#7201a8"
                        ],
                        [
                          0.3333333333333333,
                          "#9c179e"
                        ],
                        [
                          0.4444444444444444,
                          "#bd3786"
                        ],
                        [
                          0.5555555555555556,
                          "#d8576b"
                        ],
                        [
                          0.6666666666666666,
                          "#ed7953"
                        ],
                        [
                          0.7777777777777778,
                          "#fb9f3a"
                        ],
                        [
                          0.8888888888888888,
                          "#fdca26"
                        ],
                        [
                          1,
                          "#f0f921"
                        ]
                      ],
                      "sequentialminus": [
                        [
                          0,
                          "#0d0887"
                        ],
                        [
                          0.1111111111111111,
                          "#46039f"
                        ],
                        [
                          0.2222222222222222,
                          "#7201a8"
                        ],
                        [
                          0.3333333333333333,
                          "#9c179e"
                        ],
                        [
                          0.4444444444444444,
                          "#bd3786"
                        ],
                        [
                          0.5555555555555556,
                          "#d8576b"
                        ],
                        [
                          0.6666666666666666,
                          "#ed7953"
                        ],
                        [
                          0.7777777777777778,
                          "#fb9f3a"
                        ],
                        [
                          0.8888888888888888,
                          "#fdca26"
                        ],
                        [
                          1,
                          "#f0f921"
                        ]
                      ]
                    },
                    "colorway": [
                      "#636efa",
                      "#EF553B",
                      "#00cc96",
                      "#ab63fa",
                      "#FFA15A",
                      "#19d3f3",
                      "#FF6692",
                      "#B6E880",
                      "#FF97FF",
                      "#FECB52"
                    ],
                    "font": {
                      "color": "#2a3f5f"
                    },
                    "geo": {
                      "bgcolor": "white",
                      "lakecolor": "white",
                      "landcolor": "#E5ECF6",
                      "showlakes": true,
                      "showland": true,
                      "subunitcolor": "white"
                    },
                    "hoverlabel": {
                      "align": "left"
                    },
                    "hovermode": "closest",
                    "mapbox": {
                      "style": "light"
                    },
                    "paper_bgcolor": "white",
                    "plot_bgcolor": "#E5ECF6",
                    "polar": {
                      "angularaxis": {
                        "gridcolor": "white",
                        "linecolor": "white",
                        "ticks": ""
                      },
                      "bgcolor": "#E5ECF6",
                      "radialaxis": {
                        "gridcolor": "white",
                        "linecolor": "white",
                        "ticks": ""
                      }
                    },
                    "scene": {
                      "xaxis": {
                        "backgroundcolor": "#E5ECF6",
                        "gridcolor": "white",
                        "gridwidth": 2,
                        "linecolor": "white",
                        "showbackground": true,
                        "ticks": "",
                        "zerolinecolor": "white"
                      },
                      "yaxis": {
                        "backgroundcolor": "#E5ECF6",
                        "gridcolor": "white",
                        "gridwidth": 2,
                        "linecolor": "white",
                        "showbackground": true,
                        "ticks": "",
                        "zerolinecolor": "white"
                      },
                      "zaxis": {
                        "backgroundcolor": "#E5ECF6",
                        "gridcolor": "white",
                        "gridwidth": 2,
                        "linecolor": "white",
                        "showbackground": true,
                        "ticks": "",
                        "zerolinecolor": "white"
                      }
                    },
                    "shapedefaults": {
                      "line": {
                        "color": "#2a3f5f"
                      }
                    },
                    "ternary": {
                      "aaxis": {
                        "gridcolor": "white",
                        "linecolor": "white",
                        "ticks": ""
                      },
                      "baxis": {
                        "gridcolor": "white",
                        "linecolor": "white",
                        "ticks": ""
                      },
                      "bgcolor": "#E5ECF6",
                      "caxis": {
                        "gridcolor": "white",
                        "linecolor": "white",
                        "ticks": ""
                      }
                    },
                    "title": {
                      "x": 0.05
                    },
                    "xaxis": {
                      "automargin": true,
                      "gridcolor": "white",
                      "linecolor": "white",
                      "ticks": "",
                      "title": {
                        "standoff": 15
                      },
                      "zerolinecolor": "white",
                      "zerolinewidth": 2
                    },
                    "yaxis": {
                      "automargin": true,
                      "gridcolor": "white",
                      "linecolor": "white",
                      "ticks": "",
                      "title": {
                        "standoff": 15
                      },
                      "zerolinecolor": "white",
                      "zerolinewidth": 2
                    }
                  }
                },
                "title": {
                  "text": "Non-linearity Scores by Device and Scan"
                },
                "xaxis": {
                  "anchor": "y",
                  "domain": [
                    0,
                    1
                  ],
                  "title": {
                    "text": "Scan"
                  }
                },
                "yaxis": {
                  "anchor": "x",
                  "domain": [
                    0,
                    1
                  ],
                  "title": {
                    "text": "Non-linearity Score"
                  }
                }
              }
            }
          },
          "metadata": {},
          "output_type": "display_data"
        }
      ],
      "source": [
        "# Analyze PID assignment patterns\n",
        "def check_pid_linearity(group):\n",
        "    pids = group['pid'].sort_values()\n",
        "    diff = pids.diff()\n",
        "    return (diff != 1).sum() / len(diff)\n",
        "\n",
        "pid_nonlinearity = df.groupby(['device', 'scan']).apply(check_pid_linearity)\n",
        "pid_nonlinearity = pid_nonlinearity.reset_index(name = 'non_linearity_score')\n",
        "\n",
        "# Create a new column to highlight scores above 0.90\n",
        "pid_nonlinearity['highlight'] = pid_nonlinearity['non_linearity_score'] > 0.90\n",
        "\n",
        "# Create the plot\n",
        "fig = px.scatter(pid_nonlinearity, x='scan', y='non_linearity_score', color='device',\n",
        "                 hover_data=['device', 'scan', 'non_linearity_score'],\n",
        "                 labels={'non_linearity_score': 'Non-linearity Score',\n",
        "                         'scan': 'Scan',\n",
        "                         'device': 'Device'},\n",
        "                 title='Non-linearity Scores by Device and Scan')\n",
        "\n",
        "# Highlight points with score > 0.90\n",
        "fig.add_trace(px.scatter(pid_nonlinearity[pid_nonlinearity['highlight']], x='scan', y='non_linearity_score',\n",
        "                         color_discrete_sequence=['red'],\n",
        "                         hover_data=['device', 'scan', 'non_linearity_score']).data[0])\n",
        "\n",
        "# Update layout for better readability\n",
        "fig.update_layout(legend_title_text='Device')\n",
        "fig.update_traces(marker=dict(size=8))\n",
        "\n",
        "# Show the plot\n",
        "fig.show()\n",
        "\n",
        "fig.write_html(\"pid_nonlinearity.html\")"
      ]
    },
    {
      "cell_type": "markdown",
      "metadata": {},
      "source": [
        "### Process Name"
      ]
    },
    {
      "cell_type": "code",
      "execution_count": 25,
      "metadata": {
        "colab": {
          "base_uri": "https://localhost:8080/"
        },
        "id": "LZa0tJLpy-2w",
        "outputId": "7362ee2a-2d6d-4415-b18c-b71776c28c36"
      },
      "outputs": [
        {
          "name": "stdout",
          "output_type": "stream",
          "text": [
            "\n",
            "Top 10 process name prefixes:\n",
            "com                          176814\n",
            "MTLCompilerService            65263\n",
            "extensionkitservice           20020\n",
            "CommCenter                    16281\n",
            "backupd                       15718\n",
            "kernel                        15479\n",
            "CategoriesService             15049\n",
            "duetexpertd                   12586\n",
            "filecoordinationd             12065\n",
            "WiFiCloudAssetsXPCService     11786\n",
            "Name: procName, dtype: int64\n"
          ]
        }
      ],
      "source": [
        "# Analyze process name patterns\n",
        "def extract_prefix(name):\n",
        "    return name.split('.')[0] if '.' in name else name\n",
        "\n",
        "process_prefixes = df['procName'].apply(extract_prefix)\n",
        "prefix_counts = process_prefixes.value_counts()\n",
        "\n",
        "print(\"\\nTop 10 process name prefixes:\")\n",
        "print(prefix_counts.head(10))"
      ]
    },
    {
      "cell_type": "markdown",
      "metadata": {
        "id": "Bjg3u0po0dDz"
      },
      "source": [
        "**Process Persistence:**\n",
        "\n",
        "We analyzed which processes appear in a high percentage of scans, as persistent processes could be either essential system processes or potentially malicious software."
      ]
    },
    {
      "cell_type": "code",
      "execution_count": 26,
      "metadata": {
        "colab": {
          "base_uri": "https://localhost:8080/",
          "height": 656
        },
        "id": "NS7pbW-f1N2x",
        "outputId": "5795a730-f5c3-4817-cf9c-fb8a9b94be83"
      },
      "outputs": [
        {
          "name": "stdout",
          "output_type": "stream",
          "text": [
            "\n",
            "Processes present in over 95% of scans:\n",
            "procName\n",
            "AppleCredentialManagerDaemon     0.995604\n",
            "AssetCacheLocatorService         0.961538\n",
            "CMFSyncAgent                     0.992308\n",
            "CacheDeleteAppContainerCaches    0.985714\n",
            "CalendarWidgetExtension          0.984615\n",
            "CommCenter                       1.000000\n",
            "ContextService                   1.000000\n",
            "HeuristicInterpreter             0.995604\n",
            "IMDPersistenceAgent              0.998901\n",
            "MTLCompilerService               0.987912\n",
            "Name: scan, dtype: float64\n"
          ]
        },
        {
          "data": {
            "application/vnd.plotly.v1+json": {
              "config": {
                "plotlyServerURL": "https://plot.ly"
              },
              "data": [
                {
                  "alignmentgroup": "True",
                  "hovertemplate": "Process Name=%{x}<br>Persistence=%{text}<extra></extra>",
                  "legendgroup": "",
                  "marker": {
                    "color": "#636efa",
                    "pattern": {
                      "shape": ""
                    }
                  },
                  "name": "",
                  "offsetgroup": "",
                  "orientation": "v",
                  "showlegend": false,
                  "text": [
                    0.9956043956043956,
                    0.9615384615384616,
                    0.9923076923076923,
                    0.9857142857142858,
                    0.9846153846153847,
                    1,
                    1,
                    0.9956043956043956,
                    0.9989010989010989,
                    0.987912087912088,
                    0.9868131868131869,
                    0.9989010989010989,
                    0.9967032967032967,
                    0.9912087912087912,
                    0.9758241758241758,
                    0.9989010989010989,
                    0.9538461538461539,
                    0.9989010989010989,
                    0.9813186813186813,
                    0.9989010989010989,
                    0.9505494505494505,
                    0.9989010989010989,
                    0.9989010989010989,
                    1,
                    0.9989010989010989,
                    0.9923076923076923,
                    1,
                    0.9978021978021978,
                    0.9714285714285714,
                    0.9989010989010989,
                    0.967032967032967,
                    0.9527472527472527,
                    0.9978021978021978,
                    0.9989010989010989,
                    0.9967032967032967,
                    1,
                    0.9989010989010989,
                    0.9978021978021978,
                    0.9989010989010989,
                    0.9802197802197802,
                    0.9989010989010989,
                    0.9967032967032967,
                    0.9989010989010989,
                    0.9813186813186813,
                    0.9989010989010989,
                    0.9989010989010989,
                    0.9967032967032967,
                    0.9989010989010989,
                    1,
                    0.9758241758241758,
                    0.9989010989010989,
                    0.9747252747252747,
                    0.9989010989010989,
                    0.9989010989010989,
                    0.9989010989010989,
                    0.9989010989010989,
                    0.9989010989010989,
                    1,
                    0.9989010989010989,
                    0.9978021978021978,
                    0.9989010989010989,
                    0.9989010989010989,
                    0.9989010989010989,
                    0.989010989010989,
                    0.9791208791208791,
                    0.9505494505494505,
                    0.9989010989010989,
                    1,
                    0.9802197802197802,
                    0.9769230769230769,
                    1,
                    1,
                    0.9978021978021978,
                    0.9978021978021978,
                    0.9989010989010989,
                    0.9989010989010989,
                    0.9989010989010989,
                    0.9989010989010989,
                    0.9989010989010989,
                    0.9989010989010989,
                    1,
                    0.9989010989010989,
                    0.9989010989010989,
                    0.9912087912087912,
                    0.9989010989010989,
                    0.9989010989010989,
                    0.9978021978021978,
                    0.9945054945054945,
                    1,
                    0.9989010989010989,
                    0.9945054945054945,
                    0.9989010989010989,
                    0.9945054945054945,
                    0.9989010989010989,
                    0.9989010989010989,
                    0.9989010989010989,
                    0.9989010989010989,
                    0.9868131868131869,
                    0.9989010989010989,
                    0.9989010989010989,
                    0.9923076923076923,
                    0.9945054945054945,
                    0.9945054945054945,
                    0.9989010989010989,
                    0.9989010989010989,
                    0.9967032967032967,
                    0.9626373626373627,
                    0.9956043956043956,
                    0.9989010989010989,
                    0.9989010989010989,
                    0.9989010989010989,
                    0.9802197802197802,
                    0.9813186813186813,
                    0.9989010989010989,
                    0.9978021978021978,
                    0.9978021978021978,
                    0.9989010989010989,
                    0.9989010989010989,
                    0.9989010989010989,
                    0.9923076923076923,
                    0.9978021978021978,
                    0.9978021978021978,
                    0.9989010989010989,
                    0.9989010989010989,
                    0.9593406593406594,
                    0.9835164835164835,
                    0.9989010989010989,
                    0.9989010989010989,
                    0.9813186813186813,
                    0.9989010989010989,
                    0.954945054945055,
                    0.9989010989010989,
                    0.9901098901098901,
                    1,
                    0.9967032967032967,
                    0.9989010989010989,
                    0.9989010989010989,
                    1,
                    1,
                    0.978021978021978,
                    0.9989010989010989,
                    0.9989010989010989,
                    0.9978021978021978,
                    0.9989010989010989,
                    0.9813186813186813,
                    0.9989010989010989,
                    0.9978021978021978,
                    0.9978021978021978,
                    1,
                    0.9912087912087912,
                    0.9868131868131869,
                    0.9989010989010989,
                    0.9989010989010989,
                    0.9989010989010989,
                    0.9505494505494505,
                    0.9615384615384616,
                    0.9901098901098901,
                    0.9989010989010989,
                    1,
                    0.9967032967032967,
                    0.9989010989010989,
                    0.9989010989010989,
                    0.9978021978021978,
                    0.9989010989010989,
                    0.9791208791208791
                  ],
                  "textposition": "auto",
                  "type": "bar",
                  "x": [
                    "AppleCredentialManagerDaemon",
                    "AssetCacheLocatorService",
                    "CMFSyncAgent",
                    "CacheDeleteAppContainerCaches",
                    "CalendarWidgetExtension",
                    "CommCenter",
                    "ContextService",
                    "HeuristicInterpreter",
                    "IMDPersistenceAgent",
                    "MTLCompilerService",
                    "MobileBackupCacheDeleteService",
                    "MobileGestaltHelper",
                    "PowerUIAgent",
                    "ProtectedCloudKeySyncing",
                    "ReportCrash",
                    "ScreenTimeAgent",
                    "Spotlight",
                    "SpringBoard",
                    "UsageTrackingAgent",
                    "UserEventAgent",
                    "WeatherWidget",
                    "WirelessRadioManagerd",
                    "accessoryd",
                    "accountsd",
                    "adid",
                    "afcd",
                    "akd",
                    "amsaccountsd",
                    "amsengagementd",
                    "analyticsd",
                    "announced",
                    "apfs_iosd",
                    "appstored",
                    "apsd",
                    "assetsd",
                    "assistantd",
                    "atc",
                    "axassetsd",
                    "backboardd",
                    "biomed",
                    "biometrickitd",
                    "bird",
                    "bluetoothd",
                    "bookassetd",
                    "calaccessd",
                    "callservicesd",
                    "cdpd",
                    "cfprefsd",
                    "chronod",
                    "ckdiscretionaryd",
                    "cloudd",
                    "cloudphotod",
                    "configd",
                    "contactsd",
                    "containermanagerd",
                    "contextstored",
                    "coreauthd",
                    "coreduetd",
                    "corespeechd",
                    "coresymbolicationd",
                    "ctkd",
                    "dasd",
                    "deleted",
                    "deleted_helper",
                    "destinationd",
                    "diskimagesiod",
                    "distnoted",
                    "dmd",
                    "donotdisturbd",
                    "driverkitd",
                    "duetexpertd",
                    "familycircled",
                    "filecoordinationd",
                    "fileproviderd",
                    "findmydeviced",
                    "fmfd",
                    "fmflocatord",
                    "followupd",
                    "fontservicesd",
                    "fseventsd",
                    "geod",
                    "healthd",
                    "homed",
                    "iconservicesagent",
                    "identityservicesd",
                    "imagent",
                    "ind",
                    "installcoordinationd",
                    "itunescloudd",
                    "itunesstored",
                    "kbd",
                    "keybagd",
                    "launchd",
                    "localizationswitcherd",
                    "locationd",
                    "lockdownd",
                    "logd",
                    "logd_helper",
                    "lsd",
                    "mDNSResponder",
                    "maild",
                    "mapspushd",
                    "medialibraryd",
                    "mediaremoted",
                    "mediaserverd",
                    "misagent",
                    "mmaintenanced",
                    "mobile_installation_proxy",
                    "mobileactivationd",
                    "mobileassetd",
                    "mobiletimerd",
                    "navd",
                    "nearbyd",
                    "nehelper",
                    "nesessionmanager",
                    "networkserviceproxy",
                    "nfcd",
                    "notifyd",
                    "nsurlsessiond",
                    "online-auth-agent",
                    "osanalyticshelper",
                    "parsecd",
                    "passd",
                    "pasted",
                    "peopled",
                    "pipelined",
                    "pkd",
                    "powerd",
                    "privacyaccountingd",
                    "profiled",
                    "promotedcontentd",
                    "rapportd",
                    "replayd",
                    "routined",
                    "rtcreportingd",
                    "runningboardd",
                    "searchd",
                    "searchpartyd",
                    "securityd",
                    "seld",
                    "seserviced",
                    "sharingd",
                    "siriactionsd",
                    "siriinferenced",
                    "siriknowledged",
                    "sleepd",
                    "suggestd",
                    "swcd",
                    "symptomsd",
                    "symptomsd-diag",
                    "syncdefaultsd",
                    "tccd",
                    "thermalmonitord",
                    "timed",
                    "tipsd",
                    "transparencyd",
                    "triald",
                    "trustd",
                    "useractivityd",
                    "voiced",
                    "watchdogd",
                    "watchlistd",
                    "webbookmarksd",
                    "wifid",
                    "wifip2pd"
                  ],
                  "xaxis": "x",
                  "y": [
                    0.9956043956043956,
                    0.9615384615384616,
                    0.9923076923076923,
                    0.9857142857142858,
                    0.9846153846153847,
                    1,
                    1,
                    0.9956043956043956,
                    0.9989010989010989,
                    0.987912087912088,
                    0.9868131868131869,
                    0.9989010989010989,
                    0.9967032967032967,
                    0.9912087912087912,
                    0.9758241758241758,
                    0.9989010989010989,
                    0.9538461538461539,
                    0.9989010989010989,
                    0.9813186813186813,
                    0.9989010989010989,
                    0.9505494505494505,
                    0.9989010989010989,
                    0.9989010989010989,
                    1,
                    0.9989010989010989,
                    0.9923076923076923,
                    1,
                    0.9978021978021978,
                    0.9714285714285714,
                    0.9989010989010989,
                    0.967032967032967,
                    0.9527472527472527,
                    0.9978021978021978,
                    0.9989010989010989,
                    0.9967032967032967,
                    1,
                    0.9989010989010989,
                    0.9978021978021978,
                    0.9989010989010989,
                    0.9802197802197802,
                    0.9989010989010989,
                    0.9967032967032967,
                    0.9989010989010989,
                    0.9813186813186813,
                    0.9989010989010989,
                    0.9989010989010989,
                    0.9967032967032967,
                    0.9989010989010989,
                    1,
                    0.9758241758241758,
                    0.9989010989010989,
                    0.9747252747252747,
                    0.9989010989010989,
                    0.9989010989010989,
                    0.9989010989010989,
                    0.9989010989010989,
                    0.9989010989010989,
                    1,
                    0.9989010989010989,
                    0.9978021978021978,
                    0.9989010989010989,
                    0.9989010989010989,
                    0.9989010989010989,
                    0.989010989010989,
                    0.9791208791208791,
                    0.9505494505494505,
                    0.9989010989010989,
                    1,
                    0.9802197802197802,
                    0.9769230769230769,
                    1,
                    1,
                    0.9978021978021978,
                    0.9978021978021978,
                    0.9989010989010989,
                    0.9989010989010989,
                    0.9989010989010989,
                    0.9989010989010989,
                    0.9989010989010989,
                    0.9989010989010989,
                    1,
                    0.9989010989010989,
                    0.9989010989010989,
                    0.9912087912087912,
                    0.9989010989010989,
                    0.9989010989010989,
                    0.9978021978021978,
                    0.9945054945054945,
                    1,
                    0.9989010989010989,
                    0.9945054945054945,
                    0.9989010989010989,
                    0.9945054945054945,
                    0.9989010989010989,
                    0.9989010989010989,
                    0.9989010989010989,
                    0.9989010989010989,
                    0.9868131868131869,
                    0.9989010989010989,
                    0.9989010989010989,
                    0.9923076923076923,
                    0.9945054945054945,
                    0.9945054945054945,
                    0.9989010989010989,
                    0.9989010989010989,
                    0.9967032967032967,
                    0.9626373626373627,
                    0.9956043956043956,
                    0.9989010989010989,
                    0.9989010989010989,
                    0.9989010989010989,
                    0.9802197802197802,
                    0.9813186813186813,
                    0.9989010989010989,
                    0.9978021978021978,
                    0.9978021978021978,
                    0.9989010989010989,
                    0.9989010989010989,
                    0.9989010989010989,
                    0.9923076923076923,
                    0.9978021978021978,
                    0.9978021978021978,
                    0.9989010989010989,
                    0.9989010989010989,
                    0.9593406593406594,
                    0.9835164835164835,
                    0.9989010989010989,
                    0.9989010989010989,
                    0.9813186813186813,
                    0.9989010989010989,
                    0.954945054945055,
                    0.9989010989010989,
                    0.9901098901098901,
                    1,
                    0.9967032967032967,
                    0.9989010989010989,
                    0.9989010989010989,
                    1,
                    1,
                    0.978021978021978,
                    0.9989010989010989,
                    0.9989010989010989,
                    0.9978021978021978,
                    0.9989010989010989,
                    0.9813186813186813,
                    0.9989010989010989,
                    0.9978021978021978,
                    0.9978021978021978,
                    1,
                    0.9912087912087912,
                    0.9868131868131869,
                    0.9989010989010989,
                    0.9989010989010989,
                    0.9989010989010989,
                    0.9505494505494505,
                    0.9615384615384616,
                    0.9901098901098901,
                    0.9989010989010989,
                    1,
                    0.9967032967032967,
                    0.9989010989010989,
                    0.9989010989010989,
                    0.9978021978021978,
                    0.9989010989010989,
                    0.9791208791208791
                  ],
                  "yaxis": "y"
                }
              ],
              "layout": {
                "barmode": "relative",
                "legend": {
                  "tracegroupgap": 0
                },
                "template": {
                  "data": {
                    "bar": [
                      {
                        "error_x": {
                          "color": "#2a3f5f"
                        },
                        "error_y": {
                          "color": "#2a3f5f"
                        },
                        "marker": {
                          "line": {
                            "color": "#E5ECF6",
                            "width": 0.5
                          },
                          "pattern": {
                            "fillmode": "overlay",
                            "size": 10,
                            "solidity": 0.2
                          }
                        },
                        "type": "bar"
                      }
                    ],
                    "barpolar": [
                      {
                        "marker": {
                          "line": {
                            "color": "#E5ECF6",
                            "width": 0.5
                          },
                          "pattern": {
                            "fillmode": "overlay",
                            "size": 10,
                            "solidity": 0.2
                          }
                        },
                        "type": "barpolar"
                      }
                    ],
                    "carpet": [
                      {
                        "aaxis": {
                          "endlinecolor": "#2a3f5f",
                          "gridcolor": "white",
                          "linecolor": "white",
                          "minorgridcolor": "white",
                          "startlinecolor": "#2a3f5f"
                        },
                        "baxis": {
                          "endlinecolor": "#2a3f5f",
                          "gridcolor": "white",
                          "linecolor": "white",
                          "minorgridcolor": "white",
                          "startlinecolor": "#2a3f5f"
                        },
                        "type": "carpet"
                      }
                    ],
                    "choropleth": [
                      {
                        "colorbar": {
                          "outlinewidth": 0,
                          "ticks": ""
                        },
                        "type": "choropleth"
                      }
                    ],
                    "contour": [
                      {
                        "colorbar": {
                          "outlinewidth": 0,
                          "ticks": ""
                        },
                        "colorscale": [
                          [
                            0,
                            "#0d0887"
                          ],
                          [
                            0.1111111111111111,
                            "#46039f"
                          ],
                          [
                            0.2222222222222222,
                            "#7201a8"
                          ],
                          [
                            0.3333333333333333,
                            "#9c179e"
                          ],
                          [
                            0.4444444444444444,
                            "#bd3786"
                          ],
                          [
                            0.5555555555555556,
                            "#d8576b"
                          ],
                          [
                            0.6666666666666666,
                            "#ed7953"
                          ],
                          [
                            0.7777777777777778,
                            "#fb9f3a"
                          ],
                          [
                            0.8888888888888888,
                            "#fdca26"
                          ],
                          [
                            1,
                            "#f0f921"
                          ]
                        ],
                        "type": "contour"
                      }
                    ],
                    "contourcarpet": [
                      {
                        "colorbar": {
                          "outlinewidth": 0,
                          "ticks": ""
                        },
                        "type": "contourcarpet"
                      }
                    ],
                    "heatmap": [
                      {
                        "colorbar": {
                          "outlinewidth": 0,
                          "ticks": ""
                        },
                        "colorscale": [
                          [
                            0,
                            "#0d0887"
                          ],
                          [
                            0.1111111111111111,
                            "#46039f"
                          ],
                          [
                            0.2222222222222222,
                            "#7201a8"
                          ],
                          [
                            0.3333333333333333,
                            "#9c179e"
                          ],
                          [
                            0.4444444444444444,
                            "#bd3786"
                          ],
                          [
                            0.5555555555555556,
                            "#d8576b"
                          ],
                          [
                            0.6666666666666666,
                            "#ed7953"
                          ],
                          [
                            0.7777777777777778,
                            "#fb9f3a"
                          ],
                          [
                            0.8888888888888888,
                            "#fdca26"
                          ],
                          [
                            1,
                            "#f0f921"
                          ]
                        ],
                        "type": "heatmap"
                      }
                    ],
                    "heatmapgl": [
                      {
                        "colorbar": {
                          "outlinewidth": 0,
                          "ticks": ""
                        },
                        "colorscale": [
                          [
                            0,
                            "#0d0887"
                          ],
                          [
                            0.1111111111111111,
                            "#46039f"
                          ],
                          [
                            0.2222222222222222,
                            "#7201a8"
                          ],
                          [
                            0.3333333333333333,
                            "#9c179e"
                          ],
                          [
                            0.4444444444444444,
                            "#bd3786"
                          ],
                          [
                            0.5555555555555556,
                            "#d8576b"
                          ],
                          [
                            0.6666666666666666,
                            "#ed7953"
                          ],
                          [
                            0.7777777777777778,
                            "#fb9f3a"
                          ],
                          [
                            0.8888888888888888,
                            "#fdca26"
                          ],
                          [
                            1,
                            "#f0f921"
                          ]
                        ],
                        "type": "heatmapgl"
                      }
                    ],
                    "histogram": [
                      {
                        "marker": {
                          "pattern": {
                            "fillmode": "overlay",
                            "size": 10,
                            "solidity": 0.2
                          }
                        },
                        "type": "histogram"
                      }
                    ],
                    "histogram2d": [
                      {
                        "colorbar": {
                          "outlinewidth": 0,
                          "ticks": ""
                        },
                        "colorscale": [
                          [
                            0,
                            "#0d0887"
                          ],
                          [
                            0.1111111111111111,
                            "#46039f"
                          ],
                          [
                            0.2222222222222222,
                            "#7201a8"
                          ],
                          [
                            0.3333333333333333,
                            "#9c179e"
                          ],
                          [
                            0.4444444444444444,
                            "#bd3786"
                          ],
                          [
                            0.5555555555555556,
                            "#d8576b"
                          ],
                          [
                            0.6666666666666666,
                            "#ed7953"
                          ],
                          [
                            0.7777777777777778,
                            "#fb9f3a"
                          ],
                          [
                            0.8888888888888888,
                            "#fdca26"
                          ],
                          [
                            1,
                            "#f0f921"
                          ]
                        ],
                        "type": "histogram2d"
                      }
                    ],
                    "histogram2dcontour": [
                      {
                        "colorbar": {
                          "outlinewidth": 0,
                          "ticks": ""
                        },
                        "colorscale": [
                          [
                            0,
                            "#0d0887"
                          ],
                          [
                            0.1111111111111111,
                            "#46039f"
                          ],
                          [
                            0.2222222222222222,
                            "#7201a8"
                          ],
                          [
                            0.3333333333333333,
                            "#9c179e"
                          ],
                          [
                            0.4444444444444444,
                            "#bd3786"
                          ],
                          [
                            0.5555555555555556,
                            "#d8576b"
                          ],
                          [
                            0.6666666666666666,
                            "#ed7953"
                          ],
                          [
                            0.7777777777777778,
                            "#fb9f3a"
                          ],
                          [
                            0.8888888888888888,
                            "#fdca26"
                          ],
                          [
                            1,
                            "#f0f921"
                          ]
                        ],
                        "type": "histogram2dcontour"
                      }
                    ],
                    "mesh3d": [
                      {
                        "colorbar": {
                          "outlinewidth": 0,
                          "ticks": ""
                        },
                        "type": "mesh3d"
                      }
                    ],
                    "parcoords": [
                      {
                        "line": {
                          "colorbar": {
                            "outlinewidth": 0,
                            "ticks": ""
                          }
                        },
                        "type": "parcoords"
                      }
                    ],
                    "pie": [
                      {
                        "automargin": true,
                        "type": "pie"
                      }
                    ],
                    "scatter": [
                      {
                        "fillpattern": {
                          "fillmode": "overlay",
                          "size": 10,
                          "solidity": 0.2
                        },
                        "type": "scatter"
                      }
                    ],
                    "scatter3d": [
                      {
                        "line": {
                          "colorbar": {
                            "outlinewidth": 0,
                            "ticks": ""
                          }
                        },
                        "marker": {
                          "colorbar": {
                            "outlinewidth": 0,
                            "ticks": ""
                          }
                        },
                        "type": "scatter3d"
                      }
                    ],
                    "scattercarpet": [
                      {
                        "marker": {
                          "colorbar": {
                            "outlinewidth": 0,
                            "ticks": ""
                          }
                        },
                        "type": "scattercarpet"
                      }
                    ],
                    "scattergeo": [
                      {
                        "marker": {
                          "colorbar": {
                            "outlinewidth": 0,
                            "ticks": ""
                          }
                        },
                        "type": "scattergeo"
                      }
                    ],
                    "scattergl": [
                      {
                        "marker": {
                          "colorbar": {
                            "outlinewidth": 0,
                            "ticks": ""
                          }
                        },
                        "type": "scattergl"
                      }
                    ],
                    "scattermapbox": [
                      {
                        "marker": {
                          "colorbar": {
                            "outlinewidth": 0,
                            "ticks": ""
                          }
                        },
                        "type": "scattermapbox"
                      }
                    ],
                    "scatterpolar": [
                      {
                        "marker": {
                          "colorbar": {
                            "outlinewidth": 0,
                            "ticks": ""
                          }
                        },
                        "type": "scatterpolar"
                      }
                    ],
                    "scatterpolargl": [
                      {
                        "marker": {
                          "colorbar": {
                            "outlinewidth": 0,
                            "ticks": ""
                          }
                        },
                        "type": "scatterpolargl"
                      }
                    ],
                    "scatterternary": [
                      {
                        "marker": {
                          "colorbar": {
                            "outlinewidth": 0,
                            "ticks": ""
                          }
                        },
                        "type": "scatterternary"
                      }
                    ],
                    "surface": [
                      {
                        "colorbar": {
                          "outlinewidth": 0,
                          "ticks": ""
                        },
                        "colorscale": [
                          [
                            0,
                            "#0d0887"
                          ],
                          [
                            0.1111111111111111,
                            "#46039f"
                          ],
                          [
                            0.2222222222222222,
                            "#7201a8"
                          ],
                          [
                            0.3333333333333333,
                            "#9c179e"
                          ],
                          [
                            0.4444444444444444,
                            "#bd3786"
                          ],
                          [
                            0.5555555555555556,
                            "#d8576b"
                          ],
                          [
                            0.6666666666666666,
                            "#ed7953"
                          ],
                          [
                            0.7777777777777778,
                            "#fb9f3a"
                          ],
                          [
                            0.8888888888888888,
                            "#fdca26"
                          ],
                          [
                            1,
                            "#f0f921"
                          ]
                        ],
                        "type": "surface"
                      }
                    ],
                    "table": [
                      {
                        "cells": {
                          "fill": {
                            "color": "#EBF0F8"
                          },
                          "line": {
                            "color": "white"
                          }
                        },
                        "header": {
                          "fill": {
                            "color": "#C8D4E3"
                          },
                          "line": {
                            "color": "white"
                          }
                        },
                        "type": "table"
                      }
                    ]
                  },
                  "layout": {
                    "annotationdefaults": {
                      "arrowcolor": "#2a3f5f",
                      "arrowhead": 0,
                      "arrowwidth": 1
                    },
                    "autotypenumbers": "strict",
                    "coloraxis": {
                      "colorbar": {
                        "outlinewidth": 0,
                        "ticks": ""
                      }
                    },
                    "colorscale": {
                      "diverging": [
                        [
                          0,
                          "#8e0152"
                        ],
                        [
                          0.1,
                          "#c51b7d"
                        ],
                        [
                          0.2,
                          "#de77ae"
                        ],
                        [
                          0.3,
                          "#f1b6da"
                        ],
                        [
                          0.4,
                          "#fde0ef"
                        ],
                        [
                          0.5,
                          "#f7f7f7"
                        ],
                        [
                          0.6,
                          "#e6f5d0"
                        ],
                        [
                          0.7,
                          "#b8e186"
                        ],
                        [
                          0.8,
                          "#7fbc41"
                        ],
                        [
                          0.9,
                          "#4d9221"
                        ],
                        [
                          1,
                          "#276419"
                        ]
                      ],
                      "sequential": [
                        [
                          0,
                          "#0d0887"
                        ],
                        [
                          0.1111111111111111,
                          "#46039f"
                        ],
                        [
                          0.2222222222222222,
                          "#7201a8"
                        ],
                        [
                          0.3333333333333333,
                          "#9c179e"
                        ],
                        [
                          0.4444444444444444,
                          "#bd3786"
                        ],
                        [
                          0.5555555555555556,
                          "#d8576b"
                        ],
                        [
                          0.6666666666666666,
                          "#ed7953"
                        ],
                        [
                          0.7777777777777778,
                          "#fb9f3a"
                        ],
                        [
                          0.8888888888888888,
                          "#fdca26"
                        ],
                        [
                          1,
                          "#f0f921"
                        ]
                      ],
                      "sequentialminus": [
                        [
                          0,
                          "#0d0887"
                        ],
                        [
                          0.1111111111111111,
                          "#46039f"
                        ],
                        [
                          0.2222222222222222,
                          "#7201a8"
                        ],
                        [
                          0.3333333333333333,
                          "#9c179e"
                        ],
                        [
                          0.4444444444444444,
                          "#bd3786"
                        ],
                        [
                          0.5555555555555556,
                          "#d8576b"
                        ],
                        [
                          0.6666666666666666,
                          "#ed7953"
                        ],
                        [
                          0.7777777777777778,
                          "#fb9f3a"
                        ],
                        [
                          0.8888888888888888,
                          "#fdca26"
                        ],
                        [
                          1,
                          "#f0f921"
                        ]
                      ]
                    },
                    "colorway": [
                      "#636efa",
                      "#EF553B",
                      "#00cc96",
                      "#ab63fa",
                      "#FFA15A",
                      "#19d3f3",
                      "#FF6692",
                      "#B6E880",
                      "#FF97FF",
                      "#FECB52"
                    ],
                    "font": {
                      "color": "#2a3f5f"
                    },
                    "geo": {
                      "bgcolor": "white",
                      "lakecolor": "white",
                      "landcolor": "#E5ECF6",
                      "showlakes": true,
                      "showland": true,
                      "subunitcolor": "white"
                    },
                    "hoverlabel": {
                      "align": "left"
                    },
                    "hovermode": "closest",
                    "mapbox": {
                      "style": "light"
                    },
                    "paper_bgcolor": "white",
                    "plot_bgcolor": "#E5ECF6",
                    "polar": {
                      "angularaxis": {
                        "gridcolor": "white",
                        "linecolor": "white",
                        "ticks": ""
                      },
                      "bgcolor": "#E5ECF6",
                      "radialaxis": {
                        "gridcolor": "white",
                        "linecolor": "white",
                        "ticks": ""
                      }
                    },
                    "scene": {
                      "xaxis": {
                        "backgroundcolor": "#E5ECF6",
                        "gridcolor": "white",
                        "gridwidth": 2,
                        "linecolor": "white",
                        "showbackground": true,
                        "ticks": "",
                        "zerolinecolor": "white"
                      },
                      "yaxis": {
                        "backgroundcolor": "#E5ECF6",
                        "gridcolor": "white",
                        "gridwidth": 2,
                        "linecolor": "white",
                        "showbackground": true,
                        "ticks": "",
                        "zerolinecolor": "white"
                      },
                      "zaxis": {
                        "backgroundcolor": "#E5ECF6",
                        "gridcolor": "white",
                        "gridwidth": 2,
                        "linecolor": "white",
                        "showbackground": true,
                        "ticks": "",
                        "zerolinecolor": "white"
                      }
                    },
                    "shapedefaults": {
                      "line": {
                        "color": "#2a3f5f"
                      }
                    },
                    "ternary": {
                      "aaxis": {
                        "gridcolor": "white",
                        "linecolor": "white",
                        "ticks": ""
                      },
                      "baxis": {
                        "gridcolor": "white",
                        "linecolor": "white",
                        "ticks": ""
                      },
                      "bgcolor": "#E5ECF6",
                      "caxis": {
                        "gridcolor": "white",
                        "linecolor": "white",
                        "ticks": ""
                      }
                    },
                    "title": {
                      "x": 0.05
                    },
                    "xaxis": {
                      "automargin": true,
                      "gridcolor": "white",
                      "linecolor": "white",
                      "ticks": "",
                      "title": {
                        "standoff": 15
                      },
                      "zerolinecolor": "white",
                      "zerolinewidth": 2
                    },
                    "yaxis": {
                      "automargin": true,
                      "gridcolor": "white",
                      "linecolor": "white",
                      "ticks": "",
                      "title": {
                        "standoff": 15
                      },
                      "zerolinecolor": "white",
                      "zerolinewidth": 2
                    }
                  }
                },
                "title": {
                  "text": "Processes Present in Over 95% of Scans"
                },
                "xaxis": {
                  "anchor": "y",
                  "domain": [
                    0,
                    1
                  ],
                  "title": {
                    "text": "Process Name"
                  }
                },
                "yaxis": {
                  "anchor": "x",
                  "domain": [
                    0,
                    1
                  ],
                  "title": {
                    "text": "Persistence"
                  }
                }
              }
            }
          },
          "metadata": {},
          "output_type": "display_data"
        }
      ],
      "source": [
        "# Process persistence\n",
        "process_persistence = df.groupby('procName')['scan'].nunique() / df['scan'].nunique()\n",
        "\n",
        "persistent_processes = process_persistence[process_persistence > 0.95]\n",
        "print(\"\\nProcesses present in over 95% of scans:\")\n",
        "print(persistent_processes.head(10))\n",
        "\n",
        "# Convert to DataFrame for Plotly Express\n",
        "persistent_processes_df = persistent_processes.reset_index()\n",
        "persistent_processes_df.columns = ['ProcessName', 'Persistence']\n",
        "\n",
        "# Create the bar chart using Plotly Express\n",
        "fig = px.bar(persistent_processes_df, x='ProcessName', y='Persistence',\n",
        "             title='Processes Present in Over 95% of Scans',\n",
        "             labels={'ProcessName': 'Process Name', 'Persistence': 'Persistence'},\n",
        "             text='Persistence')\n",
        "\n",
        "# Display the bar chart\n",
        "fig.show()\n",
        "\n",
        "fig.write_html(\"persistent_processes.html\")"
      ]
    },
    {
      "cell_type": "markdown",
      "metadata": {
        "id": "aHYM3Yrot1K6"
      },
      "source": [
        "### Anomaly Detection\n",
        "1. String Similarity in Process Names: Detect process names that are similar to benign processes but have slight deviations."
      ]
    },
    {
      "cell_type": "code",
      "execution_count": 27,
      "metadata": {
        "colab": {
          "base_uri": "https://localhost:8080/"
        },
        "id": "mUaFxi_Dx3cP",
        "outputId": "bf3ade72-0670-4a19-987f-08c6efccf90a"
      },
      "outputs": [
        {
          "name": "stdout",
          "output_type": "stream",
          "text": [
            "Similar Process Pairs: [('dprivacyd', 'adprivacyd'), ('backupd', '(backupd)'), ('com.apple.SafariServices.Conten', 'com.apple.SafariServices.ContentBlockerLoader'), ('com.apple.SafariServices.Conten', 'com.apple.SafariServices.Content'), ('PFLHRPeriodPredCK', 'PFLHRPeriodPredMLH'), ('healthappd', 'healthd'), ('CoreSpotlightImportExtension1_i', 'CoreSpotlightImportExtension1_iOS'), ('CoreSpotlightImportExtension1_i', 'CoreSpotlightImportExtension1_iO'), ('EAUpdaterService', 'UARPUpdaterServiceHID'), ('EAUpdaterService', 'UARPUpdaterServiceAFU'), ('adattributiond', 'spaceattributiond'), ('adattributiond', 'attributionkitd'), ('tvremoted', 'remoted'), ('MTLCompilerService', 'ANECompilerService'), ('ProactiveShareSheetLighthouseBa', 'ProactiveShareSheetLighthouseBackgroundPlugin'), ('ProactiveShareSheetLighthouseBa', 'ProactiveShareSheetLighthouseBac'), ('MetricsExtension', 'ServiceExtension'), ('UARPUpdaterServiceHID', 'UARPUpdaterServiceUSBPD'), ('UARPUpdaterServiceHID', 'UARPUpdaterServiceAFU'), ('com.apple.MobileSoftwareUpdate.', 'com.apple.MobileSoftwareUpdate.C'), ('com.apple.MobileSoftwareUpdate.', 'com.apple.MobileSoftwareUpdate.U'), ('PerfPowerTelemetryClientRegistr', 'PerfPowerTelemetryClientRegistrationService'), ('PerfPowerTelemetryClientRegistr', 'PerfPowerTelemetryClientRegistra'), ('ThumbnailExtensionSecure', 'ThumbnailExtension'), ('filecoordinationd', 'installcoordinationd'), ('appleh13camerad', 'applecamerad'), ('appleh13camerad', 'appleh16camerad'), ('assistant_cdmd', 'assistantd'), ('amsaccountsd', 'accountsd'), ('com.apple.FaceTime.FTConversati', 'com.apple.FaceTime.FTConversationService'), ('com.apple.FaceTime.FTConversati', 'com.apple.FaceTime.FTConversatio'), ('AuthenticationServicesAgent', 'AuthenticationServicesUI'), ('ShortcutsTopHitsExtension', 'ShortcutsWidgetExtension'), ('FSTaskScheduler', 'NANDTaskScheduler'), ('com.apple.accessibility.mediaac', 'com.apple.accessibility.mediaaccessibilityd'), ('com.apple.accessibility.mediaac', 'com.apple.accessibility.mediaacc'), ('com.apple.accessibility.mediaac', 'com.apple.accessibility.Accessi'), ('com.apple.accessibility.mediaac', 'com.apple.accessibility.Accessib'), ('com.apple.mobilenotes.WidgetExt', 'com.apple.mobilenotes.WidgetExtension'), ('com.apple.mobilenotes.WidgetExt', 'com.apple.mobilenotes.WidgetExte'), ('com.apple.mobilenotes.WidgetExt', 'com.apple.mobilenotes.IntentsExt'), ('com.apple.mobilenotes.WidgetExt', 'com.apple.mobilenotes.IntentsEx'), ('com.apple.mobilenotes.WidgetExt', 'com.apple.mobilenotes.Spotlight'), ('UARPUpdaterServiceUSBPD', 'UARPUpdaterServiceAFU'), ('com.apple.dt.DTConditionInducer', 'com.apple.dt.DTConditionInducerSupportService'), ('com.apple.dt.DTConditionInducer', 'com.apple.dt.DTConditionInducerS'), ('com.apple.SharePlay.NearbyInvit', 'com.apple.SharePlay.NearbyInvitationsService'), ('com.apple.SharePlay.NearbyInvit', 'com.apple.SharePlay.NearbyInvita'), ('installcoordinationd', 'installcoordination_proxy'), ('audioaccessoryd', 'dockaccessoryd'), ('assetsd', 'axassetsd'), ('asd', 'absd'), ('asd', 'apsd'), ('asd', 'dasd'), ('ScreenshotServicesService', 'ScreenshotService'), ('sysdiagnosed', 'sysdiagnose'), ('sysdiagnosed', 'lsdiagnose'), ('com.apple.VideoSubscriberAccoun', 'com.apple.VideoSubscriberAccount'), ('com.apple.DocumentManagerCore.D', 'com.apple.DocumentManagerCore.Downloads'), ('com.apple.DocumentManagerCore.D', 'com.apple.DocumentManagerCore.Do'), ('com.apple.DocumentManagerCore.D', 'com.apple.DocumentManager.Servic'), ('com.apple.DocumentManagerCore.D', 'com.apple.DocumentManager.Servi'), ('com.apple.DocumentManagerCore.D', 'com.apple.DocumentManager.Service'), ('IntelligencePlatformComputeServ', 'IntelligencePlatformComputeService'), ('IntelligencePlatformComputeServ', 'IntelligencePlatformComputeServi'), ('com.apple.MapKit.SnapshotServic', 'com.apple.MapKit.SnapshotService'), ('swcd', 'wcd'), ('CommCenterRootHelper', 'CommCenterMobileHelper'), ('com.apple.quicklook.extension.p', 'com.apple.quicklook.extension.previewUI'), ('com.apple.quicklook.extension.p', 'com.apple.quicklook.extension.pr'), ('metrickitd', 'biometrickitd'), ('LegacyProfilesSubscriber', 'InteractiveLegacyProfilesSubscriber'), ('AMDEngagementExtension', 'NewsEngagementExtension'), ('com.apple.CallKit.CallDirectory', 'com.apple.CallKit.CallDirectoryMaintenance'), ('com.apple.CallKit.CallDirectory', 'com.apple.CallKit.CallDirectoryM'), ('AirDrop', 'AirDropUI'), ('com.apple.CloudDocs.iCloudDrive', 'com.apple.CloudDocs.iCloudDriveFileProvider'), ('com.apple.CloudDocs.iCloudDrive', 'com.apple.CloudDocs.iCloudDriveF'), ('linkd', 'tzlinkd'), ('com.apple.DictionaryServiceHelp', 'com.apple.DictionaryServiceHelper'), ('com.apple.DictionaryServiceHelp', 'com.apple.DictionaryServiceHelpe'), ('nanoregistrylaunchd', 'nanoregistryd'), ('dmd', 'mdmd'), ('mDNSResponder', 'mDNSResponderHelper'), ('ProfileValidatedAppIdentityServ', 'ProfileValidatedAppIdentityService'), ('ProfileValidatedAppIdentityServ', 'ProfileValidatedAppIdentityServi'), ('InteractiveLegacyProfilesSubscr', 'InteractiveLegacyProfilesSubscriber'), ('InteractiveLegacyProfilesSubscr', 'InteractiveLegacyProfilesSubscri'), ('InteractiveLegacyProfilesSubscr', 'InteractiveLegacyProfilesExtens'), ('InteractiveLegacyProfilesSubscr', 'InteractiveLegacyProfilesExtensi'), ('ScreenTimeWidgetExtension', 'HomeScreenWidgetExtension'), ('ScreenTimeWidgetExtension', 'ScreenTimeWidgetIntentsExtension'), ('ScreenTimeWidgetExtension', 'ScreenTimeWidgetIntentsExtensio'), ('com.apple.NeighborhoodActivityC', 'com.apple.NeighborhoodActivityConduitService'), ('com.apple.NeighborhoodActivityC', 'com.apple.NeighborhoodActivityCo'), ('lockdownd', 'lockdownmoded'), ('MobileCal', 'MobileMail'), ('ptpcamerad', 'applecamerad'), ('com.apple.siri-distributed-eval', 'com.apple.siri-distributed-evaluation'), ('com.apple.siri-distributed-eval', 'com.apple.siri-distributed-evalu'), ('contactsd', 'Contacts'), ('analyticsd', 'geoanalyticsd'), ('analyticsd', 'wifianalyticsd'), ('SharingUIService', 'SharingHUDService'), ('SharingUIService', 'SharingViewService'), ('com.apple.photos.ImageConversio', 'com.apple.photos.VideoConversio'), ('com.apple.photos.ImageConversio', 'com.apple.photos.ImageConversionService'), ('com.apple.photos.ImageConversio', 'com.apple.photos.ImageConversion'), ('com.apple.photos.ImageConversio', 'com.apple.photos.VideoConversion'), ('PassKitEngagementExtension', 'NewsEngagementExtension'), ('feedbackd', 'Feedback'), ('AppPredictionIntentsHelperServi', 'AppPredictionIntentsHelperService'), ('AppPredictionIntentsHelperServi', 'AppPredictionIntentsHelperServic'), ('CalendarFocusConfigurationExten', 'CalendarFocusConfigurationExtension'), ('CalendarFocusConfigurationExten', 'CalendarFocusConfigurationExtens'), ('com.apple.MobileInstallationHel', 'com.apple.MobileInstallationHelperService'), ('com.apple.MobileInstallationHel', 'com.apple.MobileInstallationHelp'), ('PhotosReliveWidget', 'PhotosReliveWidgetIntents'), ('bluetoothuserd', 'bluetoothd'), ('containermanagerd_system', 'containermanagerd'), ('MessagesActionExtension', 'MessagesAssistantExtension'), ('locationpushd', 'locationd'), ('com.apple.SiriTTSService.TrialP', 'com.apple.SiriTTSService.TrialProxy'), ('com.apple.SiriTTSService.TrialP', 'com.apple.SiriTTSService.TrialPr'), ('com.apple.mlhost.TelemetryWorke', 'com.apple.mlhost.TelemetryWorker'), ('com.apple.quicklook.ThumbnailsA', 'com.apple.quicklook.ThumbnailsAgent'), ('com.apple.quicklook.ThumbnailsA', 'com.apple.quicklook.ThumbnailsAg'), ('geoanalyticsd', 'memoryanalyticsd'), ('CalendarWidgetExtension', 'SafariWidgetExtension'), ('CalendarWidgetExtension', 'RemindersWidgetExtension'), ('CalendarWidgetExtension', 'MailWidgetExtension'), ('CalendarWidgetExtension', 'AthenaWidgetExtension'), ('CalendarWidgetExtension', 'NearbyWidgetExtension'), ('CalendarWidgetExtension', 'CamoWidgetExtension'), ('CalendarWidgetExtension', 'CalendarWidgetExt'), ('BatteriesAvocadoWidgetExtension', 'BatteriesWidgetExtension'), ('com.apple.dt.instruments.dtsecu', 'com.apple.dt.instruments.dtsecurity'), ('com.apple.dt.instruments.dtsecu', 'com.apple.dt.instruments.dtsecur'), ('fairplayd.H2', 'fairplayd.A2'), ('com.apple.photos.VideoConversio', 'com.apple.photos.VideoConversionService'), ('com.apple.photos.VideoConversio', 'com.apple.photos.ImageConversion'), ('com.apple.photos.VideoConversio', 'com.apple.photos.VideoConversion'), ('com.apple.DriverKit-AppleBCMWLA', 'com.apple.DriverKit-AppleBCMWLAN'), ('HomeWidgetExtension', 'TVWidgetExtension'), ('HomeWidgetExtension', 'HomeEnergyWidgetsExtension'), ('HomeWidgetExtension', 'BooksWidgetExtension'), ('HomeWidgetExtension', 'SleepWidgetExtension'), ('HomeWidgetExtension', 'HomeScreenWidgetExtension'), ('HomeWidgetExtension', 'MirroredWidgetExtension'), ('HomeWidgetExtension', 'FC_WidgetExtension'), ('HomeWidgetExtension', 'WidgetKitExtension'), ('HomeWidgetExtension', 'DWDWidgetExtension'), ('HomeWidgetExtension', 'WidgetExtension'), ('HomeWidgetExtension', 'WidgetsExtension'), ('HomeWidgetExtension', 'Widget Extension'), ('HomeWidgetExtension', 'RiderWidgetExtension'), ('HomeWidgetExtension', 'FNWidgetExtension'), ('HomeWidgetExtension', 'Home_Widgets_Extension'), ('HomeWidgetExtension', 'CamoWidgetExtension'), ('HomeWidgetExtension', 'widgetExtension'), ('HomeWidgetExtension', 'MiHomeDesktopWidgetExtension'), ('HomeWidgetExtension', 'VideoWidgetExtension'), ('HomeWidgetExtension', 'GRWidgetExtension'), ('HomeWidgetExtension', 'AwemeWidgetExtension'), ('callservicesd', 'adservicesd'), ('nanoregistryd', 'nanoappregistryd'), ('accessoryd', 'dockaccessoryd'), ('accessoryd', 'caraccessoryd'), ('DPMLRuntimePluginNonDnU', 'DPMLRuntimePlugin'), ('CoreLocationTemporaryPreciseAut', 'CoreLocationTemporaryPreciseAuthPromptPlugin'), ('CoreLocationTemporaryPreciseAut', 'CoreLocationTemporaryPreciseAuth'), ('com.apple.dt.instruments.dtsecurity', 'com.apple.dt.instruments.dtsecur'), ('AppStoreWidgetsExtension', 'Streaks-WidgetsExtension'), ('SafariWidgetExtension', 'MailWidgetExtension'), ('SafariWidgetExtension', 'WidgetExtension'), ('SafariWidgetExtension', 'WidgetsExtension'), ('SafariWidgetExtension', 'Widget Extension'), ('SafariWidgetExtension', 'NearbyWidgetExtension'), ('SafariWidgetExtension', 'Shazam Widget Extension'), ('SafariWidgetExtension', 'SmartThingsWidgetExtension'), ('FitnessWidget', 'MyFitnessPal Widget'), ('com.apple.CloudDocs.iCloudDriveFileProvider', 'com.apple.CloudDocs.MobileDocumentsFileProvider'), ('com.apple.CloudDocs.iCloudDriveFileProvider', 'com.apple.CloudDocs.iCloudDriveF'), ('com.apple.SharePlay.NearbyInvitationsService', 'com.apple.SharePlay.NearbyInvita'), ('com.apple.FaceTime.FTConversationService', 'com.apple.FaceTime.FTConversatio'), ('PerfPowerTelemetryClientRegistrationService', 'PerfPowerTelemetryClientRegistra'), ('com.apple.accessibility.mediaaccessibilityd', 'com.apple.accessibility.mediaacc'), ('com.apple.accessibility.mediaaccessibilityd', 'com.apple.accessibility.Accessi'), ('com.apple.accessibility.mediaaccessibilityd', 'com.apple.accessibility.AccessibilityUIServer'), ('com.apple.accessibility.mediaaccessibilityd', 'com.apple.accessibility.Accessib'), ('com.apple.NeighborhoodActivityConduitService', 'com.apple.NeighborhoodActivityCo'), ('com.apple.MobileInstallationHelperService', 'com.apple.MobileInstallationHelp'), ('com.apple.SafariServices.ContentBlockerLoader', 'com.apple.SafariServices.Content'), ('CalendarFocusConfigurationExtension', 'CalendarFocusConfigurationExtens'), ('InteractiveLegacyProfilesSubscriber', 'InteractiveLegacyProfilesSubscri'), ('InteractiveLegacyProfilesSubscriber', 'InteractiveLegacyProfilesExtensi'), ('AppPredictionIntentsHelperService', 'AppPredictionIntentsHelperServic'), ('com.apple.photos.ImageConversionService', 'com.apple.photos.VideoConversionService'), ('com.apple.photos.ImageConversionService', 'com.apple.photos.ImageConversion'), ('com.apple.mobilenotes.WidgetExtension', 'com.apple.mobilenotes.WidgetExte'), ('com.apple.mobilenotes.WidgetExtension', 'com.apple.mobilenotes.IntentsExtension'), ('com.apple.mobilenotes.WidgetExtension', 'com.apple.mobilenotes.SpotlightIndexExtension'), ('taskinfo', '(taskinfo)'), ('com.apple.quicklook.ThumbnailsAgent', 'com.apple.quicklook.ThumbnailsAg'), ('com.apple.SiriTTSService.TrialProxy', 'com.apple.SiriTTSService.TrialPr'), ('IntelligencePlatformComputeService', 'IntelligencePlatformComputeServi'), ('com.apple.CallKit.CallDirectoryMaintenance', 'com.apple.CallKit.CallDirectoryM'), ('com.apple.DictionaryServiceHelper', 'com.apple.DictionaryServiceHelpe'), ('com.apple.dt.DTConditionInducerSupportService', 'com.apple.dt.DTConditionInducerS'), ('ProactiveShareSheetLighthouseBackgroundPlugin', 'ProactiveShareSheetLighthouseBac'), ('com.apple.siri-distributed-evaluation', 'com.apple.siri-distributed-evalu'), ('ProfileValidatedAppIdentityService', 'ProfileValidatedAppIdentityServi'), ('com.apple.quicklook.extension.previewUI', 'com.apple.quicklook.extension.pr'), ('com.apple.DocumentManagerCore.Downloads', 'com.apple.DocumentManagerCore.Do'), ('CoreSpotlightImportExtension1_iOS', 'CoreSpotlightImportExtension1_iO'), ('PassbookUIService', 'PassbookUISceneService'), ('RemindersWidgetExtension', 'RemindersIntentsExtension'), ('RemindersWidgetExtension', 'RedfinWidgetsExtension'), ('RemindersWidgetExtension', 'RiderWidgetExtension'), ('RemindersWidgetExtension', 'VideoWidgetExtension'), ('RemindersWidgetExtension', 'AwemeWidgetExtension'), ('TVWidgetExtension', 'MailWidgetExtension'), ('TVWidgetExtension', 'BooksWidgetExtension'), ('TVWidgetExtension', 'SleepWidgetExtension'), ('TVWidgetExtension', 'FC_WidgetExtension'), ('TVWidgetExtension', 'WidgetKitExtension'), ('TVWidgetExtension', 'DWDWidgetExtension'), ('TVWidgetExtension', 'WidgetExtension'), ('TVWidgetExtension', 'WidgetsExtension'), ('TVWidgetExtension', 'Widget Extension'), ('TVWidgetExtension', 'REWEWidgetExtension'), ('TVWidgetExtension', 'RiderWidgetExtension'), ('TVWidgetExtension', 'FNWidgetExtension'), ('TVWidgetExtension', 'TGTGWidgetExtension'), ('TVWidgetExtension', 'CamoWidgetExtension'), ('TVWidgetExtension', 'widgetsExtension'), ('TVWidgetExtension', 'widgetExtension'), ('TVWidgetExtension', 'VideoWidgetExtension'), ('TVWidgetExtension', 'GRWidgetExtension'), ('TVWidgetExtension', 'AwemeWidgetExtension'), ('PeopleWidget_iOSExtension', 'LockScreenPeopleWidget_iOSExtension'), ('HomeEnergyWidgetsExtension', 'Home_Widgets_Extension'), ('MailWidgetExtension', 'SleepWidgetExtension'), ('MailWidgetExtension', 'MirroredWidgetExtension'), ('MailWidgetExtension', 'FC_WidgetExtension'), ('MailWidgetExtension', 'WidgetKitExtension'), ('MailWidgetExtension', 'DWDWidgetExtension'), ('MailWidgetExtension', 'WidgetExtension'), ('MailWidgetExtension', 'WidgetsExtension'), ('MailWidgetExtension', 'Widget Extension'), ('MailWidgetExtension', 'RentalWidgetExtension'), ('MailWidgetExtension', 'RiderWidgetExtension'), ('MailWidgetExtension', 'FNWidgetExtension'), ('MailWidgetExtension', 'CamoWidgetExtension'), ('MailWidgetExtension', 'widgetExtension'), ('MailWidgetExtension', 'Parcel Widget Extension'), ('MailWidgetExtension', 'IdealoWidgetsExtension'), ('MailWidgetExtension', 'VideoWidgetExtension'), ('MailWidgetExtension', 'GRWidgetExtension'), ('GCWidgets', 'Widgets'), ('GCWidgets', 'GMWidgets'), ('GCWidgets', 'SCWidgets'), ('BooksWidgetExtension', 'WidgetExtension'), ('BooksWidgetExtension', 'WidgetsExtension'), ('BooksWidgetExtension', 'Widget Extension'), ('BooksWidgetExtension', 'FNWidgetExtension'), ('BooksWidgetExtension', 'CamoWidgetExtension'), ('BooksWidgetExtension', 'NetworkWidgetExtension'), ('BooksWidgetExtension', 'FBLockscreenWidgetExtension'), ('BooksWidgetExtension', 'GRWidgetExtension'), ('FindMyWidgetPeople', 'FindMyWidgetIntentsPeople'), ('FindMyWidgetItems', 'FindMyWidgetIntentsItems'), ('PassbookWidgetsExtension-iPhone', 'PassbookWidgetsExtension-iPad'), ('SleepWidgetExtension', 'WidgetExtension'), ('SleepWidgetExtension', 'WidgetsExtension'), ('SleepWidgetExtension', 'Widget Extension'), ('SleepWidgetExtension', 'WeatherWidgetExtension'), ('SleepWidgetExtension', 'FNWidgetExtension'), ('SleepWidgetExtension', 'SHFreeWidgetKitExtension'), ('SleepWidgetExtension', 'SleepPlusWidgetExtension'), ('SleepWidgetExtension', 'GRWidgetExtension'), ('SleepWidgetExtension', 'AwemeWidgetExtension'), ('com.apple.Safari.SafeBrowsing.S', 'com.apple.Safari.SafeBrowsing.Service'), ('com.apple.Safari.SafeBrowsing.S', 'com.apple.Safari.SafeBrowsing.Se'), ('FPSpotlightIndexer', 'SpotlightIndex'), ('com.apple.photos.VideoConversionService', 'com.apple.photos.VideoConversion'), ('applecamerad', 'appleh16camerad'), ('ClockPosterExtension', 'HelloPosterExtension'), ('GradientPosterExtension', 'PridePosterExtension'), ('SeymourEngagementExtension', 'NewsEngagementExtension'), ('sysdiagnose', 'lsdiagnose'), ('com.apple.CloudDocs.MobileDocumentsFileProvider', 'com.apple.CloudDocs.MobileDocume'), ('iMessageAppsViewService', 'MessagesViewService'), ('SafariViewService', 'SharingViewService'), ('com.apple.Safari.SafeBrowsing.Service', 'com.apple.Safari.SafeBrowsing.Se'), ('HomeScreenWidgetExtension', 'Home_Widgets_Extension'), ('HomeScreenWidgetExtension', 'WetterHomescreenWidgetExtension'), ('HomeScreenWidgetExtension', 'HomeScreenWidgets'), ('HomeScreenWidgetExtension', 'FBLockscreenWidgetExtension'), ('SiriUserFeedbackLearningPlatformPlugin', 'SiriUserFeedbackLearningPlatform'), ('SiriUserFeedbackLearningPlatformPlugin', 'SiriUserFeedbackLearningPlatfor'), ('IMTransferAgent', 'IMTranscoderAgent'), ('com.apple.accessibility.mediaacc', 'com.apple.accessibility.Accessi'), ('com.apple.accessibility.mediaacc', 'com.apple.accessibility.Accessib'), ('com.apple.photos.ImageConversion', 'com.apple.photos.VideoConversion'), ('InteractiveLegacyProfilesSubscri', 'InteractiveLegacyProfilesExtens'), ('InteractiveLegacyProfilesSubscri', 'InteractiveLegacyProfilesExtension'), ('InteractiveLegacyProfilesSubscri', 'InteractiveLegacyProfilesExtensi'), ('com.apple.DocumentManagerCore.Do', 'com.apple.DocumentManager.Servic'), ('com.apple.DocumentManagerCore.Do', 'com.apple.DocumentManager.Servi'), ('com.apple.DocumentManagerCore.Do', 'com.apple.DocumentManager.Service'), ('com.apple.MobileSoftwareUpdate.C', 'com.apple.MobileSoftwareUpdate.U'), ('com.apple.mobilenotes.WidgetExte', 'com.apple.mobilenotes.IntentsExt'), ('com.apple.mobilenotes.WidgetExte', 'com.apple.mobilenotes.IntentsEx'), ('LockScreenPeopleWidget_iOSExten', 'LockScreenPeopleWidget_iOSExtens'), ('LockScreenPeopleWidget_iOSExten', 'LockScreenPeopleWidget_iOSExtension'), ('LockScreenPeopleWidget_iOSExtens', 'LockScreenPeopleWidget_iOSExtension'), ('com.apple.CloudDocs.MobileDocume', 'com.apple.CloudDocs.MobileDocum'), ('FindMyWidgetIntentsPeople', 'FindMyWidgetIntentsItems'), ('MailIntentsExtension', 'IntentsExtension'), ('MailIntentsExtension', 'DWDIntentsExtension'), ('MailIntentsExtension', 'IntentExtension'), ('dockaccessoryd', 'caraccessoryd'), ('com.apple.PDFKit.PDFExtensionView', 'com.apple.PDFKit.PDFExtensionVi'), ('com.apple.PDFKit.PDFExtensionView', 'com.apple.PDFKit.PDFExtensionVie'), ('com.apple.SensorKit.SKMediaEventsHelper', 'com.apple.SensorKit.SKMediaEven'), ('com.apple.SensorKit.SKMediaEventsHelper', 'com.apple.SensorKit.SKMediaEvent'), ('NotificationServiceExtension', 'MyDealzNotificationServiceExtension'), ('NotificationServiceExtension', 'CleverPushNotificationServiceExtension'), ('NotificationServiceExtension', 'MyDealzNotificationServiceExten'), ('NotificationServiceExtension', 'MyDealzNotificationServiceExtens'), ('NotificationServiceExtension', 'NewsNotificationServiceExtension'), ('NotificationServiceExtension', 'NewsNotificationServiceExtensio'), ('NotificationServiceExtension', 'BEAMNotificationServiceExtension'), ('NotificationServiceExtension', 'NotificationService'), ('NotificationServiceExtension', 'VividNotificationServiceExtensi'), ('NotificationServiceExtension', 'VividNotificationServiceExtension'), ('NotificationServiceExtension', 'TwitterNotificationServiceExten'), ('NotificationServiceExtension', 'VividNotificationServiceExtensio'), ('NotificationServiceExtension', 'TwitterNotificationServiceExtension'), ('NotificationServiceExtension', 'TwitterNotificationServiceExtens'), ('NotificationServiceExtension', 'PushNotificationServiceExtensio'), ('NotificationServiceExtension', 'MaxNotificationServiceExtension-'), ('NotificationServiceExtension', 'PushNotificationServiceExtension'), ('NotificationServiceExtension', 'MaxNotificationServiceExtension'), ('NotificationServiceExtension', 'TeamsNotificationServiceExtensio'), ('NotificationServiceExtension', 'NotificationServiceExtension_ex'), ('NotificationServiceExtension', 'NotificationServiceExtension_extension'), ('NotificationServiceExtension', 'ASOS Notification Service Exten'), ('NotificationServiceExtension', 'NotificationServiceExtensions'), ('NotificationServiceExtension', 'notificationserviceextension'), ('NotificationServiceExtension', 'ASOS Notification Service Extens'), ('NotificationServiceExtension', 'NotificationServiceExtension_ext'), ('MyDealzNotificationServiceExtension', 'MyDealzNotificationServiceExten'), ('MyDealzNotificationServiceExtension', 'MyDealzNotificationServiceExtens'), ('MyDealzNotificationServiceExtension', 'NewsNotificationServiceExtension'), ('MyDealzNotificationServiceExtension', 'NewsNotificationServiceExtensio'), ('MyDealzNotificationServiceExtension', 'BEAMNotificationServiceExtension'), ('MyDealzNotificationServiceExtension', 'VividNotificationServiceExtension'), ('MyDealzNotificationServiceExtension', 'VividNotificationServiceExtensio'), ('MyDealzNotificationServiceExtension', 'TwitterNotificationServiceExtension'), ('MyDealzNotificationServiceExtension', 'PushNotificationServiceExtensio'), ('MyDealzNotificationServiceExtension', 'MaxNotificationServiceExtension-'), ('MyDealzNotificationServiceExtension', 'PushNotificationServiceExtension'), ('MyDealzNotificationServiceExtension', 'MaxNotificationServiceExtension'), ('MyDealzNotificationServiceExtension', 'TeamsNotificationServiceExtensio'), ('MyDealzNotificationServiceExtension', 'NotificationServiceExtension_ex'), ('MyDealzNotificationServiceExtension', 'NotificationServiceExtensions'), ('MyDealzNotificationServiceExtension', 'NotificationServiceExtension_ext'), ('CleverPushNotificationServiceExtension', 'CleverPushNotificationServiceEx'), ('CleverPushNotificationServiceExtension', 'CleverPushNotificationServiceExt'), ('CleverPushNotificationServiceExtension', 'NewsNotificationServiceExtension'), ('CleverPushNotificationServiceExtension', 'NewsNotificationServiceExtensio'), ('CleverPushNotificationServiceExtension', 'VividNotificationServiceExtension'), ('CleverPushNotificationServiceExtension', 'TwitterNotificationServiceExtension'), ('CleverPushNotificationServiceExtension', 'PushNotificationServiceExtensio'), ('CleverPushNotificationServiceExtension', 'PushNotificationServiceExtension'), ('CleverPushNotificationServiceExtension', 'MaxNotificationServiceExtension'), ('CleverPushNotificationServiceExtension', 'TeamsNotificationServiceExtensio'), ('CleverPushNotificationServiceExtension', 'NotificationServiceExtension_ex'), ('CleverPushNotificationServiceExtension', 'NotificationServiceExtensions'), ('FindMyDeviceBTDiscoveryXPCService', 'FindMyDeviceBTDiscoveryXPCServi'), ('FindMyDeviceBTDiscoveryXPCService', 'FindMyDeviceBTDiscoveryXPCServic'), ('Books', 'Booksy'), ('PhotosTCCNotificationExtension', 'RemoteNotificationExtension'), ('UserNotificationsUIThumbnailProvider', 'UserNotificationsUIThumbnailPro'), ('UserNotificationsUIThumbnailProvider', 'UserNotificationsUIThumbnailProv'), ('com.apple.SensorKit.SKMediaEven', 'com.apple.SensorKit.SKMediaEvent'), ('MyDealzNotificationServiceExten', 'MyDealzNotificationServiceExtens'), ('MyDealzNotificationServiceExten', 'NewsNotificationServiceExtensio'), ('MyDealzNotificationServiceExten', 'DoctolibNotificationServiceExte'), ('MyDealzNotificationServiceExten', 'TwitterNotificationServiceExten'), ('MyDealzNotificationServiceExten', 'DoctolibNotificationServiceExten'), ('MyDealzNotificationServiceExten', 'MaxNotificationServiceExtension-'), ('MyDealzNotificationServiceExten', 'MaxNotificationServiceExtension'), ('MyDealzNotificationServiceExten', 'TeamsNotificationServiceExtensio'), ('com.apple.PDFKit.PDFExtensionVi', 'com.apple.PDFKit.PDFExtensionVie'), ('FindMyDeviceBTDiscoveryXPCServi', 'FindMyDeviceBTDiscoveryXPCServic'), ('CleverPushNotificationServiceEx', 'CleverPushNotificationServiceExt'), ('CleverPushNotificationServiceEx', 'PushNotificationServiceExtensio'), ('UserNotificationsUIThumbnailPro', 'UserNotificationsUIThumbnailProv'), ('ShortcutsWidgetExtension', 'Status-WidgetExtension'), ('BatteriesWidgetExtension', 'BatteriesWidgetIntentsExtension'), ('BatteriesWidgetExtension', 'WeatherWidgetExtension'), ('BatteriesWidgetExtension', 'OneDriveWidgetExtension'), ('HealthMentalHealthWidgetExtension', 'HealthMentalHealthWidgetExtensio'), ('HealthMentalHealthWidgetExtension', 'HealthMentalHealthWidgetExtensi'), ('HealthMedicationsWidgetExtension', 'HealthMedicationsWidgetExtensio'), ('IntentsExtension', 'IntentsObjcExtension'), ('IntentsExtension', 'WidgetIntentExtension'), ('IntentsExtension', 'DWDIntentsExtension'), ('IntentsExtension', 'EcovacsIntentsExtension'), ('IntentsExtension', 'IntentExtension'), ('FC_WidgetExtension', 'WidgetKitExtension'), ('FC_WidgetExtension', 'DWDWidgetExtension'), ('FC_WidgetExtension', 'WidgetExtension'), ('FC_WidgetExtension', 'WidgetsExtension'), ('FC_WidgetExtension', 'Widget Extension'), ('FC_WidgetExtension', 'REWEWidgetExtension'), ('FC_WidgetExtension', 'FNWidgetExtension'), ('FC_WidgetExtension', 'TGTGWidgetExtension'), ('FC_WidgetExtension', 'CamoWidgetExtension'), ('FC_WidgetExtension', 'widgetsExtension'), ('FC_WidgetExtension', 'widgetExtension'), ('FC_WidgetExtension', 'NFCWidgetiOS14Extension'), ('FC_WidgetExtension', 'WiFiQRWidgetExtension'), ('FC_WidgetExtension', 'GRWidgetExtension'), ('WidgetKitExtension', 'DWDWidgetExtension'), ('WidgetKitExtension', 'WidgetExtension'), ('WidgetKitExtension', 'WidgetsExtension'), ('WidgetKitExtension', 'Widget Extension'), ('WidgetKitExtension', 'REWEWidgetExtension'), ('WidgetKitExtension', 'FNWidgetExtension'), ('WidgetKitExtension', 'SHFreeWidgetKitExtension'), ('WidgetKitExtension', 'TGTGWidgetExtension'), ('WidgetKitExtension', 'CamoWidgetExtension'), ('WidgetKitExtension', 'widgetsExtension'), ('WidgetKitExtension', 'widgetExtension'), ('WidgetKitExtension', 'WidgetIntentExtension'), ('WidgetKitExtension', 'ONWidgetKitExtension_iOS'), ('WidgetKitExtension', 'GRWidgetExtension'), ('DWDWidgetExtension', 'WidgetExtension'), ('DWDWidgetExtension', 'WidgetsExtension'), ('DWDWidgetExtension', 'Widget Extension'), ('DWDWidgetExtension', 'REWEWidgetExtension'), ('DWDWidgetExtension', 'FNWidgetExtension'), ('DWDWidgetExtension', 'TGTGWidgetExtension'), ('DWDWidgetExtension', 'CamoWidgetExtension'), ('DWDWidgetExtension', 'widgetsExtension'), ('DWDWidgetExtension', 'widgetExtension'), ('DWDWidgetExtension', 'WiFiQRWidgetExtension'), ('DWDWidgetExtension', 'GRWidgetExtension'), ('WidgetExtension', 'PushupWidgetsExtension'), ('WidgetExtension', 'WidgetsExtension'), ('WidgetExtension', 'RedfinWidgetsExtension'), ('WidgetExtension', 'Widget Extension'), ('WidgetExtension', 'RentalWidgetExtension'), ('WidgetExtension', 'REWEWidgetExtension'), ('WidgetExtension', 'WeatherWidgetExtension'), ('WidgetExtension', 'Status-WidgetExtension'), ('WidgetExtension', 'AthenaWidgetExtension'), ('WidgetExtension', 'RiderWidgetExtension'), ('WidgetExtension', 'CityKeyWidgetExtension'), ('WidgetExtension', 'FNWidgetExtension'), ('WidgetExtension', 'Home_Widgets_Extension'), ('WidgetExtension', 'TGTGWidgetExtension'), ('WidgetExtension', 'NearbyWidgetExtension'), ('WidgetExtension', 'CamoWidgetExtension'), ('WidgetExtension', 'widgetsExtension'), ('WidgetExtension', 'widgetExtension'), ('WidgetExtension', 'NetworkWidgetExtension'), ('WidgetExtension', 'WidgetIntentExtension'), ('WidgetExtension', 'IdealoWidgetsExtension'), ('WidgetExtension', 'WiFiQRWidgetExtension'), ('WidgetExtension', 'VideoWidgetExtension'), ('WidgetExtension', 'GRWidgetExtension'), ('WidgetExtension', 'AwemeWidgetExtension'), ('BackgroundDownloaderAppExtension', 'BackgroundDownloaderAppExtensio'), ('ChatGPTApp', 'ChatGPT'), ('MyDealzNotificationServiceExtens', 'NewsNotificationServiceExtension'), ('MyDealzNotificationServiceExtens', 'NewsNotificationServiceExtensio'), ('MyDealzNotificationServiceExtens', 'BEAMNotificationServiceExtension'), ('MyDealzNotificationServiceExtens', 'DoctolibNotificationServiceExten'), ('MyDealzNotificationServiceExtens', 'TwitterNotificationServiceExtens'), ('MyDealzNotificationServiceExtens', 'MaxNotificationServiceExtension-'), ('MyDealzNotificationServiceExtens', 'MaxNotificationServiceExtension'), ('MyDealzNotificationServiceExtens', 'TeamsNotificationServiceExtensio'), ('MyDealzNotificationServiceExtens', 'NotificationServiceExtensions'), ('SiriUserFeedbackLearningPlatform', 'SiriUserFeedbackLearningPlatfor'), ('SiriUserFeedbackLearningUniversa', 'SiriUserFeedbackLearningUnivers'), ('HealthMentalHealthWidgetExtensio', 'HealthMentalHealthWidgetExtensi'), ('PushupWidgetsExtension', 'WidgetsExtension'), ('Widget', 'Widgets'), ('WidgetsExtension', 'RedfinWidgetsExtension'), ('WidgetsExtension', 'Widget Extension'), ('WidgetsExtension', 'RentalWidgetExtension'), ('WidgetsExtension', 'REWEWidgetExtension'), ('WidgetsExtension', 'AthenaWidgetExtension'), ('WidgetsExtension', 'RiderWidgetExtension'), ('WidgetsExtension', 'FNWidgetExtension'), ('WidgetsExtension', 'Home_Widgets_Extension'), ('WidgetsExtension', 'TGTGWidgetExtension'), ('WidgetsExtension', 'NearbyWidgetExtension'), ('WidgetsExtension', 'CamoWidgetExtension'), ('WidgetsExtension', 'widgetsExtension'), ('WidgetsExtension', 'widgetExtension'), ('WidgetsExtension', 'WidgetIntentExtension'), ('WidgetsExtension', 'IdealoWidgetsExtension'), ('WidgetsExtension', 'WiFiQRWidgetExtension'), ('WidgetsExtension', 'VideoWidgetExtension'), ('WidgetsExtension', 'GRWidgetExtension'), ('WidgetsExtension', 'AwemeWidgetExtension'), ('PassKitSpotlightIndexExtension', 'MailSpotlightIndexExtension'), ('com.apple.VoiceMemos.SpotlightIn', 'com.apple.VoiceMemos.SpotlightI'), ('com.apple.VoiceMemos.SpotlightIn', 'com.apple.VoiceMemos.SpotlightIndexExtension'), ('CredentialProviderExtensionHelpe', 'CredentialProviderExtensionHelper'), ('CredentialProviderExtensionHelpe', 'CredentialProviderExtensionHelp'), ('BatteriesWidgetIntentsExtension', 'WidgetIntentExtension'), ('ScreenTimeWidgetIntentsExtension', 'ScreenTimeWidgetIntentsExtensio'), ('com.apple.mobilenotes.IntentsExt', 'com.apple.mobilenotes.IntentsEx'), ('com.apple.mobilenotes.IntentsExt', 'com.apple.mobilenotes.IntentsExtension'), ('CleverPushNotificationServiceExt', 'PushNotificationServiceExtensio'), ('CleverPushNotificationServiceExt', 'PushNotificationServiceExtension'), ('RemoteNotificationExtension', 'UserNotificationExtension'), ('ThumbnailExtension', 'PassKitThumbnailExtension'), ('com.apple.DocumentManager.Servic', 'com.apple.DocumentManager.Servi'), ('com.apple.DocumentManager.Servic', 'com.apple.DocumentManager.Service'), ('companiond', 'companionappd'), ('companiond', 'nptocompaniond'), ('com.apple.DocumentManager.Servi', 'com.apple.DocumentManager.Service'), ('SiriUserFeedbackLearningPlatfor', 'SiriUserFeedbackLearningUnivers'), ('PhotosPicker', 'PhotoPicker'), ('com.apple.BarcodeSupport.Barcod', 'com.apple.BarcodeSupport.Helper'), ('com.apple.BarcodeSupport.Barcod', 'com.apple.BarcodeSupport.Barcode'), ('com.apple.BarcodeSupport.Barcod', 'com.apple.BarcodeSupport.Parsin'), ('com.apple.BarcodeSupport.Barcod', 'com.apple.BarcodeSupport.Parsing'), ('com.apple.mobilenotes.IntentsEx', 'com.apple.mobilenotes.IntentsExtension'), ('com.apple.BarcodeSupport.Helper', 'com.apple.BarcodeSupport.Barcode'), ('com.apple.BarcodeSupport.Helper', 'com.apple.BarcodeSupport.Parsin'), ('com.apple.BarcodeSupport.Helper', 'com.apple.BarcodeSupport.Parsing'), ('com.apple.BarcodeSupport.Barcode', 'com.apple.BarcodeSupport.ParsingService'), ('com.apple.BarcodeSupport.Barcode', 'com.apple.BarcodeSupport.Parsin'), ('com.apple.BarcodeSupport.Barcode', 'com.apple.BarcodeSupport.Parsing'), ('com.apple.mobilenotes.IntentsExtension', 'com.apple.mobilenotes.SpotlightIndexExtension'), ('MusicCoreSpotlightExtension', 'TVCoreSpotlightExtension'), ('MusicCoreSpotlightExtension', 'ContactsCoreSpotlightExtension'), ('TVCoreSpotlightExtension', 'ContactsCoreSpotlightExtension'), ('TVCoreSpotlightExtension', 'KeynoteSpotlightExtension'), ('com.apple.mobilenotes.SpotlightI', 'com.apple.mobilenotes.Spotlight'), ('com.apple.mobilenotes.SpotlightI', 'com.apple.mobilenotes.SpotlightIndexExtension'), ('NewsNotificationServiceExtension', 'NewsNotificationServiceExtensio'), ('NewsNotificationServiceExtension', 'BEAMNotificationServiceExtension'), ('NewsNotificationServiceExtension', 'VividNotificationServiceExtensi'), ('NewsNotificationServiceExtension', 'VividNotificationServiceExtension'), ('NewsNotificationServiceExtension', 'VividNotificationServiceExtensio'), ('NewsNotificationServiceExtension', 'TwitterNotificationServiceExtension'), ('NewsNotificationServiceExtension', 'TwitterNotificationServiceExtens'), ('NewsNotificationServiceExtension', 'PushNotificationServiceExtensio'), ('NewsNotificationServiceExtension', 'MaxNotificationServiceExtension-'), ('NewsNotificationServiceExtension', 'PushNotificationServiceExtension'), ('NewsNotificationServiceExtension', 'MaxNotificationServiceExtension'), ('NewsNotificationServiceExtension', 'TeamsNotificationServiceExtensio'), ('NewsNotificationServiceExtension', 'NotificationServiceExtension_ex'), ('NewsNotificationServiceExtension', 'NotificationServiceExtensions'), ('NewsNotificationServiceExtension', 'notificationserviceextension'), ('NewsNotificationServiceExtension', 'NotificationServiceExtension_ext'), ('com.apple.VoiceMemos.SpotlightI', 'com.apple.VoiceMemos.SpotlightIndexExtension'), ('com.apple.mobilenotes.Spotlight', 'com.apple.mobilenotes.SpotlightIndexExtension'), ('NewsNotificationServiceExtensio', 'BEAMNotificationServiceExtension'), ('NewsNotificationServiceExtensio', 'VividNotificationServiceExtensi'), ('NewsNotificationServiceExtensio', 'VividNotificationServiceExtension'), ('NewsNotificationServiceExtensio', 'TwitterNotificationServiceExten'), ('NewsNotificationServiceExtensio', 'VividNotificationServiceExtensio'), ('NewsNotificationServiceExtensio', 'TwitterNotificationServiceExtension'), ('NewsNotificationServiceExtensio', 'TwitterNotificationServiceExtens'), ('NewsNotificationServiceExtensio', 'PushNotificationServiceExtensio'), ('NewsNotificationServiceExtensio', 'MaxNotificationServiceExtension-'), ('NewsNotificationServiceExtensio', 'PushNotificationServiceExtension'), ('NewsNotificationServiceExtensio', 'MaxNotificationServiceExtension'), ('NewsNotificationServiceExtensio', 'TeamsNotificationServiceExtensio'), ('NewsNotificationServiceExtensio', 'NotificationServiceExtension_ex'), ('NewsNotificationServiceExtensio', 'NotificationServiceExtensions'), ('NewsNotificationServiceExtensio', 'notificationserviceextension'), ('NewsNotificationServiceExtensio', 'NotificationServiceExtension_ext'), ('com.apple.VoiceMemos.SpotlightIndexExtension', 'com.apple.mobilenotes.SpotlightIndexExtension'), ('TipsSpotlightIndex', 'SpotlightIndex'), ('CoreLocationVanillaWhenInUseAuthPromptPlugin', 'CoreLocationVanillaWhenInUseAuth'), ('CoreLocationVanillaWhenInUseAuthPromptPlugin', 'CoreLocationVanillaWhenInUseAut'), ('Hellotaxi App', 'Hellotaxi'), ('DashlaneIdentityDashboardWidgetE', 'DashlaneIdentityDashboardWidgetExtension'), ('DashlaneIdentityDashboardWidgetE', 'DashlaneIdentityDashboardWidget'), ('BundleComplicationMigrationServi', 'BundleComplicationMigrationService'), ('BundleComplicationMigrationServi', 'BundleComplicationMigrationServ'), ('RedfinWidgetsExtension', 'RentalWidgetExtension'), ('RedfinWidgetsExtension', 'RiderWidgetExtension'), ('RedfinWidgetsExtension', 'GRWidgetExtension'), ('BEAMNotificationServiceExtension', 'VividNotificationServiceExtensi'), ('BEAMNotificationServiceExtension', 'VividNotificationServiceExtension'), ('BEAMNotificationServiceExtension', 'VividNotificationServiceExtensio'), ('BEAMNotificationServiceExtension', 'TwitterNotificationServiceExtension'), ('BEAMNotificationServiceExtension', 'PushNotificationServiceExtensio'), ('BEAMNotificationServiceExtension', 'MaxNotificationServiceExtension-'), ('BEAMNotificationServiceExtension', 'PushNotificationServiceExtension'), ('BEAMNotificationServiceExtension', 'MaxNotificationServiceExtension'), ('BEAMNotificationServiceExtension', 'TeamsNotificationServiceExtensio'), ('BEAMNotificationServiceExtension', 'NotificationServiceExtension_ex'), ('BEAMNotificationServiceExtension', 'NotificationServiceExtensions'), ('BEAMNotificationServiceExtension', 'notificationserviceextension'), ('BEAMNotificationServiceExtension', 'ASOS Notification Service Extens'), ('BEAMNotificationServiceExtension', 'NotificationServiceExtension_ext'), ('BundleComplicationMigrationService', 'BundleComplicationMigrationServ'), ('CredentialProviderExtensionHelper', 'CredentialProviderExtensionHelp'), ('DashlaneIdentityDashboardWidgetExtension', 'DashlaneIdentityDashboardWidget'), ('KindleTodayWidgetExtension', 'VideoWidgetExtension'), ('consumerveniceNotificationServic', 'consumerveniceNotificationServi'), ('consumerveniceNotificationServic', 'consumerveniceNotificationServiceIntent'), ('FilesystemMetadataSnapshotServic', 'FilesystemMetadataSnapshotServi'), ('FilesystemMetadataSnapshotServic', 'FilesystemMetadataSnapshotService'), ('Shortcuts', 'ShortcutsUI'), ('consumerveniceNotificationServi', 'consumerveniceNotificationServiceIntent'), ('FilesystemMetadataSnapshotServi', 'FilesystemMetadataSnapshotService'), ('DoctolibNotificationServiceExte', 'DoctolibNotificationServiceExten'), ('Widget Extension', 'RentalWidgetExtension'), ('Widget Extension', 'REWEWidgetExtension'), ('Widget Extension', 'AthenaWidgetExtension'), ('Widget Extension', 'RiderWidgetExtension'), ('Widget Extension', 'FNWidgetExtension'), ('Widget Extension', 'TGTGWidgetExtension'), ('Widget Extension', 'NearbyWidgetExtension'), ('Widget Extension', 'CamoWidgetExtension'), ('Widget Extension', 'widgetsExtension'), ('Widget Extension', 'widgetExtension'), ('Widget Extension', 'Parcel Widget Extension'), ('Widget Extension', 'Shazam Widget Extension'), ('Widget Extension', 'WidgetIntentExtension'), ('Widget Extension', 'WiFiQRWidgetExtension'), ('Widget Extension', 'VideoWidgetExtension'), ('Widget Extension', 'GRWidgetExtension'), ('Widget Extension', 'AwemeWidgetExtension'), ('VividNotificationServiceExtensi', 'VividNotificationServiceExtension'), ('VividNotificationServiceExtensi', 'TwitterNotificationServiceExten'), ('VividNotificationServiceExtensi', 'VividNotificationServiceExtensio'), ('VividNotificationServiceExtensi', 'TwitterNotificationServiceExtension'), ('VividNotificationServiceExtensi', 'TwitterNotificationServiceExtens'), ('VividNotificationServiceExtensi', 'PushNotificationServiceExtensio'), ('VividNotificationServiceExtensi', 'MaxNotificationServiceExtension-'), ('VividNotificationServiceExtensi', 'PushNotificationServiceExtension'), ('VividNotificationServiceExtensi', 'MaxNotificationServiceExtension'), ('VividNotificationServiceExtensi', 'TeamsNotificationServiceExtensio'), ('VividNotificationServiceExtensi', 'NotificationServiceExtension_ex'), ('VividNotificationServiceExtensi', 'NotificationServiceExtensions'), ('VividNotificationServiceExtensi', 'NotificationServiceExtension_ext'), ('RentalWidgetExtension', 'AthenaWidgetExtension'), ('RentalWidgetExtension', 'RiderWidgetExtension'), ('RentalWidgetExtension', 'NearbyWidgetExtension'), ('RentalWidgetExtension', 'IdealoWidgetsExtension'), ('RentalWidgetExtension', 'GRWidgetExtension'), ('REWEWidgetExtension', 'RiderWidgetExtension'), ('REWEWidgetExtension', 'FNWidgetExtension'), ('REWEWidgetExtension', 'widgetExtension'), ('REWEWidgetExtension', 'GRWidgetExtension'), ('VividNotificationServiceExtension', 'VividNotificationServiceExtensio'), ('VividNotificationServiceExtension', 'TwitterNotificationServiceExtension'), ('VividNotificationServiceExtension', 'PushNotificationServiceExtensio'), ('VividNotificationServiceExtension', 'MaxNotificationServiceExtension-'), ('VividNotificationServiceExtension', 'PushNotificationServiceExtension'), ('VividNotificationServiceExtension', 'MaxNotificationServiceExtension'), ('VividNotificationServiceExtension', 'TeamsNotificationServiceExtensio'), ('VividNotificationServiceExtension', 'NotificationServiceExtension_ex'), ('VividNotificationServiceExtension', 'NotificationServiceExtensions'), ('VividNotificationServiceExtension', 'notificationserviceextension'), ('VividNotificationServiceExtension', 'NotificationServiceExtension_ext'), ('WeatherWidgetExtension', 'AthenaWidgetExtension'), ('WeatherWidgetExtension', 'RiderWidgetExtension'), ('WeatherWidgetExtension', 'NearbyWidgetExtension'), ('WeatherWidgetExtension', 'NetworkWidgetExtension'), ('WeatherWidgetExtension', 'AwemeWidgetExtension'), ('TwitterNotificationServiceExten', 'TwitterNotificationServiceExtension'), ('TwitterNotificationServiceExten', 'TwitterNotificationServiceExtens'), ('TwitterNotificationServiceExten', 'TeamsNotificationServiceExtensio'), ('IntentsObjcExtension', 'DWDIntentsExtension'), ('IntentsObjcExtension', 'IntentExtension'), ('Consorsbank Notification Servic', 'Consorsbank Notification Service'), ('VividNotificationServiceExtensio', 'TwitterNotificationServiceExtension'), ('VividNotificationServiceExtensio', 'TwitterNotificationServiceExtens'), ('VividNotificationServiceExtensio', 'PushNotificationServiceExtensio'), ('VividNotificationServiceExtensio', 'MaxNotificationServiceExtension-'), ('VividNotificationServiceExtensio', 'PushNotificationServiceExtension'), ('VividNotificationServiceExtensio', 'MaxNotificationServiceExtension'), ('VividNotificationServiceExtensio', 'TeamsNotificationServiceExtensio'), ('VividNotificationServiceExtensio', 'NotificationServiceExtension_ex'), ('VividNotificationServiceExtensio', 'NotificationServiceExtensions'), ('VividNotificationServiceExtensio', 'NotificationServiceExtension_ext'), ('Status-WidgetExtension', 'Streaks-WidgetsExtension'), ('AthenaWidgetExtension', 'NearbyWidgetExtension'), ('AthenaWidgetExtension', 'AwemeWidgetExtension'), ('RiderWidgetExtension', 'CityKeyWidgetExtension'), ('RiderWidgetExtension', 'FNWidgetExtension'), ('RiderWidgetExtension', 'DeliverooWidgetExtension'), ('RiderWidgetExtension', 'NearbyWidgetExtension'), ('RiderWidgetExtension', 'NetworkWidgetExtension'), ('RiderWidgetExtension', 'IdealoWidgetsExtension'), ('RiderWidgetExtension', 'VideoWidgetExtension'), ('RiderWidgetExtension', 'GRWidgetExtension'), ('EveryworksWidgetExtension', 'NetworkWidgetExtension'), ('CityKeyWidgetExtension', 'VideoWidgetExtension'), ('FNWidgetExtension', 'TGTGWidgetExtension'), ('FNWidgetExtension', 'NearbyWidgetExtension'), ('FNWidgetExtension', 'CamoWidgetExtension'), ('FNWidgetExtension', 'widgetsExtension'), ('FNWidgetExtension', 'widgetExtension'), ('FNWidgetExtension', 'NetworkWidgetExtension'), ('FNWidgetExtension', 'WiFiQRWidgetExtension'), ('FNWidgetExtension', 'VideoWidgetExtension'), ('FNWidgetExtension', 'GRWidgetExtension'), ('FNWidgetExtension', 'AwemeWidgetExtension'), ('Home_Widgets_Extension', 'AwemeWidgetExtension'), ('Decibel X Widget Extension', 'Parcel Widget Extension'), ('TGTGWidgetExtension', 'widgetExtension'), ('TGTGWidgetExtension', 'GRWidgetExtension'), ('DeliverooWidgetExtension', 'OneDriveWidgetExtension'), ('NearbyWidgetExtension', 'NetworkWidgetExtension'), ('CamoWidgetExtension', 'widgetExtension'), ('CamoWidgetExtension', 'Shazam Widget Extension'), ('CamoWidgetExtension', 'IdealoWidgetsExtension'), ('CamoWidgetExtension', 'VideoWidgetExtension'), ('CamoWidgetExtension', 'GRWidgetExtension'), ('CamoWidgetExtension', 'AwemeWidgetExtension'), ('widgetsExtension', 'widgetExtension'), ('widgetsExtension', 'GRWidgetExtension'), ('widgetsExtension', 'AwemeWidgetExtension'), ('widgetExtension', 'NetworkWidgetExtension'), ('widgetExtension', 'GRWidgetExtension'), ('widgetExtension', 'AwemeWidgetExtension'), ('NetworkWidgetExtension', 'VideoWidgetExtension'), ('Widgets', 'GMWidgets'), ('Widgets', 'SCWidgets'), ('WetterHomescreenLongForecastWidg', 'WetterHomescreenLongForecastWid'), ('Parcel Widget Extension', 'Parcel Intent Extension'), ('WidgetIntentExtension', 'QRImageWidgetIntentExtension'), ('WidgetIntentExtension', 'IntentExtension'), ('WetterHomescreenWidgetExtension', 'WetterHomescreenWidgetIntentHand'), ('IdealoWidgetsExtension', 'VideoWidgetExtension'), ('WiFiQRWidgetExtension', 'GRWidgetExtension'), ('PedidosyaWidgetExtension', 'VideoWidgetExtension'), ('CitiesIntentHandler', 'IntentHandler'), ('DWDIntentsExtension', 'IntentExtension'), ('WidgetIntentHandler', 'widgetIntentHandler'), ('WidgetIntentHandler', 'IntentHandler'), ('widgetIntentHandler', 'IntentHandler'), ('com.apple.BarcodeSupport.ParsingService', 'com.apple.BarcodeSupport.Parsin'), ('com.apple.BarcodeSupport.ParsingService', 'com.apple.BarcodeSupport.Parsing'), ('TwitterNotificationServiceExtension', 'TwitterNotificationServiceExtens'), ('TwitterNotificationServiceExtension', 'PushNotificationServiceExtensio'), ('TwitterNotificationServiceExtension', 'MaxNotificationServiceExtension-'), ('TwitterNotificationServiceExtension', 'PushNotificationServiceExtension'), ('TwitterNotificationServiceExtension', 'MaxNotificationServiceExtension'), ('TwitterNotificationServiceExtension', 'TeamsNotificationServiceExtensio'), ('TwitterNotificationServiceExtension', 'NotificationServiceExtension_ex'), ('TwitterNotificationServiceExtension', 'NotificationServiceExtensions'), ('TwitterNotificationServiceExtension', 'NotificationServiceExtension_ext'), ('com.apple.BarcodeSupport.Parsin', 'com.apple.BarcodeSupport.Parsing'), ('TwitterNotificationServiceExtens', 'TeamsNotificationServiceExtensio'), ('TwitterNotificationServiceExtens', 'NotificationServiceExtensions'), ('de-lieferando-notification-servi', 'de-lieferando-notification-serv'), ('CoreLocationVanillaWhenInUseAuth', 'CoreLocationVanillaWhenInUseAut'), ('ConsoleIntentExtension', 'IntentExtension'), ('InteractiveLegacyProfilesExtens', 'InteractiveLegacyProfilesExtension'), ('InteractiveLegacyProfilesExtens', 'InteractiveLegacyProfilesExtensi'), ('com.apple.FontServices.UserFont', 'com.apple.FontServices.UserFontManager'), ('com.apple.FontServices.UserFont', 'com.apple.FontServices.UserFontServices'), ('com.apple.FontServices.UserFont', 'com.apple.FontServices.UserFontM'), ('LegacyProfilesExtension', 'InteractiveLegacyProfilesExtension'), ('com.apple.accessibility.Accessi', 'com.apple.accessibility.AccessibilityUIServer'), ('com.apple.accessibility.Accessi', 'com.apple.accessibility.Accessib'), ('com.apple.FontServices.UserFontManager', 'com.apple.FontServices.UserFontServices'), ('com.apple.FontServices.UserFontManager', 'com.apple.FontServices.UserFontM'), ('com.apple.accessibility.AccessibilityUIServer', 'com.apple.accessibility.Accessib'), ('InteractiveLegacyProfilesExtension', 'InteractiveLegacyProfilesExtensi'), ('com.apple.FontServices.UserFontServices', 'com.apple.FontServices.UserFontM'), ('com.apple.DataDetectorsUI.Action', 'com.apple.DataDetectorsUI.Actio'), ('IDSRemoteURLConnectionAgent', 'IMRemoteURLConnectionAgent'), ('TrollInstallerX', 'TrollInstallerMDC'), ('AppleMediaServicesUIDynamicService', 'AppleMediaServicesUIDynamicServi'), ('AppleMediaServicesUIDynamicService', 'AppleMediaServicesUIDynamicServ'), ('UserNotificationExtension', 'InstagramNotificationExtension'), ('AppleMediaServicesUIDynamicServi', 'AppleMediaServicesUIDynamicServ'), ('MileagePlus X', 'MileagePlus'), ('NotificationsWidgetExtension', 'NotificationServiceExtensions'), ('MessengerNotificationServiceExt', 'MessengerNotificationServiceExte'), ('VideoWidgetExtension', 'GRWidgetExtension'), ('PushNotificationServiceExtensio', 'MaxNotificationServiceExtension-'), ('PushNotificationServiceExtensio', 'PushNotificationServiceExtension'), ('PushNotificationServiceExtensio', 'MaxNotificationServiceExtension'), ('PushNotificationServiceExtensio', 'TeamsNotificationServiceExtensio'), ('PushNotificationServiceExtensio', 'NotificationServiceExtension_ex'), ('PushNotificationServiceExtensio', 'NotificationServiceExtensions'), ('PushNotificationServiceExtensio', 'notificationserviceextension'), ('PushNotificationServiceExtensio', 'NotificationServiceExtension_ext'), ('MaxNotificationServiceExtension-', 'PushNotificationServiceExtension'), ('MaxNotificationServiceExtension-', 'MaxNotificationServiceExtension'), ('MaxNotificationServiceExtension-', 'TeamsNotificationServiceExtensio'), ('MaxNotificationServiceExtension-', 'NotificationServiceExtension_ex'), ('MaxNotificationServiceExtension-', 'NotificationServiceExtensions'), ('MaxNotificationServiceExtension-', 'notificationserviceextension'), ('MaxNotificationServiceExtension-', 'NotificationServiceExtension_ext'), ('PushNotificationServiceExtension', 'MaxNotificationServiceExtension'), ('PushNotificationServiceExtension', 'TeamsNotificationServiceExtensio'), ('PushNotificationServiceExtension', 'NotificationServiceExtension_ex'), ('PushNotificationServiceExtension', 'NotificationServiceExtensions'), ('PushNotificationServiceExtension', 'notificationserviceextension'), ('PushNotificationServiceExtension', 'NotificationServiceExtension_ext'), ('MaxNotificationServiceExtension', 'TeamsNotificationServiceExtensio'), ('MaxNotificationServiceExtension', 'NotificationServiceExtension_ex'), ('MaxNotificationServiceExtension', 'NotificationServiceExtension_extension'), ('MaxNotificationServiceExtension', 'NotificationServiceExtensions'), ('MaxNotificationServiceExtension', 'notificationserviceextension'), ('MaxNotificationServiceExtension', 'NotificationServiceExtension_ext'), ('InstagramWidgetExtensionLiveAct', 'InstagramWidgetExtension'), ('GRWidgetExtension', 'AwemeWidgetExtension'), ('TeamsNotificationServiceExtensio', 'NotificationServiceExtension_ex'), ('TeamsNotificationServiceExtensio', 'NotificationServiceExtensions'), ('TeamsNotificationServiceExtensio', 'NotificationServiceExtension_ext'), ('Football NI', 'Football'), ('NotificationServiceExtension_ex', 'NotificationServiceExtension_extension'), ('NotificationServiceExtension_ex', 'NotificationServiceExtensions'), ('NotificationServiceExtension_ex', 'notificationserviceextension'), ('NotificationServiceExtension_ex', 'NotificationServiceExtension_ext'), ('SnapchatNotificationServiceExt', 'SnapchatNotificationServiceExt_'), ('SnapchatNotificationServiceExt', 'SnapchatNotificationServiceExt_1'), ('NotificationServiceExtension_extension', 'NotificationServiceExtensions'), ('NotificationServiceExtension_extension', 'NotificationServiceExtension_ext'), ('ASOS Notification Service Exten', 'ASOS Notification Service Extens'), ('SnapchatNotificationServiceExt_', 'SnapchatNotificationServiceExt_1'), ('NotificationServiceExtensions', 'notificationserviceextension'), ('NotificationServiceExtensions', 'ASOS Notification Service Extens'), ('NotificationServiceExtensions', 'NotificationServiceExtension_ext'), ('ClearScoreNotificationService E', 'ClearScoreNotificationService Ex'), ('notificationserviceextension', 'NotificationServiceExtension_ext'), ('CoreLocationTemporaryPreciseAuthPromptPlugin', 'CoreLocationTemporaryPreciseAuth')]\n"
          ]
        }
      ],
      "source": [
        "def similar(a, b):\n",
        "    return SequenceMatcher(None, a, b).ratio()\n",
        "\n",
        "# Example to find similar process names\n",
        "def find_similar_processes(data):\n",
        "    process_names = data['procName'].unique()\n",
        "    similar_process_pairs = []\n",
        "\n",
        "    for i, name1 in enumerate(process_names):\n",
        "        for name2 in process_names[i+1:]:\n",
        "            if name1 != name2 and similar(name1, name2) > 0.8:\n",
        "                similar_process_pairs.append((name1, name2))\n",
        "\n",
        "    return similar_process_pairs\n",
        "\n",
        "similar_processes = find_similar_processes(df)\n",
        "print(\"Similar Process Pairs:\", similar_processes)\n"
      ]
    },
    {
      "cell_type": "code",
      "execution_count": 28,
      "metadata": {},
      "outputs": [
        {
          "name": "stdout",
          "output_type": "stream",
          "text": [
            "'NoneType' object has no attribute 'cadam32bit_grad_fp32'\n"
          ]
        }
      ],
      "source": [
        "# Extract unique process names\n",
        "proc_names = df['procName'].unique()\n",
        "\n",
        "# Load a pre-trained sentence transformer model\n",
        "model = SentenceTransformer('all-MiniLM-L6-v2')\n",
        "\n",
        "# Generate embeddings for process names\n",
        "embeddings = model.encode(proc_names)\n",
        "\n",
        "# Normalize the embeddings\n",
        "scaler = StandardScaler()\n",
        "normalized_embeddings = scaler.fit_transform(embeddings)\n",
        "\n",
        "# Perform clustering using HDBSCAN\n",
        "clusterer = HDBSCAN(min_cluster_size=30, min_samples=1)\n",
        "cluster_labels = clusterer.fit_predict(normalized_embeddings)\n",
        "\n",
        "# Create a DataFrame with results\n",
        "results = pd.DataFrame({\n",
        "    'procName': proc_names,\n",
        "    'cluster': cluster_labels,\n",
        "    'outlier_score': clusterer.outlier_scores_\n",
        "})\n",
        "\n",
        "# Sort by outlier score in descending order\n",
        "results = results.sort_values('outlier_score', ascending=False)\n",
        "\n",
        "# Identify outliers (you can adjust the threshold as needed)\n",
        "outlier_threshold = results['outlier_score'].mean() + 2 * results['outlier_score'].std()\n",
        "outliers = results[results['outlier_score'] > outlier_threshold]\n",
        "\n",
        "# Apply UMAP for dimensionality reduction\n",
        "umap = UMAP(n_neighbors=20, n_components=2, min_dist=0.1, metric='cosine')\n",
        "umap_embeddings = umap.fit_transform(normalized_embeddings)\n",
        "# Convert proc_names to a list for indexing\n",
        "proc_names_list = proc_names.tolist()\n",
        "\n",
        "# Create the plot\n",
        "plt.figure(figsize=(30, 15))\n",
        "\n",
        "# Scatter plot with transparency\n",
        "scatter = plt.scatter(umap_embeddings[:, 0], umap_embeddings[:, 1], c=cluster_labels, cmap='viridis', alpha=0.7)\n",
        "\n",
        "# Add color bar\n",
        "cbar = plt.colorbar(scatter)\n",
        "cbar.set_label('Cluster Labels')\n",
        "\n",
        "# Display only a subset of process names to reduce clutter\n",
        "for i, txt in enumerate(proc_names_list):\n",
        "    if np.random.rand() > 0.99:  # Display approximately 2% of labels\n",
        "        plt.annotate(txt, (umap_embeddings[i, 0], umap_embeddings[i, 1]), fontsize=8, alpha=0.7)\n",
        "\n",
        "# Highlight outliers\n",
        "outlier_indices = [proc_names_list.index(name) for name in outliers['procName'] if name in proc_names_list]\n",
        "plt.scatter(umap_embeddings[outlier_indices, 0], umap_embeddings[outlier_indices, 1], \n",
        "            c='red', edgecolor='k', s=100, label='Outliers')\n",
        "\n",
        "# Annotate some of the outliers\n",
        "for i in outlier_indices:\n",
        "    plt.annotate(proc_names_list[i], (umap_embeddings[i, 0], umap_embeddings[i, 1]), fontsize=8, color='red', alpha=0.7)\n",
        "\n",
        "# Add labels and title\n",
        "plt.title('Process Name Clustering with Outliers Highlighted')\n",
        "plt.xlabel('UMAP Dimension 1')\n",
        "plt.ylabel('UMAP Dimension 2')\n",
        "\n",
        "# Show legend\n",
        "plt.legend()\n",
        "\n",
        "# Display the plot\n",
        "#plt.show()\n",
        "\n",
        "plt.savefig('procname_outliers.png')\n",
        "plt.close()\n"
      ]
    },
    {
      "cell_type": "code",
      "execution_count": 29,
      "metadata": {},
      "outputs": [
        {
          "data": {
            "application/vnd.plotly.v1+json": {
              "config": {
                "plotlyServerURL": "https://plot.ly"
              },
              "data": [
                {
                  "customdata": [
                    [
                      "ckdiscretionaryd",
                      null
                    ],
                    [
                      "SiriSuggestionsLightHousePlugin",
                      0.2828583556211802
                    ],
                    [
                      "dprivacyd",
                      null
                    ],
                    [
                      "activityawardsd",
                      null
                    ],
                    [
                      "DASDelegateService",
                      null
                    ],
                    [
                      "backupd",
                      null
                    ],
                    [
                      "com.apple.datamigrator",
                      null
                    ],
                    [
                      "com.apple.SafariServices.Conten",
                      null
                    ],
                    [
                      "parsec-fbf",
                      null
                    ],
                    [
                      "companion_proxy",
                      null
                    ],
                    [
                      "fairplaydeviceidentityd",
                      null
                    ],
                    [
                      "extensionkitservice",
                      0.2816004224352036
                    ],
                    [
                      "bookassetd",
                      0.2717518681287597
                    ],
                    [
                      "TestFlight",
                      null
                    ],
                    [
                      "ciphermld",
                      null
                    ],
                    [
                      "EscrowSecurityAlert",
                      null
                    ],
                    [
                      "LighthouseNightingaleExtension",
                      null
                    ],
                    [
                      "ptpd",
                      null
                    ],
                    [
                      "PFLHRPeriodPredCK",
                      null
                    ],
                    [
                      "microstackshot",
                      null
                    ],
                    [
                      "com.apple.siri.embeddedspeech",
                      null
                    ],
                    [
                      "mlruntimed",
                      null
                    ],
                    [
                      "idcredd",
                      null
                    ],
                    [
                      "healthappd",
                      null
                    ],
                    [
                      "dtdeviceinfod",
                      null
                    ],
                    [
                      "MobileStorageMounter",
                      0.2773595542979412
                    ],
                    [
                      "CategoriesService",
                      null
                    ],
                    [
                      "batteryintelligenced",
                      null
                    ],
                    [
                      "budd",
                      null
                    ],
                    [
                      "com.apple.WebKit.WebContent",
                      null
                    ],
                    [
                      "CoreSpotlightImportExtension1_i",
                      null
                    ],
                    [
                      "spotlightknowledged",
                      0.27864151912598834
                    ],
                    [
                      "HistoricalAnalyzerService",
                      null
                    ],
                    [
                      "PFLHRPeriodPredMLH",
                      null
                    ],
                    [
                      "InputUI",
                      null
                    ],
                    [
                      "tipsd",
                      null
                    ],
                    [
                      "ReportMemoryException",
                      null
                    ],
                    [
                      "EAUpdaterService",
                      null
                    ],
                    [
                      "adattributiond",
                      null
                    ],
                    [
                      "mobile_storage_proxy",
                      null
                    ],
                    [
                      "RemoteManagementAgent",
                      null
                    ],
                    [
                      "geocorrectiond",
                      null
                    ],
                    [
                      "tvremoted",
                      null
                    ],
                    [
                      "apfs_iosd",
                      null
                    ],
                    [
                      "MTLCompilerService",
                      null
                    ],
                    [
                      "corecaptured",
                      null
                    ],
                    [
                      "Preferences",
                      null
                    ],
                    [
                      "com.apple.StreamingUnzipService",
                      null
                    ],
                    [
                      "IMAutomaticHistoryDeletionAgent",
                      null
                    ],
                    [
                      "FinHealthXPCServices",
                      null
                    ],
                    [
                      "passwordbreachd",
                      null
                    ],
                    [
                      "ProactiveShareSheetLighthouseBa",
                      0.2828583556211802
                    ],
                    [
                      "DPSubmissionService",
                      null
                    ],
                    [
                      "griddatad",
                      null
                    ],
                    [
                      "diskimagesiod",
                      null
                    ],
                    [
                      "MetricsExtension",
                      null
                    ],
                    [
                      "ExperimentationExtension",
                      null
                    ],
                    [
                      "businessservicesd",
                      null
                    ],
                    [
                      "appinstallationmetricsd",
                      null
                    ],
                    [
                      "destinationd",
                      null
                    ],
                    [
                      "ThreeBarsXPCService",
                      null
                    ],
                    [
                      "BTLEServer",
                      null
                    ],
                    [
                      "UARPUpdaterServiceHID",
                      null
                    ],
                    [
                      "com.apple.MobileSoftwareUpdate.",
                      0.2793667866738452
                    ],
                    [
                      "PerfPowerTelemetryClientRegistr",
                      null
                    ],
                    [
                      "announced",
                      null
                    ],
                    [
                      "watchlistd",
                      null
                    ],
                    [
                      "mobileactivationd",
                      null
                    ],
                    [
                      "fitnesscoachingd",
                      null
                    ],
                    [
                      "WirelessRadioManagerd",
                      null
                    ],
                    [
                      "rapportd",
                      null
                    ],
                    [
                      "mediaanalysisd",
                      null
                    ],
                    [
                      "mc_mobile_tunnel",
                      null
                    ],
                    [
                      "devicecheckd",
                      null
                    ],
                    [
                      "notification_proxy",
                      null
                    ],
                    [
                      "dtappserviced",
                      null
                    ],
                    [
                      "DTServiceHub",
                      null
                    ],
                    [
                      "intelligenceplatformd",
                      null
                    ],
                    [
                      "logd_reporter",
                      null
                    ],
                    [
                      "ThumbnailExtensionSecure",
                      null
                    ],
                    [
                      "mobile_assertion_agent",
                      null
                    ],
                    [
                      "tailspind",
                      null
                    ],
                    [
                      "AccountSubscriber",
                      null
                    ],
                    [
                      "duetexpertd",
                      null
                    ],
                    [
                      "TestFlightServiceExtension",
                      null
                    ],
                    [
                      "MobileBackupCacheDeleteService",
                      null
                    ],
                    [
                      "CloudKeychainProxy",
                      null
                    ],
                    [
                      "filecoordinationd",
                      null
                    ],
                    [
                      "countryd",
                      null
                    ],
                    [
                      "cryptexd",
                      null
                    ],
                    [
                      "appleh13camerad",
                      0.28271970067148827
                    ],
                    [
                      "assistant_cdmd",
                      null
                    ],
                    [
                      "PosterBoard",
                      null
                    ],
                    [
                      "amsaccountsd",
                      null
                    ],
                    [
                      "avatarsd",
                      null
                    ],
                    [
                      "SiriMASPFLPlugin",
                      0.2828583556211802
                    ],
                    [
                      "FPCKService",
                      0.2816004224352036
                    ],
                    [
                      "AmbientPhotoFramePosterProvider",
                      0.2732083084754137
                    ],
                    [
                      "iconservicesagent",
                      null
                    ],
                    [
                      "TrialArchivingService",
                      null
                    ],
                    [
                      "ArchiveService",
                      null
                    ],
                    [
                      "ASConfigurationSubscriber",
                      null
                    ],
                    [
                      "webprivacyd",
                      null
                    ],
                    [
                      "MusicFocusFilters",
                      null
                    ],
                    [
                      "weatherd",
                      null
                    ],
                    [
                      "UsageTrackingAgent",
                      null
                    ],
                    [
                      "keychainsharingmessagingd",
                      null
                    ],
                    [
                      "assistant_service",
                      null
                    ],
                    [
                      "AssetCacheLocatorService",
                      null
                    ],
                    [
                      "com.apple.FaceTime.FTConversati",
                      null
                    ],
                    [
                      "AuthenticationServicesAgent",
                      null
                    ],
                    [
                      "NewsToday2",
                      null
                    ],
                    [
                      "com.apple.sbd",
                      null
                    ],
                    [
                      "maild",
                      null
                    ],
                    [
                      "medialibraryd",
                      null
                    ],
                    [
                      "OTATaskingAgent",
                      null
                    ],
                    [
                      "coreauthd",
                      null
                    ],
                    [
                      "fmfd",
                      null
                    ],
                    [
                      "ShortcutsTopHitsExtension",
                      null
                    ],
                    [
                      "wifip2pd",
                      null
                    ],
                    [
                      "ContextService",
                      null
                    ],
                    [
                      "languageassetd",
                      null
                    ],
                    [
                      "usernotificationsd",
                      null
                    ],
                    [
                      "mobileassetd",
                      null
                    ],
                    [
                      "lsd",
                      null
                    ],
                    [
                      "askpermissiond",
                      null
                    ],
                    [
                      "deferredmediad",
                      null
                    ],
                    [
                      "CacheDeleteDaily",
                      null
                    ],
                    [
                      "activitysharingd",
                      null
                    ],
                    [
                      "DeepThoughtWorker",
                      null
                    ],
                    [
                      "AppStoreService",
                      null
                    ],
                    [
                      "DesktopServicesHelper",
                      null
                    ],
                    [
                      "FSTaskScheduler",
                      null
                    ],
                    [
                      "com.apple.Safari.History",
                      null
                    ],
                    [
                      "dataaccessd",
                      null
                    ],
                    [
                      "online-auth-agent",
                      null
                    ],
                    [
                      "com.apple.accessibility.mediaac",
                      null
                    ],
                    [
                      "SafariBookmarksSyncAgent",
                      null
                    ],
                    [
                      "symptomsd-diag",
                      null
                    ],
                    [
                      "mmaintenanced",
                      null
                    ],
                    [
                      "com.apple.mobilenotes.WidgetExt",
                      null
                    ],
                    [
                      "MauiAUSP",
                      null
                    ],
                    [
                      "KonaSynthesizer",
                      null
                    ],
                    [
                      "UARPUpdaterServiceUSBPD",
                      null
                    ],
                    [
                      "adid",
                      null
                    ],
                    [
                      "webbookmarksd",
                      null
                    ],
                    [
                      "rtcreportingd",
                      null
                    ],
                    [
                      "findmybeaconingd",
                      null
                    ],
                    [
                      "pipelined",
                      null
                    ],
                    [
                      "sirittsd",
                      0.2828583556211802
                    ],
                    [
                      "com.apple.dt.DTConditionInducer",
                      null
                    ],
                    [
                      "knowledgeconstructiond",
                      null
                    ],
                    [
                      "PerfPowerServices",
                      null
                    ],
                    [
                      "homeenergyd",
                      null
                    ],
                    [
                      "betaenrollmentd",
                      null
                    ],
                    [
                      "CallHistorySyncHelper",
                      null
                    ],
                    [
                      "pasted",
                      null
                    ],
                    [
                      "PhotosFileProvider",
                      0.2732083084754137
                    ],
                    [
                      "ind",
                      null
                    ],
                    [
                      "MacinTalkAUSP",
                      null
                    ],
                    [
                      "parsecd",
                      null
                    ],
                    [
                      "momentsd",
                      null
                    ],
                    [
                      "com.apple.SharePlay.NearbyInvit",
                      null
                    ],
                    [
                      "installcoordinationd",
                      null
                    ],
                    [
                      "siriknowledged",
                      0.27864151912598834
                    ],
                    [
                      "audioaccessoryd",
                      null
                    ],
                    [
                      "passd",
                      null
                    ],
                    [
                      "AppleCredentialManagerDaemon",
                      null
                    ],
                    [
                      "assetsd",
                      null
                    ],
                    [
                      "mstreamd",
                      null
                    ],
                    [
                      "MobileNotes",
                      null
                    ],
                    [
                      "Ivy",
                      null
                    ],
                    [
                      "tzd",
                      null
                    ],
                    [
                      "abm-helper",
                      null
                    ],
                    [
                      "diskimagescontroller",
                      null
                    ],
                    [
                      "asd",
                      null
                    ],
                    [
                      "healthrecordsd",
                      null
                    ],
                    [
                      "proactiveeventtrackerd",
                      null
                    ],
                    [
                      "remindd",
                      null
                    ],
                    [
                      "installcoordination_proxy",
                      null
                    ],
                    [
                      "ScreenshotServicesService",
                      null
                    ],
                    [
                      "WiFiCloudAssetsXPCService",
                      null
                    ],
                    [
                      "ASPCarryLog",
                      null
                    ],
                    [
                      "MobileSlideShow",
                      null
                    ],
                    [
                      "ProtectedCloudKeySyncing",
                      null
                    ],
                    [
                      "IMDPersistenceAgent",
                      null
                    ],
                    [
                      "spaceattributiond",
                      null
                    ],
                    [
                      "Spotlight",
                      0.271616054506325
                    ],
                    [
                      "privacyaccountingd",
                      null
                    ],
                    [
                      "replayd",
                      null
                    ],
                    [
                      "homed",
                      null
                    ],
                    [
                      "networkserviceproxy",
                      null
                    ],
                    [
                      "coreduetd",
                      null
                    ],
                    [
                      "fitcored",
                      null
                    ],
                    [
                      "sysdiagnosed",
                      null
                    ],
                    [
                      "PerfPowerTelemetryReaderService",
                      null
                    ],
                    [
                      "signpost_reporter",
                      null
                    ],
                    [
                      "com.apple.VideoSubscriberAccoun",
                      null
                    ],
                    [
                      "com.apple.DocumentManagerCore.D",
                      null
                    ],
                    [
                      "heartbeatd",
                      null
                    ],
                    [
                      "IntelligencePlatformComputeServ",
                      null
                    ],
                    [
                      "sensorkitd",
                      null
                    ],
                    [
                      "clipserviced",
                      null
                    ],
                    [
                      "managedappdistributiond",
                      null
                    ],
                    [
                      "WorkoutKitXPCService",
                      null
                    ],
                    [
                      "com.apple.MapKit.SnapshotServic",
                      null
                    ],
                    [
                      "CMFSyncAgent",
                      null
                    ],
                    [
                      "remotepairingdeviced",
                      null
                    ],
                    [
                      "voicebankingd",
                      null
                    ],
                    [
                      "eligibilityd",
                      null
                    ],
                    [
                      "WidgetRenderer_Default",
                      null
                    ],
                    [
                      "swcd",
                      null
                    ],
                    [
                      "useractivityd",
                      null
                    ],
                    [
                      "familycircled",
                      null
                    ],
                    [
                      "itunesstored",
                      null
                    ],
                    [
                      "ScreenTimeAgent",
                      null
                    ],
                    [
                      "siriinferenced",
                      0.2828583556211802
                    ],
                    [
                      "audioclocksyncd",
                      null
                    ],
                    [
                      "cdpd",
                      null
                    ],
                    [
                      "userfs_helper",
                      null
                    ],
                    [
                      "CommCenterRootHelper",
                      null
                    ],
                    [
                      "com.apple.mlhost.CloudWorker",
                      0.2793667866738452
                    ],
                    [
                      "com.apple.WebKit.Networking",
                      null
                    ],
                    [
                      "com.apple.quicklook.extension.p",
                      null
                    ],
                    [
                      "InCallService",
                      null
                    ],
                    [
                      "metrickitd",
                      null
                    ],
                    [
                      "LegacyProfilesSubscriber",
                      null
                    ],
                    [
                      "PasscodeSettingsSubscriber",
                      null
                    ],
                    [
                      "MailShortcutsExtension",
                      null
                    ],
                    [
                      "diagnosticextensionsd",
                      null
                    ],
                    [
                      "CacheDeleteAppContainerCaches",
                      null
                    ],
                    [
                      "AMDEngagementExtension",
                      null
                    ],
                    [
                      "voiced",
                      null
                    ],
                    [
                      "deleted_helper",
                      null
                    ],
                    [
                      "AppStore",
                      null
                    ],
                    [
                      "kbd",
                      null
                    ],
                    [
                      "installd",
                      null
                    ],
                    [
                      "druid",
                      null
                    ],
                    [
                      "splashboardd",
                      null
                    ],
                    [
                      "TrustedPeersHelper",
                      null
                    ],
                    [
                      "SetStoreUpdateService",
                      null
                    ],
                    [
                      "UserFontManager",
                      null
                    ],
                    [
                      "osanalyticshelper",
                      null
                    ],
                    [
                      "amsengagementd",
                      null
                    ],
                    [
                      "fontservicesd",
                      null
                    ],
                    [
                      "audioanalyticsd",
                      null
                    ],
                    [
                      "com.apple.CallKit.CallDirectory",
                      null
                    ],
                    [
                      "MessagesBlastDoorService",
                      null
                    ],
                    [
                      "SiriUserSegmentation",
                      null
                    ],
                    [
                      "reversetemplated",
                      null
                    ],
                    [
                      "powerlogHelperd",
                      null
                    ],
                    [
                      "terminusd",
                      null
                    ],
                    [
                      "AirDrop",
                      null
                    ],
                    [
                      "AMPIDService",
                      null
                    ],
                    [
                      "mediasetupd",
                      null
                    ],
                    [
                      "SoftwareUpdateSubscriber",
                      null
                    ],
                    [
                      "HeuristicInterpreter",
                      null
                    ],
                    [
                      "InfographPoster",
                      null
                    ],
                    [
                      "com.apple.CloudDocs.iCloudDrive",
                      0.2793667866738452
                    ],
                    [
                      "GeneralMapsWidget",
                      null
                    ],
                    [
                      "appleaccountd",
                      null
                    ],
                    [
                      "UARPUpdaterServiceAFU",
                      null
                    ],
                    [
                      "linkd",
                      null
                    ],
                    [
                      "seserviced",
                      null
                    ],
                    [
                      "localizationswitcherd",
                      null
                    ],
                    [
                      "pkd",
                      null
                    ],
                    [
                      "contactsdonationagent",
                      null
                    ],
                    [
                      "com.apple.DictionaryServiceHelp",
                      null
                    ],
                    [
                      "softposreaderd",
                      null
                    ],
                    [
                      "nanoregistrylaunchd",
                      null
                    ],
                    [
                      "AccessibilityUIServer",
                      null
                    ],
                    [
                      "ctkd",
                      null
                    ],
                    [
                      "dmd",
                      null
                    ],
                    [
                      "searchpartyd",
                      null
                    ],
                    [
                      "findmylocated",
                      null
                    ],
                    [
                      "mDNSResponder",
                      null
                    ],
                    [
                      "coreidvd",
                      null
                    ],
                    [
                      "itunescloudd",
                      null
                    ],
                    [
                      "siriactionsd",
                      0.2828583556211802
                    ],
                    [
                      "usermanagerd",
                      null
                    ],
                    [
                      "OTACrashCopier",
                      null
                    ],
                    [
                      "seld",
                      null
                    ],
                    [
                      "routined",
                      null
                    ],
                    [
                      "peopled",
                      null
                    ],
                    [
                      "mediaserverd",
                      null
                    ],
                    [
                      "contentlinkingd",
                      null
                    ],
                    [
                      "debugserver",
                      null
                    ],
                    [
                      "AirDropUI",
                      null
                    ],
                    [
                      "ProfileValidatedAppIdentityServ",
                      null
                    ],
                    [
                      "Camera",
                      null
                    ],
                    [
                      "InteractiveLegacyProfilesSubscr",
                      null
                    ],
                    [
                      "translationd",
                      null
                    ],
                    [
                      "MercuryPosterExtension",
                      null
                    ],
                    [
                      "cloudphotod",
                      null
                    ],
                    [
                      "promotedcontentd",
                      null
                    ],
                    [
                      "storekitd",
                      null
                    ],
                    [
                      "captiveagent",
                      null
                    ],
                    [
                      "GSSCred",
                      null
                    ],
                    [
                      "ScreenTimeWidgetExtension",
                      null
                    ],
                    [
                      "nesessionmanager",
                      null
                    ],
                    [
                      "com.apple.NeighborhoodActivityC",
                      null
                    ],
                    [
                      "cloudd",
                      null
                    ],
                    [
                      "carkitd",
                      null
                    ],
                    [
                      "wirelessinsightsd",
                      null
                    ],
                    [
                      "findmydeviced",
                      null
                    ],
                    [
                      "PowerUIAgent",
                      null
                    ],
                    [
                      "mobilerepaird",
                      null
                    ],
                    [
                      "misd",
                      null
                    ],
                    [
                      "softwareupdated",
                      null
                    ],
                    [
                      "distnoted",
                      null
                    ],
                    [
                      "keybagd",
                      null
                    ],
                    [
                      "logd",
                      null
                    ],
                    [
                      "lockdownd",
                      null
                    ],
                    [
                      "kernel_task",
                      null
                    ],
                    [
                      "diskarbitrationd",
                      null
                    ],
                    [
                      "MTLAssetUpgraderD",
                      null
                    ],
                    [
                      "SiriMASPFLCK",
                      0.2828583556211802
                    ],
                    [
                      "avconferenced",
                      null
                    ],
                    [
                      "MobileCal",
                      null
                    ],
                    [
                      "ndoagent",
                      null
                    ],
                    [
                      "vmd",
                      null
                    ],
                    [
                      "Files",
                      null
                    ],
                    [
                      "backgroundassets.user",
                      null
                    ],
                    [
                      "AppSSODaemon",
                      0.27193913444777085
                    ],
                    [
                      "softwareupdateservicesd",
                      null
                    ],
                    [
                      "CollectionsPoster",
                      null
                    ],
                    [
                      "geod",
                      null
                    ],
                    [
                      "suggestd",
                      null
                    ],
                    [
                      "sociallayerd",
                      null
                    ],
                    [
                      "SCHelper",
                      null
                    ],
                    [
                      "CommCenterMobileHelper",
                      null
                    ],
                    [
                      "familynotificationd",
                      null
                    ],
                    [
                      "videocodecd",
                      null
                    ],
                    [
                      "ptpcamerad",
                      null
                    ],
                    [
                      "neagent",
                      null
                    ],
                    [
                      "sysmond",
                      null
                    ],
                    [
                      "xpcroleaccountd",
                      null
                    ],
                    [
                      "mobile_installation_proxy",
                      null
                    ],
                    [
                      "SaveToFiles",
                      null
                    ],
                    [
                      "DayStreamProcessorService",
                      null
                    ],
                    [
                      "com.apple.siri-distributed-eval",
                      null
                    ],
                    [
                      "afcd",
                      null
                    ],
                    [
                      "powerdatad",
                      null
                    ],
                    [
                      "mediaplaybackd",
                      null
                    ],
                    [
                      "RepackagingWorker",
                      null
                    ],
                    [
                      "MobileSafari",
                      null
                    ],
                    [
                      "FamilyControlsAgent",
                      null
                    ],
                    [
                      "aned",
                      null
                    ],
                    [
                      "mapssyncd",
                      null
                    ],
                    [
                      "SiriAUSP",
                      0.2828583556211802
                    ],
                    [
                      "videosubscriptionsd",
                      null
                    ],
                    [
                      "contactsd",
                      null
                    ],
                    [
                      "analyticsd",
                      null
                    ],
                    [
                      "akd",
                      null
                    ],
                    [
                      "searchd",
                      null
                    ],
                    [
                      "transparencyd",
                      null
                    ],
                    [
                      "diagnosticd",
                      null
                    ],
                    [
                      "BitacoraWorker",
                      null
                    ],
                    [
                      "SharingUIService",
                      null
                    ],
                    [
                      "safetyalertsd",
                      null
                    ],
                    [
                      "com.apple.photos.ImageConversio",
                      null
                    ],
                    [
                      "mediaparserd",
                      null
                    ],
                    [
                      "PassKitEngagementExtension",
                      null
                    ],
                    [
                      "feedbackd",
                      null
                    ],
                    [
                      "ospredictiond",
                      null
                    ],
                    [
                      "SecuritySubscriber",
                      null
                    ],
                    [
                      "ManagedAppsSubscriber",
                      null
                    ],
                    [
                      "AppPredictionIntentsHelperServi",
                      null
                    ],
                    [
                      "CalendarFocusConfigurationExten",
                      null
                    ],
                    [
                      "CoreThreadCommissionerServiced",
                      null
                    ],
                    [
                      "attributionkitd",
                      null
                    ],
                    [
                      "bird",
                      null
                    ],
                    [
                      "com.apple.MobileInstallationHel",
                      0.2793667866738452
                    ],
                    [
                      "mapspushd",
                      null
                    ],
                    [
                      "PhotosReliveWidget",
                      null
                    ],
                    [
                      "profiled",
                      null
                    ],
                    [
                      "donotdisturbd",
                      null
                    ],
                    [
                      "bluetoothuserd",
                      null
                    ],
                    [
                      "cfprefsd",
                      null
                    ],
                    [
                      "containermanagerd_system",
                      null
                    ],
                    [
                      "powerd",
                      null
                    ],
                    [
                      "notifyd",
                      null
                    ],
                    [
                      "driverkitd",
                      null
                    ],
                    [
                      "ANEStorageMaintainer",
                      null
                    ],
                    [
                      "crash_mover",
                      null
                    ],
                    [
                      "icloudsubscriptionoptimizerd",
                      null
                    ],
                    [
                      "remotemanagementd",
                      null
                    ],
                    [
                      "MessagesActionExtension",
                      null
                    ],
                    [
                      "progressd",
                      null
                    ],
                    [
                      "locationpushd",
                      null
                    ],
                    [
                      "biomesyncd",
                      null
                    ],
                    [
                      "financed",
                      null
                    ],
                    [
                      "fileproviderd",
                      0.2732083084754137
                    ],
                    [
                      "com.apple.SiriTTSService.TrialP",
                      null
                    ],
                    [
                      "ACCHWComponentAuthService",
                      null
                    ],
                    [
                      "sosd",
                      null
                    ],
                    [
                      "triald",
                      0.2731948372591041
                    ],
                    [
                      "deleted",
                      null
                    ],
                    [
                      "corespeechd",
                      null
                    ],
                    [
                      "ReportCrash",
                      null
                    ],
                    [
                      "syncdefaultsd",
                      null
                    ],
                    [
                      "intelligentroutingd",
                      null
                    ],
                    [
                      "revisiond",
                      null
                    ],
                    [
                      "dtdebugproxyd",
                      null
                    ],
                    [
                      "SiriCoreMetricsWorker",
                      0.2828583556211802
                    ],
                    [
                      "LocalStorageFileProvider",
                      null
                    ],
                    [
                      "stickersd",
                      null
                    ],
                    [
                      "wifivelocityd",
                      null
                    ],
                    [
                      "com.apple.mlhost.TelemetryWorke",
                      0.2793667866738452
                    ],
                    [
                      "mlhostd",
                      null
                    ],
                    [
                      "anomalydetectiond",
                      null
                    ],
                    [
                      "lockdownmoded",
                      null
                    ],
                    [
                      "WatchEnrollmentSubscriber",
                      null
                    ],
                    [
                      "ManagementTestSubscriber",
                      null
                    ],
                    [
                      "eyereliefd",
                      null
                    ],
                    [
                      "com.apple.quicklook.ThumbnailsA",
                      null
                    ],
                    [
                      "photoanalysisd",
                      null
                    ],
                    [
                      "ContainerMetadataExtractor",
                      null
                    ],
                    [
                      "nanotimekitcompaniond",
                      null
                    ],
                    [
                      "absd",
                      null
                    ],
                    [
                      "coresymbolicationd",
                      null
                    ],
                    [
                      "geoanalyticsd",
                      null
                    ],
                    [
                      "CalendarWidgetExtension",
                      null
                    ],
                    [
                      "StatusKitAgent",
                      null
                    ],
                    [
                      "BatteriesAvocadoWidgetExtension",
                      null
                    ],
                    [
                      "WeatherWidget",
                      null
                    ],
                    [
                      "UARPUpdaterServiceLegacyAudio",
                      null
                    ],
                    [
                      "wifianalyticsd",
                      null
                    ],
                    [
                      "appstored",
                      null
                    ],
                    [
                      "misagent",
                      null
                    ],
                    [
                      "trustd",
                      null
                    ],
                    [
                      "timed",
                      null
                    ],
                    [
                      "adprivacyd",
                      null
                    ],
                    [
                      "mscamerad-xpc",
                      null
                    ],
                    [
                      "com.apple.dt.instruments.dtsecu",
                      null
                    ],
                    [
                      "nanoprefsyncd",
                      null
                    ],
                    [
                      "biomed",
                      null
                    ],
                    [
                      "peakpowermanagerd",
                      null
                    ],
                    [
                      "amfid",
                      null
                    ],
                    [
                      "gamecontrollerd",
                      null
                    ],
                    [
                      "securityd",
                      null
                    ],
                    [
                      "navd",
                      null
                    ],
                    [
                      "healthd",
                      null
                    ],
                    [
                      "fairplayd.H2",
                      null
                    ],
                    [
                      "bluetoothd",
                      null
                    ],
                    [
                      "remoted",
                      null
                    ],
                    [
                      "SpringBoard",
                      null
                    ],
                    [
                      "IOMFB_bics_daemon",
                      null
                    ],
                    [
                      "ManagedSettingsAgent",
                      null
                    ],
                    [
                      "assistantd",
                      null
                    ],
                    [
                      "containermanagerd",
                      null
                    ],
                    [
                      "identityservicesd",
                      null
                    ],
                    [
                      "backboardd",
                      null
                    ],
                    [
                      "configd",
                      null
                    ],
                    [
                      "CoreAuthUI",
                      null
                    ],
                    [
                      "intents_helper",
                      null
                    ],
                    [
                      "apsd",
                      null
                    ],
                    [
                      "followupd",
                      null
                    ],
                    [
                      "symptomsd",
                      null
                    ],
                    [
                      "pfd",
                      null
                    ],
                    [
                      "audiomxd",
                      null
                    ],
                    [
                      "contextstored",
                      null
                    ],
                    [
                      "fseventsd",
                      null
                    ],
                    [
                      "watchdogd",
                      null
                    ],
                    [
                      "UserEventAgent",
                      null
                    ],
                    [
                      "com.apple.photos.VideoConversio",
                      null
                    ],
                    [
                      "STExtractionService",
                      null
                    ],
                    [
                      "GameControllerConfigService",
                      null
                    ],
                    [
                      "lskdd",
                      null
                    ],
                    [
                      "biometrickitd",
                      null
                    ],
                    [
                      "com.apple.DriverKit-AppleBCMWLA",
                      null
                    ],
                    [
                      "mediaremoted",
                      null
                    ],
                    [
                      "locationd",
                      null
                    ],
                    [
                      "sharingd",
                      null
                    ],
                    [
                      "nfcd",
                      null
                    ],
                    [
                      "launchd",
                      null
                    ],
                    [
                      "HomeWidgetExtension",
                      null
                    ],
                    [
                      "callservicesd",
                      null
                    ],
                    [
                      "logd_helper",
                      null
                    ],
                    [
                      "runningboardd",
                      null
                    ],
                    [
                      "sleepd",
                      null
                    ],
                    [
                      "thermalmonitord",
                      null
                    ],
                    [
                      "fmflocatord",
                      null
                    ],
                    [
                      "nanoregistryd",
                      null
                    ],
                    [
                      "nearbyd",
                      null
                    ],
                    [
                      "atc",
                      null
                    ],
                    [
                      "accessoryupdaterd",
                      0.28271970067148827
                    ],
                    [
                      "axassetsd",
                      null
                    ],
                    [
                      "CommCenter",
                      null
                    ],
                    [
                      "chronod",
                      null
                    ],
                    [
                      "calaccessd",
                      null
                    ],
                    [
                      "liveactivitiesd",
                      null
                    ],
                    [
                      "accessoryd",
                      0.28271970067148827
                    ],
                    [
                      "nsurlsessiond",
                      null
                    ],
                    [
                      "MobileGestaltHelper",
                      null
                    ],
                    [
                      "nehelper",
                      null
                    ],
                    [
                      "accountsd",
                      null
                    ],
                    [
                      "wcd",
                      null
                    ],
                    [
                      "dasd",
                      null
                    ],
                    [
                      "tccd",
                      null
                    ],
                    [
                      "imagent",
                      null
                    ],
                    [
                      "mobiletimerd",
                      null
                    ],
                    [
                      "wifid",
                      null
                    ],
                    [
                      "GroupSessionService",
                      null
                    ],
                    [
                      "DPMLRuntimePluginNonDnU",
                      null
                    ],
                    [
                      "gamed",
                      null
                    ],
                    [
                      "appstorecomponentsd",
                      null
                    ],
                    [
                      "mtmergeprops",
                      null
                    ],
                    [
                      "StocksWidget",
                      null
                    ],
                    [
                      "UtilityExtension",
                      null
                    ],
                    [
                      "mediamlxpc",
                      null
                    ],
                    [
                      "WorldClockWidget",
                      null
                    ],
                    [
                      "CoreLocationTemporaryPreciseAut",
                      null
                    ],
                    [
                      "CacheDeleteExtension",
                      null
                    ],
                    [
                      "IMDMessageServicesAgent",
                      null
                    ],
                    [
                      "kernel",
                      null
                    ],
                    [
                      "com.apple.dt.instruments.dtsecurity",
                      null
                    ],
                    [
                      "AppStoreWidgetsExtension",
                      null
                    ],
                    [
                      "SafariWidgetExtension",
                      null
                    ],
                    [
                      "StoreKitUIService",
                      null
                    ],
                    [
                      "IvyForOrgs",
                      null
                    ],
                    [
                      "FitnessWidget",
                      null
                    ],
                    [
                      "symptomsd-helper",
                      null
                    ],
                    [
                      "sysdiagnose_helper",
                      null
                    ],
                    [
                      "addaily",
                      null
                    ],
                    [
                      "textunderstandingd",
                      null
                    ],
                    [
                      "SysdiagnoseShareExtension",
                      null
                    ],
                    [
                      "vm_stat",
                      null
                    ],
                    [
                      "ZhuGeService",
                      null
                    ],
                    [
                      "com.apple.CloudDocs.iCloudDriveFileProvider",
                      0.2793667866738452
                    ],
                    [
                      "(ps)",
                      null
                    ],
                    [
                      "com.apple.SharePlay.NearbyInvitationsService",
                      null
                    ],
                    [
                      "com.apple.FaceTime.FTConversationService",
                      null
                    ],
                    [
                      "com.apple.mlhost.TelemetryWorker",
                      0.2793667866738452
                    ],
                    [
                      "com.apple.MapKit.SnapshotService",
                      null
                    ],
                    [
                      "PerfPowerTelemetryClientRegistrationService",
                      null
                    ],
                    [
                      "com.apple.MobileSoftwareUpdate.CleanupPreparePathService",
                      0.2793667866738452
                    ],
                    [
                      "com.apple.accessibility.mediaaccessibilityd",
                      null
                    ],
                    [
                      "com.apple.DriverKit-AppleBCMWLAN",
                      null
                    ],
                    [
                      "com.apple.NeighborhoodActivityConduitService",
                      null
                    ],
                    [
                      "com.apple.MobileInstallationHelperService",
                      0.2793667866738452
                    ],
                    [
                      "com.apple.SafariServices.ContentBlockerLoader",
                      null
                    ],
                    [
                      "Screen",
                      null
                    ],
                    [
                      "CalendarFocusConfigurationExtension",
                      null
                    ],
                    [
                      "InteractiveLegacyProfilesSubscriber",
                      null
                    ],
                    [
                      "AppPredictionIntentsHelperService",
                      null
                    ],
                    [
                      "com.apple.photos.ImageConversionService",
                      null
                    ],
                    [
                      "com.apple.mobilenotes.WidgetExtension",
                      null
                    ],
                    [
                      "ps",
                      null
                    ],
                    [
                      "taskinfo",
                      null
                    ],
                    [
                      "com.apple.quicklook.ThumbnailsAgent",
                      null
                    ],
                    [
                      "com.apple.SiriTTSService.TrialProxy",
                      null
                    ],
                    [
                      "IntelligencePlatformComputeService",
                      null
                    ],
                    [
                      "<defunct>",
                      null
                    ],
                    [
                      "com.apple.CallKit.CallDirectoryMaintenance",
                      null
                    ],
                    [
                      "com.apple.DictionaryServiceHelper",
                      null
                    ],
                    [
                      "com.apple.dt.DTConditionInducerSupportService",
                      null
                    ],
                    [
                      "ProactiveShareSheetLighthouseBackgroundPlugin",
                      0.2828583556211802
                    ],
                    [
                      "com.apple.siri-distributed-evaluation",
                      null
                    ],
                    [
                      "com.apple.VideoSubscriberAccount.DeveloperService",
                      null
                    ],
                    [
                      "ProfileValidatedAppIdentityService",
                      null
                    ],
                    [
                      "com.apple.quicklook.extension.previewUI",
                      null
                    ],
                    [
                      "com.apple.DocumentManagerCore.Downloads",
                      null
                    ],
                    [
                      "CoreSpotlightImportExtension1_iOS",
                      null
                    ],
                    [
                      "TipsWidget",
                      null
                    ],
                    [
                      "Freeform",
                      null
                    ],
                    [
                      "PassbookUIService",
                      null
                    ],
                    [
                      "NewsTag",
                      null
                    ],
                    [
                      "RemindersWidgetExtension",
                      null
                    ],
                    [
                      "Family",
                      null
                    ],
                    [
                      "ANECompilerService",
                      null
                    ],
                    [
                      "TVWidgetExtension",
                      null
                    ],
                    [
                      "PeopleWidget_iOSExtension",
                      null
                    ],
                    [
                      "HomeEnergyWidgetsExtension",
                      null
                    ],
                    [
                      "MailWidgetExtension",
                      null
                    ],
                    [
                      "GCWidgets",
                      null
                    ],
                    [
                      "HomeWidget",
                      null
                    ],
                    [
                      "BooksWidgetExtension",
                      null
                    ],
                    [
                      "xpcproxy",
                      null
                    ],
                    [
                      "FindMyWidgetPeople",
                      null
                    ],
                    [
                      "LegacyPoster",
                      null
                    ],
                    [
                      "PodcastsWidget",
                      null
                    ],
                    [
                      "FindMyWidgetItems",
                      null
                    ],
                    [
                      "PassbookWidgetsExtension-iPhone",
                      null
                    ],
                    [
                      "MusicWidgets",
                      null
                    ],
                    [
                      "continuitycaptured",
                      null
                    ],
                    [
                      "SleepWidgetExtension",
                      null
                    ],
                    [
                      "com.apple.Safari.SafeBrowsing.S",
                      null
                    ],
                    [
                      "spindump",
                      null
                    ],
                    [
                      "SearchPoirotExtension",
                      null
                    ],
                    [
                      "securityuploadd",
                      null
                    ],
                    [
                      "FPSpotlightIndexer",
                      null
                    ],
                    [
                      "com.apple.photos.VideoConversionService",
                      null
                    ],
                    [
                      "recentsd",
                      null
                    ],
                    [
                      "com.apple.accounts.dom",
                      null
                    ],
                    [
                      "TelemetryDiskChecker",
                      0.2793667866738452
                    ],
                    [
                      "bookdatastored",
                      null
                    ],
                    [
                      "safarifetcherd",
                      null
                    ],
                    [
                      "CoreRoutineHelperService",
                      null
                    ],
                    [
                      "touchsetupd",
                      null
                    ],
                    [
                      "applecamerad",
                      0.28271970067148827
                    ],
                    [
                      "EmojiPosterExtension",
                      null
                    ],
                    [
                      "memoryanalyticsd",
                      null
                    ],
                    [
                      "ClockPosterExtension",
                      null
                    ],
                    [
                      "UnityPosterExtension",
                      null
                    ],
                    [
                      "facetimemessagestored",
                      null
                    ],
                    [
                      "MobileSMS",
                      null
                    ],
                    [
                      "WeatherPoster",
                      null
                    ],
                    [
                      "ExtragalacticPoster",
                      null
                    ],
                    [
                      "MediaMLPlugin",
                      null
                    ],
                    [
                      "SafariLinkExtension",
                      null
                    ],
                    [
                      "hangtracerd",
                      null
                    ],
                    [
                      "GradientPosterExtension",
                      null
                    ],
                    [
                      "BiomeLighthousePlugin",
                      null
                    ],
                    [
                      "gpsd",
                      null
                    ],
                    [
                      "SeymourEngagementExtension",
                      null
                    ],
                    [
                      "proximitycontrold",
                      null
                    ],
                    [
                      "AegirPoster",
                      null
                    ],
                    [
                      "PridePosterExtension",
                      null
                    ],
                    [
                      "PhotosPosterProvider",
                      0.2732083084754137
                    ],
                    [
                      "BlueTool",
                      null
                    ],
                    [
                      "com.apple.AppleUserHIDDrivers",
                      null
                    ],
                    [
                      "EnvoyMobile",
                      null
                    ],
                    [
                      "heard",
                      null
                    ],
                    [
                      "CircleJoinRequested",
                      null
                    ],
                    [
                      "Envoy",
                      null
                    ],
                    [
                      "aggregated",
                      null
                    ],
                    [
                      "SiriTTSSynthesizerAU",
                      0.2828583556211802
                    ],
                    [
                      "AppStoreEvalLighthousePlugin",
                      null
                    ],
                    [
                      "cloudpaird",
                      null
                    ],
                    [
                      "sysdiagnose",
                      null
                    ],
                    [
                      "handwritingd",
                      null
                    ],
                    [
                      "TVRemoteConnectionService",
                      null
                    ],
                    [
                      "awdd",
                      null
                    ],
                    [
                      "EnforcementService",
                      null
                    ],
                    [
                      "IDSBlastDoorService",
                      null
                    ],
                    [
                      "com.apple.CloudDocs.MobileDocumentsFileProvider",
                      0.2793667866738452
                    ],
                    [
                      "fairplayd.A2",
                      null
                    ],
                    [
                      "CAReportingService",
                      null
                    ],
                    [
                      "ScreenshotService",
                      null
                    ],
                    [
                      "studentd",
                      null
                    ],
                    [
                      "mlmodelingd",
                      null
                    ],
                    [
                      "assistivetouchd",
                      null
                    ],
                    [
                      "com.apple.WebKit.GPU",
                      null
                    ],
                    [
                      "UniversalControl",
                      null
                    ],
                    [
                      "mediaanalysisd-service",
                      null
                    ],
                    [
                      "iMessageAppsViewService",
                      null
                    ],
                    [
                      "MomentsUIService",
                      null
                    ],
                    [
                      "FindMyDeviceBluetoothExtension",
                      null
                    ],
                    [
                      "SafariViewService",
                      null
                    ],
                    [
                      "com.apple.Safari.SearchHelper",
                      null
                    ],
                    [
                      "FMDMagSafeExtension",
                      null
                    ],
                    [
                      "Journal",
                      null
                    ],
                    [
                      "MobileMail",
                      null
                    ],
                    [
                      "com.apple.freeform.appremoval",
                      null
                    ],
                    [
                      "Home",
                      null
                    ],
                    [
                      "com.apple.Safari.SafeBrowsing.Service",
                      null
                    ],
                    [
                      "ConnectIQ",
                      null
                    ],
                    [
                      "meindm",
                      null
                    ],
                    [
                      "exchangesyncd",
                      null
                    ],
                    [
                      "Facebook",
                      0.2820487788168125
                    ],
                    [
                      "heyOBI_LIVE",
                      null
                    ],
                    [
                      "HomeScreenWidgetExtension",
                      null
                    ],
                    [
                      "maps",
                      null
                    ],
                    [
                      "ShareExtension",
                      null
                    ],
                    [
                      "SleepLockScreen",
                      null
                    ],
                    [
                      "App",
                      0.27193913444777085
                    ],
                    [
                      "DSA_DE",
                      null
                    ],
                    [
                      "Passbook",
                      null
                    ],
                    [
                      "Audible",
                      null
                    ],
                    [
                      "Groupon",
                      null
                    ],
                    [
                      "ING",
                      null
                    ],
                    [
                      "SiriUserFeedbackLearningPlatformPlugin",
                      0.2828583556211802
                    ],
                    [
                      "SteuerPhone",
                      null
                    ],
                    [
                      "Dominguez",
                      null
                    ],
                    [
                      "IMTransferAgent",
                      null
                    ],
                    [
                      "Kleinanzeigen",
                      null
                    ],
                    [
                      "Maps",
                      null
                    ],
                    [
                      "MobilePhone",
                      null
                    ],
                    [
                      "sudoku",
                      null
                    ],
                    [
                      "Weather",
                      null
                    ],
                    [
                      "AmazonCloudPlayer",
                      null
                    ],
                    [
                      "DHLPaket_PROD",
                      null
                    ],
                    [
                      "NewsTodayExtension",
                      null
                    ],
                    [
                      "Pinterest",
                      null
                    ],
                    [
                      "Siri",
                      0.2828583556211802
                    ],
                    [
                      "UniNow",
                      null
                    ],
                    [
                      "WhatsApp",
                      null
                    ],
                    [
                      "Argo",
                      null
                    ],
                    [
                      "BTAvrcp",
                      null
                    ],
                    [
                      "SecureGo",
                      null
                    ],
                    [
                      "yeedi",
                      null
                    ],
                    [
                      "Kindle",
                      null
                    ],
                    [
                      "mdmd",
                      null
                    ],
                    [
                      "PrimeVideo",
                      null
                    ],
                    [
                      "Telekom",
                      null
                    ],
                    [
                      "Amazon",
                      null
                    ],
                    [
                      "Music",
                      null
                    ],
                    [
                      "Phantasialand",
                      null
                    ],
                    [
                      "CoreSpotlightService",
                      null
                    ],
                    [
                      "Podcasts",
                      null
                    ],
                    [
                      "Signal",
                      null
                    ],
                    [
                      "YouTube",
                      null
                    ],
                    [
                      "Helix",
                      null
                    ],
                    [
                      "MobileTimer",
                      null
                    ],
                    [
                      "Runner",
                      null
                    ],
                    [
                      "SiriTasksEvaluationPlugin",
                      0.2828583556211802
                    ],
                    [
                      "TagesschauNew",
                      null
                    ],
                    [
                      "Vonovia",
                      null
                    ],
                    [
                      "Chapters",
                      null
                    ],
                    [
                      "ConnectMobile",
                      0.27193913444777085
                    ],
                    [
                      "Messenger",
                      null
                    ],
                    [
                      "Minesweeper",
                      null
                    ],
                    [
                      "WaterSort",
                      null
                    ],
                    [
                      "LidlSocialInternacional",
                      null
                    ],
                    [
                      "SiriUserFeedbackLearningUniversalSuggestionsPlugin",
                      0.2828583556211802
                    ],
                    [
                      "Vendigator",
                      null
                    ],
                    [
                      "zooplus",
                      null
                    ],
                    [
                      "FindMy",
                      null
                    ],
                    [
                      "Gmail",
                      null
                    ],
                    [
                      "Telegram",
                      null
                    ],
                    [
                      "Core",
                      null
                    ],
                    [
                      "Docs",
                      null
                    ],
                    [
                      "TooGoodToGo",
                      null
                    ],
                    [
                      "Threat Hunter",
                      null
                    ],
                    [
                      "ProfileValidatedAppIdentityServi",
                      null
                    ],
                    [
                      "com.apple.Safari.SafeBrowsing.Se",
                      null
                    ],
                    [
                      "com.apple.NeighborhoodActivityCo",
                      null
                    ],
                    [
                      "PerfPowerTelemetryClientRegistra",
                      null
                    ],
                    [
                      "com.apple.accessibility.mediaacc",
                      null
                    ],
                    [
                      "com.apple.dt.DTConditionInducerS",
                      null
                    ],
                    [
                      "com.apple.photos.ImageConversion",
                      null
                    ],
                    [
                      "com.apple.CloudDocs.iCloudDriveF",
                      0.2793667866738452
                    ],
                    [
                      "ProactiveShareSheetLighthouseBac",
                      0.2828583556211802
                    ],
                    [
                      "IntelligencePlatformComputeServi",
                      null
                    ],
                    [
                      "CalendarFocusConfigurationExtens",
                      null
                    ],
                    [
                      "InteractiveLegacyProfilesSubscri",
                      null
                    ],
                    [
                      "com.apple.photos.VideoConversion",
                      null
                    ],
                    [
                      "com.apple.DocumentManagerCore.Do",
                      null
                    ],
                    [
                      "com.apple.dt.instruments.dtsecur",
                      null
                    ],
                    [
                      "com.apple.siri-distributed-evalu",
                      null
                    ],
                    [
                      "com.apple.VideoSubscriberAccount",
                      null
                    ],
                    [
                      "com.apple.quicklook.ThumbnailsAg",
                      null
                    ],
                    [
                      "com.apple.FaceTime.FTConversatio",
                      null
                    ],
                    [
                      "com.apple.MobileInstallationHelp",
                      0.2793667866738452
                    ],
                    [
                      "AppPredictionIntentsHelperServic",
                      null
                    ],
                    [
                      "com.apple.MobileSoftwareUpdate.C",
                      0.2793667866738452
                    ],
                    [
                      "com.apple.SiriTTSService.TrialPr",
                      null
                    ],
                    [
                      "com.apple.CallKit.CallDirectoryM",
                      null
                    ],
                    [
                      "com.apple.mobilenotes.WidgetExte",
                      null
                    ],
                    [
                      "Mach Kernel",
                      null
                    ],
                    [
                      "Ciconia",
                      null
                    ],
                    [
                      "streaming_zip_conduit",
                      null
                    ],
                    [
                      "LockScreenPeopleWidget_iOSExten",
                      null
                    ],
                    [
                      "SBRendererService",
                      null
                    ],
                    [
                      "LockScreenPeopleWidget_iOSExtens",
                      null
                    ],
                    [
                      "com.apple.DictionaryServiceHelpe",
                      null
                    ],
                    [
                      "com.apple.SafariServices.Content",
                      null
                    ],
                    [
                      "com.apple.CloudDocs.MobileDocume",
                      0.2793667866738452
                    ],
                    [
                      "AirDropAlertUI",
                      null
                    ],
                    [
                      "SharingXPCHelper",
                      null
                    ],
                    [
                      "com.apple.quicklook.extension.pr",
                      null
                    ],
                    [
                      "com.apple.CloudDocs.MobileDocum",
                      0.2793667866738452
                    ],
                    [
                      "WeatherIntents",
                      null
                    ],
                    [
                      "NewsTodayIntents",
                      null
                    ],
                    [
                      "SelectPerson_iOS",
                      null
                    ],
                    [
                      "FindMyWidgetIntentsPeople",
                      null
                    ],
                    [
                      "BluetoothUIService",
                      null
                    ],
                    [
                      "MailIntentsExtension",
                      null
                    ],
                    [
                      "HomeWidgetLockScreen",
                      null
                    ],
                    [
                      "StocksDetailIntents",
                      0.273816371420314
                    ],
                    [
                      "dockaccessoryd",
                      null
                    ],
                    [
                      "tzlinkd",
                      null
                    ],
                    [
                      "PhotosReliveWidgetIntents",
                      null
                    ],
                    [
                      "lsdiagnose",
                      null
                    ],
                    [
                      "LockScreenPeopleWidget_iOSExtension",
                      null
                    ],
                    [
                      "BackupAgent2",
                      null
                    ],
                    [
                      "pcsstatus",
                      null
                    ],
                    [
                      "OneSecFocusFilter",
                      null
                    ],
                    [
                      "gputoolstransportd",
                      null
                    ],
                    [
                      "CSExattrCryptoService",
                      null
                    ],
                    [
                      "Zoom",
                      null
                    ],
                    [
                      "SharingHUDService",
                      null
                    ],
                    [
                      "UVCAssistant",
                      null
                    ],
                    [
                      "Slack",
                      null
                    ],
                    [
                      "com.apple.CoreSVG.thumbnail",
                      null
                    ],
                    [
                      "StandaloneHIDAudService",
                      null
                    ],
                    [
                      "de-lieferando",
                      null
                    ],
                    [
                      "ING Banking",
                      null
                    ],
                    [
                      "1Password",
                      null
                    ],
                    [
                      "Goodnotes",
                      0.2719338355910133
                    ],
                    [
                      "Discord",
                      null
                    ],
                    [
                      "ImmoScout",
                      null
                    ],
                    [
                      "Twitter",
                      null
                    ],
                    [
                      "Revolut",
                      null
                    ],
                    [
                      "com.apple.PDFKit.PDFExtensionView",
                      null
                    ],
                    [
                      "com.apple.SensorKit.SKMediaEventsHelper",
                      null
                    ],
                    [
                      "Finanzblick",
                      null
                    ],
                    [
                      "PPlusINTL",
                      null
                    ],
                    [
                      "Booking.com",
                      null
                    ],
                    [
                      "DoctolibPatient",
                      null
                    ],
                    [
                      "WarnWetter",
                      null
                    ],
                    [
                      "NotificationServiceExtension",
                      null
                    ],
                    [
                      "AtlasMobile-DE",
                      null
                    ],
                    [
                      "ACCFeatureAudioProductService",
                      null
                    ],
                    [
                      "mydealz",
                      null
                    ],
                    [
                      "gputoolsserviced",
                      null
                    ],
                    [
                      "SignalNSE",
                      null
                    ],
                    [
                      "ARD_Mediathek_iOS",
                      null
                    ],
                    [
                      "Drive",
                      null
                    ],
                    [
                      "Reminders",
                      null
                    ],
                    [
                      "CoreSpeechXPC",
                      null
                    ],
                    [
                      "MyDealzNotificationServiceExtension",
                      null
                    ],
                    [
                      "LinkedIn",
                      null
                    ],
                    [
                      "TSP",
                      null
                    ],
                    [
                      "CleverPushNotificationServiceExtension",
                      null
                    ],
                    [
                      "RTLplus",
                      null
                    ],
                    [
                      "FindMyDeviceBTDiscoveryXPCService",
                      null
                    ],
                    [
                      "pointeruid",
                      null
                    ],
                    [
                      "heise online",
                      null
                    ],
                    [
                      "Books",
                      null
                    ],
                    [
                      "PhotosTCCNotificationExtension",
                      null
                    ],
                    [
                      "UserNotificationsUIThumbnailProvider",
                      null
                    ],
                    [
                      "GoogleCalendar",
                      null
                    ],
                    [
                      "AppleTV",
                      null
                    ],
                    [
                      "UserFontServices",
                      null
                    ],
                    [
                      "ZDF",
                      null
                    ],
                    [
                      "Focus Filter Extension",
                      null
                    ],
                    [
                      "MediaRemoteUI",
                      null
                    ],
                    [
                      "com.apple.Safari.SandboxBroker",
                      null
                    ],
                    [
                      "Slides",
                      null
                    ],
                    [
                      "Notion",
                      null
                    ],
                    [
                      "naturallanguaged",
                      null
                    ],
                    [
                      "Magenta TV",
                      null
                    ],
                    [
                      "100 Push-Ups",
                      null
                    ],
                    [
                      "com.apple.SensorKit.SKMediaEven",
                      null
                    ],
                    [
                      "MyDealzNotificationServiceExten",
                      null
                    ],
                    [
                      "com.apple.PDFKit.PDFExtensionVi",
                      null
                    ],
                    [
                      "FindMyDeviceBTDiscoveryXPCServi",
                      null
                    ],
                    [
                      "CleverPushNotificationServiceEx",
                      null
                    ],
                    [
                      "UserNotificationsUIThumbnailPro",
                      null
                    ],
                    [
                      "dtfetchsymbolsd",
                      null
                    ],
                    [
                      "pivtoken",
                      null
                    ],
                    [
                      "secelemtoken",
                      null
                    ],
                    [
                      "HelloPosterExtension",
                      null
                    ],
                    [
                      "ShortcutsWidgetExtension",
                      null
                    ],
                    [
                      "MirroredWidgetExtension",
                      null
                    ],
                    [
                      "BatteriesWidgetExtension",
                      null
                    ],
                    [
                      "HealthMentalHealthWidgetExtension",
                      null
                    ],
                    [
                      "HealthMedicationsWidgetExtension",
                      null
                    ],
                    [
                      "PassbookWidgetsExtension-iPad",
                      null
                    ],
                    [
                      "IntentsExtension",
                      null
                    ],
                    [
                      "MobileTimerIntents",
                      null
                    ],
                    [
                      "FC_WidgetExtension",
                      null
                    ],
                    [
                      "Radioplayer DE Widget Extension",
                      null
                    ],
                    [
                      "ExtensionWidgetExtension",
                      null
                    ],
                    [
                      "WidgetKitExtension",
                      null
                    ],
                    [
                      "ItemWidgets",
                      null
                    ],
                    [
                      "DWDWidgetExtension",
                      null
                    ],
                    [
                      "WidgetExtension",
                      null
                    ],
                    [
                      "mediaartworkd",
                      null
                    ],
                    [
                      "SecuredBrowsingExtension",
                      null
                    ],
                    [
                      "Lufthansa",
                      null
                    ],
                    [
                      "Numbers",
                      null
                    ],
                    [
                      "storebookkeeperd",
                      null
                    ],
                    [
                      "SharedPreferences",
                      null
                    ],
                    [
                      "ProductDiscoveryWidgets",
                      null
                    ],
                    [
                      "ContactViewViewService",
                      null
                    ],
                    [
                      "LockscreenWidget",
                      null
                    ],
                    [
                      "MobileSMSSpotlightImporter",
                      null
                    ],
                    [
                      "newsd",
                      null
                    ],
                    [
                      "BackgroundDownloaderAppExtension",
                      null
                    ],
                    [
                      "WerStreamtEsApp.iOS",
                      null
                    ],
                    [
                      "ChatGPTApp",
                      null
                    ],
                    [
                      "springboardservicesrelay",
                      null
                    ],
                    [
                      "com.apple.PDFKit.PDFExtensionVie",
                      null
                    ],
                    [
                      "FindMyDeviceBTDiscoveryXPCServic",
                      null
                    ],
                    [
                      "UserNotificationsUIThumbnailProv",
                      null
                    ],
                    [
                      "MyDealzNotificationServiceExtens",
                      null
                    ],
                    [
                      "sportsd",
                      null
                    ],
                    [
                      "com.apple.MobileSoftwareUpdate.U",
                      0.2793667866738452
                    ],
                    [
                      "SPIHelper-iOS",
                      null
                    ],
                    [
                      "relatived",
                      null
                    ],
                    [
                      "OneApp",
                      0.2766392590671351
                    ],
                    [
                      "SingleInbound",
                      null
                    ],
                    [
                      "OneClickApp",
                      0.2766392590671351
                    ],
                    [
                      "Congress",
                      null
                    ],
                    [
                      "TeamSpaceApp",
                      null
                    ],
                    [
                      "Airbnb",
                      null
                    ],
                    [
                      "Vivid",
                      null
                    ],
                    [
                      "NFLFantasy",
                      null
                    ],
                    [
                      "GitHub",
                      null
                    ],
                    [
                      "UberEats",
                      null
                    ],
                    [
                      "RegenRadar",
                      null
                    ],
                    [
                      "SiriUserFeedbackLearningPlatform",
                      0.2828583556211802
                    ],
                    [
                      "SiriUserFeedbackLearningUniversa",
                      0.2828583556211802
                    ],
                    [
                      "HealthPrivacyService",
                      null
                    ],
                    [
                      "AuthenticationServicesUI",
                      null
                    ],
                    [
                      "AuthKitUIService",
                      null
                    ],
                    [
                      "RemotePlayerService",
                      null
                    ],
                    [
                      "PerfPowerServicesSignpostReader",
                      null
                    ],
                    [
                      "MessagesViewService",
                      null
                    ],
                    [
                      "SharingViewService",
                      null
                    ],
                    [
                      "com.apple.SensorKit.SKMediaEvent",
                      null
                    ],
                    [
                      "XPCUbiquityDisableService",
                      null
                    ],
                    [
                      "OverlayUI",
                      null
                    ],
                    [
                      "com.apple.SharePlay.NearbyInvita",
                      null
                    ],
                    [
                      "OneAppAdvancedWidget",
                      null
                    ],
                    [
                      "HealthMentalHealthWidgetExtensio",
                      null
                    ],
                    [
                      "PushupWidgetsExtension",
                      null
                    ],
                    [
                      "Developer Widget",
                      null
                    ],
                    [
                      "Widget",
                      null
                    ],
                    [
                      "WidgetsExtension",
                      null
                    ],
                    [
                      "bergfexSkiWidgetExtension",
                      null
                    ],
                    [
                      "PassKitSpotlightIndexExtension",
                      null
                    ],
                    [
                      "com.apple.VoiceMemos.SpotlightIn",
                      null
                    ],
                    [
                      "CredentialProviderExtensionHelpe",
                      null
                    ],
                    [
                      "RemindersIntentsExtension",
                      null
                    ],
                    [
                      "HomeWidgetSingleAccessoryIntent",
                      null
                    ],
                    [
                      "BatteriesWidgetIntentsExtension",
                      null
                    ],
                    [
                      "ScreenTimeWidgetIntentsExtension",
                      null
                    ],
                    [
                      "com.apple.mobilenotes.IntentsExt",
                      null
                    ],
                    [
                      "FindMyWidgetIntentsItems",
                      null
                    ],
                    [
                      "UserNotificationsUIDefaultExtens",
                      null
                    ],
                    [
                      "com.apple.PrintKit.PrinterTool",
                      null
                    ],
                    [
                      "PDFImporter",
                      null
                    ],
                    [
                      "MFAANetwork",
                      null
                    ],
                    [
                      "SaveToPocket",
                      null
                    ],
                    [
                      "MailSpotlightIndexExtension",
                      null
                    ],
                    [
                      "CGPDFService",
                      null
                    ],
                    [
                      "KaleidoscopePoster",
                      null
                    ],
                    [
                      "CleverPushNotificationServiceExt",
                      null
                    ],
                    [
                      "VideoSubscriberAccountViewServic",
                      null
                    ],
                    [
                      "DeviceOMatic",
                      null
                    ],
                    [
                      "de-lieferando-widget-extension",
                      null
                    ],
                    [
                      "AKAppSSOExtension",
                      null
                    ],
                    [
                      "Spotify",
                      null
                    ],
                    [
                      "Pocket",
                      null
                    ],
                    [
                      "coordinated",
                      null
                    ],
                    [
                      "Chrome",
                      null
                    ],
                    [
                      "pokerstars",
                      null
                    ],
                    [
                      "RTLplusPushNotification",
                      null
                    ],
                    [
                      "RemoteNotificationExtension",
                      null
                    ],
                    [
                      "ThumbnailExtension",
                      null
                    ],
                    [
                      "NumbersSpotlightExtension",
                      null
                    ],
                    [
                      "com.apple.DocumentManager.Servic",
                      null
                    ],
                    [
                      "companiond",
                      0.28271970067148827
                    ],
                    [
                      "IMTranscoderAgent",
                      null
                    ],
                    [
                      "hostapd",
                      null
                    ],
                    [
                      "com.apple.DocumentManager.Servi",
                      null
                    ],
                    [
                      "SiriUserFeedbackLearningPlatfor",
                      0.2828583556211802
                    ],
                    [
                      "SiriUserFeedbackLearningUnivers",
                      0.2828583556211802
                    ],
                    [
                      "BackgroundDownloaderAppExtensio",
                      null
                    ],
                    [
                      "ImmoscoutNotifications",
                      null
                    ],
                    [
                      "PhotosPicker",
                      null
                    ],
                    [
                      "GenericKextUpdaterService",
                      null
                    ],
                    [
                      "FDICommd",
                      null
                    ],
                    [
                      "FindMyDeviceIdentityXPCService",
                      null
                    ],
                    [
                      "com.apple.BarcodeSupport.Barcod",
                      null
                    ],
                    [
                      "HealthMentalHealthWidgetExtensi",
                      null
                    ],
                    [
                      "watchpresenced",
                      null
                    ],
                    [
                      "DPMLRuntimePlugin",
                      null
                    ],
                    [
                      "ScreenTimeWidgetIntentsExtensio",
                      null
                    ],
                    [
                      "HealthMedicationsWidgetExtensio",
                      null
                    ],
                    [
                      "com.apple.mobilenotes.IntentsEx",
                      null
                    ],
                    [
                      "com.apple.BarcodeSupport.Helper",
                      null
                    ],
                    [
                      "com.apple.BarcodeSupport.Barcode",
                      null
                    ],
                    [
                      "com.apple.BarcodeSupport.BarcodeNotificationService",
                      null
                    ],
                    [
                      "com.apple.mobilenotes.IntentsExtension",
                      null
                    ],
                    [
                      "Setup",
                      null
                    ],
                    [
                      "ContinuityCaptureShieldUI",
                      null
                    ],
                    [
                      "caraccessoryd",
                      null
                    ],
                    [
                      "MusicCoreSpotlightExtension",
                      null
                    ],
                    [
                      "TVCoreSpotlightExtension",
                      null
                    ],
                    [
                      "com.apple.mobilenotes.SpotlightI",
                      null
                    ],
                    [
                      "ReplayKitAngel",
                      null
                    ],
                    [
                      "CoreSpotlightImportExtension1_iO",
                      null
                    ],
                    [
                      "AKLocationSignInAlert",
                      null
                    ],
                    [
                      "zIPS-DeutscheTelekom-AppStore",
                      null
                    ],
                    [
                      "NewsNotificationServiceExtension",
                      null
                    ],
                    [
                      "localspeechrecognition",
                      null
                    ],
                    [
                      "News",
                      null
                    ],
                    [
                      "com.apple.VoiceMemos.SpotlightI",
                      null
                    ],
                    [
                      "com.apple.mobilenotes.Spotlight",
                      null
                    ],
                    [
                      "NewsNotificationServiceExtensio",
                      null
                    ],
                    [
                      "SoftwareUpdateUIService",
                      null
                    ],
                    [
                      "com.apple.VoiceMemos.SpotlightIndexExtension",
                      null
                    ],
                    [
                      "com.apple.mobilenotes.SpotlightIndexExtension",
                      null
                    ],
                    [
                      "com.apple.MobileSoftwareUpdate.UpdateBrainService",
                      0.2793667866738452
                    ],
                    [
                      "TipsSpotlightIndex",
                      null
                    ],
                    [
                      "CoreLocationVanillaWhenInUseAuthPromptPlugin",
                      null
                    ],
                    [
                      "Exited process",
                      null
                    ],
                    [
                      "CoreCDPUIService",
                      null
                    ],
                    [
                      "ABDatabaseDoctor",
                      null
                    ],
                    [
                      "magicswitchd",
                      null
                    ],
                    [
                      "pairedsyncd",
                      null
                    ],
                    [
                      "brookcompaniond",
                      null
                    ],
                    [
                      "bulletindistributord",
                      null
                    ],
                    [
                      "tursd",
                      null
                    ],
                    [
                      "appleh16camerad",
                      0.28271970067148827
                    ],
                    [
                      "NPKCompanionAgent",
                      null
                    ],
                    [
                      "companionfindlocallyd",
                      0.28271970067148827
                    ],
                    [
                      "appconduitd",
                      null
                    ],
                    [
                      "nanoappregistryd",
                      null
                    ],
                    [
                      "resourcegrabberd",
                      null
                    ],
                    [
                      "companionappd",
                      0.28271970067148827
                    ],
                    [
                      "nanoweatherprefsd",
                      null
                    ],
                    [
                      "pairedunlockd",
                      null
                    ],
                    [
                      "eventkitsyncd",
                      null
                    ],
                    [
                      "nanomapscd",
                      null
                    ],
                    [
                      "nptocompaniond",
                      null
                    ],
                    [
                      "BEAM",
                      null
                    ],
                    [
                      "Instagram",
                      null
                    ],
                    [
                      "Hellotaxi App",
                      null
                    ],
                    [
                      "OneNote",
                      null
                    ],
                    [
                      "Robinhood",
                      null
                    ],
                    [
                      "Calculator",
                      null
                    ],
                    [
                      "webinspectord",
                      null
                    ],
                    [
                      "bootpd",
                      null
                    ],
                    [
                      "Dashlane",
                      null
                    ],
                    [
                      "DashlaneIdentityDashboardWidgetE",
                      null
                    ],
                    [
                      "Beatfulness",
                      null
                    ],
                    [
                      "UsaaMobile",
                      null
                    ],
                    [
                      "TranslationUIService",
                      null
                    ],
                    [
                      "UnitedCustomerFacingIPhone",
                      null
                    ],
                    [
                      "AccessibilityAppIntents",
                      null
                    ],
                    [
                      "DurianUpdaterService",
                      null
                    ],
                    [
                      "BundleComplicationMigrationServi",
                      null
                    ],
                    [
                      "CarPlay",
                      null
                    ],
                    [
                      "addressbooksyncd",
                      null
                    ],
                    [
                      "ProxiedCrashCopier",
                      null
                    ],
                    [
                      "companionmessagesd",
                      0.28271970067148827
                    ],
                    [
                      "IDSCredentialsAgent",
                      null
                    ],
                    [
                      "Hulu",
                      null
                    ],
                    [
                      "ZillowMap",
                      null
                    ],
                    [
                      "ring",
                      null
                    ],
                    [
                      "DBOXPlus",
                      null
                    ],
                    [
                      "BofA",
                      null
                    ],
                    [
                      "Threads",
                      null
                    ],
                    [
                      "MayChannel",
                      null
                    ],
                    [
                      "NordVPN",
                      null
                    ],
                    [
                      "Bridge",
                      null
                    ],
                    [
                      "My Verizon",
                      null
                    ],
                    [
                      "One Medical",
                      null
                    ],
                    [
                      "FearGreed",
                      null
                    ],
                    [
                      "PayPal",
                      null
                    ],
                    [
                      "Venmo",
                      null
                    ],
                    [
                      "MPX2",
                      null
                    ],
                    [
                      "Symantec VIP Access",
                      null
                    ],
                    [
                      "HelloFresh",
                      null
                    ],
                    [
                      "Microsoft Authenticator",
                      null
                    ],
                    [
                      "Navan",
                      null
                    ],
                    [
                      "Justworks",
                      null
                    ],
                    [
                      "Mindbloom",
                      null
                    ],
                    [
                      "LabelRadar",
                      null
                    ],
                    [
                      "Stocks",
                      0.273816371420314
                    ],
                    [
                      "DuoMobileApp",
                      0.27193913444777085
                    ],
                    [
                      "S4A",
                      null
                    ],
                    [
                      "Chase",
                      null
                    ],
                    [
                      "Authenticator",
                      null
                    ],
                    [
                      "Coinbase",
                      null
                    ],
                    [
                      "nanomediaremotelinkagent",
                      null
                    ],
                    [
                      "companioncamerad",
                      0.28271970067148827
                    ],
                    [
                      "CTParserService",
                      null
                    ],
                    [
                      "ADPMobile",
                      null
                    ],
                    [
                      "Redfin",
                      null
                    ],
                    [
                      "ClockAngel",
                      null
                    ],
                    [
                      "ServiceExtension",
                      null
                    ],
                    [
                      "WidgetExtension-Production",
                      null
                    ],
                    [
                      "ACCCarPlayService",
                      null
                    ],
                    [
                      "CarPlayTemplateUIHost",
                      null
                    ],
                    [
                      "CarPlayWallpaper",
                      null
                    ],
                    [
                      "RedfinWidgetsExtension",
                      null
                    ],
                    [
                      "BEAMNotificationServiceExtension",
                      null
                    ],
                    [
                      "AudioConverterService",
                      null
                    ],
                    [
                      "Hellotaxi",
                      null
                    ],
                    [
                      "Focus",
                      null
                    ],
                    [
                      "BundleComplicationMigrationService",
                      null
                    ],
                    [
                      "My",
                      null
                    ],
                    [
                      "One",
                      null
                    ],
                    [
                      "Symantec",
                      null
                    ],
                    [
                      "Microsoft",
                      null
                    ],
                    [
                      "CredentialProviderExtensionHelper",
                      null
                    ],
                    [
                      "DashlaneIdentityDashboardWidgetExtension",
                      null
                    ],
                    [
                      "ARD Quiz",
                      null
                    ],
                    [
                      "KindleTodayWidgetExtension",
                      null
                    ],
                    [
                      "SwiftScanWidgetsExtension",
                      null
                    ],
                    [
                      "ScriptableWidgetExtension",
                      null
                    ],
                    [
                      "consumerveniceNotificationServic",
                      null
                    ],
                    [
                      "nanosystemsettingsd",
                      null
                    ],
                    [
                      "FilesystemMetadataSnapshotServic",
                      null
                    ],
                    [
                      "Shortcuts",
                      null
                    ],
                    [
                      "iphone-app",
                      0.27193913444777085
                    ],
                    [
                      "Helpling",
                      null
                    ],
                    [
                      "REWE",
                      null
                    ],
                    [
                      "iSH",
                      null
                    ],
                    [
                      "schooltimed",
                      null
                    ],
                    [
                      "Consorsbank",
                      null
                    ],
                    [
                      "EcovacsHome",
                      null
                    ],
                    [
                      "UZApp",
                      null
                    ],
                    [
                      "Swapcard",
                      null
                    ],
                    [
                      "DAZN",
                      null
                    ],
                    [
                      "Erklaer App",
                      null
                    ],
                    [
                      "Nextbike",
                      null
                    ],
                    [
                      "EP-ios",
                      null
                    ],
                    [
                      "Outlook-iOS",
                      null
                    ],
                    [
                      "Joyn",
                      null
                    ],
                    [
                      "intellect_socket",
                      null
                    ],
                    [
                      "NINA",
                      null
                    ],
                    [
                      "eBay",
                      null
                    ],
                    [
                      "Feedback Assistant iOS",
                      null
                    ],
                    [
                      "ConsorsSecurePlusProd",
                      null
                    ],
                    [
                      "Splitwise",
                      null
                    ],
                    [
                      "BahnBonus",
                      null
                    ],
                    [
                      "BundleComplicationMigrationServ",
                      null
                    ],
                    [
                      "CredentialProviderExtensionHelp",
                      null
                    ],
                    [
                      "consumerveniceNotificationServi",
                      null
                    ],
                    [
                      "FilesystemMetadataSnapshotServi",
                      null
                    ],
                    [
                      "Erklaer",
                      null
                    ],
                    [
                      "HUK",
                      null
                    ],
                    [
                      "ALT_BLM",
                      null
                    ],
                    [
                      "subridged",
                      null
                    ],
                    [
                      "gamepolicyd",
                      null
                    ],
                    [
                      "Airalo",
                      null
                    ],
                    [
                      "TVRemoteUIService",
                      null
                    ],
                    [
                      "ARD",
                      null
                    ],
                    [
                      "ShortcutsUI",
                      null
                    ],
                    [
                      "MusicUIService",
                      0.2726108333572535
                    ],
                    [
                      "BTPbap",
                      null
                    ],
                    [
                      "Feedback",
                      null
                    ],
                    [
                      "PassbookUISceneService",
                      null
                    ],
                    [
                      "bitpanda",
                      null
                    ],
                    [
                      "100",
                      null
                    ],
                    [
                      "OfficeSpotlightImporter",
                      null
                    ],
                    [
                      "MadridApp",
                      null
                    ],
                    [
                      "NotificationService",
                      null
                    ],
                    [
                      "one",
                      null
                    ],
                    [
                      "consumerveniceNotificationServiceIntent",
                      null
                    ],
                    [
                      "FilesystemMetadataSnapshotService",
                      null
                    ],
                    [
                      "inboxupdaterd",
                      0.28271970067148827
                    ],
                    [
                      "addNetworkInterface",
                      null
                    ],
                    [
                      "DoctolibNotificationServiceExte",
                      null
                    ],
                    [
                      "Widget Extension",
                      null
                    ],
                    [
                      "dhcp6d",
                      null
                    ],
                    [
                      "rtadvd",
                      null
                    ],
                    [
                      "VividNotificationServiceExtensi",
                      null
                    ],
                    [
                      "BusinessChatViewService",
                      null
                    ],
                    [
                      "eapolclient",
                      null
                    ],
                    [
                      "RentalWidgetExtension",
                      null
                    ],
                    [
                      "Fitness",
                      null
                    ],
                    [
                      "HUK Meine Gesundheit",
                      null
                    ],
                    [
                      "NTKFaceSnapshotService",
                      null
                    ],
                    [
                      "MailCompositionService",
                      null
                    ],
                    [
                      "Translate",
                      null
                    ],
                    [
                      "CFNetworkAgent",
                      null
                    ],
                    [
                      "wetter",
                      null
                    ],
                    [
                      "Goodreads",
                      0.2719338355910133
                    ],
                    [
                      "Espresso",
                      null
                    ],
                    [
                      "SwiftScan",
                      null
                    ],
                    [
                      "HappyCow",
                      null
                    ],
                    [
                      "Mastodon",
                      null
                    ],
                    [
                      "Arch",
                      null
                    ],
                    [
                      "AppleSupport",
                      null
                    ],
                    [
                      "Wallet",
                      null
                    ],
                    [
                      "ZecOps-XDR",
                      null
                    ],
                    [
                      "Falcon",
                      null
                    ],
                    [
                      "Marriott",
                      null
                    ],
                    [
                      "SmartThings",
                      null
                    ],
                    [
                      "Nomad",
                      null
                    ],
                    [
                      "bergfexSki",
                      null
                    ],
                    [
                      "Health",
                      null
                    ],
                    [
                      "REWEWidgetExtension",
                      null
                    ],
                    [
                      "VividNotificationServiceExtension",
                      null
                    ],
                    [
                      "VendigatorWidgets",
                      null
                    ],
                    [
                      "Battery Life",
                      null
                    ],
                    [
                      "Innerfire",
                      null
                    ],
                    [
                      "WeatherWidgetExtension",
                      null
                    ],
                    [
                      "MessagesAssistantExtension",
                      null
                    ],
                    [
                      "TwitterNotificationServiceExten",
                      null
                    ],
                    [
                      "NANDTaskScheduler",
                      null
                    ],
                    [
                      "AutoFillHelper",
                      null
                    ],
                    [
                      "IntentsObjcExtension",
                      null
                    ],
                    [
                      "pushImageService",
                      null
                    ],
                    [
                      "ContactsCoreSpotlightExtension",
                      null
                    ],
                    [
                      "Wallet Creator",
                      null
                    ],
                    [
                      "Espresso House",
                      null
                    ],
                    [
                      "Consorsbank Notification Servic",
                      null
                    ],
                    [
                      "FacetimeExtension",
                      null
                    ],
                    [
                      "DoctolibNotificationServiceExten",
                      null
                    ],
                    [
                      "RhizomePoster",
                      null
                    ],
                    [
                      "VividNotificationServiceExtensio",
                      null
                    ],
                    [
                      "CTNotifyUIService",
                      null
                    ],
                    [
                      "perfdiagsselfenabled",
                      null
                    ],
                    [
                      "speechmodeltrainingd",
                      null
                    ],
                    [
                      "Status-WidgetExtension",
                      null
                    ],
                    [
                      "WidgetPRD",
                      null
                    ],
                    [
                      "AthenaWidgetExtension",
                      null
                    ],
                    [
                      "RiderWidgetExtension",
                      null
                    ],
                    [
                      "EveryworksWidgetExtension",
                      null
                    ],
                    [
                      "GoogleWidgets",
                      null
                    ],
                    [
                      "CityKeyWidgetExtension",
                      null
                    ],
                    [
                      "FNWidgetExtension",
                      null
                    ],
                    [
                      "NikeRunClubWidgetsExtension",
                      0.28129489775802374
                    ],
                    [
                      "Home_Widgets_Extension",
                      null
                    ],
                    [
                      "Calm Widget",
                      null
                    ],
                    [
                      "CyberGhost Widget",
                      null
                    ],
                    [
                      "Decibel X Widget Extension",
                      0.2805328588779515
                    ],
                    [
                      "NowPlayingWidgetExtension",
                      null
                    ],
                    [
                      "TDAWidget_DE-MT",
                      null
                    ],
                    [
                      "LastSearchWidgetExtension",
                      null
                    ],
                    [
                      "NeptuneLiveActivityExtension",
                      null
                    ],
                    [
                      "Streaks-WidgetsExtension",
                      null
                    ],
                    [
                      "DataUsageWidgetExtension",
                      null
                    ],
                    [
                      "SHFreeWidgetKitExtension",
                      null
                    ],
                    [
                      "ParentalControlWidgetExtension",
                      null
                    ],
                    [
                      "MyFitnessPal Widget",
                      null
                    ],
                    [
                      "SnapchatHomeScreenWidget",
                      null
                    ],
                    [
                      "SleepPlusWidgetExtension",
                      null
                    ],
                    [
                      "waipu-widget",
                      null
                    ],
                    [
                      "TGTGWidgetExtension",
                      null
                    ],
                    [
                      "DeliverooWidgetExtension",
                      null
                    ],
                    [
                      "RiderWidgetBundleLive",
                      null
                    ],
                    [
                      "NearbyWidgetExtension",
                      null
                    ],
                    [
                      "one sec widget extension",
                      null
                    ],
                    [
                      "CamoWidgetExtension",
                      null
                    ],
                    [
                      "WidgetBundle",
                      null
                    ],
                    [
                      "FabulousWidgets",
                      null
                    ],
                    [
                      "MywellnessWidgetExtension",
                      null
                    ],
                    [
                      "widgetsExtension",
                      null
                    ],
                    [
                      "widgetExtension",
                      null
                    ],
                    [
                      "NetworkWidgetExtension",
                      null
                    ],
                    [
                      "WidgetKit",
                      null
                    ],
                    [
                      "Widgets",
                      null
                    ],
                    [
                      "WetterHomescreenLongForecastWidg",
                      null
                    ],
                    [
                      "Parcel Widget Extension",
                      null
                    ],
                    [
                      "pon Widget",
                      null
                    ],
                    [
                      "Shazam Widget Extension",
                      null
                    ],
                    [
                      "SmartThingsWidgetExtension",
                      null
                    ],
                    [
                      "MiHomeDesktopWidgetExtension",
                      null
                    ],
                    [
                      "WidgetIntentExtension",
                      null
                    ],
                    [
                      "NFCWidgetiOS14Extension",
                      null
                    ],
                    [
                      "WetterHomescreenWidgetExtension",
                      null
                    ],
                    [
                      "Scriptable",
                      null
                    ],
                    [
                      "IdealoWidgetsExtension",
                      null
                    ],
                    [
                      "app_widget_extension",
                      null
                    ],
                    [
                      "CalendarWidgetExt",
                      null
                    ],
                    [
                      "WiFiQRWidgetExtension",
                      null
                    ],
                    [
                      "PedidosyaWidgetExtension",
                      null
                    ],
                    [
                      "WetterHomescreenWidgetIntentHand",
                      null
                    ],
                    [
                      "QRImageWidgetIntentExtension",
                      null
                    ],
                    [
                      "ApolloIntentions",
                      null
                    ],
                    [
                      "CitiesIntentHandler",
                      null
                    ],
                    [
                      "Intents",
                      null
                    ],
                    [
                      "DWDIntentsExtension",
                      null
                    ],
                    [
                      "iOS_App_Intents_Extension",
                      null
                    ],
                    [
                      "SelectWiFiIntent",
                      null
                    ],
                    [
                      "Streaks-Siri",
                      null
                    ],
                    [
                      "DataUsageIntent",
                      null
                    ],
                    [
                      "SiriShortcut",
                      0.2828583556211802
                    ],
                    [
                      "SnapchatIntentsExtension",
                      null
                    ],
                    [
                      "WidgetIntentHandler",
                      null
                    ],
                    [
                      "MastodonIntent",
                      null
                    ],
                    [
                      "widgetIntentHandler",
                      null
                    ],
                    [
                      "IntentHandler",
                      null
                    ],
                    [
                      "Parcel Intent Extension",
                      null
                    ],
                    [
                      "ContactsBackgroundColorService",
                      null
                    ],
                    [
                      "WetterHomescreenLongForecastWid",
                      null
                    ],
                    [
                      "deviceaccessd",
                      null
                    ],
                    [
                      "PassKitServicesXPCService",
                      0.2816004224352036
                    ],
                    [
                      "mytaxiIntents",
                      null
                    ],
                    [
                      "WireGuard",
                      null
                    ],
                    [
                      "UniFi",
                      null
                    ],
                    [
                      "mo.pla",
                      null
                    ],
                    [
                      "BePark",
                      null
                    ],
                    [
                      "com.apple.DocumentManager.Service",
                      null
                    ],
                    [
                      "com.apple.BarcodeSupport.ParsingService",
                      null
                    ],
                    [
                      "Verimi",
                      null
                    ],
                    [
                      "TwitterNotificationServiceExtension",
                      null
                    ],
                    [
                      "DumpPanic",
                      null
                    ],
                    [
                      "com.apple.BarcodeSupport.Parsin",
                      null
                    ],
                    [
                      "DuckDuckGo",
                      null
                    ],
                    [
                      "KrisPay",
                      null
                    ],
                    [
                      "CyberGhost",
                      null
                    ],
                    [
                      "BBTours",
                      null
                    ],
                    [
                      "AltStore",
                      null
                    ],
                    [
                      "Shazam",
                      null
                    ],
                    [
                      "AltMarketplace",
                      null
                    ],
                    [
                      "Delta",
                      null
                    ],
                    [
                      "SingaporeAirPRD",
                      null
                    ],
                    [
                      "Idealo",
                      null
                    ],
                    [
                      "SiriKitExtension",
                      0.2828583556211802
                    ],
                    [
                      "com.apple.BarcodeSupport.Parsing",
                      null
                    ],
                    [
                      "TwitterNotificationServiceExtens",
                      null
                    ],
                    [
                      "de-lieferando-notification-servi",
                      null
                    ],
                    [
                      "EcovacsIntentsExtension",
                      null
                    ],
                    [
                      "EventKitUIRemoteUIExtension",
                      null
                    ],
                    [
                      "Germany",
                      null
                    ],
                    [
                      "AppStoreEventServiceExtension",
                      null
                    ],
                    [
                      "CoreLocationVanillaWhenInUseAuth",
                      null
                    ],
                    [
                      "SwiftScanTodayExtension",
                      null
                    ],
                    [
                      "TodayExtensionTravelTimes",
                      null
                    ],
                    [
                      "PhotoPicker",
                      null
                    ],
                    [
                      "nsattributedstringagent",
                      null
                    ],
                    [
                      "Consorsbank Notification Service",
                      null
                    ],
                    [
                      "ConsoleIntentExtension",
                      null
                    ],
                    [
                      "VendigatorIntents",
                      null
                    ],
                    [
                      "InternetHealthWidgetExtension",
                      null
                    ],
                    [
                      "SpotlightIndex",
                      0.271616054506325
                    ],
                    [
                      "PasscodeSettingsExtension",
                      null
                    ],
                    [
                      "WallpaperMigrator",
                      null
                    ],
                    [
                      "Flinkster",
                      null
                    ],
                    [
                      "moback",
                      null
                    ],
                    [
                      "Filza",
                      null
                    ],
                    [
                      "AccountExtension",
                      null
                    ],
                    [
                      "InteractiveLegacyProfilesExtens",
                      null
                    ],
                    [
                      "com.apple.FontServices.UserFont",
                      null
                    ],
                    [
                      "LegacyProfilesExtension",
                      null
                    ],
                    [
                      "ManagementTestExtension",
                      null
                    ],
                    [
                      "com.apple.accessibility.Accessi",
                      null
                    ],
                    [
                      "fud",
                      null
                    ],
                    [
                      "com.apple.FontServices.UserFontManager",
                      null
                    ],
                    [
                      "TrollStore",
                      null
                    ],
                    [
                      "FilzaHelper",
                      null
                    ],
                    [
                      "com.apple.accessibility.AccessibilityUIServer",
                      null
                    ],
                    [
                      "InteractiveLegacyProfilesExtension",
                      null
                    ],
                    [
                      "icprefd-xpc",
                      null
                    ],
                    [
                      "AKSecondFactorAlert",
                      null
                    ],
                    [
                      "com.apple.FontServices.UserFontServices",
                      null
                    ],
                    [
                      "fish",
                      null
                    ],
                    [
                      "transitd",
                      null
                    ],
                    [
                      "seputil",
                      null
                    ],
                    [
                      "zFear_old",
                      null
                    ],
                    [
                      "atwakeup",
                      null
                    ],
                    [
                      "mount_apfs",
                      null
                    ],
                    [
                      "mount",
                      null
                    ],
                    [
                      "InteractiveLegacyProfilesExtensi",
                      null
                    ],
                    [
                      "com.apple.FontServices.UserFontM",
                      null
                    ],
                    [
                      "com.apple.accessibility.Accessib",
                      null
                    ],
                    [
                      "(fish)",
                      null
                    ],
                    [
                      "DKFollowUpExtension",
                      null
                    ],
                    [
                      "matd",
                      null
                    ],
                    [
                      "Measure",
                      null
                    ],
                    [
                      "SteuerApp",
                      null
                    ],
                    [
                      "Jitterbug",
                      null
                    ],
                    [
                      "Contacts",
                      null
                    ],
                    [
                      "FaceTime",
                      null
                    ],
                    [
                      "Keynote",
                      0.2829163611155184
                    ],
                    [
                      "AppBlocker",
                      null
                    ],
                    [
                      "com.apple.DataDetectorsUI.Action",
                      null
                    ],
                    [
                      "de-lieferando-notification-serv",
                      null
                    ],
                    [
                      "com.apple.DataDetectorsUI.Actio",
                      null
                    ],
                    [
                      "KeynoteSpotlightExtension",
                      null
                    ],
                    [
                      "com.apple.FTLivePhotoService",
                      null
                    ],
                    [
                      "FamilyControlsAuthenticationUI",
                      null
                    ],
                    [
                      "HomeControlService",
                      null
                    ],
                    [
                      "iWorkFileFormat",
                      null
                    ],
                    [
                      "JitterbugTunnel",
                      null
                    ],
                    [
                      "kfd",
                      null
                    ],
                    [
                      "PassKitThumbnailExtension",
                      null
                    ],
                    [
                      "Tips",
                      0.271976390105773
                    ],
                    [
                      "horse_analysis",
                      null
                    ],
                    [
                      "(taskinfo)",
                      null
                    ],
                    [
                      "CoreLocationVanillaWhenInUseAut",
                      null
                    ],
                    [
                      "smcDiagnose",
                      null
                    ],
                    [
                      "mobile_diagnostics_relay",
                      null
                    ],
                    [
                      "payload",
                      null
                    ],
                    [
                      "mDNSResponderHelper",
                      null
                    ],
                    [
                      "adservicesd",
                      null
                    ],
                    [
                      "setoken",
                      null
                    ],
                    [
                      "businesschatd",
                      null
                    ],
                    [
                      "voicememod",
                      null
                    ],
                    [
                      "TipsSwift",
                      null
                    ],
                    [
                      "OneDriveWidgetExtension",
                      null
                    ],
                    [
                      "checkpointd",
                      null
                    ],
                    [
                      "substrated",
                      null
                    ],
                    [
                      "frida-server",
                      null
                    ],
                    [
                      "Cydia",
                      null
                    ],
                    [
                      "silhouette",
                      null
                    ],
                    [
                      "IDSRemoteURLConnectionAgent",
                      null
                    ],
                    [
                      "IMRemoteURLConnectionAgent",
                      null
                    ],
                    [
                      "morphunassetsupdaterd",
                      null
                    ],
                    [
                      "-s",
                      null
                    ],
                    [
                      "uicache",
                      null
                    ],
                    [
                      "TrollInstallerX",
                      null
                    ],
                    [
                      "TrollInstallerMDC",
                      null
                    ],
                    [
                      "AppleMediaServicesUIDynamicService",
                      null
                    ],
                    [
                      "UserNotificationExtension",
                      null
                    ],
                    [
                      "com.apple.migrationpluginwrappe",
                      null
                    ],
                    [
                      "indexSettingsManifests",
                      null
                    ],
                    [
                      "DTFetchSymbols",
                      null
                    ],
                    [
                      "AppleMediaServicesUIDynamicServi",
                      null
                    ],
                    [
                      "AppleMediaServicesUIDynamicServ",
                      null
                    ],
                    [
                      "suggest_tool",
                      null
                    ],
                    [
                      "mosim_helper",
                      null
                    ],
                    [
                      "MileagePlus X",
                      null
                    ],
                    [
                      "Providers & ID",
                      null
                    ],
                    [
                      "CBSTVE",
                      null
                    ],
                    [
                      "HiMama",
                      null
                    ],
                    [
                      "InstagramNotificationExtension",
                      null
                    ],
                    [
                      "HomeScreenWidgets",
                      null
                    ],
                    [
                      "DashlaneToday",
                      null
                    ],
                    [
                      "Max-iOS",
                      null
                    ],
                    [
                      "DashlaneIdentityDashboardWidget",
                      null
                    ],
                    [
                      "SoundCloud",
                      null
                    ],
                    [
                      "VoiceMemos",
                      null
                    ],
                    [
                      "Southwest",
                      null
                    ],
                    [
                      "NotificationsWidgetExtension",
                      null
                    ],
                    [
                      "World Time",
                      null
                    ],
                    [
                      "FBLockscreenWidgetExtension",
                      null
                    ],
                    [
                      "RedditApp",
                      0.27193913444777085
                    ],
                    [
                      "MessengerNotificationServiceExt",
                      null
                    ],
                    [
                      "VideoWidgetExtension",
                      null
                    ],
                    [
                      "WidgetConfiguration",
                      null
                    ],
                    [
                      "ChatGPT",
                      null
                    ],
                    [
                      "widget_kit_extension",
                      null
                    ],
                    [
                      "ProductPageExtension",
                      null
                    ],
                    [
                      "MessengerNotificationServiceExte",
                      null
                    ],
                    [
                      "ONWidgetKitExtension_iOS",
                      null
                    ],
                    [
                      "Captello",
                      null
                    ],
                    [
                      "OrbitExtension",
                      null
                    ],
                    [
                      "IntentExtension",
                      null
                    ],
                    [
                      "UASharedPasteboardiOSUI",
                      null
                    ],
                    [
                      "PushNotificationServiceExtensio",
                      null
                    ],
                    [
                      "MaxNotificationServiceExtension-",
                      null
                    ],
                    [
                      "Providers",
                      null
                    ],
                    [
                      "MileagePlus",
                      null
                    ],
                    [
                      "World",
                      null
                    ],
                    [
                      "PushNotificationServiceExtension",
                      null
                    ],
                    [
                      "YouTubeMusic",
                      null
                    ],
                    [
                      "MaxNotificationServiceExtension",
                      null
                    ],
                    [
                      "InstagramWidgetExtensionLiveAct",
                      null
                    ],
                    [
                      "InstagramWidgetExtension",
                      null
                    ],
                    [
                      "UsaaWidgets",
                      null
                    ],
                    [
                      "zprint",
                      null
                    ],
                    [
                      "CorePowerYoga",
                      null
                    ],
                    [
                      "PayByPhoneWidgetExtension",
                      null
                    ],
                    [
                      "GMWidgets",
                      null
                    ],
                    [
                      "RAGuide",
                      null
                    ],
                    [
                      "WillyWeather",
                      null
                    ],
                    [
                      "Resy",
                      null
                    ],
                    [
                      "Lyft",
                      null
                    ],
                    [
                      "GetYourGuide",
                      null
                    ],
                    [
                      "Hinge",
                      null
                    ],
                    [
                      "TransLoc",
                      null
                    ],
                    [
                      "AmericanAirlines",
                      null
                    ],
                    [
                      "EASEApp",
                      null
                    ],
                    [
                      "Wells_Fargo_Mobile_Banking_iPhon",
                      null
                    ],
                    [
                      "Yelp",
                      null
                    ],
                    [
                      "Okta Verify",
                      null
                    ],
                    [
                      "RevolveClothing",
                      null
                    ],
                    [
                      "Eventbrite",
                      null
                    ],
                    [
                      "TurboTaxAppClip",
                      null
                    ],
                    [
                      "CamScanner_Lite",
                      null
                    ],
                    [
                      "CreditKarmaUniversal",
                      null
                    ],
                    [
                      "TheAtlanticApp",
                      null
                    ],
                    [
                      "iCloud",
                      0.2793667866738452
                    ],
                    [
                      "Yahoo Mail",
                      null
                    ],
                    [
                      "GoodMorning",
                      null
                    ],
                    [
                      "ParkMobile",
                      null
                    ],
                    [
                      "LiveActivityWidgetExtension",
                      null
                    ],
                    [
                      "GRWidgetExtension",
                      null
                    ],
                    [
                      "TeamsNotificationServiceExtensio",
                      null
                    ],
                    [
                      "FireTV",
                      null
                    ],
                    [
                      "Spond",
                      null
                    ],
                    [
                      "Booksy",
                      null
                    ],
                    [
                      "Trading 212",
                      0.273816371420314
                    ],
                    [
                      "TikTok",
                      null
                    ],
                    [
                      "UBN",
                      null
                    ],
                    [
                      "s",
                      null
                    ],
                    [
                      "ASDA",
                      null
                    ],
                    [
                      "Monzo",
                      null
                    ],
                    [
                      "Client",
                      null
                    ],
                    [
                      "Football NI",
                      null
                    ],
                    [
                      "LiveScore_v3",
                      null
                    ],
                    [
                      "MyFitnessPal",
                      null
                    ],
                    [
                      "Snapchat",
                      null
                    ],
                    [
                      "KahunasApp",
                      null
                    ],
                    [
                      "Racing Post",
                      null
                    ],
                    [
                      "TikTokBackgroundAssetExtension",
                      null
                    ],
                    [
                      "SkyBet",
                      null
                    ],
                    [
                      "trading212-notification-service",
                      null
                    ],
                    [
                      "ZZKKO",
                      null
                    ],
                    [
                      "ASOS",
                      null
                    ],
                    [
                      "UK",
                      null
                    ],
                    [
                      "ClearScore",
                      null
                    ],
                    [
                      "itsquiztimecompanionapp",
                      null
                    ],
                    [
                      "Moneybox",
                      null
                    ],
                    [
                      "GooglePhotos",
                      null
                    ],
                    [
                      "NotificationServiceExtension_ex",
                      null
                    ],
                    [
                      "SnapchatNotificationServiceExt",
                      null
                    ],
                    [
                      "AwemeWidgetExtension",
                      null
                    ],
                    [
                      "dtfileserviced",
                      null
                    ],
                    [
                      "NotificationServiceExtension_extension",
                      null
                    ],
                    [
                      "Football",
                      null
                    ],
                    [
                      "Racing",
                      null
                    ],
                    [
                      "Trading",
                      0.273816371420314
                    ],
                    [
                      "ASOS Notification Service Exten",
                      null
                    ],
                    [
                      "SnapchatNotificationServiceExt_",
                      null
                    ],
                    [
                      "WiFiPickerExtension",
                      0.27312411977373446
                    ],
                    [
                      "GuitarTuna",
                      null
                    ],
                    [
                      "CometLiveIFANotifExtension",
                      null
                    ],
                    [
                      "SCWidgetsIntents",
                      null
                    ],
                    [
                      "SCWidgets",
                      null
                    ],
                    [
                      "NotificationServiceExtensions",
                      null
                    ],
                    [
                      "ClearScoreNotificationService E",
                      null
                    ],
                    [
                      "notificationserviceextension",
                      null
                    ],
                    [
                      "NewsEngagementExtension",
                      null
                    ],
                    [
                      "nanonewscd",
                      null
                    ],
                    [
                      "AppStoreOverlaysService",
                      null
                    ],
                    [
                      "ASOS Notification Service Extens",
                      null
                    ],
                    [
                      "SnapchatNotificationServiceExt_1",
                      null
                    ],
                    [
                      "NotificationServiceExtension_ext",
                      null
                    ],
                    [
                      "ClearScoreNotificationService Ex",
                      null
                    ],
                    [
                      "ioreg",
                      null
                    ],
                    [
                      "CoreLocationTemporaryPreciseAuthPromptPlugin",
                      null
                    ],
                    [
                      "CoreLocationTemporaryPreciseAuth",
                      null
                    ],
                    [
                      "(backupd)",
                      null
                    ],
                    [
                      "VPNTunnel",
                      null
                    ],
                    [
                      "Threat",
                      null
                    ]
                  ],
                  "hovertemplate": "UMAP Dimension 1=%{x}<br>UMAP Dimension 2=%{y}<br>procName=%{customdata[0]}<br>outlier_score=%{customdata[1]}<br>cluster=%{marker.color}<extra></extra>",
                  "legendgroup": "",
                  "marker": {
                    "color": [
                      -1,
                      2,
                      -1,
                      -1,
                      -1,
                      -1,
                      -1,
                      -1,
                      -1,
                      -1,
                      -1,
                      2,
                      2,
                      -1,
                      1,
                      -1,
                      -1,
                      -1,
                      -1,
                      -1,
                      2,
                      -1,
                      -1,
                      2,
                      -1,
                      2,
                      -1,
                      -1,
                      -1,
                      -1,
                      2,
                      2,
                      -1,
                      -1,
                      -1,
                      2,
                      -1,
                      -1,
                      -1,
                      -1,
                      1,
                      -1,
                      0,
                      -1,
                      -1,
                      -1,
                      -1,
                      2,
                      -1,
                      -1,
                      -1,
                      2,
                      -1,
                      -1,
                      -1,
                      -1,
                      -1,
                      0,
                      -1,
                      1,
                      -1,
                      -1,
                      -1,
                      2,
                      -1,
                      -1,
                      -1,
                      2,
                      2,
                      -1,
                      -1,
                      0,
                      -1,
                      -1,
                      -1,
                      -1,
                      -1,
                      -1,
                      -1,
                      2,
                      -1,
                      -1,
                      -1,
                      -1,
                      -1,
                      -1,
                      -1,
                      -1,
                      1,
                      1,
                      2,
                      -1,
                      -1,
                      -1,
                      -1,
                      2,
                      2,
                      2,
                      -1,
                      -1,
                      -1,
                      -1,
                      -1,
                      -1,
                      2,
                      -1,
                      -1,
                      -1,
                      -1,
                      -1,
                      0,
                      2,
                      -1,
                      1,
                      -1,
                      -1,
                      0,
                      -1,
                      3,
                      -1,
                      -1,
                      -1,
                      2,
                      2,
                      -1,
                      -1,
                      -1,
                      -1,
                      -1,
                      -1,
                      2,
                      -1,
                      -1,
                      -1,
                      -1,
                      0,
                      -1,
                      -1,
                      -1,
                      -1,
                      2,
                      -1,
                      -1,
                      -1,
                      -1,
                      -1,
                      -1,
                      1,
                      -1,
                      2,
                      -1,
                      -1,
                      -1,
                      -1,
                      -1,
                      -1,
                      -1,
                      2,
                      -1,
                      -1,
                      -1,
                      -1,
                      -1,
                      -1,
                      2,
                      -1,
                      -1,
                      -1,
                      -1,
                      -1,
                      2,
                      -1,
                      -1,
                      -1,
                      -1,
                      -1,
                      2,
                      -1,
                      -1,
                      -1,
                      -1,
                      -1,
                      -1,
                      2,
                      -1,
                      -1,
                      -1,
                      2,
                      -1,
                      -1,
                      -1,
                      -1,
                      -1,
                      -1,
                      -1,
                      -1,
                      -1,
                      2,
                      -1,
                      -1,
                      -1,
                      -1,
                      -1,
                      -1,
                      -1,
                      -1,
                      -1,
                      1,
                      2,
                      -1,
                      2,
                      -1,
                      -1,
                      -1,
                      -1,
                      2,
                      2,
                      -1,
                      -1,
                      -1,
                      -1,
                      2,
                      -1,
                      2,
                      -1,
                      -1,
                      -1,
                      -1,
                      2,
                      -1,
                      -1,
                      -1,
                      2,
                      -1,
                      2,
                      -1,
                      -1,
                      -1,
                      -1,
                      -1,
                      -1,
                      -1,
                      -1,
                      -1,
                      -1,
                      -1,
                      -1,
                      3,
                      -1,
                      -1,
                      -1,
                      -1,
                      -1,
                      -1,
                      0,
                      -1,
                      -1,
                      -1,
                      2,
                      -1,
                      -1,
                      -1,
                      1,
                      0,
                      -1,
                      -1,
                      1,
                      -1,
                      -1,
                      -1,
                      -1,
                      -1,
                      -1,
                      1,
                      1,
                      -1,
                      -1,
                      -1,
                      2,
                      -1,
                      -1,
                      -1,
                      -1,
                      2,
                      0,
                      -1,
                      -1,
                      -1,
                      -1,
                      -1,
                      -1,
                      -1,
                      -1,
                      -1,
                      -1,
                      2,
                      -1,
                      -1,
                      2,
                      -1,
                      -1,
                      -1,
                      -1,
                      -1,
                      1,
                      -1,
                      2,
                      -1,
                      -1,
                      -1,
                      -1,
                      -1,
                      -1,
                      -1,
                      -1,
                      -1,
                      2,
                      -1,
                      2,
                      -1,
                      -1,
                      -1,
                      -1,
                      2,
                      -1,
                      -1,
                      1,
                      -1,
                      -1,
                      -1,
                      -1,
                      -1,
                      -1,
                      -1,
                      -1,
                      -1,
                      -1,
                      -1,
                      -1,
                      -1,
                      2,
                      -1,
                      -1,
                      0,
                      -1,
                      2,
                      -1,
                      -1,
                      1,
                      2,
                      -1,
                      1,
                      -1,
                      -1,
                      1,
                      -1,
                      -1,
                      -1,
                      -1,
                      -1,
                      2,
                      0,
                      2,
                      -1,
                      -1,
                      -1,
                      -1,
                      2,
                      2,
                      -1,
                      -1,
                      -1,
                      2,
                      1,
                      -1,
                      1,
                      -1,
                      -1,
                      -1,
                      -1,
                      2,
                      1,
                      -1,
                      -1,
                      -1,
                      -1,
                      1,
                      3,
                      -1,
                      1,
                      -1,
                      -1,
                      2,
                      2,
                      0,
                      -1,
                      2,
                      -1,
                      -1,
                      -1,
                      -1,
                      -1,
                      -1,
                      -1,
                      2,
                      -1,
                      -1,
                      -1,
                      2,
                      -1,
                      -1,
                      -1,
                      -1,
                      -1,
                      -1,
                      2,
                      0,
                      -1,
                      -1,
                      -1,
                      -1,
                      -1,
                      2,
                      -1,
                      2,
                      2,
                      -1,
                      -1,
                      2,
                      -1,
                      -1,
                      -1,
                      -1,
                      -1,
                      -1,
                      -1,
                      -1,
                      -1,
                      -1,
                      -1,
                      1,
                      -1,
                      2,
                      -1,
                      -1,
                      1,
                      -1,
                      -1,
                      -1,
                      -1,
                      -1,
                      0,
                      -1,
                      -1,
                      0,
                      2,
                      -1,
                      -1,
                      -1,
                      -1,
                      -1,
                      -1,
                      -1,
                      -1,
                      -1,
                      2,
                      -1,
                      -1,
                      -1,
                      -1,
                      -1,
                      0,
                      1,
                      -1,
                      -1,
                      -1,
                      2,
                      0,
                      -1,
                      -1,
                      -1,
                      -1,
                      -1,
                      -1,
                      1,
                      -1,
                      2,
                      -1,
                      -1,
                      -1,
                      -1,
                      -1,
                      2,
                      -1,
                      2,
                      -1,
                      1,
                      -1,
                      -1,
                      -1,
                      -1,
                      2,
                      -1,
                      -1,
                      -1,
                      2,
                      2,
                      -1,
                      2,
                      -1,
                      0,
                      2,
                      0,
                      -1,
                      3,
                      -1,
                      -1,
                      2,
                      2,
                      2,
                      -1,
                      2,
                      -1,
                      -1,
                      -1,
                      -1,
                      -1,
                      -1,
                      -1,
                      2,
                      -1,
                      -1,
                      -1,
                      2,
                      -1,
                      -1,
                      2,
                      -1,
                      -1,
                      -1,
                      2,
                      -1,
                      -1,
                      2,
                      -1,
                      2,
                      2,
                      2,
                      -1,
                      -1,
                      2,
                      2,
                      -1,
                      -1,
                      -1,
                      -1,
                      -1,
                      2,
                      2,
                      2,
                      -1,
                      2,
                      -1,
                      2,
                      2,
                      -1,
                      -1,
                      2,
                      3,
                      -1,
                      -1,
                      2,
                      2,
                      2,
                      2,
                      2,
                      2,
                      2,
                      -1,
                      2,
                      -1,
                      -1,
                      2,
                      2,
                      2,
                      -1,
                      2,
                      -1,
                      -1,
                      -1,
                      -1,
                      -1,
                      2,
                      -1,
                      -1,
                      2,
                      2,
                      -1,
                      -1,
                      -1,
                      2,
                      -1,
                      -1,
                      -1,
                      -1,
                      -1,
                      2,
                      -1,
                      -1,
                      0,
                      2,
                      -1,
                      -1,
                      -1,
                      1,
                      -1,
                      -1,
                      -1,
                      -1,
                      2,
                      -1,
                      -1,
                      -1,
                      -1,
                      -1,
                      -1,
                      -1,
                      2,
                      2,
                      -1,
                      -1,
                      -1,
                      0,
                      -1,
                      -1,
                      -1,
                      2,
                      -1,
                      -1,
                      -1,
                      -1,
                      -1,
                      -1,
                      -1,
                      -1,
                      0,
                      3,
                      -1,
                      1,
                      -1,
                      -1,
                      -1,
                      -1,
                      -1,
                      -1,
                      -1,
                      -1,
                      -1,
                      -1,
                      -1,
                      2,
                      -1,
                      2,
                      1,
                      0,
                      2,
                      2,
                      -1,
                      -1,
                      -1,
                      -1,
                      -1,
                      2,
                      -1,
                      -1,
                      -1,
                      -1,
                      1,
                      2,
                      -1,
                      2,
                      -1,
                      -1,
                      2,
                      -1,
                      2,
                      -1,
                      -1,
                      -1,
                      -1,
                      -1,
                      -1,
                      -1,
                      -1,
                      -1,
                      -1,
                      -1,
                      -1,
                      -1,
                      2,
                      -1,
                      -1,
                      -1,
                      -1,
                      2,
                      -1,
                      2,
                      -1,
                      -1,
                      -1,
                      2,
                      3,
                      -1,
                      -1,
                      -1,
                      2,
                      2,
                      -1,
                      1,
                      -1,
                      3,
                      -1,
                      -1,
                      -1,
                      -1,
                      -1,
                      -1,
                      -1,
                      -1,
                      -1,
                      -1,
                      2,
                      2,
                      2,
                      -1,
                      2,
                      -1,
                      2,
                      -1,
                      -1,
                      2,
                      2,
                      2,
                      -1,
                      2,
                      2,
                      2,
                      2,
                      -1,
                      2,
                      -1,
                      -1,
                      -1,
                      2,
                      -1,
                      2,
                      -1,
                      -1,
                      2,
                      -1,
                      -1,
                      2,
                      2,
                      2,
                      2,
                      -1,
                      2,
                      -1,
                      2,
                      2,
                      2,
                      -1,
                      -1,
                      -1,
                      -1,
                      2,
                      -1,
                      -1,
                      -1,
                      -1,
                      -1,
                      -1,
                      -1,
                      -1,
                      -1,
                      2,
                      -1,
                      -1,
                      -1,
                      -1,
                      2,
                      3,
                      -1,
                      -1,
                      -1,
                      -1,
                      -1,
                      -1,
                      -1,
                      -1,
                      -1,
                      -1,
                      3,
                      -1,
                      -1,
                      -1,
                      -1,
                      -1,
                      -1,
                      -1,
                      3,
                      -1,
                      3,
                      -1,
                      -1,
                      -1,
                      -1,
                      1,
                      -1,
                      -1,
                      -1,
                      -1,
                      2,
                      -1,
                      0,
                      -1,
                      -1,
                      -1,
                      0,
                      -1,
                      -1,
                      -1,
                      -1,
                      -1,
                      -1,
                      -1,
                      3,
                      -1,
                      1,
                      -1,
                      2,
                      -1,
                      -1,
                      -1,
                      -1,
                      3,
                      2,
                      2,
                      2,
                      3,
                      2,
                      2,
                      2,
                      2,
                      2,
                      2,
                      2,
                      2,
                      2,
                      2,
                      0,
                      -1,
                      -1,
                      -1,
                      2,
                      -1,
                      -1,
                      -1,
                      2,
                      -1,
                      2,
                      -1,
                      -1,
                      -1,
                      -1,
                      -1,
                      1,
                      2,
                      3,
                      2,
                      2,
                      -1,
                      1,
                      2,
                      -1,
                      2,
                      -1,
                      -1,
                      -1,
                      -1,
                      -1,
                      -1,
                      -1,
                      -1,
                      2,
                      2,
                      -1,
                      0,
                      0,
                      -1,
                      -1,
                      3,
                      -1,
                      -1,
                      -1,
                      -1,
                      -1,
                      2,
                      2,
                      2,
                      2,
                      2,
                      2,
                      -1,
                      2,
                      2,
                      0,
                      3,
                      2,
                      2,
                      2,
                      2,
                      2,
                      2,
                      -1,
                      -1,
                      -1,
                      -1,
                      2,
                      -1,
                      -1,
                      -1,
                      2,
                      -1,
                      2,
                      -1,
                      -1,
                      -1,
                      -1,
                      -1,
                      -1,
                      -1,
                      2,
                      2,
                      -1,
                      -1,
                      2,
                      -1,
                      -1,
                      -1,
                      2,
                      2,
                      -1,
                      -1,
                      -1,
                      -1,
                      -1,
                      1,
                      -1,
                      2,
                      -1,
                      -1,
                      2,
                      3,
                      2,
                      -1,
                      -1,
                      -1,
                      2,
                      -1,
                      -1,
                      -1,
                      2,
                      2,
                      2,
                      -1,
                      2,
                      -1,
                      -1,
                      3,
                      -1,
                      2,
                      2,
                      2,
                      3,
                      -1,
                      2,
                      2,
                      2,
                      2,
                      0,
                      -1,
                      -1,
                      -1,
                      -1,
                      -1,
                      -1,
                      -1,
                      -1,
                      2,
                      -1,
                      2,
                      -1,
                      -1,
                      -1,
                      2,
                      -1,
                      -1,
                      -1,
                      -1,
                      -1,
                      -1,
                      2,
                      -1,
                      2,
                      -1,
                      -1,
                      -1,
                      -1,
                      -1,
                      2,
                      -1,
                      -1,
                      -1,
                      -1,
                      -1,
                      -1,
                      -1,
                      -1,
                      -1,
                      -1,
                      2,
                      -1,
                      -1,
                      -1,
                      -1,
                      -1,
                      -1,
                      -1,
                      -1,
                      -1,
                      -1,
                      -1,
                      -1,
                      -1,
                      -1,
                      -1,
                      -1,
                      -1,
                      -1,
                      0,
                      -1,
                      -1,
                      -1,
                      -1,
                      2,
                      2,
                      -1,
                      -1,
                      0,
                      -1,
                      -1,
                      2,
                      -1,
                      -1,
                      -1,
                      -1,
                      0,
                      2,
                      -1,
                      -1,
                      -1,
                      2,
                      3,
                      -1,
                      -1,
                      -1,
                      -1,
                      -1,
                      -1,
                      -1,
                      -1,
                      0,
                      2,
                      -1,
                      2,
                      2,
                      2,
                      3,
                      -1,
                      -1,
                      3,
                      2,
                      -1,
                      -1,
                      -1,
                      -1,
                      3,
                      -1,
                      -1,
                      -1,
                      -1,
                      -1,
                      -1,
                      -1,
                      -1,
                      -1,
                      -1,
                      -1,
                      -1,
                      -1,
                      3,
                      -1,
                      -1,
                      -1,
                      0,
                      3,
                      -1,
                      -1,
                      -1,
                      -1,
                      -1,
                      -1,
                      -1,
                      0,
                      -1,
                      3,
                      2,
                      -1,
                      -1,
                      -1,
                      -1,
                      -1,
                      -1,
                      -1,
                      3,
                      -1,
                      3,
                      -1,
                      2,
                      -1,
                      3,
                      2,
                      -1,
                      -1,
                      3,
                      0,
                      -1,
                      2,
                      2,
                      -1,
                      -1,
                      -1,
                      -1,
                      -1,
                      -1,
                      2,
                      -1,
                      2,
                      -1,
                      -1,
                      -1,
                      -1,
                      -1,
                      -1,
                      -1,
                      -1,
                      -1,
                      -1,
                      -1,
                      2,
                      2,
                      3,
                      2,
                      -1,
                      -1,
                      2,
                      3,
                      3,
                      -1,
                      -1,
                      2,
                      3,
                      2,
                      -1,
                      -1,
                      3,
                      -1,
                      3,
                      -1,
                      3,
                      3,
                      -1,
                      -1,
                      2,
                      2,
                      2,
                      2,
                      2,
                      2,
                      -1,
                      2,
                      2,
                      2,
                      2,
                      2,
                      2,
                      2,
                      -1,
                      2,
                      -1,
                      -1,
                      2,
                      2,
                      2,
                      2,
                      -1,
                      2,
                      2,
                      2,
                      2,
                      2,
                      2,
                      2,
                      3,
                      2,
                      2,
                      2,
                      2,
                      2,
                      2,
                      2,
                      2,
                      2,
                      2,
                      2,
                      -1,
                      3,
                      2,
                      2,
                      -1,
                      2,
                      -1,
                      -1,
                      2,
                      2,
                      2,
                      2,
                      2,
                      2,
                      -1,
                      -1,
                      2,
                      2,
                      2,
                      -1,
                      -1,
                      -1,
                      2,
                      3,
                      2,
                      -1,
                      2,
                      2,
                      2,
                      -1,
                      2,
                      -1,
                      2,
                      -1,
                      -1,
                      -1,
                      -1,
                      -1,
                      -1,
                      -1,
                      2,
                      3,
                      -1,
                      -1,
                      -1,
                      -1,
                      2,
                      -1,
                      -1,
                      -1,
                      -1,
                      -1,
                      -1,
                      -1,
                      2,
                      -1,
                      3,
                      -1,
                      -1,
                      -1,
                      -1,
                      2,
                      0,
                      2,
                      -1,
                      -1,
                      -1,
                      3,
                      -1,
                      2,
                      2,
                      2,
                      -1,
                      -1,
                      -1,
                      -1,
                      -1,
                      0,
                      -1,
                      -1,
                      -1,
                      -1,
                      -1,
                      2,
                      -1,
                      -1,
                      -1,
                      -1,
                      -1,
                      -1,
                      -1,
                      -1,
                      -1,
                      1,
                      -1,
                      -1,
                      -1,
                      -1,
                      -1,
                      -1,
                      -1,
                      -1,
                      -1,
                      -1,
                      -1,
                      -1,
                      -1,
                      -1,
                      1,
                      -1,
                      2,
                      -1,
                      -1,
                      -1,
                      -1,
                      2,
                      2,
                      -1,
                      -1,
                      -1,
                      -1,
                      -1,
                      2,
                      2,
                      -1,
                      -1,
                      0,
                      -1,
                      -1,
                      -1,
                      -1,
                      0,
                      -1,
                      0,
                      2,
                      2,
                      2,
                      -1,
                      -1,
                      -1,
                      -1,
                      -1,
                      -1,
                      -1,
                      -1,
                      -1,
                      -1,
                      -1,
                      -1,
                      -1,
                      2,
                      -1,
                      -1,
                      -1,
                      -1,
                      -1,
                      -1,
                      -1,
                      -1,
                      -1,
                      0,
                      -1,
                      2,
                      2,
                      -1,
                      -1,
                      2,
                      -1,
                      2,
                      -1,
                      3,
                      -1,
                      2,
                      2,
                      3,
                      2,
                      2,
                      -1,
                      2,
                      -1,
                      3,
                      2,
                      -1,
                      -1,
                      2,
                      -1,
                      3,
                      3,
                      -1,
                      -1,
                      -1,
                      3,
                      -1,
                      3,
                      2,
                      2,
                      -1,
                      -1,
                      -1,
                      -1,
                      2,
                      -1,
                      -1,
                      -1,
                      -1,
                      -1,
                      -1,
                      -1,
                      -1,
                      -1,
                      -1,
                      -1,
                      -1,
                      -1,
                      -1,
                      -1,
                      -1,
                      -1,
                      -1,
                      2,
                      -1,
                      -1,
                      -1,
                      2,
                      2,
                      3,
                      0,
                      -1,
                      -1,
                      2,
                      -1,
                      -1,
                      -1,
                      -1,
                      -1,
                      -1,
                      -1,
                      -1,
                      2,
                      3,
                      -1,
                      -1,
                      -1,
                      -1,
                      3,
                      -1,
                      -1,
                      -1,
                      -1,
                      -1,
                      -1,
                      -1,
                      3,
                      3,
                      2,
                      -1,
                      3,
                      -1,
                      -1,
                      2,
                      3,
                      3,
                      2,
                      -1,
                      -1,
                      2,
                      2,
                      3,
                      -1,
                      3,
                      2,
                      -1,
                      2,
                      3,
                      3,
                      3,
                      -1,
                      -1,
                      0,
                      0,
                      -1,
                      -1,
                      -1
                    ],
                    "coloraxis": "coloraxis",
                    "opacity": 0.7,
                    "symbol": "circle"
                  },
                  "mode": "markers",
                  "name": "",
                  "showlegend": false,
                  "type": "scattergl",
                  "x": [
                    7.090078,
                    3.3546464,
                    4.323744,
                    5.1888633,
                    1.847798,
                    7.46245,
                    3.2414563,
                    2.437377,
                    4.8053656,
                    3.4294431,
                    7.5015316,
                    2.4277468,
                    6.2011952,
                    4.619312,
                    6.7793164,
                    1.9516906,
                    0.98657095,
                    4.560708,
                    4.557048,
                    2.8366022,
                    3.2337785,
                    6.684494,
                    7.3966846,
                    7.3385925,
                    2.3908896,
                    4.5345573,
                    2.0749412,
                    7.773975,
                    7.563551,
                    2.647698,
                    5.4394884,
                    5.133935,
                    4.0128717,
                    4.3868666,
                    6.465818,
                    7.6836247,
                    4.8441534,
                    1.5376303,
                    4.1613603,
                    4.4989886,
                    3.174401,
                    6.992069,
                    4.341157,
                    4.446491,
                    1.7831327,
                    2.99851,
                    3.3238454,
                    2.6710355,
                    4.075298,
                    2.1869931,
                    6.8362265,
                    3.488176,
                    2.174771,
                    5.6169705,
                    3.0783932,
                    5.633319,
                    6.0542192,
                    1.9463531,
                    4.0955257,
                    7.687186,
                    2.3300095,
                    4.775414,
                    1.6351153,
                    3.8848557,
                    1.9754189,
                    6.7533746,
                    7.069253,
                    4.6108513,
                    7.4399266,
                    3.4986606,
                    7.651548,
                    4.0968227,
                    4.4166603,
                    4.1862984,
                    0.5448993,
                    2.076307,
                    2.0298345,
                    3.7892756,
                    5.0122023,
                    3.3873398,
                    4.515952,
                    7.410261,
                    2.7188876,
                    6.9942155,
                    2.6110358,
                    4.01057,
                    2.2770212,
                    3.5453315,
                    7.605872,
                    6.940694,
                    3.3377123,
                    4.7575216,
                    6.008967,
                    4.5630145,
                    4.988106,
                    3.4070199,
                    2.3392339,
                    3.5014546,
                    1.9552655,
                    2.0143561,
                    2.0824804,
                    2.704476,
                    4.1440325,
                    5.7948527,
                    7.7397947,
                    3.6510546,
                    1.850593,
                    4.4200644,
                    2.0762513,
                    2.4916596,
                    2.2342134,
                    6.6922383,
                    3.0785866,
                    7.8772035,
                    6.028375,
                    4.959555,
                    2.4888089,
                    7.036856,
                    6.144239,
                    3.5822523,
                    2.2365248,
                    6.591093,
                    1.8565568,
                    4.597309,
                    4.9253364,
                    7.251561,
                    4.462419,
                    4.064998,
                    5.282796,
                    3.74194,
                    4.1088433,
                    2.14579,
                    4.231311,
                    2.520974,
                    4.7221203,
                    2.3445039,
                    4.0514526,
                    2.4831734,
                    4.839825,
                    7.346147,
                    4.8499866,
                    6.064105,
                    5.041124,
                    1.6846137,
                    7.5466695,
                    2.6141617,
                    4.744515,
                    7.436377,
                    7.282112,
                    3.560101,
                    3.242571,
                    3.8308244,
                    1.9483505,
                    7.8646917,
                    6.9209423,
                    3.7059603,
                    7.7872634,
                    3.1666284,
                    6.3388968,
                    4.9477105,
                    4.9356456,
                    7.76536,
                    2.756643,
                    3.7105582,
                    3.554291,
                    4.3274503,
                    7.454702,
                    2.8662157,
                    7.610743,
                    4.045666,
                    4.8335156,
                    5.592515,
                    5.858108,
                    4.8562865,
                    3.031857,
                    7.024104,
                    7.2875915,
                    3.4396458,
                    7.8275924,
                    3.461825,
                    2.5621057,
                    2.6432552,
                    6.7058806,
                    4.7259855,
                    2.2247612,
                    3.8892257,
                    5.338008,
                    5.2015524,
                    2.996482,
                    7.5788374,
                    7.7608123,
                    2.8564928,
                    2.9282448,
                    7.38731,
                    4.701681,
                    1.7795087,
                    5.23909,
                    2.8366623,
                    3.2470188,
                    7.5231576,
                    3.787396,
                    3.3329349,
                    1.9276632,
                    2.9434867,
                    2.5041296,
                    2.8159955,
                    4.829802,
                    3.181742,
                    4.880479,
                    7.3620625,
                    8.498782,
                    4.9765005,
                    5.2351933,
                    4.874553,
                    4.5559855,
                    7.5626473,
                    3.501422,
                    4.3948326,
                    7.23545,
                    4.6783705,
                    4.861473,
                    3.3972354,
                    2.570821,
                    3.0146518,
                    1.7735143,
                    5.6432595,
                    2.5805948,
                    2.5826714,
                    5.7754,
                    4.6727448,
                    4.093651,
                    6.0641713,
                    5.0600963,
                    4.843535,
                    4.379464,
                    7.3738265,
                    4.6259294,
                    5.402488,
                    7.2874565,
                    2.399718,
                    1.5734913,
                    1.8965298,
                    4.366242,
                    4.2614636,
                    1.817596,
                    4.3690076,
                    2.5995092,
                    1.1347113,
                    2.952316,
                    6.481187,
                    4.588167,
                    7.2776837,
                    6.577649,
                    2.288454,
                    4.0286813,
                    1.5386221,
                    3.8458242,
                    5.345976,
                    3.474823,
                    8.518942,
                    2.9106793,
                    1.6264118,
                    7.910634,
                    1.9628192,
                    3.3009312,
                    7.3320303,
                    2.8925567,
                    2.2435446,
                    4.384553,
                    4.831318,
                    4.147635,
                    7.348043,
                    4.8284035,
                    7.3030214,
                    7.393595,
                    2.5829773,
                    2.9847815,
                    4.5921645,
                    3.493054,
                    3.4767213,
                    4.860007,
                    6.5561633,
                    7.815621,
                    7.6435833,
                    4.069932,
                    5.795144,
                    4.6505494,
                    6.4831033,
                    2.1546497,
                    3.5977993,
                    3.2392282,
                    7.5442524,
                    5.2627406,
                    3.4940388,
                    5.9278226,
                    4.429088,
                    2.792654,
                    6.4868417,
                    7.671464,
                    3.6522217,
                    2.847511,
                    7.2713137,
                    7.205935,
                    3.5421457,
                    7.42681,
                    4.753246,
                    4.5973773,
                    7.3976865,
                    1.5305686,
                    4.8594975,
                    7.0918074,
                    7.749428,
                    7.2927356,
                    4.1220064,
                    3.1672978,
                    1.7565075,
                    3.5115008,
                    2.855724,
                    4.81971,
                    5.2373605,
                    4.765606,
                    3.7045395,
                    3.3043199,
                    4.347545,
                    1.5459048,
                    5.406519,
                    7.3733926,
                    7.837701,
                    5.9511604,
                    6.108013,
                    4.2901435,
                    2.11239,
                    3.0672293,
                    4.83959,
                    5.1753917,
                    4.6761746,
                    2.7819045,
                    4.38335,
                    3.644706,
                    2.3589585,
                    3.2900076,
                    6.9878836,
                    5.347482,
                    4.086528,
                    3.570848,
                    4.7654905,
                    3.2338066,
                    7.546315,
                    6.4966774,
                    3.5553715,
                    2.9440207,
                    7.7754583,
                    7.3901076,
                    7.478173,
                    7.9034534,
                    7.4364886,
                    4.6824255,
                    3.8080492,
                    2.4632392,
                    7.010037,
                    3.1576204,
                    3.9928129,
                    5.970924,
                    7.8372707,
                    5.007171,
                    2.71689,
                    2.7471213,
                    3.799033,
                    6.8837757,
                    2.1814835,
                    4.0930433,
                    6.0824337,
                    4.0981607,
                    6.42229,
                    8.281144,
                    7.6697674,
                    4.613586,
                    4.0864916,
                    4.9761753,
                    4.0027137,
                    7.6192746,
                    7.761253,
                    3.1558518,
                    4.8600273,
                    4.830491,
                    3.4712868,
                    3.2758293,
                    1.2365112,
                    7.659654,
                    6.5024185,
                    4.954894,
                    6.289809,
                    3.418419,
                    3.250959,
                    2.2429235,
                    4.9206204,
                    7.4232516,
                    7.8354096,
                    2.9882102,
                    5.2107234,
                    6.9834166,
                    3.816146,
                    7.775284,
                    2.2817156,
                    3.571046,
                    3.3418052,
                    7.6720877,
                    3.4737072,
                    2.6070662,
                    6.603501,
                    4.4857516,
                    7.0928907,
                    2.7281604,
                    2.7905276,
                    7.610109,
                    3.0613112,
                    3.6145651,
                    3.9189546,
                    4.810099,
                    7.4052644,
                    3.044181,
                    4.497907,
                    7.3701744,
                    3.41361,
                    7.961715,
                    8.146674,
                    1.7740612,
                    4.6293077,
                    4.257265,
                    5.4645395,
                    7.8973603,
                    6.7489357,
                    4.3792224,
                    2.8276606,
                    3.3554769,
                    4.8453608,
                    7.059822,
                    4.565696,
                    6.9770207,
                    3.541174,
                    7.099802,
                    5.3362904,
                    7.7721834,
                    7.6650834,
                    4.100425,
                    7.572996,
                    6.5962105,
                    4.3157954,
                    2.9570057,
                    7.3262315,
                    3.9222503,
                    2.095838,
                    7.3736563,
                    4.4505553,
                    2.4387188,
                    5.3887563,
                    4.746278,
                    7.878788,
                    4.9963307,
                    7.17823,
                    4.37465,
                    3.6771967,
                    4.7453475,
                    7.150129,
                    3.2953267,
                    2.9910257,
                    1.0972812,
                    3.0730574,
                    7.273005,
                    3.3457854,
                    2.7816353,
                    4.139801,
                    7.7748833,
                    7.8585005,
                    7.2012215,
                    7.421004,
                    8.127981,
                    2.1731248,
                    4.8590097,
                    7.2403336,
                    7.759695,
                    4.61174,
                    4.9693093,
                    4.798062,
                    7.720933,
                    6.463584,
                    1.5258752,
                    7.21116,
                    5.1654844,
                    5.131146,
                    4.7483897,
                    5.3563147,
                    3.6170948,
                    2.2125282,
                    4.6299567,
                    5.6490946,
                    7.7417445,
                    7.3081427,
                    7.370645,
                    5.048573,
                    3.479237,
                    4.694042,
                    3.5326662,
                    1.9926519,
                    4.289925,
                    7.527844,
                    4.151285,
                    1.8967642,
                    8.560966,
                    6.0371823,
                    3.9771283,
                    8.279185,
                    3.0648088,
                    4.1058445,
                    1.4245641,
                    4.1064625,
                    3.2877045,
                    8.173949,
                    7.9004583,
                    3.649442,
                    5.6888266,
                    8.231657,
                    4.788014,
                    4.7059326,
                    6.278452,
                    6.99327,
                    4.5774055,
                    4.722118,
                    1.8829988,
                    3.5608485,
                    6.881212,
                    2.625908,
                    2.503271,
                    2.6512988,
                    2.8230722,
                    1.8969345,
                    3.9297602,
                    4.077103,
                    2.820257,
                    2.807983,
                    3.9732308,
                    2.506213,
                    7.5235877,
                    6.8994923,
                    3.100983,
                    3.4960864,
                    2.9992194,
                    4.876036,
                    6.864637,
                    3.928794,
                    3.104762,
                    3.225452,
                    3.752145,
                    5.0646033,
                    2.5717125,
                    2.2836475,
                    3.0596478,
                    3.4032707,
                    3.287058,
                    2.7432835,
                    2.187536,
                    3.0839014,
                    3.2375684,
                    5.3533335,
                    8.359103,
                    4.990942,
                    2.4641385,
                    6.69752,
                    6.7354684,
                    6.0736337,
                    1.8109149,
                    7.9123025,
                    7.7505608,
                    8.115124,
                    8.186975,
                    8.521887,
                    8.19731,
                    8.300624,
                    2.866662,
                    8.159035,
                    5.2606916,
                    4.7702384,
                    8.400056,
                    7.812732,
                    8.393832,
                    5.2885942,
                    8.042557,
                    2.5275218,
                    5.7517443,
                    6.922949,
                    3.3478312,
                    5.4850087,
                    2.9093018,
                    4.7287045,
                    2.6998143,
                    2.5367079,
                    5.674474,
                    2.4340265,
                    2.282432,
                    6.766381,
                    3.4196582,
                    5.384889,
                    4.5019045,
                    5.4517903,
                    5.303101,
                    2.4552531,
                    4.7692294,
                    5.3854723,
                    5.2516413,
                    4.0245376,
                    2.5555208,
                    7.309406,
                    5.388553,
                    3.391878,
                    7.378661,
                    6.0863996,
                    4.767729,
                    5.328726,
                    5.408688,
                    3.3627403,
                    4.5994716,
                    2.8096976,
                    5.7934074,
                    7.808215,
                    4.5404825,
                    5.8431716,
                    6.830904,
                    3.49671,
                    4.0900784,
                    6.7594614,
                    4.61697,
                    7.4244676,
                    3.774844,
                    7.321879,
                    2.0449426,
                    1.8803505,
                    3.621856,
                    7.626746,
                    2.0557027,
                    2.5960178,
                    7.6117635,
                    6.5811996,
                    5.6912136,
                    2.7416902,
                    3.4157088,
                    3.9421523,
                    1.2779485,
                    0.96700895,
                    7.4280486,
                    2.4596686,
                    2.506024,
                    4.834435,
                    6.2838097,
                    5.060858,
                    4.2976847,
                    6.5394807,
                    2.486568,
                    5.387671,
                    6.7745914,
                    4.9874187,
                    5.7271905,
                    6.2175164,
                    7.939926,
                    6.349109,
                    6.040964,
                    7.620644,
                    4.544054,
                    5.251088,
                    6.0448475,
                    4.613873,
                    6.294847,
                    6.4695086,
                    2.9644945,
                    5.4543524,
                    5.9589524,
                    4.154803,
                    5.6525965,
                    6.423504,
                    4.8959136,
                    6.3023515,
                    7.7036734,
                    4.589566,
                    3.7569098,
                    6.670579,
                    5.6980395,
                    3.522053,
                    6.407253,
                    5.490638,
                    6.110368,
                    4.8035483,
                    6.2798595,
                    6.3366013,
                    5.8660464,
                    4.804681,
                    3.333051,
                    5.7318177,
                    5.8074093,
                    4.7272177,
                    6.0115395,
                    5.3511386,
                    4.8066053,
                    5.3767705,
                    4.9365582,
                    5.742144,
                    4.863407,
                    6.1530876,
                    3.3504443,
                    6.8787713,
                    5.683446,
                    6.1700983,
                    4.8063483,
                    5.53518,
                    7.1840453,
                    5.912986,
                    4.1319327,
                    2.982347,
                    5.714392,
                    5.6687856,
                    7.367847,
                    5.4568467,
                    5.5665317,
                    2.9616365,
                    6.426955,
                    6.1489663,
                    6.136294,
                    2.1777544,
                    2.4967623,
                    2.8226612,
                    1.9489316,
                    4.057448,
                    3.2175386,
                    3.1033928,
                    3.4890037,
                    3.5229638,
                    3.7314014,
                    6.9294233,
                    3.2517836,
                    2.9643066,
                    3.253519,
                    3.2753675,
                    3.2944832,
                    2.7728186,
                    3.119701,
                    2.5149589,
                    4.0336657,
                    3.8845901,
                    3.8995194,
                    3.2416008,
                    2.6084454,
                    4.822647,
                    4.044906,
                    5.6692157,
                    3.201606,
                    7.6438313,
                    2.0346336,
                    7.654825,
                    2.2341273,
                    2.4798684,
                    3.7250168,
                    6.58626,
                    2.5677738,
                    3.0603366,
                    3.6769722,
                    7.608933,
                    6.7137017,
                    7.318649,
                    8.149739,
                    4.1126842,
                    5.8651147,
                    7.718843,
                    6.3364882,
                    4.0410156,
                    5.997962,
                    8.285236,
                    4.802407,
                    7.593702,
                    7.3643603,
                    4.8928514,
                    5.8213034,
                    2.3952827,
                    2.1931026,
                    5.745738,
                    2.529742,
                    5.204956,
                    5.6349177,
                    3.0951846,
                    4.0002484,
                    5.482564,
                    6.1083436,
                    6.629683,
                    4.8708887,
                    5.590142,
                    5.3200207,
                    5.7103662,
                    6.395792,
                    3.1393158,
                    3.2936323,
                    5.9947605,
                    5.1949463,
                    5.95684,
                    6.3969765,
                    5.797525,
                    0.6322078,
                    4.802868,
                    3.6497164,
                    6.013493,
                    2.1680334,
                    4.8959665,
                    4.3400927,
                    6.0809336,
                    6.882265,
                    2.9476712,
                    0.97681326,
                    5.7595778,
                    4.971444,
                    0.95731795,
                    4.841518,
                    2.5517602,
                    5.1724043,
                    5.953185,
                    6.058647,
                    3.2746387,
                    1.8687642,
                    6.798666,
                    4.4903965,
                    1.8520029,
                    6.144945,
                    5.8408127,
                    4.05434,
                    2.5441723,
                    5.299138,
                    4.130117,
                    6.4733386,
                    4.4454145,
                    7.2472205,
                    3.2339435,
                    0.8601633,
                    3.0117147,
                    2.7005947,
                    0.8478353,
                    1.8469696,
                    2.2866888,
                    5.5240064,
                    4.9884324,
                    5.4250145,
                    6.694073,
                    8.29953,
                    7.9842367,
                    7.667316,
                    6.901133,
                    7.783817,
                    5.4310613,
                    4.7528186,
                    8.393122,
                    8.683216,
                    8.287018,
                    8.107338,
                    8.435937,
                    8.214699,
                    8.411327,
                    4.0393853,
                    3.2729452,
                    5.783644,
                    6.419381,
                    4.6948276,
                    2.6487076,
                    8.393874,
                    2.40868,
                    7.6527715,
                    5.1395593,
                    7.675907,
                    3.2420292,
                    4.5811267,
                    5.481016,
                    1.4901087,
                    3.0437078,
                    2.660127,
                    1.8611617,
                    0.864578,
                    7.5442047,
                    3.861696,
                    4.7595787,
                    7.7491407,
                    4.7293487,
                    6.48475,
                    4.694936,
                    6.3905945,
                    4.289793,
                    6.1459475,
                    0.99029887,
                    6.743116,
                    5.752832,
                    5.932174,
                    5.4928136,
                    2.8980575,
                    2.8993952,
                    2.0345528,
                    2.2625325,
                    2.305749,
                    3.0790372,
                    1.7791973,
                    1.2036041,
                    2.504614,
                    3.3074074,
                    2.6083682,
                    6.380201,
                    2.7038364,
                    8.425032,
                    7.6329055,
                    8.408304,
                    8.570218,
                    8.409939,
                    8.309095,
                    8.341212,
                    5.4771156,
                    4.8171363,
                    2.2553606,
                    6.60278,
                    8.11362,
                    8.010084,
                    7.6638956,
                    4.849021,
                    8.259717,
                    1.7864101,
                    2.8109815,
                    3.1315515,
                    3.7302432,
                    5.008291,
                    5.569173,
                    2.0610006,
                    5.325061,
                    0.9368753,
                    2.723813,
                    4.37057,
                    8.6177635,
                    5.9832034,
                    4.7048283,
                    6.1577535,
                    6.648309,
                    5.146285,
                    6.2162533,
                    4.527712,
                    1.6925042,
                    3.4344501,
                    5.444261,
                    3.2155862,
                    3.6795003,
                    3.894122,
                    6.666107,
                    3.2203467,
                    2.9006588,
                    2.8959262,
                    3.2887814,
                    4.01125,
                    3.374193,
                    1.530603,
                    4.832004,
                    2.6226423,
                    1.4110153,
                    7.662374,
                    7.1179786,
                    3.6215227,
                    7.70566,
                    6.873439,
                    4.853424,
                    1.4215384,
                    1.4173526,
                    1.4031035,
                    4.933402,
                    5.5168786,
                    5.271322,
                    6.790656,
                    5.4567184,
                    5.460878,
                    4.7457733,
                    7.3960776,
                    5.3961053,
                    3.7217903,
                    4.2409143,
                    0.8040155,
                    3.2607954,
                    6.688173,
                    4.710802,
                    4.799517,
                    0.62558204,
                    1.5036153,
                    4.9883604,
                    4.809476,
                    3.9241266,
                    5.5316124,
                    3.0085363,
                    4.784115,
                    2.8193703,
                    4.446784,
                    6.904852,
                    6.853165,
                    5.76982,
                    0.5694972,
                    7.4379005,
                    3.4122221,
                    5.263054,
                    3.705991,
                    4.351649,
                    4.7740765,
                    6.7360044,
                    3.7423701,
                    4.8355956,
                    6.9193482,
                    3.4000587,
                    4.860587,
                    5.256199,
                    5.53625,
                    5.800566,
                    4.6220884,
                    4.838991,
                    5.9689155,
                    6.4007697,
                    2.542176,
                    4.20556,
                    6.1948657,
                    8.139068,
                    7.38243,
                    5.6396437,
                    6.5120635,
                    3.9857447,
                    4.179094,
                    1.5773146,
                    3.1208832,
                    6.531047,
                    5.7362523,
                    3.113815,
                    3.6608138,
                    3.9655437,
                    4.8066473,
                    6.4298735,
                    5.871677,
                    5.6527495,
                    6.117056,
                    6.7179184,
                    4.565489,
                    5.8841157,
                    6.2421927,
                    5.182499,
                    7.1284404,
                    7.10742,
                    6.127759,
                    6.056508,
                    4.1916623,
                    3.1533477,
                    6.3528843,
                    2.325637,
                    5.7928767,
                    6.586755,
                    5.8285513,
                    3.9937692,
                    6.246148,
                    4.6286197,
                    6.7330637,
                    6.0628886,
                    2.412061,
                    5.9182787,
                    4.799427,
                    3.5884345,
                    1.9985659,
                    4.578279,
                    6.0890226,
                    5.8418255,
                    6.000894,
                    8.436813,
                    2.981088,
                    6.456162,
                    6.4054303,
                    8.346344,
                    0.9070092,
                    3.9335072,
                    6.1206484,
                    5.797192,
                    2.8711991,
                    6.4793224,
                    6.858485,
                    3.639327,
                    5.2463903,
                    2.2220647,
                    8.149495,
                    7.3907514,
                    8.24096,
                    7.672927,
                    8.339267,
                    1.2962685,
                    4.738944,
                    2.8511503,
                    6.0812736,
                    4.621298,
                    4.8981237,
                    6.6296606,
                    6.7509775,
                    7.175237,
                    4.097496,
                    5.945126,
                    5.774357,
                    6.095467,
                    5.995226,
                    4.607116,
                    6.073222,
                    4.7296796,
                    5.108202,
                    6.226496,
                    4.7152405,
                    5.7710757,
                    6.0038614,
                    4.9240427,
                    3.7549791,
                    6.257638,
                    5.6375794,
                    3.1594589,
                    2.2329912,
                    1.1097586,
                    2.9024765,
                    5.428074,
                    6.7611914,
                    5.5872254,
                    7.6766877,
                    6.5093017,
                    6.1853023,
                    4.262359,
                    7.430527,
                    5.398131,
                    4.199818,
                    4.736329,
                    6.776157,
                    2.3821104,
                    5.5881433,
                    6.8707023,
                    5.305502,
                    5.680414,
                    0.64225066,
                    6.86768,
                    1.2446152,
                    2.8162746,
                    1.5130445,
                    3.3196955,
                    0.779505,
                    8.58888,
                    3.6699908,
                    4.818107,
                    0.919902,
                    1.8570459,
                    2.3188512,
                    8.384336,
                    7.4136424,
                    6.5999565,
                    2.7381487,
                    5.625247,
                    6.398025,
                    3.4013674,
                    7.5564437,
                    6.6360564,
                    5.686811,
                    6.5490646,
                    6.332074,
                    5.427452,
                    5.794468,
                    2.6707237,
                    6.084278,
                    6.150595,
                    6.092182,
                    6.1244664,
                    6.6874146,
                    5.6067276,
                    5.7995763,
                    7.213805,
                    8.346683,
                    0.950413,
                    8.412308,
                    7.6994085,
                    4.996548,
                    7.9383197,
                    6.5258827,
                    0.7031589,
                    4.375553,
                    3.9229012,
                    5.3725715,
                    2.0657592,
                    5.434853,
                    5.9157014,
                    5.671291,
                    0.5857846,
                    2.4802098,
                    0.6775604,
                    5.3294373,
                    0.8371987,
                    0.87570035,
                    2.1255667,
                    4.944001,
                    8.577326,
                    8.488302,
                    8.4384365,
                    8.343158,
                    8.422162,
                    8.53543,
                    8.365401,
                    8.378227,
                    8.389495,
                    8.42254,
                    8.489368,
                    8.497698,
                    8.658181,
                    8.199674,
                    5.151902,
                    8.30532,
                    5.9469895,
                    8.354109,
                    8.444385,
                    8.077313,
                    8.362845,
                    8.343416,
                    7.759719,
                    8.052697,
                    8.567475,
                    8.266013,
                    8.279722,
                    8.430349,
                    8.49819,
                    8.570642,
                    6.776178,
                    8.479823,
                    8.465271,
                    8.105737,
                    8.322483,
                    8.369813,
                    8.394206,
                    8.49067,
                    8.493583,
                    7.7077274,
                    8.586073,
                    8.545295,
                    8.68144,
                    6.77075,
                    8.359341,
                    8.355481,
                    8.128253,
                    7.8119063,
                    6.5661798,
                    6.098177,
                    8.585656,
                    7.429345,
                    8.403572,
                    8.455269,
                    7.7712293,
                    8.274652,
                    5.226987,
                    5.719485,
                    5.459836,
                    6.124153,
                    5.4104533,
                    3.471803,
                    3.5369852,
                    3.7938259,
                    3.5313299,
                    0.69564223,
                    8.3084345,
                    5.301138,
                    8.331282,
                    5.5062704,
                    5.5478883,
                    2.9758093,
                    7.6807575,
                    4.3650208,
                    2.4701824,
                    5.152925,
                    6.247568,
                    6.0818324,
                    5.1695614,
                    6.181542,
                    3.2261226,
                    1.4506474,
                    5.8129206,
                    0.58190286,
                    5.5751467,
                    1.425536,
                    5.8348804,
                    5.7723837,
                    5.5861382,
                    6.2536235,
                    5.636919,
                    5.568409,
                    5.9397445,
                    5.8778515,
                    7.05821,
                    5.7240553,
                    3.5734565,
                    1.4341997,
                    0.712128,
                    0.6147464,
                    6.0755453,
                    6.726844,
                    6.657026,
                    4.0315742,
                    3.1454308,
                    6.7354355,
                    6.7791295,
                    3.485739,
                    1.9621273,
                    0.56325746,
                    3.474285,
                    6.002267,
                    8.019716,
                    5.3194723,
                    1.5815436,
                    3.4590876,
                    5.8978133,
                    5.6200714,
                    5.863349,
                    6.036941,
                    3.265172,
                    1.9289316,
                    2.4670653,
                    5.997128,
                    4.080425,
                    7.5417743,
                    1.8870999,
                    4.6158996,
                    5.928197,
                    4.1035776,
                    3.3327787,
                    2.8464224,
                    3.696772,
                    1.8984296,
                    6.0229945,
                    7.5164604,
                    5.4231462,
                    6.025554,
                    6.0240583,
                    4.3106713,
                    5.741869,
                    3.2670834,
                    1.9007612,
                    4.0409794,
                    6.067841,
                    4.4947352,
                    7.392657,
                    5.91265,
                    5.72465,
                    5.622764,
                    5.693602,
                    2.496025,
                    5.234872,
                    4.512448,
                    3.2144356,
                    0.5949038,
                    3.274131,
                    5.413467,
                    2.9925082,
                    2.3816,
                    2.7591639,
                    3.7417836,
                    5.348588,
                    7.275619,
                    3.5865786,
                    6.920496,
                    5.855682,
                    3.9939027,
                    3.141911,
                    4.983792,
                    4.504163,
                    5.707436,
                    2.7043257,
                    2.0031335,
                    5.414209,
                    5.4708724,
                    4.931382,
                    6.9434743,
                    8.519767,
                    7.4961348,
                    7.2786098,
                    5.401815,
                    5.403246,
                    6.110564,
                    3.113089,
                    3.4331386,
                    4.6153965,
                    6.8116612,
                    4.2610803,
                    4.2832317,
                    4.2248406,
                    2.66458,
                    1.7482919,
                    3.9883747,
                    5.323364,
                    2.254026,
                    2.6680996,
                    2.7349157,
                    6.430924,
                    4.8290925,
                    5.945548,
                    2.1455069,
                    4.4820027,
                    5.7916503,
                    7.56487,
                    8.127057,
                    6.740981,
                    4.7009673,
                    8.212779,
                    4.618819,
                    4.948213,
                    5.9080844,
                    6.7066708,
                    6.7164893,
                    7.9804378,
                    4.5874248,
                    0.7854494,
                    7.906473,
                    8.475325,
                    5.542534,
                    8.634561,
                    6.0874667,
                    0.7634049,
                    7.7902102,
                    5.5814815,
                    5.9187236,
                    5.7019925,
                    1.7072437,
                    0.80665463,
                    0.8192716,
                    2.0972338,
                    5.855391,
                    6.5665293,
                    0.78468806,
                    4.750428,
                    0.86315477,
                    7.7429347,
                    7.7811465,
                    5.6879544,
                    6.1055303,
                    3.1041126,
                    8.206056,
                    8.595508,
                    5.7476587,
                    6.168245,
                    6.5118027,
                    5.7572093,
                    5.4855027,
                    6.2893806,
                    5.2160296,
                    5.7849684,
                    4.7521987,
                    5.307614,
                    6.321719,
                    5.786968,
                    6.463384,
                    3.4111054,
                    5.323147,
                    3.5342119,
                    3.981166,
                    5.23984,
                    3.4908624,
                    5.4559355,
                    6.3343406,
                    6.0462065,
                    8.065075,
                    8.225199,
                    0.8730184,
                    4.556703,
                    6.231235,
                    6.2116838,
                    6.195844,
                    8.38858,
                    6.077686,
                    6.746715,
                    6.6001005,
                    5.745782,
                    5.3133063,
                    6.589539,
                    5.393875,
                    7.451478,
                    5.568222,
                    5.7363048,
                    6.047177,
                    3.2404506,
                    6.1478257,
                    0.5900569,
                    5.961399,
                    6.664838,
                    6.793836,
                    1.1692364,
                    5.3277864,
                    6.029702,
                    3.427458,
                    0.61707854,
                    0.6521495,
                    8.252018,
                    2.0153072,
                    0.48853695,
                    6.6471567,
                    6.1700487,
                    6.1553464,
                    0.56280243,
                    0.71371686,
                    3.4530802,
                    4.7559786,
                    4.440696,
                    8.445456,
                    8.458772,
                    0.6881996,
                    1.0288943,
                    0.69685477,
                    6.4711485,
                    4.867972,
                    4.0450883,
                    0.50737935,
                    0.6992054,
                    0.6513237,
                    1.0328302,
                    4.063772,
                    2.6091151,
                    2.638953,
                    7.423208,
                    3.2408319,
                    6.4037075
                  ],
                  "xaxis": "x",
                  "y": [
                    1.3909149,
                    0.7333565,
                    1.7425944,
                    6.236373,
                    3.513955,
                    3.0562825,
                    5.995866,
                    6.625001,
                    1.2701975,
                    4.473864,
                    2.4318871,
                    3.855312,
                    3.8029506,
                    4.6084547,
                    2.704976,
                    3.1393647,
                    2.9906247,
                    1.4050707,
                    1.392326,
                    4.6635256,
                    0.39907685,
                    3.0197377,
                    1.7524023,
                    3.9590955,
                    4.670916,
                    5.8291535,
                    3.7857134,
                    7.3149204,
                    2.2208097,
                    6.3745995,
                    5.595163,
                    4.8247743,
                    3.0065112,
                    1.4209104,
                    1.0626816,
                    2.78422,
                    3.410554,
                    4.4707875,
                    1.9753672,
                    5.8656797,
                    3.3133655,
                    2.3921149,
                    4.132247,
                    4.6706796,
                    4.194218,
                    2.0889804,
                    3.6250877,
                    5.034117,
                    2.2275589,
                    3.644584,
                    2.8473413,
                    1.2345637,
                    4.060945,
                    1.3160362,
                    4.5543714,
                    3.1744459,
                    5.8383317,
                    3.6536481,
                    5.0990367,
                    2.6119428,
                    3.8411777,
                    1.2287835,
                    4.4915543,
                    6.0719275,
                    2.9870565,
                    4.0701447,
                    3.0395234,
                    5.907236,
                    3.4891553,
                    1.7114482,
                    2.5321705,
                    4.251632,
                    5.699984,
                    3.5894282,
                    3.183286,
                    4.295467,
                    4.3850865,
                    2.4461226,
                    3.1516404,
                    5.598348,
                    5.8143535,
                    2.89124,
                    2.9412642,
                    3.5338604,
                    3.7365985,
                    5.950774,
                    3.246755,
                    4.087197,
                    2.1120641,
                    2.6364195,
                    5.2480917,
                    2.2474215,
                    3.3421905,
                    2.3299646,
                    2.3114722,
                    0.5282965,
                    3.5429275,
                    4.750883,
                    3.9861498,
                    3.7398388,
                    4.127506,
                    2.927515,
                    1.8438352,
                    5.02899,
                    2.2002876,
                    2.6487207,
                    3.1808555,
                    2.8141923,
                    4.0023985,
                    5.5971355,
                    2.8007169,
                    4.6052113,
                    5.9861913,
                    2.9162514,
                    2.5050328,
                    1.6903695,
                    2.3703218,
                    1.5048975,
                    5.7715816,
                    1.7588528,
                    3.886713,
                    2.2986665,
                    2.3192003,
                    5.8572454,
                    2.293298,
                    2.4294424,
                    1.6306225,
                    4.5673957,
                    6.330652,
                    3.1493673,
                    4.9411836,
                    4.027671,
                    1.532147,
                    6.4892664,
                    2.363788,
                    2.589116,
                    6.7004724,
                    6.588411,
                    2.7616148,
                    3.0066185,
                    6.6539135,
                    1.3105675,
                    1.5725819,
                    4.4704423,
                    2.040284,
                    6.476802,
                    1.5901102,
                    4.315195,
                    2.7977877,
                    0.33658993,
                    5.9662185,
                    2.1944566,
                    3.2657793,
                    2.358069,
                    2.6825924,
                    2.88978,
                    2.9547517,
                    4.828541,
                    2.189207,
                    1.0740484,
                    0.5308686,
                    2.254218,
                    5.336693,
                    4.010142,
                    0.35645095,
                    3.6520517,
                    2.386029,
                    5.11525,
                    2.3054423,
                    4.10606,
                    6.6074038,
                    1.971976,
                    1.0132102,
                    2.8285933,
                    4.577426,
                    1.5494033,
                    3.8869705,
                    2.3246975,
                    3.193215,
                    4.1539135,
                    4.5027924,
                    3.6823807,
                    1.2424175,
                    5.8218474,
                    3.005071,
                    2.2041044,
                    3.2146616,
                    4.8752356,
                    3.0787847,
                    3.0010726,
                    2.45932,
                    3.6891596,
                    2.1203828,
                    3.3650434,
                    2.540651,
                    3.1308901,
                    3.3516536,
                    5.225814,
                    6.6122813,
                    3.1105917,
                    2.429245,
                    5.7195516,
                    3.866871,
                    3.0252924,
                    3.6419754,
                    4.8434434,
                    0.6389998,
                    3.2693768,
                    3.4865303,
                    2.4816322,
                    6.513359,
                    0.4997377,
                    6.238533,
                    2.183692,
                    4.6273637,
                    6.2531962,
                    0.32108125,
                    3.594117,
                    1.5838958,
                    2.9272153,
                    1.6336925,
                    6.297496,
                    6.315725,
                    5.847322,
                    3.9718986,
                    3.1320226,
                    2.8180895,
                    3.082091,
                    5.3453403,
                    2.7772174,
                    4.624291,
                    5.836004,
                    3.1560142,
                    2.9935799,
                    4.9285007,
                    1.6487981,
                    3.4240835,
                    2.2753825,
                    3.1534445,
                    2.5597653,
                    4.6454015,
                    6.617519,
                    2.7352185,
                    2.2095022,
                    6.590595,
                    3.6061645,
                    5.865987,
                    3.6291227,
                    0.8659648,
                    3.138147,
                    0.9368614,
                    2.478887,
                    1.1461558,
                    3.509855,
                    4.220288,
                    4.6228657,
                    2.4340374,
                    3.2539628,
                    6.427498,
                    6.1685185,
                    5.287551,
                    4.4484873,
                    2.9324458,
                    3.824399,
                    3.221346,
                    1.4972768,
                    3.7842164,
                    6.81656,
                    1.5663879,
                    0.2587781,
                    6.739094,
                    1.5658559,
                    1.9127307,
                    4.2661896,
                    4.2829785,
                    2.9523056,
                    2.0614214,
                    4.175324,
                    0.36247614,
                    3.3141997,
                    1.8322309,
                    2.461755,
                    2.4082887,
                    2.1619725,
                    4.201189,
                    4.1754355,
                    3.1382802,
                    1.1022619,
                    2.6318078,
                    4.9661317,
                    2.4166212,
                    2.2169883,
                    2.80368,
                    4.857323,
                    4.0862575,
                    4.5892615,
                    2.4626908,
                    1.6228592,
                    6.3869944,
                    3.1790555,
                    5.5589304,
                    1.9402826,
                    1.7110496,
                    1.8161587,
                    4.3153515,
                    0.9730182,
                    5.9065075,
                    1.8062667,
                    4.643503,
                    6.449849,
                    2.635443,
                    2.8522859,
                    2.9785433,
                    2.780768,
                    4.4705014,
                    4.3904037,
                    0.40508658,
                    5.0889206,
                    5.724458,
                    1.3264964,
                    1.971763,
                    4.0498576,
                    4.0436325,
                    5.290091,
                    4.5933237,
                    3.1613762,
                    2.1971123,
                    3.1662579,
                    4.2958803,
                    1.6413912,
                    5.868971,
                    2.3266864,
                    4.893479,
                    1.2365574,
                    1.4519491,
                    2.3393757,
                    3.3450174,
                    5.7302165,
                    4.081431,
                    4.2586923,
                    0.4129321,
                    1.9377983,
                    1.2271459,
                    4.1872454,
                    3.4686286,
                    5.7789507,
                    2.8505635,
                    2.0310013,
                    2.8875172,
                    0.34618092,
                    4.999277,
                    2.747646,
                    2.4727085,
                    1.705599,
                    3.1297946,
                    2.8116982,
                    2.8379543,
                    3.2362106,
                    3.8377843,
                    2.69349,
                    5.229326,
                    4.2084136,
                    5.9339647,
                    2.9635265,
                    0.8685069,
                    2.9307122,
                    3.011909,
                    4.920566,
                    5.7790065,
                    3.3790581,
                    2.1940212,
                    2.2519534,
                    5.955743,
                    2.824883,
                    6.281834,
                    2.7115228,
                    1.5742403,
                    1.2926632,
                    0.8327064,
                    3.2683876,
                    2.4948273,
                    3.1942165,
                    5.661736,
                    2.046092,
                    3.1730924,
                    6.43026,
                    3.2901857,
                    3.771736,
                    2.808671,
                    2.8331676,
                    0.4926812,
                    3.4627683,
                    4.3125844,
                    0.43534926,
                    2.711534,
                    2.2332768,
                    2.56804,
                    3.0185144,
                    2.0548332,
                    3.392871,
                    3.2734036,
                    2.4418268,
                    2.8803217,
                    4.5311685,
                    0.38267964,
                    4.1712456,
                    2.7659495,
                    1.8041168,
                    5.774701,
                    3.0453486,
                    2.7474158,
                    3.1827016,
                    2.9414206,
                    2.954971,
                    2.0237668,
                    5.619187,
                    4.7012873,
                    3.3662093,
                    0.2889991,
                    1.8531741,
                    1.9207808,
                    2.7865593,
                    6.0979424,
                    5.5122294,
                    7.1965365,
                    5.668757,
                    4.410814,
                    2.113367,
                    4.909469,
                    1.4113568,
                    2.704891,
                    2.9139435,
                    1.787173,
                    3.340791,
                    6.011304,
                    0.3060537,
                    3.5634623,
                    0.9538383,
                    1.58242,
                    3.1549826,
                    2.516067,
                    1.1800212,
                    2.377966,
                    2.3340173,
                    1.2778357,
                    2.6049304,
                    3.1353931,
                    2.7143447,
                    3.1054072,
                    2.0530741,
                    3.3722367,
                    3.2623093,
                    3.0370045,
                    3.2753975,
                    2.318506,
                    6.41478,
                    2.3177204,
                    3.1011436,
                    2.8194325,
                    1.5228899,
                    3.6884544,
                    4.3126273,
                    2.175979,
                    2.8067534,
                    2.552057,
                    5.2553234,
                    3.321558,
                    3.502733,
                    1.4553056,
                    5.617122,
                    5.9216695,
                    4.173991,
                    2.4298472,
                    2.9467142,
                    2.114446,
                    2.3142006,
                    6.8264017,
                    3.7832477,
                    2.9467301,
                    2.9191654,
                    2.6699476,
                    0.76403844,
                    1.5469152,
                    0.24205959,
                    2.3736525,
                    1.4212248,
                    4.5861216,
                    1.9905138,
                    1.4226068,
                    0.8662188,
                    2.3004901,
                    6.080732,
                    4.635508,
                    6.179179,
                    5.8694854,
                    1.3625394,
                    2.5984643,
                    1.908786,
                    1.7871677,
                    0.59083015,
                    4.734057,
                    5.8486276,
                    1.7788911,
                    3.6491735,
                    1.447439,
                    2.1341238,
                    4.9256244,
                    4.3022594,
                    5.7792144,
                    5.915651,
                    4.0945187,
                    6.010299,
                    1.9804626,
                    4.5648518,
                    3.331358,
                    2.7760751,
                    5.928225,
                    6.8716483,
                    6.997583,
                    4.3790417,
                    2.0145547,
                    5.5553718,
                    2.8320472,
                    2.6687248,
                    1.385517,
                    3.587079,
                    2.5078092,
                    2.6011212,
                    3.8534167,
                    6.4668574,
                    1.8292156,
                    5.3084574,
                    5.571893,
                    5.7350674,
                    4.739228,
                    3.0466352,
                    6.0369287,
                    6.716738,
                    5.876199,
                    5.4261627,
                    5.9742455,
                    6.5959325,
                    6.1410885,
                    5.7638125,
                    2.4891174,
                    4.58138,
                    5.0751686,
                    6.682989,
                    1.7655907,
                    2.752142,
                    5.5843525,
                    0.49265304,
                    2.4993694,
                    3.262019,
                    5.773973,
                    6.835078,
                    5.8612375,
                    1.1421882,
                    0.40971926,
                    5.061005,
                    2.7212384,
                    5.9040217,
                    6.5507517,
                    5.61975,
                    5.867838,
                    4.411741,
                    3.1569226,
                    4.39298,
                    4.7338457,
                    2.6221104,
                    4.0212946,
                    6.6933117,
                    6.8197274,
                    6.7302423,
                    7.128794,
                    5.8257594,
                    6.0087514,
                    7.031813,
                    3.6473045,
                    5.709104,
                    3.1845593,
                    3.8203957,
                    5.843621,
                    6.813955,
                    5.780236,
                    3.5377395,
                    6.836358,
                    6.471464,
                    2.56143,
                    4.579696,
                    3.6526108,
                    5.544664,
                    5.0640287,
                    2.328463,
                    6.2048993,
                    5.50654,
                    4.0411773,
                    6.6292977,
                    3.5243106,
                    3.8419743,
                    5.1947412,
                    2.8094952,
                    2.6704085,
                    2.9374857,
                    3.0252297,
                    5.579487,
                    5.8145294,
                    3.1751015,
                    3.0712287,
                    4.1903577,
                    6.577192,
                    2.9563408,
                    3.0698488,
                    0.8801194,
                    2.2134125,
                    5.7974024,
                    3.7841384,
                    2.5252693,
                    2.8700557,
                    4.8088164,
                    1.1428446,
                    6.1245556,
                    3.1339447,
                    3.0348165,
                    2.0937781,
                    2.9984279,
                    2.5713503,
                    0.3924148,
                    4.9878964,
                    1.4371593,
                    2.4829297,
                    2.7553847,
                    3.8269928,
                    1.633417,
                    3.1700578,
                    3.4184322,
                    6.401918,
                    2.4093,
                    3.7120523,
                    4.5001383,
                    2.4679697,
                    3.0979795,
                    5.21497,
                    6.190145,
                    2.988613,
                    4.2077255,
                    3.679605,
                    3.0769455,
                    4.345731,
                    6.6065893,
                    6.576991,
                    1.6615614,
                    4.020988,
                    5.4082446,
                    5.3867354,
                    2.4196453,
                    6.570397,
                    4.014009,
                    1.5662011,
                    0.49187562,
                    4.4821644,
                    1.7186106,
                    6.562547,
                    2.829299,
                    5.8961678,
                    6.396399,
                    5.2850633,
                    1.8868324,
                    3.692403,
                    3.6791258,
                    2.4006448,
                    2.2367964,
                    0.9127351,
                    2.2265992,
                    1.5673635,
                    2.115459,
                    1.1011273,
                    2.826342,
                    5.585884,
                    3.3342116,
                    4.4505134,
                    4.0714946,
                    1.4544066,
                    5.0139832,
                    4.421738,
                    0.35134867,
                    1.5096902,
                    4.74291,
                    1.5639386,
                    1.1720767,
                    2.0910122,
                    1.6570644,
                    3.859263,
                    1.9974586,
                    4.940674,
                    0.9855621,
                    3.8257227,
                    3.8417675,
                    1.5728011,
                    5.604464,
                    3.9101315,
                    3.6668184,
                    4.223459,
                    2.2657228,
                    5.7795663,
                    2.622321,
                    0.6088365,
                    4.138488,
                    1.3270531,
                    3.8331876,
                    5.600677,
                    4.5509663,
                    3.9804857,
                    1.9387795,
                    2.23299,
                    0.9116992,
                    1.4246944,
                    1.9610126,
                    4.2125273,
                    4.998691,
                    4.507285,
                    2.092397,
                    3.855749,
                    1.4290692,
                    2.8124466,
                    2.655932,
                    6.5383844,
                    5.5198383,
                    2.9742186,
                    6.689988,
                    5.948463,
                    5.1677012,
                    6.4163766,
                    1.2584026,
                    2.4434783,
                    5.783768,
                    2.3858073,
                    5.143777,
                    6.608272,
                    5.9599214,
                    0.4233052,
                    5.1584954,
                    5.5542126,
                    5.5805526,
                    5.9865475,
                    4.8090577,
                    6.038043,
                    0.4210314,
                    5.8369527,
                    6.6314993,
                    2.7736285,
                    1.512186,
                    4.4143605,
                    6.441863,
                    3.7320354,
                    6.4451623,
                    6.82467,
                    6.5718,
                    6.2847624,
                    1.1295995,
                    3.7683601,
                    5.8448486,
                    6.314041,
                    4.599385,
                    4.8508587,
                    6.452119,
                    5.8444495,
                    1.2644289,
                    5.5208573,
                    6.3301725,
                    4.099448,
                    3.287102,
                    1.0126965,
                    6.2560782,
                    2.350874,
                    6.527694,
                    3.2119205,
                    1.1389668,
                    5.1847434,
                    5.0320234,
                    3.1019716,
                    4.788992,
                    3.8152065,
                    1.9866402,
                    4.470743,
                    5.523532,
                    3.6808724,
                    1.7419511,
                    3.6904461,
                    3.0784183,
                    6.5442986,
                    4.475706,
                    1.6519594,
                    4.466611,
                    2.500409,
                    6.353783,
                    5.8463645,
                    1.2865168,
                    1.5675219,
                    3.6500118,
                    3.9562945,
                    3.4226522,
                    3.2212076,
                    5.724474,
                    3.674279,
                    1.0247955,
                    4.138268,
                    3.7322104,
                    4.781833,
                    2.7399213,
                    4.5383615,
                    2.1936357,
                    3.0211053,
                    4.2981343,
                    1.311019,
                    3.1827397,
                    1.4487692,
                    3.506133,
                    2.3614457,
                    3.3649654,
                    3.7962706,
                    4.9702797,
                    2.3298635,
                    5.5346675,
                    4.204224,
                    6.618307,
                    1.069576,
                    5.091213,
                    4.217793,
                    6.50804,
                    4.223503,
                    1.9765847,
                    2.1966636,
                    4.07855,
                    3.3999615,
                    5.8501945,
                    3.0965188,
                    6.3706465,
                    3.480114,
                    3.1965115,
                    2.3015063,
                    4.5368237,
                    1.1676091,
                    1.5305122,
                    2.8643782,
                    4.75568,
                    6.9869423,
                    7.2082844,
                    5.5810237,
                    4.5734525,
                    6.848654,
                    6.446546,
                    5.8934464,
                    6.9723454,
                    6.605408,
                    6.8303294,
                    6.9826655,
                    5.8539762,
                    7.0452356,
                    7.004234,
                    4.1930127,
                    3.7901034,
                    1.4406937,
                    3.5518048,
                    4.476369,
                    3.9200306,
                    5.840221,
                    4.048616,
                    6.3480134,
                    5.7447104,
                    2.0489328,
                    4.055417,
                    5.281374,
                    4.461651,
                    3.486791,
                    6.2385783,
                    3.4480033,
                    2.3492184,
                    3.1501799,
                    2.370941,
                    6.065125,
                    5.2934685,
                    2.3991504,
                    5.3008614,
                    2.9444048,
                    5.2884846,
                    3.548874,
                    5.251125,
                    2.061582,
                    2.9391859,
                    2.0545435,
                    4.3638453,
                    2.2769606,
                    1.1971678,
                    0.94181705,
                    0.94061273,
                    3.711208,
                    2.6781437,
                    2.6969144,
                    3.6130724,
                    3.202028,
                    3.7336583,
                    3.9633758,
                    5.8532453,
                    3.3988953,
                    1.1433154,
                    5.3317547,
                    6.3132715,
                    5.429068,
                    6.9354916,
                    5.9381633,
                    5.8666816,
                    7.004409,
                    7.0220947,
                    5.6077147,
                    4.93969,
                    2.6656184,
                    5.0598207,
                    6.4242787,
                    7.1450515,
                    6.31779,
                    6.6004214,
                    5.9975076,
                    2.3643935,
                    6.06675,
                    6.2865915,
                    3.0752883,
                    3.976384,
                    5.5766625,
                    3.3440182,
                    3.0820055,
                    3.2066739,
                    4.9969187,
                    3.0113034,
                    6.59382,
                    5.992421,
                    3.8842578,
                    3.108846,
                    3.3912582,
                    4.801656,
                    1.9470323,
                    1.6529716,
                    2.5023406,
                    5.619203,
                    5.5783577,
                    6.6081777,
                    4.6830974,
                    2.2132466,
                    2.7465134,
                    6.623232,
                    0.9185764,
                    0.91983354,
                    4.110079,
                    1.9658827,
                    4.965417,
                    4.584962,
                    1.88722,
                    3.4432971,
                    5.9841323,
                    5.4773355,
                    3.0269442,
                    1.1317132,
                    6.273219,
                    4.5864673,
                    6.6275973,
                    5.979461,
                    5.9747324,
                    5.968067,
                    6.6834927,
                    3.356171,
                    3.6211178,
                    3.32238,
                    5.6155076,
                    5.5940537,
                    6.558087,
                    3.1200266,
                    5.6053476,
                    2.0541434,
                    4.902848,
                    3.2569594,
                    2.9773247,
                    4.3557386,
                    4.864425,
                    6.5625515,
                    3.4061515,
                    4.625003,
                    5.040443,
                    6.561076,
                    6.0289383,
                    5.6474185,
                    1.6865748,
                    3.2129943,
                    2.2845793,
                    2.2650733,
                    3.3326256,
                    3.425036,
                    1.6726794,
                    3.4628785,
                    1.798533,
                    5.18627,
                    1.3799448,
                    4.739418,
                    5.11105,
                    0.2175084,
                    2.4594982,
                    4.771367,
                    0.35124972,
                    3.4715748,
                    2.5810957,
                    0.3092537,
                    1.3784167,
                    3.6704822,
                    4.7158318,
                    5.227342,
                    6.5368505,
                    2.2190757,
                    3.6231928,
                    6.424439,
                    1.7563411,
                    2.4418418,
                    6.2327223,
                    3.4928598,
                    1.6523476,
                    2.2166407,
                    3.6535642,
                    6.7009254,
                    4.489816,
                    4.2084084,
                    3.4299083,
                    3.8144724,
                    3.9629982,
                    4.6319656,
                    2.412852,
                    4.1494713,
                    2.6568668,
                    2.8951774,
                    1.7675332,
                    1.8406708,
                    3.526915,
                    4.091543,
                    1.364581,
                    2.728062,
                    5.1225057,
                    3.6302423,
                    2.4448047,
                    3.619115,
                    1.4220322,
                    3.7565238,
                    3.0067494,
                    1.6117245,
                    2.5196557,
                    1.24113,
                    4.0412645,
                    2.3108225,
                    5.0056396,
                    3.6961925,
                    5.5492926,
                    1.623336,
                    2.667481,
                    2.505873,
                    3.764656,
                    0.276948,
                    4.96978,
                    4.086109,
                    1.6975646,
                    1.975947,
                    2.781173,
                    5.86975,
                    6.8607025,
                    3.6071706,
                    3.6718252,
                    3.6984813,
                    6.9809475,
                    3.2309368,
                    3.6765995,
                    1.8828135,
                    4.9213786,
                    4.147421,
                    1.5912846,
                    3.0125756,
                    3.225433,
                    4.1212416,
                    2.6726384,
                    6.4680514,
                    1.8423246,
                    6.8793974,
                    6.7394524,
                    7.0268145,
                    3.2978265,
                    0.25249773,
                    4.5850716,
                    4.8372126,
                    5.33256,
                    2.9543762,
                    2.826704,
                    1.7704476,
                    2.6646838,
                    1.4367377,
                    3.2211375,
                    1.2822492,
                    3.4977798,
                    1.1685373,
                    5.206762,
                    2.6361392,
                    5.3019996,
                    5.388304,
                    1.4879373,
                    2.5217917,
                    1.7226217,
                    3.744063,
                    5.394357,
                    2.6400936,
                    3.0545504,
                    1.8782339,
                    4.1974807,
                    2.709667,
                    3.2624438,
                    4.5752797,
                    1.8854823,
                    1.6339567,
                    3.490778,
                    2.2471664,
                    2.1362953,
                    1.2520552,
                    4.032609,
                    1.8205683,
                    1.765207,
                    3.7464077,
                    1.2200613,
                    3.6368027,
                    3.12023,
                    1.2108321,
                    3.178134,
                    5.6883955,
                    1.6398525,
                    3.2138782,
                    3.0058296,
                    3.2577977,
                    4.58573,
                    4.6179724,
                    3.2157168,
                    3.2042742,
                    6.5360036,
                    1.6989262,
                    1.6054969,
                    3.0407436,
                    3.6323843,
                    3.1883447,
                    6.98835,
                    3.5394707,
                    1.772328,
                    4.599266,
                    5.2767625,
                    2.0129979,
                    3.0759177,
                    5.6604013,
                    3.9043105,
                    1.8005831,
                    5.716798,
                    1.5386513,
                    1.934454,
                    2.5430467,
                    6.2402415,
                    3.6032567,
                    1.003978,
                    2.124484,
                    2.1852267,
                    4.182289,
                    1.502413,
                    1.5978819,
                    3.7310712,
                    7.073138,
                    3.0106347,
                    5.7623706,
                    7.255555,
                    3.9513075,
                    6.2496843,
                    4.648208,
                    3.3543677,
                    0.9777572,
                    3.79708,
                    6.4414353,
                    4.2027206,
                    5.619262,
                    3.739338,
                    1.885091,
                    3.052742,
                    5.5591016,
                    3.2539284,
                    3.0103865,
                    3.0864043,
                    3.3488104,
                    3.2152193,
                    3.3712442,
                    6.794315,
                    6.0369453,
                    6.99661,
                    6.762006,
                    7.0169373,
                    5.7701077,
                    7.119137,
                    7.095141,
                    6.9111695,
                    6.620225,
                    5.9869876,
                    5.967299,
                    6.6590686,
                    6.927544,
                    1.8248314,
                    7.028738,
                    5.977865,
                    7.055691,
                    6.907797,
                    6.930583,
                    7.088138,
                    5.9672904,
                    6.3357625,
                    6.8132944,
                    5.9275045,
                    6.9729095,
                    7.126997,
                    6.4619503,
                    6.805684,
                    6.5992103,
                    4.6157293,
                    6.47528,
                    5.8624816,
                    6.8137336,
                    6.938252,
                    6.8753233,
                    6.9095893,
                    5.8376427,
                    5.9013515,
                    6.140279,
                    6.6219597,
                    5.9805946,
                    6.5321927,
                    4.6394978,
                    6.900914,
                    6.275888,
                    7.1648154,
                    6.233866,
                    4.0724382,
                    5.811882,
                    6.677398,
                    5.935162,
                    6.7314024,
                    7.0443583,
                    6.183352,
                    6.250769,
                    2.3626766,
                    6.3769183,
                    6.411192,
                    5.817908,
                    6.42677,
                    2.0318635,
                    0.33716178,
                    2.6709683,
                    0.36308363,
                    3.6413567,
                    6.161429,
                    1.9260904,
                    6.1515403,
                    6.3840866,
                    6.4566846,
                    4.01312,
                    6.1850085,
                    2.5960214,
                    3.6916282,
                    2.104494,
                    3.0108407,
                    1.6385885,
                    2.2284,
                    2.7256424,
                    6.613895,
                    5.9966555,
                    1.4660633,
                    3.4354234,
                    1.6128047,
                    5.9718094,
                    1.7679013,
                    1.3840538,
                    2.3268683,
                    2.56048,
                    3.8476033,
                    2.5183074,
                    3.6242313,
                    2.184096,
                    1.5728617,
                    1.594541,
                    0.3249249,
                    5.9808445,
                    3.321108,
                    3.0322645,
                    5.796003,
                    5.86894,
                    2.0701752,
                    4.9242134,
                    1.8708202,
                    5.613556,
                    5.262952,
                    4.8154864,
                    6.1037645,
                    3.121145,
                    2.7833695,
                    1.6386627,
                    6.407195,
                    5.222653,
                    5.7702627,
                    4.630195,
                    1.802462,
                    1.6015308,
                    1.5945468,
                    5.8659835,
                    2.3881476,
                    6.6489697,
                    2.7912412,
                    5.7094746,
                    6.7548585,
                    1.9329221,
                    6.6442275,
                    4.438467,
                    1.9167792,
                    6.74087,
                    2.3865614,
                    3.3885913,
                    2.0736883,
                    6.6288137,
                    2.3628156,
                    2.5572288,
                    1.744041,
                    1.0520638,
                    1.2667426,
                    4.258213,
                    3.2702043,
                    2.3857033,
                    6.70208,
                    6.782394,
                    2.203989,
                    1.6023906,
                    1.862716,
                    3.2918482,
                    1.6545296,
                    3.17407,
                    4.5420976,
                    5.577564,
                    4.4153414,
                    5.2416177,
                    5.9287324,
                    3.0439239,
                    6.0048056,
                    5.593338,
                    5.18839,
                    2.5595288,
                    3.5035117,
                    3.7707944,
                    3.7801335,
                    1.5261668,
                    5.6803975,
                    3.8148236,
                    2.6513522,
                    2.790509,
                    1.8655308,
                    0.62782353,
                    5.8011894,
                    3.3029425,
                    3.064036,
                    3.7187152,
                    1.257661,
                    4.3149457,
                    3.3416808,
                    3.9180672,
                    7.0573688,
                    2.8146718,
                    2.38829,
                    2.425634,
                    0.97906953,
                    2.376159,
                    2.5344784,
                    2.2984633,
                    1.8181263,
                    1.6983341,
                    4.640654,
                    3.765209,
                    3.622038,
                    5.021032,
                    2.4215987,
                    5.881413,
                    5.180116,
                    4.530489,
                    5.0373974,
                    5.0619435,
                    3.9672196,
                    2.6815345,
                    2.6377604,
                    3.296045,
                    4.077085,
                    1.242949,
                    6.889064,
                    6.0615187,
                    3.7943807,
                    5.3079247,
                    6.213427,
                    3.8318067,
                    3.063664,
                    2.091748,
                    4.7316675,
                    2.6493578,
                    6.6509347,
                    5.220441,
                    3.390025,
                    6.700986,
                    6.387794,
                    4.499951,
                    6.626949,
                    5.871572,
                    3.3575065,
                    6.8670297,
                    1.6394515,
                    6.024083,
                    6.2829795,
                    4.406917,
                    3.1984012,
                    3.1413686,
                    3.295479,
                    2.57024,
                    2.5355024,
                    3.2413719,
                    4.0134454,
                    3.1537917,
                    6.9492083,
                    6.924488,
                    1.8417897,
                    1.0433241,
                    2.050599,
                    6.9355817,
                    5.7817717,
                    1.9065458,
                    2.0496159,
                    2.9766572,
                    2.1473556,
                    2.230412,
                    2.7026527,
                    1.5044571,
                    2.207725,
                    5.2091537,
                    4.794088,
                    1.9002986,
                    2.2242513,
                    2.943077,
                    2.56412,
                    3.8461256,
                    5.03174,
                    2.1446013,
                    1.2772605,
                    6.424772,
                    4.9764476,
                    1.6599308,
                    2.9168375,
                    6.784303,
                    6.887001,
                    3.291274,
                    4.116394,
                    1.7201084,
                    3.8478458,
                    3.6735013,
                    5.477208,
                    1.7238005,
                    1.6969343,
                    1.3678616,
                    1.4623673,
                    4.398326,
                    2.0826797,
                    5.7952905,
                    3.6093779,
                    4.5580916,
                    1.2137364,
                    2.7230747,
                    4.051216,
                    1.9207973,
                    3.228881,
                    1.0703547,
                    1.3808671,
                    2.2012813,
                    2.943535,
                    1.5079489,
                    3.593175,
                    5.0118575,
                    3.251782,
                    3.500486,
                    6.900503,
                    4.3835144,
                    3.2506835,
                    2.1920404,
                    2.7274253,
                    3.6410565,
                    3.1920624,
                    3.442373,
                    1.830816,
                    3.6071677,
                    1.6879787,
                    5.931244,
                    5.817277,
                    3.3610888,
                    3.056219,
                    3.243514,
                    5.2173524,
                    0.33263865,
                    4.920411,
                    3.1909835,
                    3.494085,
                    3.2675576,
                    3.1107202,
                    2.4490736,
                    2.199392,
                    2.1659067,
                    3.0634315,
                    3.1514251,
                    2.717526
                  ],
                  "yaxis": "y"
                },
                {
                  "marker": {
                    "color": "red",
                    "line": {
                      "color": "DarkSlateGrey",
                      "width": 2
                    },
                    "size": 10
                  },
                  "mode": "markers",
                  "name": "Outliers",
                  "text": [
                    "SiriSuggestionsLightHousePlugin",
                    "extensionkitservice",
                    "bookassetd",
                    "MobileStorageMounter",
                    "spotlightknowledged",
                    "ProactiveShareSheetLighthouseBa",
                    "com.apple.MobileSoftwareUpdate.",
                    "appleh13camerad",
                    "SiriMASPFLPlugin",
                    "FPCKService",
                    "AmbientPhotoFramePosterProvider",
                    "sirittsd",
                    "PhotosFileProvider",
                    "siriknowledged",
                    "Spotlight",
                    "siriinferenced",
                    "com.apple.mlhost.CloudWorker",
                    "com.apple.CloudDocs.iCloudDrive",
                    "siriactionsd",
                    "SiriMASPFLCK",
                    "AppSSODaemon",
                    "SiriAUSP",
                    "com.apple.MobileInstallationHel",
                    "fileproviderd",
                    "triald",
                    "SiriCoreMetricsWorker",
                    "com.apple.mlhost.TelemetryWorke",
                    "accessoryupdaterd",
                    "accessoryd",
                    "com.apple.CloudDocs.iCloudDriveFileProvider",
                    "com.apple.mlhost.TelemetryWorker",
                    "com.apple.MobileSoftwareUpdate.CleanupPreparePathService",
                    "com.apple.MobileInstallationHelperService",
                    "ProactiveShareSheetLighthouseBackgroundPlugin",
                    "TelemetryDiskChecker",
                    "applecamerad",
                    "PhotosPosterProvider",
                    "SiriTTSSynthesizerAU",
                    "com.apple.CloudDocs.MobileDocumentsFileProvider",
                    "Facebook",
                    "App",
                    "SiriUserFeedbackLearningPlatformPlugin",
                    "Siri",
                    "SiriTasksEvaluationPlugin",
                    "ConnectMobile",
                    "SiriUserFeedbackLearningUniversalSuggestionsPlugin",
                    "com.apple.CloudDocs.iCloudDriveF",
                    "ProactiveShareSheetLighthouseBac",
                    "com.apple.MobileInstallationHelp",
                    "com.apple.MobileSoftwareUpdate.C",
                    "com.apple.CloudDocs.MobileDocume",
                    "com.apple.CloudDocs.MobileDocum",
                    "StocksDetailIntents",
                    "Goodnotes",
                    "com.apple.MobileSoftwareUpdate.U",
                    "OneApp",
                    "OneClickApp",
                    "SiriUserFeedbackLearningPlatform",
                    "SiriUserFeedbackLearningUniversa",
                    "companiond",
                    "SiriUserFeedbackLearningPlatfor",
                    "SiriUserFeedbackLearningUnivers",
                    "com.apple.MobileSoftwareUpdate.UpdateBrainService",
                    "appleh16camerad",
                    "companionfindlocallyd",
                    "companionappd",
                    "companionmessagesd",
                    "Stocks",
                    "DuoMobileApp",
                    "companioncamerad",
                    "iphone-app",
                    "MusicUIService",
                    "inboxupdaterd",
                    "Goodreads",
                    "NikeRunClubWidgetsExtension",
                    "Decibel X Widget Extension",
                    "SiriShortcut",
                    "PassKitServicesXPCService",
                    "SiriKitExtension",
                    "SpotlightIndex",
                    "Keynote",
                    "Tips",
                    "RedditApp",
                    "iCloud",
                    "Trading 212",
                    "Trading",
                    "WiFiPickerExtension"
                  ],
                  "type": "scatter",
                  "x": [
                    3.3546464,
                    2.4277468,
                    6.2011952,
                    4.5345573,
                    5.133935,
                    3.488176,
                    3.8848557,
                    3.3377123,
                    3.4070199,
                    2.3392339,
                    3.5014546,
                    3.560101,
                    3.1666284,
                    3.554291,
                    5.2015524,
                    3.501422,
                    3.3972354,
                    3.474823,
                    3.493054,
                    3.5115008,
                    4.347545,
                    3.5553715,
                    4.0981607,
                    3.418419,
                    7.4232516,
                    3.571046,
                    2.6070662,
                    1.5258752,
                    3.6170948,
                    3.5608485,
                    2.6512988,
                    3.9297602,
                    3.9732308,
                    3.4032707,
                    2.5367079,
                    3.4196582,
                    3.3627403,
                    3.49671,
                    3.621856,
                    5.7271905,
                    4.544054,
                    2.9644945,
                    3.522053,
                    3.3504443,
                    4.8063483,
                    2.982347,
                    3.4890037,
                    3.5229638,
                    4.0336657,
                    3.8995194,
                    3.7250168,
                    3.6769722,
                    6.3364882,
                    4.8708887,
                    3.861696,
                    4.7293487,
                    4.694936,
                    2.8980575,
                    2.8993952,
                    3.6795003,
                    2.9006588,
                    2.8959262,
                    3.9241266,
                    3.4122221,
                    3.705991,
                    3.7423701,
                    3.6608138,
                    6.246148,
                    4.6286197,
                    3.5884345,
                    4.621298,
                    4.199818,
                    1.5130445,
                    6.6360564,
                    8.389495,
                    8.658181,
                    3.5313299,
                    2.4701824,
                    3.5734565,
                    5.3194723,
                    5.234872,
                    6.920496,
                    4.5874248,
                    3.4908624,
                    6.195844,
                    6.1553464,
                    3.4530802
                  ],
                  "y": [
                    0.7333565,
                    3.855312,
                    3.8029506,
                    5.8291535,
                    4.8247743,
                    1.2345637,
                    6.0719275,
                    5.2480917,
                    0.5282965,
                    3.5429275,
                    4.750883,
                    0.33658993,
                    4.828541,
                    0.35645095,
                    4.8752356,
                    0.32108125,
                    6.297496,
                    6.427498,
                    0.36247614,
                    0.40508658,
                    5.290091,
                    0.34618092,
                    5.955743,
                    4.3125844,
                    2.56804,
                    0.38267964,
                    5.774701,
                    4.5861216,
                    4.635508,
                    6.4668574,
                    5.7350674,
                    6.0369287,
                    5.9742455,
                    1.1421882,
                    5.50654,
                    5.1947412,
                    4.8088164,
                    0.3924148,
                    6.401918,
                    4.4821644,
                    5.2850633,
                    0.9127351,
                    0.35134867,
                    0.6088365,
                    5.600677,
                    0.9116992,
                    6.4163766,
                    1.2584026,
                    5.9865475,
                    6.038043,
                    6.2847624,
                    6.314041,
                    4.099448,
                    6.5442986,
                    6.065125,
                    5.3008614,
                    5.2884846,
                    0.94181705,
                    0.94061273,
                    4.6830974,
                    0.9185764,
                    0.91983354,
                    6.0289383,
                    5.18627,
                    4.739418,
                    4.771367,
                    4.6319656,
                    3.6961925,
                    5.5492926,
                    4.96978,
                    5.33256,
                    3.7464077,
                    4.6179724,
                    3.9043105,
                    6.9111695,
                    6.6590686,
                    0.36308363,
                    3.6916282,
                    0.3249249,
                    5.222653,
                    4.4153414,
                    3.8148236,
                    5.220441,
                    6.424772,
                    3.6735013,
                    3.6410565,
                    1.830816
                  ]
                }
              ],
              "layout": {
                "coloraxis": {
                  "colorbar": {
                    "title": {
                      "text": "cluster"
                    }
                  },
                  "colorscale": [
                    [
                      0,
                      "#0d0887"
                    ],
                    [
                      0.1111111111111111,
                      "#46039f"
                    ],
                    [
                      0.2222222222222222,
                      "#7201a8"
                    ],
                    [
                      0.3333333333333333,
                      "#9c179e"
                    ],
                    [
                      0.4444444444444444,
                      "#bd3786"
                    ],
                    [
                      0.5555555555555556,
                      "#d8576b"
                    ],
                    [
                      0.6666666666666666,
                      "#ed7953"
                    ],
                    [
                      0.7777777777777778,
                      "#fb9f3a"
                    ],
                    [
                      0.8888888888888888,
                      "#fdca26"
                    ],
                    [
                      1,
                      "#f0f921"
                    ]
                  ]
                },
                "legend": {
                  "title": {
                    "text": "Clusters"
                  },
                  "tracegroupgap": 0
                },
                "template": {
                  "data": {
                    "bar": [
                      {
                        "error_x": {
                          "color": "#2a3f5f"
                        },
                        "error_y": {
                          "color": "#2a3f5f"
                        },
                        "marker": {
                          "line": {
                            "color": "#E5ECF6",
                            "width": 0.5
                          },
                          "pattern": {
                            "fillmode": "overlay",
                            "size": 10,
                            "solidity": 0.2
                          }
                        },
                        "type": "bar"
                      }
                    ],
                    "barpolar": [
                      {
                        "marker": {
                          "line": {
                            "color": "#E5ECF6",
                            "width": 0.5
                          },
                          "pattern": {
                            "fillmode": "overlay",
                            "size": 10,
                            "solidity": 0.2
                          }
                        },
                        "type": "barpolar"
                      }
                    ],
                    "carpet": [
                      {
                        "aaxis": {
                          "endlinecolor": "#2a3f5f",
                          "gridcolor": "white",
                          "linecolor": "white",
                          "minorgridcolor": "white",
                          "startlinecolor": "#2a3f5f"
                        },
                        "baxis": {
                          "endlinecolor": "#2a3f5f",
                          "gridcolor": "white",
                          "linecolor": "white",
                          "minorgridcolor": "white",
                          "startlinecolor": "#2a3f5f"
                        },
                        "type": "carpet"
                      }
                    ],
                    "choropleth": [
                      {
                        "colorbar": {
                          "outlinewidth": 0,
                          "ticks": ""
                        },
                        "type": "choropleth"
                      }
                    ],
                    "contour": [
                      {
                        "colorbar": {
                          "outlinewidth": 0,
                          "ticks": ""
                        },
                        "colorscale": [
                          [
                            0,
                            "#0d0887"
                          ],
                          [
                            0.1111111111111111,
                            "#46039f"
                          ],
                          [
                            0.2222222222222222,
                            "#7201a8"
                          ],
                          [
                            0.3333333333333333,
                            "#9c179e"
                          ],
                          [
                            0.4444444444444444,
                            "#bd3786"
                          ],
                          [
                            0.5555555555555556,
                            "#d8576b"
                          ],
                          [
                            0.6666666666666666,
                            "#ed7953"
                          ],
                          [
                            0.7777777777777778,
                            "#fb9f3a"
                          ],
                          [
                            0.8888888888888888,
                            "#fdca26"
                          ],
                          [
                            1,
                            "#f0f921"
                          ]
                        ],
                        "type": "contour"
                      }
                    ],
                    "contourcarpet": [
                      {
                        "colorbar": {
                          "outlinewidth": 0,
                          "ticks": ""
                        },
                        "type": "contourcarpet"
                      }
                    ],
                    "heatmap": [
                      {
                        "colorbar": {
                          "outlinewidth": 0,
                          "ticks": ""
                        },
                        "colorscale": [
                          [
                            0,
                            "#0d0887"
                          ],
                          [
                            0.1111111111111111,
                            "#46039f"
                          ],
                          [
                            0.2222222222222222,
                            "#7201a8"
                          ],
                          [
                            0.3333333333333333,
                            "#9c179e"
                          ],
                          [
                            0.4444444444444444,
                            "#bd3786"
                          ],
                          [
                            0.5555555555555556,
                            "#d8576b"
                          ],
                          [
                            0.6666666666666666,
                            "#ed7953"
                          ],
                          [
                            0.7777777777777778,
                            "#fb9f3a"
                          ],
                          [
                            0.8888888888888888,
                            "#fdca26"
                          ],
                          [
                            1,
                            "#f0f921"
                          ]
                        ],
                        "type": "heatmap"
                      }
                    ],
                    "heatmapgl": [
                      {
                        "colorbar": {
                          "outlinewidth": 0,
                          "ticks": ""
                        },
                        "colorscale": [
                          [
                            0,
                            "#0d0887"
                          ],
                          [
                            0.1111111111111111,
                            "#46039f"
                          ],
                          [
                            0.2222222222222222,
                            "#7201a8"
                          ],
                          [
                            0.3333333333333333,
                            "#9c179e"
                          ],
                          [
                            0.4444444444444444,
                            "#bd3786"
                          ],
                          [
                            0.5555555555555556,
                            "#d8576b"
                          ],
                          [
                            0.6666666666666666,
                            "#ed7953"
                          ],
                          [
                            0.7777777777777778,
                            "#fb9f3a"
                          ],
                          [
                            0.8888888888888888,
                            "#fdca26"
                          ],
                          [
                            1,
                            "#f0f921"
                          ]
                        ],
                        "type": "heatmapgl"
                      }
                    ],
                    "histogram": [
                      {
                        "marker": {
                          "pattern": {
                            "fillmode": "overlay",
                            "size": 10,
                            "solidity": 0.2
                          }
                        },
                        "type": "histogram"
                      }
                    ],
                    "histogram2d": [
                      {
                        "colorbar": {
                          "outlinewidth": 0,
                          "ticks": ""
                        },
                        "colorscale": [
                          [
                            0,
                            "#0d0887"
                          ],
                          [
                            0.1111111111111111,
                            "#46039f"
                          ],
                          [
                            0.2222222222222222,
                            "#7201a8"
                          ],
                          [
                            0.3333333333333333,
                            "#9c179e"
                          ],
                          [
                            0.4444444444444444,
                            "#bd3786"
                          ],
                          [
                            0.5555555555555556,
                            "#d8576b"
                          ],
                          [
                            0.6666666666666666,
                            "#ed7953"
                          ],
                          [
                            0.7777777777777778,
                            "#fb9f3a"
                          ],
                          [
                            0.8888888888888888,
                            "#fdca26"
                          ],
                          [
                            1,
                            "#f0f921"
                          ]
                        ],
                        "type": "histogram2d"
                      }
                    ],
                    "histogram2dcontour": [
                      {
                        "colorbar": {
                          "outlinewidth": 0,
                          "ticks": ""
                        },
                        "colorscale": [
                          [
                            0,
                            "#0d0887"
                          ],
                          [
                            0.1111111111111111,
                            "#46039f"
                          ],
                          [
                            0.2222222222222222,
                            "#7201a8"
                          ],
                          [
                            0.3333333333333333,
                            "#9c179e"
                          ],
                          [
                            0.4444444444444444,
                            "#bd3786"
                          ],
                          [
                            0.5555555555555556,
                            "#d8576b"
                          ],
                          [
                            0.6666666666666666,
                            "#ed7953"
                          ],
                          [
                            0.7777777777777778,
                            "#fb9f3a"
                          ],
                          [
                            0.8888888888888888,
                            "#fdca26"
                          ],
                          [
                            1,
                            "#f0f921"
                          ]
                        ],
                        "type": "histogram2dcontour"
                      }
                    ],
                    "mesh3d": [
                      {
                        "colorbar": {
                          "outlinewidth": 0,
                          "ticks": ""
                        },
                        "type": "mesh3d"
                      }
                    ],
                    "parcoords": [
                      {
                        "line": {
                          "colorbar": {
                            "outlinewidth": 0,
                            "ticks": ""
                          }
                        },
                        "type": "parcoords"
                      }
                    ],
                    "pie": [
                      {
                        "automargin": true,
                        "type": "pie"
                      }
                    ],
                    "scatter": [
                      {
                        "fillpattern": {
                          "fillmode": "overlay",
                          "size": 10,
                          "solidity": 0.2
                        },
                        "type": "scatter"
                      }
                    ],
                    "scatter3d": [
                      {
                        "line": {
                          "colorbar": {
                            "outlinewidth": 0,
                            "ticks": ""
                          }
                        },
                        "marker": {
                          "colorbar": {
                            "outlinewidth": 0,
                            "ticks": ""
                          }
                        },
                        "type": "scatter3d"
                      }
                    ],
                    "scattercarpet": [
                      {
                        "marker": {
                          "colorbar": {
                            "outlinewidth": 0,
                            "ticks": ""
                          }
                        },
                        "type": "scattercarpet"
                      }
                    ],
                    "scattergeo": [
                      {
                        "marker": {
                          "colorbar": {
                            "outlinewidth": 0,
                            "ticks": ""
                          }
                        },
                        "type": "scattergeo"
                      }
                    ],
                    "scattergl": [
                      {
                        "marker": {
                          "colorbar": {
                            "outlinewidth": 0,
                            "ticks": ""
                          }
                        },
                        "type": "scattergl"
                      }
                    ],
                    "scattermapbox": [
                      {
                        "marker": {
                          "colorbar": {
                            "outlinewidth": 0,
                            "ticks": ""
                          }
                        },
                        "type": "scattermapbox"
                      }
                    ],
                    "scatterpolar": [
                      {
                        "marker": {
                          "colorbar": {
                            "outlinewidth": 0,
                            "ticks": ""
                          }
                        },
                        "type": "scatterpolar"
                      }
                    ],
                    "scatterpolargl": [
                      {
                        "marker": {
                          "colorbar": {
                            "outlinewidth": 0,
                            "ticks": ""
                          }
                        },
                        "type": "scatterpolargl"
                      }
                    ],
                    "scatterternary": [
                      {
                        "marker": {
                          "colorbar": {
                            "outlinewidth": 0,
                            "ticks": ""
                          }
                        },
                        "type": "scatterternary"
                      }
                    ],
                    "surface": [
                      {
                        "colorbar": {
                          "outlinewidth": 0,
                          "ticks": ""
                        },
                        "colorscale": [
                          [
                            0,
                            "#0d0887"
                          ],
                          [
                            0.1111111111111111,
                            "#46039f"
                          ],
                          [
                            0.2222222222222222,
                            "#7201a8"
                          ],
                          [
                            0.3333333333333333,
                            "#9c179e"
                          ],
                          [
                            0.4444444444444444,
                            "#bd3786"
                          ],
                          [
                            0.5555555555555556,
                            "#d8576b"
                          ],
                          [
                            0.6666666666666666,
                            "#ed7953"
                          ],
                          [
                            0.7777777777777778,
                            "#fb9f3a"
                          ],
                          [
                            0.8888888888888888,
                            "#fdca26"
                          ],
                          [
                            1,
                            "#f0f921"
                          ]
                        ],
                        "type": "surface"
                      }
                    ],
                    "table": [
                      {
                        "cells": {
                          "fill": {
                            "color": "#EBF0F8"
                          },
                          "line": {
                            "color": "white"
                          }
                        },
                        "header": {
                          "fill": {
                            "color": "#C8D4E3"
                          },
                          "line": {
                            "color": "white"
                          }
                        },
                        "type": "table"
                      }
                    ]
                  },
                  "layout": {
                    "annotationdefaults": {
                      "arrowcolor": "#2a3f5f",
                      "arrowhead": 0,
                      "arrowwidth": 1
                    },
                    "autotypenumbers": "strict",
                    "coloraxis": {
                      "colorbar": {
                        "outlinewidth": 0,
                        "ticks": ""
                      }
                    },
                    "colorscale": {
                      "diverging": [
                        [
                          0,
                          "#8e0152"
                        ],
                        [
                          0.1,
                          "#c51b7d"
                        ],
                        [
                          0.2,
                          "#de77ae"
                        ],
                        [
                          0.3,
                          "#f1b6da"
                        ],
                        [
                          0.4,
                          "#fde0ef"
                        ],
                        [
                          0.5,
                          "#f7f7f7"
                        ],
                        [
                          0.6,
                          "#e6f5d0"
                        ],
                        [
                          0.7,
                          "#b8e186"
                        ],
                        [
                          0.8,
                          "#7fbc41"
                        ],
                        [
                          0.9,
                          "#4d9221"
                        ],
                        [
                          1,
                          "#276419"
                        ]
                      ],
                      "sequential": [
                        [
                          0,
                          "#0d0887"
                        ],
                        [
                          0.1111111111111111,
                          "#46039f"
                        ],
                        [
                          0.2222222222222222,
                          "#7201a8"
                        ],
                        [
                          0.3333333333333333,
                          "#9c179e"
                        ],
                        [
                          0.4444444444444444,
                          "#bd3786"
                        ],
                        [
                          0.5555555555555556,
                          "#d8576b"
                        ],
                        [
                          0.6666666666666666,
                          "#ed7953"
                        ],
                        [
                          0.7777777777777778,
                          "#fb9f3a"
                        ],
                        [
                          0.8888888888888888,
                          "#fdca26"
                        ],
                        [
                          1,
                          "#f0f921"
                        ]
                      ],
                      "sequentialminus": [
                        [
                          0,
                          "#0d0887"
                        ],
                        [
                          0.1111111111111111,
                          "#46039f"
                        ],
                        [
                          0.2222222222222222,
                          "#7201a8"
                        ],
                        [
                          0.3333333333333333,
                          "#9c179e"
                        ],
                        [
                          0.4444444444444444,
                          "#bd3786"
                        ],
                        [
                          0.5555555555555556,
                          "#d8576b"
                        ],
                        [
                          0.6666666666666666,
                          "#ed7953"
                        ],
                        [
                          0.7777777777777778,
                          "#fb9f3a"
                        ],
                        [
                          0.8888888888888888,
                          "#fdca26"
                        ],
                        [
                          1,
                          "#f0f921"
                        ]
                      ]
                    },
                    "colorway": [
                      "#636efa",
                      "#EF553B",
                      "#00cc96",
                      "#ab63fa",
                      "#FFA15A",
                      "#19d3f3",
                      "#FF6692",
                      "#B6E880",
                      "#FF97FF",
                      "#FECB52"
                    ],
                    "font": {
                      "color": "#2a3f5f"
                    },
                    "geo": {
                      "bgcolor": "white",
                      "lakecolor": "white",
                      "landcolor": "#E5ECF6",
                      "showlakes": true,
                      "showland": true,
                      "subunitcolor": "white"
                    },
                    "hoverlabel": {
                      "align": "left"
                    },
                    "hovermode": "closest",
                    "mapbox": {
                      "style": "light"
                    },
                    "paper_bgcolor": "white",
                    "plot_bgcolor": "#E5ECF6",
                    "polar": {
                      "angularaxis": {
                        "gridcolor": "white",
                        "linecolor": "white",
                        "ticks": ""
                      },
                      "bgcolor": "#E5ECF6",
                      "radialaxis": {
                        "gridcolor": "white",
                        "linecolor": "white",
                        "ticks": ""
                      }
                    },
                    "scene": {
                      "xaxis": {
                        "backgroundcolor": "#E5ECF6",
                        "gridcolor": "white",
                        "gridwidth": 2,
                        "linecolor": "white",
                        "showbackground": true,
                        "ticks": "",
                        "zerolinecolor": "white"
                      },
                      "yaxis": {
                        "backgroundcolor": "#E5ECF6",
                        "gridcolor": "white",
                        "gridwidth": 2,
                        "linecolor": "white",
                        "showbackground": true,
                        "ticks": "",
                        "zerolinecolor": "white"
                      },
                      "zaxis": {
                        "backgroundcolor": "#E5ECF6",
                        "gridcolor": "white",
                        "gridwidth": 2,
                        "linecolor": "white",
                        "showbackground": true,
                        "ticks": "",
                        "zerolinecolor": "white"
                      }
                    },
                    "shapedefaults": {
                      "line": {
                        "color": "#2a3f5f"
                      }
                    },
                    "ternary": {
                      "aaxis": {
                        "gridcolor": "white",
                        "linecolor": "white",
                        "ticks": ""
                      },
                      "baxis": {
                        "gridcolor": "white",
                        "linecolor": "white",
                        "ticks": ""
                      },
                      "bgcolor": "#E5ECF6",
                      "caxis": {
                        "gridcolor": "white",
                        "linecolor": "white",
                        "ticks": ""
                      }
                    },
                    "title": {
                      "x": 0.05
                    },
                    "xaxis": {
                      "automargin": true,
                      "gridcolor": "white",
                      "linecolor": "white",
                      "ticks": "",
                      "title": {
                        "standoff": 15
                      },
                      "zerolinecolor": "white",
                      "zerolinewidth": 2
                    },
                    "yaxis": {
                      "automargin": true,
                      "gridcolor": "white",
                      "linecolor": "white",
                      "ticks": "",
                      "title": {
                        "standoff": 15
                      },
                      "zerolinecolor": "white",
                      "zerolinewidth": 2
                    }
                  }
                },
                "title": {
                  "text": "Process Name Clustering with Outliers Highlighted"
                },
                "xaxis": {
                  "anchor": "y",
                  "domain": [
                    0,
                    1
                  ],
                  "title": {
                    "text": "UMAP Dimension 1"
                  }
                },
                "yaxis": {
                  "anchor": "x",
                  "domain": [
                    0,
                    1
                  ],
                  "title": {
                    "text": "UMAP Dimension 2"
                  }
                }
              }
            }
          },
          "metadata": {},
          "output_type": "display_data"
        }
      ],
      "source": [
        "# Apply UMAP for dimensionality reduction\n",
        "umap = UMAP(n_neighbors=20, n_components=2, min_dist=0.1, metric='cosine')\n",
        "umap_embeddings = umap.fit_transform(normalized_embeddings)\n",
        "# Convert proc_names to a list for indexing\n",
        "proc_names_list = proc_names.tolist()\n",
        "\n",
        "# Create a DataFrame for the embeddings\n",
        "df_embeddings = pd.DataFrame(umap_embeddings, columns=['UMAP_1', 'UMAP_2'])\n",
        "df_embeddings['procName'] = proc_names_list\n",
        "df_embeddings['cluster'] = cluster_labels\n",
        "\n",
        "# Mark outliers in the DataFrame\n",
        "df_embeddings['outlier'] = df_embeddings['procName'].isin(outliers['procName'])\n",
        "df_embeddings['outlier_score'] = df_embeddings.apply(\n",
        "    lambda row: outliers[outliers['procName'] == row['procName']]['outlier_score'].values[0] \n",
        "    if row['procName'] in outliers['procName'].values \n",
        "    else None, axis=1)\n",
        "\n",
        "# Create the interactive plot\n",
        "fig = px.scatter(\n",
        "    df_embeddings, x='UMAP_1', y='UMAP_2', color='cluster', \n",
        "    hover_data=['procName', 'outlier_score'],\n",
        "    title='Process Name Clustering with Outliers Highlighted',\n",
        "    labels={'UMAP_1': 'UMAP Dimension 1', 'UMAP_2': 'UMAP Dimension 2'},\n",
        "    opacity=0.7\n",
        ")\n",
        "\n",
        "# Highlight outliers\n",
        "outliers_data = df_embeddings[df_embeddings['outlier']]\n",
        "fig.add_scatter(\n",
        "    x=outliers_data['UMAP_1'], y=outliers_data['UMAP_2'],\n",
        "    mode='markers', marker=dict(color='red', size=10, line=dict(width=2, color='DarkSlateGrey')),\n",
        "    name='Outliers', text=outliers_data['procName']\n",
        ")\n",
        "\n",
        "# Update layout\n",
        "fig.update_layout(\n",
        "    legend=dict(title='Clusters'),\n",
        "    xaxis_title='UMAP Dimension 1',\n",
        "    yaxis_title='UMAP Dimension 2'\n",
        ")\n",
        "\n",
        "# Show the plot\n",
        "fig.show()\n",
        "\n",
        "# \n",
        "fig.write_html(\"procName_outliers.html\")"
      ]
    },
    {
      "cell_type": "markdown",
      "metadata": {},
      "source": [
        "## Future Work\n",
        "### PID resets"
      ]
    },
    {
      "cell_type": "code",
      "execution_count": 30,
      "metadata": {},
      "outputs": [
        {
          "name": "stdout",
          "output_type": "stream",
          "text": [
            "Top 10 PID anomalies (excluding resets):\n",
            "Empty DataFrame\n",
            "Columns: [readableTimestamp, pid, procName, growth_rate, growth_rate_zscore]\n",
            "Index: []\n",
            "\n",
            "Total processes analyzed: 2565753\n",
            "Number of PID resets detected: 1198527\n",
            "Number of anomalies detected: 0\n",
            "Percentage of processes flagged as anomalous: 0.00%\n",
            "\n",
            "Top 10 processes observed around PID resets:\n",
            "MTLCompilerService             262120\n",
            "kernel                         109476\n",
            "com.apple.WebKit.WebContent    107201\n",
            "CommCenter                     103943\n",
            "filecoordinationd               79532\n",
            "duetexpertd                     79429\n",
            "extensionkitservice             78572\n",
            "terminusd                       74885\n",
            "installcoordinationd            74601\n",
            "backupd                         68726\n",
            "dtype: int64\n"
          ]
        }
      ],
      "source": [
        "from scipy.stats import zscore\n",
        "\n",
        "# Function to detect PID resets\n",
        "def detect_pid_resets(pids):\n",
        "    return np.where(np.diff(pids) < 0)[0] + 1\n",
        "\n",
        "# Function to calculate PID growth rate\n",
        "def pid_growth_rate(pids, timestamps):\n",
        "    return np.diff(pids) / np.diff(timestamps.astype(int) / 1e9)\n",
        "\n",
        "# Detect PID resets\n",
        "reset_indices = detect_pid_resets(df['pid'].values)\n",
        "reset_timestamps = df['readableTimestamp'].iloc[reset_indices]\n",
        "\n",
        "# Calculate PID growth rate\n",
        "growth_rate = pid_growth_rate(df['pid'].values, df['readableTimestamp'].values)\n",
        "\n",
        "\n",
        "# Calculate z-score of growth rate\n",
        "growth_rate_zscore = zscore(growth_rate)\n",
        "\n",
        "# Identify anomalies (excluding reset points)\n",
        "anomaly_threshold = 3  # z-score threshold for anomalies\n",
        "anomalies = np.abs(growth_rate_zscore) > anomaly_threshold\n",
        "anomalies = np.insert(anomalies, 0, False)  # Align with original dataframe\n",
        "\n",
        "# Remove anomalies at reset points\n",
        "for idx in reset_indices:\n",
        "    if idx > 0:\n",
        "        anomalies[idx-1:idx+1] = False\n",
        "\n",
        "# Analyze anomalies\n",
        "anomaly_df = df[anomalies].copy()\n",
        "anomaly_df['growth_rate'] = np.insert(growth_rate, 0, 0)[anomalies]\n",
        "anomaly_df['growth_rate_zscore'] = np.insert(growth_rate_zscore, 0, 0)[anomalies]\n",
        "\n",
        "print(\"Top 10 PID anomalies (excluding resets):\")\n",
        "print(anomaly_df.sort_values('growth_rate_zscore', key=abs, ascending=False)[['readableTimestamp', 'pid', 'procName', 'growth_rate', 'growth_rate_zscore']].head(10))\n",
        "\n",
        "# Calculate statistics\n",
        "total_processes = len(df)\n",
        "total_anomalies = anomalies.sum()\n",
        "anomaly_percentage = (total_anomalies / total_processes) * 100\n",
        "\n",
        "print(f\"\\nTotal processes analyzed: {total_processes}\")\n",
        "print(f\"Number of PID resets detected: {len(reset_timestamps)}\")\n",
        "print(f\"Number of anomalies detected: {total_anomalies}\")\n",
        "print(f\"Percentage of processes flagged as anomalous: {anomaly_percentage:.2f}%\")\n",
        "\n",
        "# Analyze processes around reset points\n",
        "reset_window = 5  # Number of processes to check before and after reset\n",
        "processes_around_resets = []\n",
        "\n",
        "for idx in reset_indices:\n",
        "    start = max(0, idx - reset_window)\n",
        "    end = min(len(df), idx + reset_window)\n",
        "    processes_around_resets.extend(df['procName'].iloc[start:end].tolist())\n",
        "\n",
        "print(\"\\nTop 10 processes observed around PID resets:\")\n",
        "print(pd.Series(processes_around_resets).value_counts().head(10))"
      ]
    },
    {
      "cell_type": "markdown",
      "metadata": {},
      "source": [
        "### Anomalies"
      ]
    },
    {
      "cell_type": "code",
      "execution_count": 31,
      "metadata": {},
      "outputs": [
        {
          "name": "stdout",
          "output_type": "stream",
          "text": [
            "Top KNN Anomalies:\n",
            "                readableTimestamp      pid           procName  knn_score\n",
            "1379012 2024-02-01 17:01:11+00:00  19525.0  filecoordinationd   0.309034\n",
            "1379025 2024-02-01 17:01:11+00:00  19525.0  filecoordinationd   0.309034\n",
            "2471939 2024-03-11 09:33:16+00:00  12051.0        duetexpertd   0.249218\n",
            "2471950 2024-03-11 09:33:16+00:00  12051.0        duetexpertd   0.249218\n",
            "2471962 2024-03-11 09:33:16+00:00  12051.0        duetexpertd   0.249218\n",
            "1385191 2024-02-20 14:22:33+00:00  19525.0  filecoordinationd   0.139527\n",
            "1385204 2024-02-20 14:22:33+00:00  19525.0  filecoordinationd   0.139527\n",
            "1375346 2024-02-20 14:26:18+00:00  19525.0  filecoordinationd   0.139401\n",
            "1375359 2024-02-20 14:26:18+00:00  19525.0  filecoordinationd   0.139401\n",
            "2471831 2024-03-11 09:33:16+00:00   5972.0       searchpartyd   0.131080\n",
            "\n",
            "Top Isolation Forest Anomalies:\n",
            "                readableTimestamp      pid                           procName  \\\n",
            "1928259 2024-04-22 18:09:46+00:00  86414.0                        duetexpertd   \n",
            "1928260 2024-04-22 18:09:46+00:00  86416.0               HeuristicInterpreter   \n",
            "1928261 2024-04-22 18:09:46+00:00  86417.0  AppPredictionIntentsHelperService   \n",
            "1928262 2024-04-22 18:09:46+00:00  86509.0                  CategoriesService   \n",
            "1928263 2024-04-22 18:09:46+00:00  86555.0                            remindd   \n",
            "1928264 2024-04-22 18:09:46+00:00  86793.0                     mediaanalysisd   \n",
            "1928265 2024-04-22 18:09:46+00:00  86838.0                          apfs_iosd   \n",
            "1928266 2024-04-22 18:09:46+00:00  86851.0                               ptpd   \n",
            "1928267 2024-04-22 18:09:46+00:00  86863.0                         aggregated   \n",
            "1952181 2024-04-22 18:19:46+00:00  87009.0                            backupd   \n",
            "\n",
            "         iforest_score  \n",
            "1928259       0.202141  \n",
            "1928260       0.202141  \n",
            "1928261       0.202141  \n",
            "1928262       0.202141  \n",
            "1928263       0.202141  \n",
            "1928264       0.202141  \n",
            "1928265       0.202141  \n",
            "1928266       0.202141  \n",
            "1928267       0.202141  \n",
            "1952181       0.202141  \n",
            "\n",
            "Top LOF Anomalies:\n",
            "                readableTimestamp     pid                procName  \\\n",
            "1901655 2024-03-21 16:50:00+00:00  6632.0       IOMFB_bics_daemon   \n",
            "1901671 2024-03-21 16:50:00+00:00  6632.0       IOMFB_bics_daemon   \n",
            "2400419 2024-03-14 06:20:15+00:00  2454.0  CommCenterMobileHelper   \n",
            "2400524 2024-03-14 06:20:15+00:00  2429.0              PrimeVideo   \n",
            "1904061 2024-03-20 13:31:42+00:00  6632.0       IOMFB_bics_daemon   \n",
            "1904077 2024-03-20 13:31:42+00:00  6632.0       IOMFB_bics_daemon   \n",
            "2400523 2024-03-14 06:20:15+00:00  1988.0             One Medical   \n",
            "2400624 2024-03-14 06:20:15+00:00  2402.0        EAUpdaterService   \n",
            "2400367 2024-03-14 06:20:15+00:00  2390.0        nesessionmanager   \n",
            "2400505 2024-03-14 06:20:15+00:00  2186.0               coreduetd   \n",
            "\n",
            "            lof_score  \n",
            "1901655  4.421530e+08  \n",
            "1901671  4.421530e+08  \n",
            "2400419  3.482372e+08  \n",
            "2400524  3.405563e+08  \n",
            "1904061  3.362797e+08  \n",
            "1904077  3.362797e+08  \n",
            "2400523  3.338299e+08  \n",
            "2400624  3.328390e+08  \n",
            "2400367  3.294574e+08  \n",
            "2400505  3.189887e+08  \n",
            "\n",
            "Anomalies detected by all three methods:\n",
            "Empty DataFrame\n",
            "Columns: [readableTimestamp, pid, procName]\n",
            "Index: []\n",
            "\n",
            "Top potentially anomalous processes (by average KNN score):\n",
            "                         knn_score  iforest_score  lof_score\n",
            "procName                                                    \n",
            "Yahoo Mail                0.052315       0.032422   5.334783\n",
            "RTLplusPushNotification   0.027004       0.138150   1.441899\n",
            "Pinterest                 0.020029      -0.052862   1.479077\n",
            "Envoy                     0.019982      -0.087937  14.910529\n",
            "meindm                    0.019730      -0.052862   1.471599\n",
            "Vonovia                   0.014947      -0.150131  10.809386\n",
            "iCloud                    0.012158       0.012237   6.271381\n",
            "Phantasialand             0.010064      -0.092165  29.536799\n",
            "Magenta TV                0.009248       0.055097   1.275613\n",
            "Kindle                    0.007374      -0.046922   1.108060\n"
          ]
        }
      ],
      "source": [
        "from pyod.models.knn import KNN\n",
        "from pyod.models.iforest import IForest\n",
        "from pyod.models.lof import LOF\n",
        "from sklearn.preprocessing import StandardScaler\n",
        "\n",
        "# Prepare the data for anomaly detection\n",
        "# We'll use PID and readableTimestamp as features\n",
        "\n",
        "outliers_df = pd.read_csv('pseudoProcess.csv')\n",
        "outliers_df['readableTimestamp'] = pd.to_datetime(outliers_df['readableTimestamp'])\n",
        "# Remove date before 2024\n",
        "outliers_df = outliers_df[outliers_df['readableTimestamp'].dt.year >= 2024]\n",
        "\n",
        "# Handle missing or incorrect data (here we drop missing)\n",
        "outliers_df= outliers_df.dropna()\n",
        "\n",
        "\n",
        "#df['readableTimestamp'] = pd.to_numeric(df['readableTimestamp'])\n",
        "# Prepare the data for anomaly detection\n",
        "# We'll use PID and timestamp as features\n",
        "X = outliers_df[['pid', 'timestamp']].values\n",
        "\n",
        "scaler = StandardScaler()\n",
        "X_scaled = scaler.fit_transform(X)\n",
        "\n",
        "# Initialize and fit the anomaly detection models\n",
        "knn = KNN()\n",
        "iforest = IForest(random_state=42)\n",
        "lof = LOF()\n",
        "\n",
        "knn.fit(X_scaled)\n",
        "iforest.fit(X_scaled)\n",
        "lof.fit(X_scaled)\n",
        "\n",
        "# Get the anomaly scores\n",
        "knn_scores = knn.decision_function(X_scaled)\n",
        "iforest_scores = iforest.decision_function(X_scaled)\n",
        "lof_scores = lof.decision_function(X_scaled)\n",
        "\n",
        "# Add the anomaly scores to the dataframe\n",
        "outliers_df['knn_score'] = knn_scores\n",
        "outliers_df['iforest_score'] = iforest_scores\n",
        "outliers_df['lof_score'] = lof_scores\n",
        "\n",
        "# Function to get top anomalies\n",
        "def get_top_anomalies(df, score_column, n=10):\n",
        "    return df.nlargest(n, score_column)\n",
        "\n",
        "# Get top anomalies for each method\n",
        "top_knn = get_top_anomalies(outliers_df, 'knn_score')\n",
        "top_iforest = get_top_anomalies(outliers_df, 'iforest_score')\n",
        "top_lof = get_top_anomalies(outliers_df, 'lof_score')\n",
        "\n",
        "# Print top anomalies\n",
        "print(\"Top KNN Anomalies:\")\n",
        "print(top_knn[['readableTimestamp', 'pid', 'procName', 'knn_score']])\n",
        "\n",
        "print(\"\\nTop Isolation Forest Anomalies:\")\n",
        "print(top_iforest[['readableTimestamp', 'pid', 'procName', 'iforest_score']])\n",
        "\n",
        "print(\"\\nTop LOF Anomalies:\")\n",
        "print(top_lof[['readableTimestamp', 'pid', 'procName', 'lof_score']])\n",
        "\n",
        "\n",
        "### NEED MORE WORK\n",
        "\n",
        "# # Define a function to plot anomalies\n",
        "# def plot_anomalies(data, score_column, title, color_label):\n",
        "#     plt.figure(figsize=(12, 8))\n",
        "#     plt.scatter(data['readableTimestamp'], data['pid'], c=data[score_column], cmap='viridis')\n",
        "#     plt.colorbar(label=color_label)\n",
        "#     plt.title(title)\n",
        "#     plt.xlabel('Timestamp')\n",
        "#     plt.ylabel('PID')\n",
        "#     plt.show()\n",
        "#     # Uncomment the following lines to save the plots as images\n",
        "#     # plt.savefig(f'{score_column}_anomalies.png')\n",
        "#     # plt.close()\n",
        "\n",
        "# # Plot KNN anomalies\n",
        "# plot_anomalies(outliers_df, 'knn_score', 'Process Anomalies (KNN)', 'Anomaly Score (KNN)')\n",
        "\n",
        "# # Plot Isolation Forest anomalies\n",
        "# plot_anomalies(outliers_df, 'iforest_score', 'Process Anomalies (Isolation Forest)', 'Anomaly Score (Isolation Forest)')\n",
        "\n",
        "# # Plot LOF anomalies\n",
        "# plot_anomalies(outliers_df, 'lof_score', 'Process Anomalies (LOF)', 'Anomaly Score (LOF)')\n",
        "\n",
        "# Analyze agreement between methods\n",
        "def get_top_n_indices(scores, n=10):\n",
        "    return set(scores.argsort()[-n:])\n",
        "\n",
        "top_knn_indices = get_top_n_indices(knn_scores)\n",
        "top_iforest_indices = get_top_n_indices(iforest_scores)\n",
        "top_lof_indices = get_top_n_indices(lof_scores)\n",
        "\n",
        "agreement = top_knn_indices & top_iforest_indices & top_lof_indices\n",
        "\n",
        "print(\"\\nAnomalies detected by all three methods:\")\n",
        "print(outliers_df.iloc[list(agreement)][['readableTimestamp', 'pid', 'procName']])\n",
        "\n",
        "# Analyze anomalies by process name\n",
        "process_anomaly_counts = outliers_df.groupby('procName').agg({\n",
        "    'knn_score': 'mean',\n",
        "    'iforest_score': 'mean',\n",
        "    'lof_score': 'mean'\n",
        "}).sort_values('knn_score', ascending=False)\n",
        "\n",
        "print(\"\\nTop potentially anomalous processes (by average KNN score):\")\n",
        "print(process_anomaly_counts.head(10))"
      ]
    }
  ],
  "metadata": {
    "colab": {
      "provenance": []
    },
    "kernelspec": {
      "display_name": "Python 3",
      "name": "python3"
    },
    "language_info": {
      "codemirror_mode": {
        "name": "ipython",
        "version": 3
      },
      "file_extension": ".py",
      "mimetype": "text/x-python",
      "name": "python",
      "nbconvert_exporter": "python",
      "pygments_lexer": "ipython3",
      "version": "3.11.3"
    }
  },
  "nbformat": 4,
  "nbformat_minor": 0
}
