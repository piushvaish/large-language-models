{
 "cells": [
  {
   "cell_type": "code",
   "execution_count": 1,
   "metadata": {},
   "outputs": [],
   "source": [
    "#! pip install -qq langfuse"
   ]
  },
  {
   "cell_type": "code",
   "execution_count": 2,
   "metadata": {},
   "outputs": [],
   "source": [
    "import os\n",
    "from langfuse.decorators import observe\n",
    "from langfuse.openai import openai # OpenAI integration\n",
    "from dotenv import load_dotenv\n",
    "load_dotenv() \n",
    "\n",
    "LANGFUSE_SECRET_KEY= os.getenv(\"LANGFUSE_SECRET_KEY\")\n",
    "LANGFUSE_PUBLIC_KEY= os.getenv(\"LANGFUSE_PUBLIC_KEY\")\n",
    "LANGFUSE_HOST=os.getenv(\"LANGFUSE_HOST\")\n",
    " \n",
    "# @observe()\n",
    "# def story():\n",
    "#     return openai.chat.completions.create(\n",
    "#         model=\"gpt-3.5-turbo\",\n",
    "#         max_tokens=10,\n",
    "#         messages=[\n",
    "#           {\"role\": \"system\", \"content\": \"You are a great story teller\"},\n",
    "#           {\"role\": \"user\", \"content\": \"Tell me a short story about Integrated Martial Athletics \"}\n",
    "#         ],\n",
    "#     ).choices[0].message.content\n",
    " \n",
    "# @observe()\n",
    "# def main():\n",
    "#     return story()\n",
    " \n",
    "# main()"
   ]
  },
  {
   "cell_type": "code",
   "execution_count": 3,
   "metadata": {},
   "outputs": [],
   "source": [
    "sample_text = \"\"\"\n",
    "\n",
    "The New York Public Library's Eastchester Library is a vibrant and welcoming space located in the heart of the Eastchester community. With a focus on serving the diverse needs of its patrons, the library offers a wide range of services and resources for all ages.\n",
    "\n",
    "The Eastchester Library is committed to providing a rich collection of books, magazines, and multimedia resources, with a particular emphasis on serving the educational and recreational needs of the community. The library also offers a variety of programs and events, including storytimes for children, book clubs for all ages, author talks, and cultural performances.\n",
    "\n",
    "In addition to its focus on literacy and lifelong learning, the Eastchester Library also serves as a community hub, providing a space for people to connect and engage with one another. The library offers meeting rooms and study spaces, as well as access to computers and Wi-Fi, making it a valuable resource for students, professionals, and anyone seeking information or a place to work.\n",
    "\n",
    "The staff at the Eastchester Library are dedicated to creating a warm and inviting environment, offering personalized service to help patrons find the information and resources they need. Whether you're looking for your next great read, researching a project, or just seeking a quiet space to work or relax, the Eastchester Library is a valuable asset to the community it serves.\n",
    "\n",
    "\"\"\"\n"
   ]
  },
  {
   "cell_type": "code",
   "execution_count": 4,
   "metadata": {},
   "outputs": [
    {
     "name": "stdout",
     "output_type": "stream",
     "text": [
      "Speech successfully saved to barber.mp3\n"
     ]
    }
   ],
   "source": [
    "# Define path to save the speech file\n",
    "\n",
    "speech_file_path = \"barber.mp3\"\n",
    "try:\n",
    "    # Convert text to speech using the specified model and voice\n",
    "    response = openai.audio.speech.create(\n",
    "        model=\"tts-1\",\n",
    "        voice=\"alloy\",\n",
    "        input=sample_text\n",
    "    )\n",
    "    \n",
    "    # Directly handle the response stream to save to file\n",
    "    with open(speech_file_path, \"wb\") as f:\n",
    "        for chunk in response.iter_bytes():\n",
    "            f.write(chunk)\n",
    "            \n",
    "    print(f\"Speech successfully saved to {speech_file_path}\")\n",
    "except Exception as e:\n",
    "    print(f\"An error occurred: {e}\")"
   ]
  },
  {
   "cell_type": "code",
   "execution_count": null,
   "metadata": {},
   "outputs": [],
   "source": []
  }
 ],
 "metadata": {
  "kernelspec": {
   "display_name": "openai",
   "language": "python",
   "name": "python3"
  },
  "language_info": {
   "codemirror_mode": {
    "name": "ipython",
    "version": 3
   },
   "file_extension": ".py",
   "mimetype": "text/x-python",
   "name": "python",
   "nbconvert_exporter": "python",
   "pygments_lexer": "ipython3",
   "version": "3.12.4"
  }
 },
 "nbformat": 4,
 "nbformat_minor": 2
}
