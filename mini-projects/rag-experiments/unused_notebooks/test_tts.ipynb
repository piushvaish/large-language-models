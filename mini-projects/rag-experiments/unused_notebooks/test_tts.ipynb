{
 "cells": [
  {
   "cell_type": "markdown",
   "metadata": {},
   "source": [
    "### Text-to-Speech (TTS) Processing Notebook\n",
    "This notebook demonstrates how to use OpenAI's TTS capabilities to convert text to speech.\n",
    "\n",
    "#### Count Tokens in Text\n",
    "This section defines a function to count the number of tokens in a given text string using a specified model.\n",
    "\n",
    "* https://platform.openai.com/docs/guides/text-to-speech\n"
   ]
  },
  {
   "cell_type": "code",
   "execution_count": 1,
   "metadata": {},
   "outputs": [],
   "source": [
    "# Import necessary libraries\n",
    "import tiktoken"
   ]
  },
  {
   "cell_type": "code",
   "execution_count": 2,
   "metadata": {},
   "outputs": [],
   "source": [
    "# https://cookbook.openai.com/examples/how_to_count_tokens_with_tiktoken\n",
    "def num_tokens_from_string(string: str, model_name: str) -> int:\n",
    "    \"\"\"Returns the number of tokens in a text string.\"\"\"\n",
    "    encoding = tiktoken.encoding_for_model(model_name)\n",
    "    num_tokens = len(encoding.encode(string))\n",
    "    return num_tokens\n"
   ]
  },
  {
   "cell_type": "markdown",
   "metadata": {},
   "source": [
    "### Example: Count Tokens in Sample Text"
   ]
  },
  {
   "cell_type": "code",
   "execution_count": 3,
   "metadata": {},
   "outputs": [],
   "source": [
    "# Sample text to be converted to speech\n",
    "sample_text = \"\"\"\n",
    "Welcome to the Waterloo Bar, a Dublin landmark since 1840, nestled in the heart of \"Baggotonia.\" \n",
    "Now, you might be wondering, \"What's Baggotonia?\" Well, it's a charming nickname for the vibrant literary and cultural scene that flourished around Baggot Street in early 20th century Dublin. Imagine writers, artists, and intellectuals gathering in pubs and cafes, exchanging ideas and creating magic.\n",
    "\n",
    "\"\"\"\n"
   ]
  },
  {
   "cell_type": "code",
   "execution_count": 4,
   "metadata": {},
   "outputs": [
    {
     "data": {
      "text/plain": [
       "90"
      ]
     },
     "execution_count": 4,
     "metadata": {},
     "output_type": "execute_result"
    }
   ],
   "source": [
    "num_tokens_from_string(sample_text, 'gpt-4')"
   ]
  },
  {
   "cell_type": "markdown",
   "metadata": {},
   "source": [
    "#### Convert Text to Speech\n",
    "This section demonstrates how to use OpenAI's TTS API to convert text to speech."
   ]
  },
  {
   "cell_type": "code",
   "execution_count": 5,
   "metadata": {},
   "outputs": [],
   "source": [
    "# Import necessary libraries\n",
    "import os\n",
    "from pathlib import Path\n",
    "from openai import OpenAI\n",
    "from dotenv import load_dotenv"
   ]
  },
  {
   "cell_type": "code",
   "execution_count": 6,
   "metadata": {},
   "outputs": [],
   "source": [
    "load_dotenv() \n",
    "SECRET_KEY = os.getenv(\"SECRET_KEY\")\n"
   ]
  },
  {
   "cell_type": "code",
   "execution_count": 7,
   "metadata": {},
   "outputs": [],
   "source": [
    "\n",
    "\n",
    "client = OpenAI(api_key=SECRET_KEY)\n"
   ]
  },
  {
   "cell_type": "code",
   "execution_count": 1,
   "metadata": {},
   "outputs": [
    {
     "name": "stdout",
     "output_type": "stream",
     "text": [
      "An error occurred: name 'openai' is not defined\n"
     ]
    }
   ],
   "source": [
    "# Define path to save the speech file\n",
    "speech_file_path = \"waterloo_n.mp3\"\n",
    "\n",
    "try:\n",
    "    # Convert text to speech using the specified model and voice\n",
    "    response = client.audio.speech.create(\n",
    "        model=\"tts-1\",\n",
    "        voice=\"onyx\",\n",
    "        input=sample_text\n",
    "    )\n",
    "    \n",
    "    # Directly handle the response stream to save to file\n",
    "    with open(speech_file_path, \"wb\") as f:\n",
    "        for chunk in response.iter_bytes():\n",
    "            f.write(chunk)\n",
    "            \n",
    "    print(f\"Speech successfully saved to {speech_file_path}\")\n",
    "except Exception as e:\n",
    "    print(f\"An error occurred: {e}\")"
   ]
  },
  {
   "cell_type": "markdown",
   "metadata": {},
   "source": [
    "### Spanish output\n",
    "\n",
    "You can generate spoken audio in these languages by providing the input text in the language of your choice.\n",
    "\n",
    "Afrikaans, Arabic, Armenian, Azerbaijani, Belarusian, Bosnian, Bulgarian, Catalan, Chinese, Croatian, Czech, Danish, Dutch, English, Estonian, Finnish, French, Galician, German, Greek, Hebrew, Hindi, Hungarian, Icelandic, Indonesian, Italian, Japanese, Kannada, Kazakh, Korean, Latvian, Lithuanian, Macedonian, Malay, Marathi, Maori, Nepali, Norwegian, Persian, Polish, Portuguese, Romanian, Russian, Serbian, Slovak, Slovenian, Spanish, Swahili, Swedish, Tagalog, Tamil, Thai, Turkish, Ukrainian, Urdu, Vietnamese, and Welsh."
   ]
  },
  {
   "cell_type": "code",
   "execution_count": 10,
   "metadata": {},
   "outputs": [],
   "source": [
    "# Sample text to be converted to speech (translated to Spanish)\n",
    "sample_text_spanish = '''\n",
    "Bienvenido al Waterloo Bar, un hito de Dublín desde 1840, ubicado en el corazón de \"Baggotonia\". \n",
    "Ahora quizás te preguntes: \"¿Qué es Baggotonia?\" Bueno, es un apodo encantador para la vibrante escena literaria y cultural que floreció alrededor de Baggot Street a principios del siglo XX en Dublín. Imagine escritores, artistas e intelectuales reunidos en pubs y cafés, intercambiando ideas y creando magia.\n",
    "'''"
   ]
  },
  {
   "cell_type": "code",
   "execution_count": 16,
   "metadata": {},
   "outputs": [
    {
     "name": "stdout",
     "output_type": "stream",
     "text": [
      "Spanish speech successfully saved to waterloo_spanish.mp3\n"
     ]
    }
   ],
   "source": [
    "# Define path to save the speech file\n",
    "speech_file_path = \"waterloo_spanish.mp3\"\n",
    "\n",
    "try:\n",
    "    # Convert text to speech using the specified model, voice, and language\n",
    "    response = client.audio.speech.create(\n",
    "        model=\"tts-1\",\n",
    "        voice=\"onyx\",\n",
    "        input=sample_text_spanish\n",
    "    )\n",
    "    \n",
    "    # Directly handle the response stream to save to file\n",
    "    with open(speech_file_path, \"wb\") as f:\n",
    "        for chunk in response.iter_bytes():\n",
    "            f.write(chunk)\n",
    "    \n",
    "    print(f\"Spanish speech successfully saved to {speech_file_path}\")\n",
    "except Exception as e:\n",
    "    print(f\"An error occurred: {e}\")"
   ]
  }
 ],
 "metadata": {
  "kernelspec": {
   "display_name": "openai",
   "language": "python",
   "name": "python3"
  },
  "language_info": {
   "codemirror_mode": {
    "name": "ipython",
    "version": 3
   },
   "file_extension": ".py",
   "mimetype": "text/x-python",
   "name": "python",
   "nbconvert_exporter": "python",
   "pygments_lexer": "ipython3",
   "version": "3.12.4"
  }
 },
 "nbformat": 4,
 "nbformat_minor": 2
}
